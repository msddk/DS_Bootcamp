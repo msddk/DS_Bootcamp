{
  "cells": [
    {
      "cell_type": "markdown",
      "id": "liquid-victory",
      "metadata": {
        "id": "liquid-victory"
      },
      "source": [
        "# Polynomial Regression"
      ]
    },
    {
      "cell_type": "markdown",
      "id": "wanted-external",
      "metadata": {
        "id": "wanted-external"
      },
      "source": [
        "## Import libraries"
      ]
    },
    {
      "cell_type": "code",
      "execution_count": 155,
      "id": "faced-stranger",
      "metadata": {
        "id": "faced-stranger"
      },
      "outputs": [],
      "source": [
        "import numpy as np\n",
        "import pandas as pd\n",
        "import matplotlib.pyplot as plt\n",
        "import seaborn as sns\n",
        "plt.rcParams[\"figure.figsize\"] = (10,6)"
      ]
    },
    {
      "cell_type": "markdown",
      "id": "whole-bulgaria",
      "metadata": {
        "id": "whole-bulgaria"
      },
      "source": [
        "## Polynomial Features"
      ]
    },
    {
      "cell_type": "code",
      "execution_count": 156,
      "id": "proud-technician",
      "metadata": {
        "id": "proud-technician"
      },
      "outputs": [],
      "source": [
        "from sklearn.preprocessing import PolynomialFeatures"
      ]
    },
    {
      "cell_type": "code",
      "execution_count": 157,
      "id": "willing-deposit",
      "metadata": {
        "colab": {
          "base_uri": "https://localhost:8080/"
        },
        "id": "willing-deposit",
        "outputId": "324d8ea6-9b79-4448-b105-7d9c56d6921d"
      },
      "outputs": [
        {
          "output_type": "stream",
          "name": "stdout",
          "text": [
            "[[2 3 4]]\n"
          ]
        }
      ],
      "source": [
        "data = np.array([[2, 3, 4]]) \n",
        "print(data)"
      ]
    },
    {
      "cell_type": "code",
      "execution_count": 158,
      "id": "olive-launch",
      "metadata": {
        "id": "olive-launch"
      },
      "outputs": [],
      "source": [
        "trans = PolynomialFeatures(degree = 2, include_bias =False)"
      ]
    },
    {
      "cell_type": "code",
      "execution_count": 159,
      "id": "understanding-torture",
      "metadata": {
        "colab": {
          "base_uri": "https://localhost:8080/"
        },
        "id": "understanding-torture",
        "outputId": "fb265315-14b5-4568-dcc3-b56987b052a1"
      },
      "outputs": [
        {
          "output_type": "execute_result",
          "data": {
            "text/plain": [
              "PolynomialFeatures(include_bias=False)"
            ]
          },
          "metadata": {},
          "execution_count": 159
        }
      ],
      "source": [
        "trans.fit(data) # 2, 3, 4 , 2x3, 2x4, 3x4, 2**2, 3**2, 4**2"
      ]
    },
    {
      "cell_type": "code",
      "execution_count": 160,
      "id": "exposed-sphere",
      "metadata": {
        "colab": {
          "base_uri": "https://localhost:8080/"
        },
        "id": "exposed-sphere",
        "outputId": "fa24291e-093a-4e21-e007-e8742a187e6e"
      },
      "outputs": [
        {
          "output_type": "execute_result",
          "data": {
            "text/plain": [
              "array([[ 2.,  3.,  4.,  4.,  6.,  8.,  9., 12., 16.]])"
            ]
          },
          "metadata": {},
          "execution_count": 160
        }
      ],
      "source": [
        "trans.transform(data)"
      ]
    },
    {
      "cell_type": "code",
      "execution_count": 161,
      "id": "elder-assist",
      "metadata": {
        "colab": {
          "base_uri": "https://localhost:8080/"
        },
        "id": "elder-assist",
        "outputId": "de5c8df3-ebc3-4969-8158-224fa086fe61"
      },
      "outputs": [
        {
          "output_type": "execute_result",
          "data": {
            "text/plain": [
              "array([[ 2.,  3.,  4.,  4.,  6.,  8.,  9., 12., 16.]])"
            ]
          },
          "metadata": {},
          "execution_count": 161
        }
      ],
      "source": [
        "trans.fit_transform(data)"
      ]
    },
    {
      "cell_type": "markdown",
      "id": "listed-startup",
      "metadata": {
        "id": "listed-startup"
      },
      "source": [
        "## Read Dataset"
      ]
    },
    {
      "cell_type": "code",
      "execution_count": 162,
      "id": "valued-brand",
      "metadata": {
        "id": "valued-brand",
        "outputId": "fb1e83bc-f7a8-49d7-b611-2465103f48ad",
        "colab": {
          "base_uri": "https://localhost:8080/",
          "height": 423
        }
      },
      "outputs": [
        {
          "output_type": "execute_result",
          "data": {
            "text/plain": [
              "        TV  radio  newspaper  sales\n",
              "0    230.1   37.8       69.2   22.1\n",
              "1     44.5   39.3       45.1   10.4\n",
              "2     17.2   45.9       69.3    9.3\n",
              "3    151.5   41.3       58.5   18.5\n",
              "4    180.8   10.8       58.4   12.9\n",
              "..     ...    ...        ...    ...\n",
              "195   38.2    3.7       13.8    7.6\n",
              "196   94.2    4.9        8.1    9.7\n",
              "197  177.0    9.3        6.4   12.8\n",
              "198  283.6   42.0       66.2   25.5\n",
              "199  232.1    8.6        8.7   13.4\n",
              "\n",
              "[200 rows x 4 columns]"
            ],
            "text/html": [
              "\n",
              "  <div id=\"df-e5194dec-dca1-45bd-86da-3d4cf6851464\">\n",
              "    <div class=\"colab-df-container\">\n",
              "      <div>\n",
              "<style scoped>\n",
              "    .dataframe tbody tr th:only-of-type {\n",
              "        vertical-align: middle;\n",
              "    }\n",
              "\n",
              "    .dataframe tbody tr th {\n",
              "        vertical-align: top;\n",
              "    }\n",
              "\n",
              "    .dataframe thead th {\n",
              "        text-align: right;\n",
              "    }\n",
              "</style>\n",
              "<table border=\"1\" class=\"dataframe\">\n",
              "  <thead>\n",
              "    <tr style=\"text-align: right;\">\n",
              "      <th></th>\n",
              "      <th>TV</th>\n",
              "      <th>radio</th>\n",
              "      <th>newspaper</th>\n",
              "      <th>sales</th>\n",
              "    </tr>\n",
              "  </thead>\n",
              "  <tbody>\n",
              "    <tr>\n",
              "      <th>0</th>\n",
              "      <td>230.1</td>\n",
              "      <td>37.8</td>\n",
              "      <td>69.2</td>\n",
              "      <td>22.1</td>\n",
              "    </tr>\n",
              "    <tr>\n",
              "      <th>1</th>\n",
              "      <td>44.5</td>\n",
              "      <td>39.3</td>\n",
              "      <td>45.1</td>\n",
              "      <td>10.4</td>\n",
              "    </tr>\n",
              "    <tr>\n",
              "      <th>2</th>\n",
              "      <td>17.2</td>\n",
              "      <td>45.9</td>\n",
              "      <td>69.3</td>\n",
              "      <td>9.3</td>\n",
              "    </tr>\n",
              "    <tr>\n",
              "      <th>3</th>\n",
              "      <td>151.5</td>\n",
              "      <td>41.3</td>\n",
              "      <td>58.5</td>\n",
              "      <td>18.5</td>\n",
              "    </tr>\n",
              "    <tr>\n",
              "      <th>4</th>\n",
              "      <td>180.8</td>\n",
              "      <td>10.8</td>\n",
              "      <td>58.4</td>\n",
              "      <td>12.9</td>\n",
              "    </tr>\n",
              "    <tr>\n",
              "      <th>...</th>\n",
              "      <td>...</td>\n",
              "      <td>...</td>\n",
              "      <td>...</td>\n",
              "      <td>...</td>\n",
              "    </tr>\n",
              "    <tr>\n",
              "      <th>195</th>\n",
              "      <td>38.2</td>\n",
              "      <td>3.7</td>\n",
              "      <td>13.8</td>\n",
              "      <td>7.6</td>\n",
              "    </tr>\n",
              "    <tr>\n",
              "      <th>196</th>\n",
              "      <td>94.2</td>\n",
              "      <td>4.9</td>\n",
              "      <td>8.1</td>\n",
              "      <td>9.7</td>\n",
              "    </tr>\n",
              "    <tr>\n",
              "      <th>197</th>\n",
              "      <td>177.0</td>\n",
              "      <td>9.3</td>\n",
              "      <td>6.4</td>\n",
              "      <td>12.8</td>\n",
              "    </tr>\n",
              "    <tr>\n",
              "      <th>198</th>\n",
              "      <td>283.6</td>\n",
              "      <td>42.0</td>\n",
              "      <td>66.2</td>\n",
              "      <td>25.5</td>\n",
              "    </tr>\n",
              "    <tr>\n",
              "      <th>199</th>\n",
              "      <td>232.1</td>\n",
              "      <td>8.6</td>\n",
              "      <td>8.7</td>\n",
              "      <td>13.4</td>\n",
              "    </tr>\n",
              "  </tbody>\n",
              "</table>\n",
              "<p>200 rows × 4 columns</p>\n",
              "</div>\n",
              "      <button class=\"colab-df-convert\" onclick=\"convertToInteractive('df-e5194dec-dca1-45bd-86da-3d4cf6851464')\"\n",
              "              title=\"Convert this dataframe to an interactive table.\"\n",
              "              style=\"display:none;\">\n",
              "        \n",
              "  <svg xmlns=\"http://www.w3.org/2000/svg\" height=\"24px\"viewBox=\"0 0 24 24\"\n",
              "       width=\"24px\">\n",
              "    <path d=\"M0 0h24v24H0V0z\" fill=\"none\"/>\n",
              "    <path d=\"M18.56 5.44l.94 2.06.94-2.06 2.06-.94-2.06-.94-.94-2.06-.94 2.06-2.06.94zm-11 1L8.5 8.5l.94-2.06 2.06-.94-2.06-.94L8.5 2.5l-.94 2.06-2.06.94zm10 10l.94 2.06.94-2.06 2.06-.94-2.06-.94-.94-2.06-.94 2.06-2.06.94z\"/><path d=\"M17.41 7.96l-1.37-1.37c-.4-.4-.92-.59-1.43-.59-.52 0-1.04.2-1.43.59L10.3 9.45l-7.72 7.72c-.78.78-.78 2.05 0 2.83L4 21.41c.39.39.9.59 1.41.59.51 0 1.02-.2 1.41-.59l7.78-7.78 2.81-2.81c.8-.78.8-2.07 0-2.86zM5.41 20L4 18.59l7.72-7.72 1.47 1.35L5.41 20z\"/>\n",
              "  </svg>\n",
              "      </button>\n",
              "      \n",
              "  <style>\n",
              "    .colab-df-container {\n",
              "      display:flex;\n",
              "      flex-wrap:wrap;\n",
              "      gap: 12px;\n",
              "    }\n",
              "\n",
              "    .colab-df-convert {\n",
              "      background-color: #E8F0FE;\n",
              "      border: none;\n",
              "      border-radius: 50%;\n",
              "      cursor: pointer;\n",
              "      display: none;\n",
              "      fill: #1967D2;\n",
              "      height: 32px;\n",
              "      padding: 0 0 0 0;\n",
              "      width: 32px;\n",
              "    }\n",
              "\n",
              "    .colab-df-convert:hover {\n",
              "      background-color: #E2EBFA;\n",
              "      box-shadow: 0px 1px 2px rgba(60, 64, 67, 0.3), 0px 1px 3px 1px rgba(60, 64, 67, 0.15);\n",
              "      fill: #174EA6;\n",
              "    }\n",
              "\n",
              "    [theme=dark] .colab-df-convert {\n",
              "      background-color: #3B4455;\n",
              "      fill: #D2E3FC;\n",
              "    }\n",
              "\n",
              "    [theme=dark] .colab-df-convert:hover {\n",
              "      background-color: #434B5C;\n",
              "      box-shadow: 0px 1px 3px 1px rgba(0, 0, 0, 0.15);\n",
              "      filter: drop-shadow(0px 1px 2px rgba(0, 0, 0, 0.3));\n",
              "      fill: #FFFFFF;\n",
              "    }\n",
              "  </style>\n",
              "\n",
              "      <script>\n",
              "        const buttonEl =\n",
              "          document.querySelector('#df-e5194dec-dca1-45bd-86da-3d4cf6851464 button.colab-df-convert');\n",
              "        buttonEl.style.display =\n",
              "          google.colab.kernel.accessAllowed ? 'block' : 'none';\n",
              "\n",
              "        async function convertToInteractive(key) {\n",
              "          const element = document.querySelector('#df-e5194dec-dca1-45bd-86da-3d4cf6851464');\n",
              "          const dataTable =\n",
              "            await google.colab.kernel.invokeFunction('convertToInteractive',\n",
              "                                                     [key], {});\n",
              "          if (!dataTable) return;\n",
              "\n",
              "          const docLinkHtml = 'Like what you see? Visit the ' +\n",
              "            '<a target=\"_blank\" href=https://colab.research.google.com/notebooks/data_table.ipynb>data table notebook</a>'\n",
              "            + ' to learn more about interactive tables.';\n",
              "          element.innerHTML = '';\n",
              "          dataTable['output_type'] = 'display_data';\n",
              "          await google.colab.output.renderOutput(dataTable, element);\n",
              "          const docLink = document.createElement('div');\n",
              "          docLink.innerHTML = docLinkHtml;\n",
              "          element.appendChild(docLink);\n",
              "        }\n",
              "      </script>\n",
              "    </div>\n",
              "  </div>\n",
              "  "
            ]
          },
          "metadata": {},
          "execution_count": 162
        }
      ],
      "source": [
        "df = pd.read_csv(\"https://raw.githubusercontent.com/msddk/DS_Bootcamp/main/Machine%20Learning/Linear%20Regression/Advertising.csv\")\n",
        "df"
      ]
    },
    {
      "cell_type": "markdown",
      "id": "declared-leave",
      "metadata": {
        "id": "declared-leave"
      },
      "source": [
        "## Polynomial Converter"
      ]
    },
    {
      "cell_type": "code",
      "execution_count": 163,
      "id": "invalid-northern",
      "metadata": {
        "id": "invalid-northern"
      },
      "outputs": [],
      "source": [
        "X = df.drop(\"sales\", axis=1)\n",
        "y = df.sales"
      ]
    },
    {
      "cell_type": "code",
      "execution_count": 164,
      "id": "continued-karma",
      "metadata": {
        "id": "continued-karma"
      },
      "outputs": [],
      "source": [
        "polynomial_converter = PolynomialFeatures(degree =2, include_bias =False)"
      ]
    },
    {
      "cell_type": "code",
      "execution_count": 165,
      "id": "reasonable-german",
      "metadata": {
        "colab": {
          "base_uri": "https://localhost:8080/"
        },
        "id": "reasonable-german",
        "outputId": "50e8f163-f7ba-4879-cebe-acde5a891e93"
      },
      "outputs": [
        {
          "output_type": "execute_result",
          "data": {
            "text/plain": [
              "PolynomialFeatures(include_bias=False)"
            ]
          },
          "metadata": {},
          "execution_count": 165
        }
      ],
      "source": [
        "polynomial_converter.fit(X)"
      ]
    },
    {
      "cell_type": "code",
      "execution_count": 166,
      "id": "pointed-violin",
      "metadata": {
        "id": "pointed-violin"
      },
      "outputs": [],
      "source": [
        "poly_features = polynomial_converter.transform(X)"
      ]
    },
    {
      "cell_type": "code",
      "execution_count": 167,
      "id": "operational-stevens",
      "metadata": {
        "colab": {
          "base_uri": "https://localhost:8080/"
        },
        "id": "operational-stevens",
        "outputId": "7aaaa543-829a-413f-8f92-0b00cee1144d"
      },
      "outputs": [
        {
          "output_type": "execute_result",
          "data": {
            "text/plain": [
              "array([[ 230.1 ,   37.8 ,   69.2 , ..., 1428.84, 2615.76, 4788.64],\n",
              "       [  44.5 ,   39.3 ,   45.1 , ..., 1544.49, 1772.43, 2034.01],\n",
              "       [  17.2 ,   45.9 ,   69.3 , ..., 2106.81, 3180.87, 4802.49],\n",
              "       ...,\n",
              "       [ 177.  ,    9.3 ,    6.4 , ...,   86.49,   59.52,   40.96],\n",
              "       [ 283.6 ,   42.  ,   66.2 , ..., 1764.  , 2780.4 , 4382.44],\n",
              "       [ 232.1 ,    8.6 ,    8.7 , ...,   73.96,   74.82,   75.69]])"
            ]
          },
          "metadata": {},
          "execution_count": 167
        }
      ],
      "source": [
        "poly_features"
      ]
    },
    {
      "cell_type": "code",
      "execution_count": 168,
      "id": "numerical-conclusion",
      "metadata": {
        "colab": {
          "base_uri": "https://localhost:8080/"
        },
        "id": "numerical-conclusion",
        "outputId": "7e24a78f-74e2-4e49-d174-1ce25080405a"
      },
      "outputs": [
        {
          "output_type": "execute_result",
          "data": {
            "text/plain": [
              "(200, 9)"
            ]
          },
          "metadata": {},
          "execution_count": 168
        }
      ],
      "source": [
        "poly_features.shape"
      ]
    },
    {
      "cell_type": "code",
      "execution_count": 169,
      "id": "moderate-works",
      "metadata": {
        "colab": {
          "base_uri": "https://localhost:8080/",
          "height": 206
        },
        "id": "moderate-works",
        "outputId": "6e32fe11-4d31-4b14-b055-0eb3ef1f4d69"
      },
      "outputs": [
        {
          "output_type": "execute_result",
          "data": {
            "text/plain": [
              "      TV  radio  newspaper      TV^2  TV&Radio  TV&Newspaper  Radio^2  \\\n",
              "0  230.1   37.8       69.2  52946.01   8697.78      15922.92  1428.84   \n",
              "1   44.5   39.3       45.1   1980.25   1748.85       2006.95  1544.49   \n",
              "2   17.2   45.9       69.3    295.84    789.48       1191.96  2106.81   \n",
              "3  151.5   41.3       58.5  22952.25   6256.95       8862.75  1705.69   \n",
              "4  180.8   10.8       58.4  32688.64   1952.64      10558.72   116.64   \n",
              "\n",
              "   Radio&newspaper  Newspaper^2  \n",
              "0          2615.76      4788.64  \n",
              "1          1772.43      2034.01  \n",
              "2          3180.87      4802.49  \n",
              "3          2416.05      3422.25  \n",
              "4           630.72      3410.56  "
            ],
            "text/html": [
              "\n",
              "  <div id=\"df-8f698b82-b192-474a-9758-df324d5c1fa7\">\n",
              "    <div class=\"colab-df-container\">\n",
              "      <div>\n",
              "<style scoped>\n",
              "    .dataframe tbody tr th:only-of-type {\n",
              "        vertical-align: middle;\n",
              "    }\n",
              "\n",
              "    .dataframe tbody tr th {\n",
              "        vertical-align: top;\n",
              "    }\n",
              "\n",
              "    .dataframe thead th {\n",
              "        text-align: right;\n",
              "    }\n",
              "</style>\n",
              "<table border=\"1\" class=\"dataframe\">\n",
              "  <thead>\n",
              "    <tr style=\"text-align: right;\">\n",
              "      <th></th>\n",
              "      <th>TV</th>\n",
              "      <th>radio</th>\n",
              "      <th>newspaper</th>\n",
              "      <th>TV^2</th>\n",
              "      <th>TV&amp;Radio</th>\n",
              "      <th>TV&amp;Newspaper</th>\n",
              "      <th>Radio^2</th>\n",
              "      <th>Radio&amp;newspaper</th>\n",
              "      <th>Newspaper^2</th>\n",
              "    </tr>\n",
              "  </thead>\n",
              "  <tbody>\n",
              "    <tr>\n",
              "      <th>0</th>\n",
              "      <td>230.1</td>\n",
              "      <td>37.8</td>\n",
              "      <td>69.2</td>\n",
              "      <td>52946.01</td>\n",
              "      <td>8697.78</td>\n",
              "      <td>15922.92</td>\n",
              "      <td>1428.84</td>\n",
              "      <td>2615.76</td>\n",
              "      <td>4788.64</td>\n",
              "    </tr>\n",
              "    <tr>\n",
              "      <th>1</th>\n",
              "      <td>44.5</td>\n",
              "      <td>39.3</td>\n",
              "      <td>45.1</td>\n",
              "      <td>1980.25</td>\n",
              "      <td>1748.85</td>\n",
              "      <td>2006.95</td>\n",
              "      <td>1544.49</td>\n",
              "      <td>1772.43</td>\n",
              "      <td>2034.01</td>\n",
              "    </tr>\n",
              "    <tr>\n",
              "      <th>2</th>\n",
              "      <td>17.2</td>\n",
              "      <td>45.9</td>\n",
              "      <td>69.3</td>\n",
              "      <td>295.84</td>\n",
              "      <td>789.48</td>\n",
              "      <td>1191.96</td>\n",
              "      <td>2106.81</td>\n",
              "      <td>3180.87</td>\n",
              "      <td>4802.49</td>\n",
              "    </tr>\n",
              "    <tr>\n",
              "      <th>3</th>\n",
              "      <td>151.5</td>\n",
              "      <td>41.3</td>\n",
              "      <td>58.5</td>\n",
              "      <td>22952.25</td>\n",
              "      <td>6256.95</td>\n",
              "      <td>8862.75</td>\n",
              "      <td>1705.69</td>\n",
              "      <td>2416.05</td>\n",
              "      <td>3422.25</td>\n",
              "    </tr>\n",
              "    <tr>\n",
              "      <th>4</th>\n",
              "      <td>180.8</td>\n",
              "      <td>10.8</td>\n",
              "      <td>58.4</td>\n",
              "      <td>32688.64</td>\n",
              "      <td>1952.64</td>\n",
              "      <td>10558.72</td>\n",
              "      <td>116.64</td>\n",
              "      <td>630.72</td>\n",
              "      <td>3410.56</td>\n",
              "    </tr>\n",
              "  </tbody>\n",
              "</table>\n",
              "</div>\n",
              "      <button class=\"colab-df-convert\" onclick=\"convertToInteractive('df-8f698b82-b192-474a-9758-df324d5c1fa7')\"\n",
              "              title=\"Convert this dataframe to an interactive table.\"\n",
              "              style=\"display:none;\">\n",
              "        \n",
              "  <svg xmlns=\"http://www.w3.org/2000/svg\" height=\"24px\"viewBox=\"0 0 24 24\"\n",
              "       width=\"24px\">\n",
              "    <path d=\"M0 0h24v24H0V0z\" fill=\"none\"/>\n",
              "    <path d=\"M18.56 5.44l.94 2.06.94-2.06 2.06-.94-2.06-.94-.94-2.06-.94 2.06-2.06.94zm-11 1L8.5 8.5l.94-2.06 2.06-.94-2.06-.94L8.5 2.5l-.94 2.06-2.06.94zm10 10l.94 2.06.94-2.06 2.06-.94-2.06-.94-.94-2.06-.94 2.06-2.06.94z\"/><path d=\"M17.41 7.96l-1.37-1.37c-.4-.4-.92-.59-1.43-.59-.52 0-1.04.2-1.43.59L10.3 9.45l-7.72 7.72c-.78.78-.78 2.05 0 2.83L4 21.41c.39.39.9.59 1.41.59.51 0 1.02-.2 1.41-.59l7.78-7.78 2.81-2.81c.8-.78.8-2.07 0-2.86zM5.41 20L4 18.59l7.72-7.72 1.47 1.35L5.41 20z\"/>\n",
              "  </svg>\n",
              "      </button>\n",
              "      \n",
              "  <style>\n",
              "    .colab-df-container {\n",
              "      display:flex;\n",
              "      flex-wrap:wrap;\n",
              "      gap: 12px;\n",
              "    }\n",
              "\n",
              "    .colab-df-convert {\n",
              "      background-color: #E8F0FE;\n",
              "      border: none;\n",
              "      border-radius: 50%;\n",
              "      cursor: pointer;\n",
              "      display: none;\n",
              "      fill: #1967D2;\n",
              "      height: 32px;\n",
              "      padding: 0 0 0 0;\n",
              "      width: 32px;\n",
              "    }\n",
              "\n",
              "    .colab-df-convert:hover {\n",
              "      background-color: #E2EBFA;\n",
              "      box-shadow: 0px 1px 2px rgba(60, 64, 67, 0.3), 0px 1px 3px 1px rgba(60, 64, 67, 0.15);\n",
              "      fill: #174EA6;\n",
              "    }\n",
              "\n",
              "    [theme=dark] .colab-df-convert {\n",
              "      background-color: #3B4455;\n",
              "      fill: #D2E3FC;\n",
              "    }\n",
              "\n",
              "    [theme=dark] .colab-df-convert:hover {\n",
              "      background-color: #434B5C;\n",
              "      box-shadow: 0px 1px 3px 1px rgba(0, 0, 0, 0.15);\n",
              "      filter: drop-shadow(0px 1px 2px rgba(0, 0, 0, 0.3));\n",
              "      fill: #FFFFFF;\n",
              "    }\n",
              "  </style>\n",
              "\n",
              "      <script>\n",
              "        const buttonEl =\n",
              "          document.querySelector('#df-8f698b82-b192-474a-9758-df324d5c1fa7 button.colab-df-convert');\n",
              "        buttonEl.style.display =\n",
              "          google.colab.kernel.accessAllowed ? 'block' : 'none';\n",
              "\n",
              "        async function convertToInteractive(key) {\n",
              "          const element = document.querySelector('#df-8f698b82-b192-474a-9758-df324d5c1fa7');\n",
              "          const dataTable =\n",
              "            await google.colab.kernel.invokeFunction('convertToInteractive',\n",
              "                                                     [key], {});\n",
              "          if (!dataTable) return;\n",
              "\n",
              "          const docLinkHtml = 'Like what you see? Visit the ' +\n",
              "            '<a target=\"_blank\" href=https://colab.research.google.com/notebooks/data_table.ipynb>data table notebook</a>'\n",
              "            + ' to learn more about interactive tables.';\n",
              "          element.innerHTML = '';\n",
              "          dataTable['output_type'] = 'display_data';\n",
              "          await google.colab.output.renderOutput(dataTable, element);\n",
              "          const docLink = document.createElement('div');\n",
              "          docLink.innerHTML = docLinkHtml;\n",
              "          element.appendChild(docLink);\n",
              "        }\n",
              "      </script>\n",
              "    </div>\n",
              "  </div>\n",
              "  "
            ]
          },
          "metadata": {},
          "execution_count": 169
        }
      ],
      "source": [
        "pd.DataFrame(poly_features, columns = [\"TV\", \"radio\", \"newspaper\", \"TV^2\", \"TV&Radio\", \\\n",
        "                                   \"TV&Newspaper\", \"Radio^2\", \"Radio&newspaper\", \"Newspaper^2\"]).head()"
      ]
    },
    {
      "cell_type": "code",
      "execution_count": 170,
      "id": "radio-panic",
      "metadata": {
        "colab": {
          "base_uri": "https://localhost:8080/"
        },
        "id": "radio-panic",
        "outputId": "3eb1bce1-be5b-45e6-cee1-a380e4f3a8d7"
      },
      "outputs": [
        {
          "output_type": "execute_result",
          "data": {
            "text/plain": [
              "(200, 3)"
            ]
          },
          "metadata": {},
          "execution_count": 170
        }
      ],
      "source": [
        "X.shape"
      ]
    },
    {
      "cell_type": "markdown",
      "id": "unique-hours",
      "metadata": {
        "id": "unique-hours"
      },
      "source": [
        "## Train | Test Split"
      ]
    },
    {
      "cell_type": "code",
      "execution_count": 171,
      "id": "planned-uniform",
      "metadata": {
        "id": "planned-uniform"
      },
      "outputs": [],
      "source": [
        "from sklearn.model_selection import train_test_split"
      ]
    },
    {
      "cell_type": "code",
      "execution_count": 172,
      "id": "enormous-cemetery",
      "metadata": {
        "id": "enormous-cemetery"
      },
      "outputs": [],
      "source": [
        "X_train, X_test, y_train, y_test = train_test_split(poly_features, y, test_size = 0.3, random_state = 42)"
      ]
    },
    {
      "cell_type": "markdown",
      "id": "proud-district",
      "metadata": {
        "id": "proud-district"
      },
      "source": [
        "## Model for fitting"
      ]
    },
    {
      "cell_type": "code",
      "execution_count": 173,
      "id": "indie-nightlife",
      "metadata": {
        "id": "indie-nightlife"
      },
      "outputs": [],
      "source": [
        "from sklearn.linear_model import LinearRegression"
      ]
    },
    {
      "cell_type": "code",
      "execution_count": 174,
      "id": "exclusive-semester",
      "metadata": {
        "id": "exclusive-semester"
      },
      "outputs": [],
      "source": [
        "model_poly = LinearRegression()"
      ]
    },
    {
      "cell_type": "code",
      "execution_count": 175,
      "id": "critical-comparison",
      "metadata": {
        "colab": {
          "base_uri": "https://localhost:8080/"
        },
        "id": "critical-comparison",
        "outputId": "9906a741-d165-4ef9-9560-1d680b16ac94"
      },
      "outputs": [
        {
          "output_type": "execute_result",
          "data": {
            "text/plain": [
              "LinearRegression()"
            ]
          },
          "metadata": {},
          "execution_count": 175
        }
      ],
      "source": [
        "model_poly.fit(X_train, y_train)"
      ]
    },
    {
      "cell_type": "code",
      "execution_count": 176,
      "id": "charitable-savings",
      "metadata": {
        "id": "charitable-savings"
      },
      "outputs": [],
      "source": [
        "y_pred = model_poly.predict(X_test)"
      ]
    },
    {
      "cell_type": "code",
      "execution_count": 177,
      "id": "tough-edinburgh",
      "metadata": {
        "colab": {
          "base_uri": "https://localhost:8080/",
          "height": 676
        },
        "id": "tough-edinburgh",
        "outputId": "6ad91591-194f-4743-b8ea-2a7857f9fb69"
      },
      "outputs": [
        {
          "output_type": "execute_result",
          "data": {
            "text/plain": [
              "     Actual       pred  residual\n",
              "95     16.9  17.222638 -0.322638\n",
              "15     22.4  22.764319 -0.364319\n",
              "30     21.4  20.342403  1.057597\n",
              "158     7.3   7.638231 -0.338231\n",
              "128    24.7  24.430702  0.269298\n",
              "115    12.6  12.626709 -0.026709\n",
              "69     22.3  22.775810 -0.475810\n",
              "170     8.4   8.172573  0.227427\n",
              "174    11.5  12.143459 -0.643459\n",
              "45     14.9  15.592958 -0.692958\n",
              "66      9.5   7.703212  1.796788\n",
              "182     8.7   8.139707  0.560293\n",
              "165    11.9  11.940503 -0.040503\n",
              "78      5.3   6.002394 -0.702394\n",
              "186    10.3  10.521563 -0.221563\n",
              "177    11.7  12.299989 -0.599989\n",
              "56      5.5   6.734986 -1.234986\n",
              "152    16.6  16.594051  0.005949\n",
              "82     11.3  10.569666  0.730334\n",
              "68     18.9  19.028970 -0.128970"
            ],
            "text/html": [
              "\n",
              "  <div id=\"df-5e28ca1a-2f0d-4fa0-b72f-2da38ee46d4f\">\n",
              "    <div class=\"colab-df-container\">\n",
              "      <div>\n",
              "<style scoped>\n",
              "    .dataframe tbody tr th:only-of-type {\n",
              "        vertical-align: middle;\n",
              "    }\n",
              "\n",
              "    .dataframe tbody tr th {\n",
              "        vertical-align: top;\n",
              "    }\n",
              "\n",
              "    .dataframe thead th {\n",
              "        text-align: right;\n",
              "    }\n",
              "</style>\n",
              "<table border=\"1\" class=\"dataframe\">\n",
              "  <thead>\n",
              "    <tr style=\"text-align: right;\">\n",
              "      <th></th>\n",
              "      <th>Actual</th>\n",
              "      <th>pred</th>\n",
              "      <th>residual</th>\n",
              "    </tr>\n",
              "  </thead>\n",
              "  <tbody>\n",
              "    <tr>\n",
              "      <th>95</th>\n",
              "      <td>16.9</td>\n",
              "      <td>17.222638</td>\n",
              "      <td>-0.322638</td>\n",
              "    </tr>\n",
              "    <tr>\n",
              "      <th>15</th>\n",
              "      <td>22.4</td>\n",
              "      <td>22.764319</td>\n",
              "      <td>-0.364319</td>\n",
              "    </tr>\n",
              "    <tr>\n",
              "      <th>30</th>\n",
              "      <td>21.4</td>\n",
              "      <td>20.342403</td>\n",
              "      <td>1.057597</td>\n",
              "    </tr>\n",
              "    <tr>\n",
              "      <th>158</th>\n",
              "      <td>7.3</td>\n",
              "      <td>7.638231</td>\n",
              "      <td>-0.338231</td>\n",
              "    </tr>\n",
              "    <tr>\n",
              "      <th>128</th>\n",
              "      <td>24.7</td>\n",
              "      <td>24.430702</td>\n",
              "      <td>0.269298</td>\n",
              "    </tr>\n",
              "    <tr>\n",
              "      <th>115</th>\n",
              "      <td>12.6</td>\n",
              "      <td>12.626709</td>\n",
              "      <td>-0.026709</td>\n",
              "    </tr>\n",
              "    <tr>\n",
              "      <th>69</th>\n",
              "      <td>22.3</td>\n",
              "      <td>22.775810</td>\n",
              "      <td>-0.475810</td>\n",
              "    </tr>\n",
              "    <tr>\n",
              "      <th>170</th>\n",
              "      <td>8.4</td>\n",
              "      <td>8.172573</td>\n",
              "      <td>0.227427</td>\n",
              "    </tr>\n",
              "    <tr>\n",
              "      <th>174</th>\n",
              "      <td>11.5</td>\n",
              "      <td>12.143459</td>\n",
              "      <td>-0.643459</td>\n",
              "    </tr>\n",
              "    <tr>\n",
              "      <th>45</th>\n",
              "      <td>14.9</td>\n",
              "      <td>15.592958</td>\n",
              "      <td>-0.692958</td>\n",
              "    </tr>\n",
              "    <tr>\n",
              "      <th>66</th>\n",
              "      <td>9.5</td>\n",
              "      <td>7.703212</td>\n",
              "      <td>1.796788</td>\n",
              "    </tr>\n",
              "    <tr>\n",
              "      <th>182</th>\n",
              "      <td>8.7</td>\n",
              "      <td>8.139707</td>\n",
              "      <td>0.560293</td>\n",
              "    </tr>\n",
              "    <tr>\n",
              "      <th>165</th>\n",
              "      <td>11.9</td>\n",
              "      <td>11.940503</td>\n",
              "      <td>-0.040503</td>\n",
              "    </tr>\n",
              "    <tr>\n",
              "      <th>78</th>\n",
              "      <td>5.3</td>\n",
              "      <td>6.002394</td>\n",
              "      <td>-0.702394</td>\n",
              "    </tr>\n",
              "    <tr>\n",
              "      <th>186</th>\n",
              "      <td>10.3</td>\n",
              "      <td>10.521563</td>\n",
              "      <td>-0.221563</td>\n",
              "    </tr>\n",
              "    <tr>\n",
              "      <th>177</th>\n",
              "      <td>11.7</td>\n",
              "      <td>12.299989</td>\n",
              "      <td>-0.599989</td>\n",
              "    </tr>\n",
              "    <tr>\n",
              "      <th>56</th>\n",
              "      <td>5.5</td>\n",
              "      <td>6.734986</td>\n",
              "      <td>-1.234986</td>\n",
              "    </tr>\n",
              "    <tr>\n",
              "      <th>152</th>\n",
              "      <td>16.6</td>\n",
              "      <td>16.594051</td>\n",
              "      <td>0.005949</td>\n",
              "    </tr>\n",
              "    <tr>\n",
              "      <th>82</th>\n",
              "      <td>11.3</td>\n",
              "      <td>10.569666</td>\n",
              "      <td>0.730334</td>\n",
              "    </tr>\n",
              "    <tr>\n",
              "      <th>68</th>\n",
              "      <td>18.9</td>\n",
              "      <td>19.028970</td>\n",
              "      <td>-0.128970</td>\n",
              "    </tr>\n",
              "  </tbody>\n",
              "</table>\n",
              "</div>\n",
              "      <button class=\"colab-df-convert\" onclick=\"convertToInteractive('df-5e28ca1a-2f0d-4fa0-b72f-2da38ee46d4f')\"\n",
              "              title=\"Convert this dataframe to an interactive table.\"\n",
              "              style=\"display:none;\">\n",
              "        \n",
              "  <svg xmlns=\"http://www.w3.org/2000/svg\" height=\"24px\"viewBox=\"0 0 24 24\"\n",
              "       width=\"24px\">\n",
              "    <path d=\"M0 0h24v24H0V0z\" fill=\"none\"/>\n",
              "    <path d=\"M18.56 5.44l.94 2.06.94-2.06 2.06-.94-2.06-.94-.94-2.06-.94 2.06-2.06.94zm-11 1L8.5 8.5l.94-2.06 2.06-.94-2.06-.94L8.5 2.5l-.94 2.06-2.06.94zm10 10l.94 2.06.94-2.06 2.06-.94-2.06-.94-.94-2.06-.94 2.06-2.06.94z\"/><path d=\"M17.41 7.96l-1.37-1.37c-.4-.4-.92-.59-1.43-.59-.52 0-1.04.2-1.43.59L10.3 9.45l-7.72 7.72c-.78.78-.78 2.05 0 2.83L4 21.41c.39.39.9.59 1.41.59.51 0 1.02-.2 1.41-.59l7.78-7.78 2.81-2.81c.8-.78.8-2.07 0-2.86zM5.41 20L4 18.59l7.72-7.72 1.47 1.35L5.41 20z\"/>\n",
              "  </svg>\n",
              "      </button>\n",
              "      \n",
              "  <style>\n",
              "    .colab-df-container {\n",
              "      display:flex;\n",
              "      flex-wrap:wrap;\n",
              "      gap: 12px;\n",
              "    }\n",
              "\n",
              "    .colab-df-convert {\n",
              "      background-color: #E8F0FE;\n",
              "      border: none;\n",
              "      border-radius: 50%;\n",
              "      cursor: pointer;\n",
              "      display: none;\n",
              "      fill: #1967D2;\n",
              "      height: 32px;\n",
              "      padding: 0 0 0 0;\n",
              "      width: 32px;\n",
              "    }\n",
              "\n",
              "    .colab-df-convert:hover {\n",
              "      background-color: #E2EBFA;\n",
              "      box-shadow: 0px 1px 2px rgba(60, 64, 67, 0.3), 0px 1px 3px 1px rgba(60, 64, 67, 0.15);\n",
              "      fill: #174EA6;\n",
              "    }\n",
              "\n",
              "    [theme=dark] .colab-df-convert {\n",
              "      background-color: #3B4455;\n",
              "      fill: #D2E3FC;\n",
              "    }\n",
              "\n",
              "    [theme=dark] .colab-df-convert:hover {\n",
              "      background-color: #434B5C;\n",
              "      box-shadow: 0px 1px 3px 1px rgba(0, 0, 0, 0.15);\n",
              "      filter: drop-shadow(0px 1px 2px rgba(0, 0, 0, 0.3));\n",
              "      fill: #FFFFFF;\n",
              "    }\n",
              "  </style>\n",
              "\n",
              "      <script>\n",
              "        const buttonEl =\n",
              "          document.querySelector('#df-5e28ca1a-2f0d-4fa0-b72f-2da38ee46d4f button.colab-df-convert');\n",
              "        buttonEl.style.display =\n",
              "          google.colab.kernel.accessAllowed ? 'block' : 'none';\n",
              "\n",
              "        async function convertToInteractive(key) {\n",
              "          const element = document.querySelector('#df-5e28ca1a-2f0d-4fa0-b72f-2da38ee46d4f');\n",
              "          const dataTable =\n",
              "            await google.colab.kernel.invokeFunction('convertToInteractive',\n",
              "                                                     [key], {});\n",
              "          if (!dataTable) return;\n",
              "\n",
              "          const docLinkHtml = 'Like what you see? Visit the ' +\n",
              "            '<a target=\"_blank\" href=https://colab.research.google.com/notebooks/data_table.ipynb>data table notebook</a>'\n",
              "            + ' to learn more about interactive tables.';\n",
              "          element.innerHTML = '';\n",
              "          dataTable['output_type'] = 'display_data';\n",
              "          await google.colab.output.renderOutput(dataTable, element);\n",
              "          const docLink = document.createElement('div');\n",
              "          docLink.innerHTML = docLinkHtml;\n",
              "          element.appendChild(docLink);\n",
              "        }\n",
              "      </script>\n",
              "    </div>\n",
              "  </div>\n",
              "  "
            ]
          },
          "metadata": {},
          "execution_count": 177
        }
      ],
      "source": [
        "my_dict = {\"Actual\": y_test, \"pred\": y_pred, \"residual\": y_test-y_pred}\n",
        "compare = pd.DataFrame(my_dict)\n",
        "compare.head(20)"
      ]
    },
    {
      "cell_type": "code",
      "execution_count": 178,
      "id": "eleven-nursing",
      "metadata": {
        "colab": {
          "base_uri": "https://localhost:8080/",
          "height": 546
        },
        "id": "eleven-nursing",
        "outputId": "5bb3e30b-b823-4dc3-aac7-4a1754f5f74d"
      },
      "outputs": [
        {
          "output_type": "display_data",
          "data": {
            "text/plain": [
              "<Figure size 1080x648 with 1 Axes>"
            ],
            "image/png": "[encoded data removed]"
          },
          "metadata": {
            "needs_background": "light"
          }
        }
      ],
      "source": [
        "compare.head(20).plot(kind='bar',figsize=(15,9))\n",
        "plt.show();"
      ]
    },
    {
      "cell_type": "markdown",
      "id": "smart-program",
      "metadata": {
        "id": "smart-program"
      },
      "source": [
        "## Poly Coefficients"
      ]
    },
    {
      "cell_type": "code",
      "execution_count": 179,
      "id": "cathedral-february",
      "metadata": {
        "colab": {
          "base_uri": "https://localhost:8080/"
        },
        "id": "cathedral-february",
        "outputId": "8dc00f3b-bd2c-4fbb-8c5f-140283a7fc03"
      },
      "outputs": [
        {
          "output_type": "execute_result",
          "data": {
            "text/plain": [
              "array([ 0.05478172,  0.01311214,  0.01086391, -0.00011074,  0.00108048,\n",
              "       -0.00010764,  0.00030191,  0.00017541,  0.00010075])"
            ]
          },
          "metadata": {},
          "execution_count": 179
        }
      ],
      "source": [
        "model_poly.coef_"
      ]
    },
    {
      "cell_type": "code",
      "execution_count": 180,
      "id": "configured-chemistry",
      "metadata": {
        "id": "configured-chemistry"
      },
      "outputs": [],
      "source": [
        "df_coef = pd.DataFrame(model_poly.coef_, index = [\"TV\", \"radio\", \"newspaper\", \"TV^2\", \"TV&Radio\", \\\n",
        "                                   \"TV&Newspaper\", \"Radio^2\", \"Radio&newspaper\", \"Newspaper^2\"], columns = [\"coef\"])"
      ]
    },
    {
      "cell_type": "code",
      "execution_count": 181,
      "id": "packed-parameter",
      "metadata": {
        "colab": {
          "base_uri": "https://localhost:8080/",
          "height": 331
        },
        "id": "packed-parameter",
        "outputId": "cf043954-7e93-460e-9505-beacacc5a36a"
      },
      "outputs": [
        {
          "output_type": "execute_result",
          "data": {
            "text/plain": [
              "                     coef\n",
              "TV               0.054782\n",
              "radio            0.013112\n",
              "newspaper        0.010864\n",
              "TV^2            -0.000111\n",
              "TV&Radio         0.001080\n",
              "TV&Newspaper    -0.000108\n",
              "Radio^2          0.000302\n",
              "Radio&newspaper  0.000175\n",
              "Newspaper^2      0.000101"
            ],
            "text/html": [
              "\n",
              "  <div id=\"df-a5dff160-a79c-427f-8be6-1574db310734\">\n",
              "    <div class=\"colab-df-container\">\n",
              "      <div>\n",
              "<style scoped>\n",
              "    .dataframe tbody tr th:only-of-type {\n",
              "        vertical-align: middle;\n",
              "    }\n",
              "\n",
              "    .dataframe tbody tr th {\n",
              "        vertical-align: top;\n",
              "    }\n",
              "\n",
              "    .dataframe thead th {\n",
              "        text-align: right;\n",
              "    }\n",
              "</style>\n",
              "<table border=\"1\" class=\"dataframe\">\n",
              "  <thead>\n",
              "    <tr style=\"text-align: right;\">\n",
              "      <th></th>\n",
              "      <th>coef</th>\n",
              "    </tr>\n",
              "  </thead>\n",
              "  <tbody>\n",
              "    <tr>\n",
              "      <th>TV</th>\n",
              "      <td>0.054782</td>\n",
              "    </tr>\n",
              "    <tr>\n",
              "      <th>radio</th>\n",
              "      <td>0.013112</td>\n",
              "    </tr>\n",
              "    <tr>\n",
              "      <th>newspaper</th>\n",
              "      <td>0.010864</td>\n",
              "    </tr>\n",
              "    <tr>\n",
              "      <th>TV^2</th>\n",
              "      <td>-0.000111</td>\n",
              "    </tr>\n",
              "    <tr>\n",
              "      <th>TV&amp;Radio</th>\n",
              "      <td>0.001080</td>\n",
              "    </tr>\n",
              "    <tr>\n",
              "      <th>TV&amp;Newspaper</th>\n",
              "      <td>-0.000108</td>\n",
              "    </tr>\n",
              "    <tr>\n",
              "      <th>Radio^2</th>\n",
              "      <td>0.000302</td>\n",
              "    </tr>\n",
              "    <tr>\n",
              "      <th>Radio&amp;newspaper</th>\n",
              "      <td>0.000175</td>\n",
              "    </tr>\n",
              "    <tr>\n",
              "      <th>Newspaper^2</th>\n",
              "      <td>0.000101</td>\n",
              "    </tr>\n",
              "  </tbody>\n",
              "</table>\n",
              "</div>\n",
              "      <button class=\"colab-df-convert\" onclick=\"convertToInteractive('df-a5dff160-a79c-427f-8be6-1574db310734')\"\n",
              "              title=\"Convert this dataframe to an interactive table.\"\n",
              "              style=\"display:none;\">\n",
              "        \n",
              "  <svg xmlns=\"http://www.w3.org/2000/svg\" height=\"24px\"viewBox=\"0 0 24 24\"\n",
              "       width=\"24px\">\n",
              "    <path d=\"M0 0h24v24H0V0z\" fill=\"none\"/>\n",
              "    <path d=\"M18.56 5.44l.94 2.06.94-2.06 2.06-.94-2.06-.94-.94-2.06-.94 2.06-2.06.94zm-11 1L8.5 8.5l.94-2.06 2.06-.94-2.06-.94L8.5 2.5l-.94 2.06-2.06.94zm10 10l.94 2.06.94-2.06 2.06-.94-2.06-.94-.94-2.06-.94 2.06-2.06.94z\"/><path d=\"M17.41 7.96l-1.37-1.37c-.4-.4-.92-.59-1.43-.59-.52 0-1.04.2-1.43.59L10.3 9.45l-7.72 7.72c-.78.78-.78 2.05 0 2.83L4 21.41c.39.39.9.59 1.41.59.51 0 1.02-.2 1.41-.59l7.78-7.78 2.81-2.81c.8-.78.8-2.07 0-2.86zM5.41 20L4 18.59l7.72-7.72 1.47 1.35L5.41 20z\"/>\n",
              "  </svg>\n",
              "      </button>\n",
              "      \n",
              "  <style>\n",
              "    .colab-df-container {\n",
              "      display:flex;\n",
              "      flex-wrap:wrap;\n",
              "      gap: 12px;\n",
              "    }\n",
              "\n",
              "    .colab-df-convert {\n",
              "      background-color: #E8F0FE;\n",
              "      border: none;\n",
              "      border-radius: 50%;\n",
              "      cursor: pointer;\n",
              "      display: none;\n",
              "      fill: #1967D2;\n",
              "      height: 32px;\n",
              "      padding: 0 0 0 0;\n",
              "      width: 32px;\n",
              "    }\n",
              "\n",
              "    .colab-df-convert:hover {\n",
              "      background-color: #E2EBFA;\n",
              "      box-shadow: 0px 1px 2px rgba(60, 64, 67, 0.3), 0px 1px 3px 1px rgba(60, 64, 67, 0.15);\n",
              "      fill: #174EA6;\n",
              "    }\n",
              "\n",
              "    [theme=dark] .colab-df-convert {\n",
              "      background-color: #3B4455;\n",
              "      fill: #D2E3FC;\n",
              "    }\n",
              "\n",
              "    [theme=dark] .colab-df-convert:hover {\n",
              "      background-color: #434B5C;\n",
              "      box-shadow: 0px 1px 3px 1px rgba(0, 0, 0, 0.15);\n",
              "      filter: drop-shadow(0px 1px 2px rgba(0, 0, 0, 0.3));\n",
              "      fill: #FFFFFF;\n",
              "    }\n",
              "  </style>\n",
              "\n",
              "      <script>\n",
              "        const buttonEl =\n",
              "          document.querySelector('#df-a5dff160-a79c-427f-8be6-1574db310734 button.colab-df-convert');\n",
              "        buttonEl.style.display =\n",
              "          google.colab.kernel.accessAllowed ? 'block' : 'none';\n",
              "\n",
              "        async function convertToInteractive(key) {\n",
              "          const element = document.querySelector('#df-a5dff160-a79c-427f-8be6-1574db310734');\n",
              "          const dataTable =\n",
              "            await google.colab.kernel.invokeFunction('convertToInteractive',\n",
              "                                                     [key], {});\n",
              "          if (!dataTable) return;\n",
              "\n",
              "          const docLinkHtml = 'Like what you see? Visit the ' +\n",
              "            '<a target=\"_blank\" href=https://colab.research.google.com/notebooks/data_table.ipynb>data table notebook</a>'\n",
              "            + ' to learn more about interactive tables.';\n",
              "          element.innerHTML = '';\n",
              "          dataTable['output_type'] = 'display_data';\n",
              "          await google.colab.output.renderOutput(dataTable, element);\n",
              "          const docLink = document.createElement('div');\n",
              "          docLink.innerHTML = docLinkHtml;\n",
              "          element.appendChild(docLink);\n",
              "        }\n",
              "      </script>\n",
              "    </div>\n",
              "  </div>\n",
              "  "
            ]
          },
          "metadata": {},
          "execution_count": 181
        }
      ],
      "source": [
        "df_coef"
      ]
    },
    {
      "cell_type": "code",
      "execution_count": 182,
      "id": "banned-transsexual",
      "metadata": {
        "colab": {
          "base_uri": "https://localhost:8080/"
        },
        "id": "banned-transsexual",
        "outputId": "2e84b8c0-3b2b-49eb-8b65-f8095014b5af"
      },
      "outputs": [
        {
          "output_type": "execute_result",
          "data": {
            "text/plain": [
              "array([21.76437986])"
            ]
          },
          "metadata": {},
          "execution_count": 182
        }
      ],
      "source": [
        "model_poly.predict([[230.1, 37.8, 69.2, 52946.01, 8697.78, 15922.92, 1428.84, 2615.76, 4788.64]])"
      ]
    },
    {
      "cell_type": "markdown",
      "id": "intense-alberta",
      "metadata": {
        "id": "intense-alberta"
      },
      "source": [
        "## Evaluation on the Test Set"
      ]
    },
    {
      "cell_type": "code",
      "execution_count": 183,
      "id": "sensitive-emphasis",
      "metadata": {
        "id": "sensitive-emphasis"
      },
      "outputs": [],
      "source": [
        "from sklearn.metrics import mean_absolute_error,mean_squared_error,r2_score"
      ]
    },
    {
      "cell_type": "code",
      "execution_count": 184,
      "id": "brilliant-producer",
      "metadata": {
        "id": "brilliant-producer"
      },
      "outputs": [],
      "source": [
        "y_pred = model_poly.predict(X_test)"
      ]
    },
    {
      "cell_type": "code",
      "execution_count": 185,
      "id": "sustainable-asian",
      "metadata": {
        "id": "sustainable-asian"
      },
      "outputs": [],
      "source": [
        "def eval_metric(actual, pred):\n",
        "    mae = mean_absolute_error(actual, pred)\n",
        "    mse = mean_squared_error(actual, pred)\n",
        "    rmse = np.sqrt(mean_squared_error(actual, pred))\n",
        "    R2_score = r2_score(actual, pred)\n",
        "    print(\"Model testing performance:\")\n",
        "    print(\"--------------------------\")\n",
        "    print(f\"R2_score \\t: {R2_score}\")\n",
        "    print(f\"MAE \\t\\t: {mae}\")\n",
        "    print(f\"MSE \\t\\t: {mse}\")\n",
        "    print(f\"RMSE \\t\\t: {rmse}\")"
      ]
    },
    {
      "cell_type": "code",
      "execution_count": 186,
      "id": "gross-mixer",
      "metadata": {
        "colab": {
          "base_uri": "https://localhost:8080/"
        },
        "id": "gross-mixer",
        "outputId": "80e2ea8f-8773-421a-e7bc-fc78eb957a33"
      },
      "outputs": [
        {
          "output_type": "stream",
          "name": "stdout",
          "text": [
            "Model testing performance:\n",
            "--------------------------\n",
            "R2_score \t: 0.9808386009966378\n",
            "MAE \t\t: 0.5905974833807939\n",
            "MSE \t\t: 0.5231944949055299\n",
            "RMSE \t\t: 0.723321847385747\n"
          ]
        }
      ],
      "source": [
        "eval_metric(y_test, y_pred)"
      ]
    },
    {
      "cell_type": "code",
      "execution_count": 187,
      "id": "revolutionary-release",
      "metadata": {
        "id": "revolutionary-release"
      },
      "outputs": [],
      "source": [
        "y_train_pred = model_poly.predict(X_train)"
      ]
    },
    {
      "cell_type": "code",
      "execution_count": 188,
      "id": "available-minimum",
      "metadata": {
        "colab": {
          "base_uri": "https://localhost:8080/"
        },
        "id": "available-minimum",
        "outputId": "f8e179b2-12eb-4f9f-fd44-522a70b007ef"
      },
      "outputs": [
        {
          "output_type": "stream",
          "name": "stdout",
          "text": [
            "Model testing performance:\n",
            "--------------------------\n",
            "R2_score \t: 0.9865054729019952\n",
            "MAE \t\t: 0.39112039812603305\n",
            "MSE \t\t: 0.3541097754193404\n",
            "RMSE \t\t: 0.5950712355838924\n"
          ]
        }
      ],
      "source": [
        "eval_metric(y_train, y_train_pred)"
      ]
    },
    {
      "cell_type": "markdown",
      "id": "distant-subscription",
      "metadata": {
        "id": "distant-subscription"
      },
      "source": [
        "* Multiple Linear Regression:\n",
        "\n",
        "```\n",
        "    - MAE      : 1.460\n",
        "    - RMSE     : 1.781\n",
        "    - r2_score : 0.899\n",
        "```\n",
        "\n",
        "\n",
        "* Polynomial 2-degree:\n",
        "    \n",
        "```\n",
        "    - MAE      : 0.590\n",
        "    - RMSE     : 0.723\n",
        "    - r2_score : 0.980\n",
        "```\n",
        "\n"
      ]
    },
    {
      "cell_type": "markdown",
      "id": "referenced-lebanon",
      "metadata": {
        "id": "referenced-lebanon"
      },
      "source": [
        "## Let's find optimal degree of poly"
      ]
    },
    {
      "cell_type": "code",
      "execution_count": 189,
      "id": "analyzed-generator",
      "metadata": {
        "id": "analyzed-generator"
      },
      "outputs": [],
      "source": [
        "def poly(d):\n",
        "    \n",
        "    train_rmse_errors = []\n",
        "    test_rmse_errors = []\n",
        "    number_of_features = []\n",
        "    \n",
        "    for i in range(1, d):\n",
        "        polynomial_converter = PolynomialFeatures(degree = i, include_bias =False)\n",
        "        poly_features = polynomial_converter.fit_transform(X)\n",
        "        \n",
        "        X_train, X_test, y_train, y_test = train_test_split(poly_features, y, test_size=0.3, random_state=42)\n",
        "        \n",
        "        model = LinearRegression(fit_intercept=True)\n",
        "        model.fit(X_train, y_train)\n",
        "        \n",
        "        train_pred = model.predict(X_train)\n",
        "        test_pred = model.predict(X_test)\n",
        "        \n",
        "        train_RMSE = np.sqrt(mean_squared_error(y_train,train_pred))\n",
        "        test_RMSE = np.sqrt(mean_squared_error(y_test,test_pred))\n",
        "\n",
        "        train_rmse_errors.append(train_RMSE)\n",
        "        test_rmse_errors.append(test_RMSE)\n",
        "        \n",
        "        number_of_features.append(poly_features.shape[1])\n",
        "        \n",
        "    return pd.DataFrame({\"train_rmse_errors\": train_rmse_errors, \"test_rmse_errors\":test_rmse_errors, \"number of features\":number_of_features}, \n",
        "                        index=range(1,d))\n",
        "        "
      ]
    },
    {
      "cell_type": "code",
      "execution_count": 190,
      "id": "simple-synthesis",
      "metadata": {
        "colab": {
          "base_uri": "https://localhost:8080/",
          "height": 331
        },
        "id": "simple-synthesis",
        "outputId": "94cdce82-6999-4558-852c-cf1f81b9f537"
      },
      "outputs": [
        {
          "output_type": "execute_result",
          "data": {
            "text/plain": [
              "   train_rmse_errors  test_rmse_errors  number of features\n",
              "1           1.574597          1.948537                   3\n",
              "2           0.595071          0.723322                   9\n",
              "3           0.468876          0.539235                  19\n",
              "4           0.369469          1.303227                  34\n",
              "5           0.243822          5.946742                  55\n",
              "6           0.195792         25.387011                  83\n",
              "7           0.524637        617.083048                 119\n",
              "8           0.163401       2042.241082                 164\n",
              "9           0.118851     177882.423702                 219"
            ],
            "text/html": [
              "\n",
              "  <div id=\"df-a0b3b49f-debb-4705-b613-c9ada5c503ff\">\n",
              "    <div class=\"colab-df-container\">\n",
              "      <div>\n",
              "<style scoped>\n",
              "    .dataframe tbody tr th:only-of-type {\n",
              "        vertical-align: middle;\n",
              "    }\n",
              "\n",
              "    .dataframe tbody tr th {\n",
              "        vertical-align: top;\n",
              "    }\n",
              "\n",
              "    .dataframe thead th {\n",
              "        text-align: right;\n",
              "    }\n",
              "</style>\n",
              "<table border=\"1\" class=\"dataframe\">\n",
              "  <thead>\n",
              "    <tr style=\"text-align: right;\">\n",
              "      <th></th>\n",
              "      <th>train_rmse_errors</th>\n",
              "      <th>test_rmse_errors</th>\n",
              "      <th>number of features</th>\n",
              "    </tr>\n",
              "  </thead>\n",
              "  <tbody>\n",
              "    <tr>\n",
              "      <th>1</th>\n",
              "      <td>1.574597</td>\n",
              "      <td>1.948537</td>\n",
              "      <td>3</td>\n",
              "    </tr>\n",
              "    <tr>\n",
              "      <th>2</th>\n",
              "      <td>0.595071</td>\n",
              "      <td>0.723322</td>\n",
              "      <td>9</td>\n",
              "    </tr>\n",
              "    <tr>\n",
              "      <th>3</th>\n",
              "      <td>0.468876</td>\n",
              "      <td>0.539235</td>\n",
              "      <td>19</td>\n",
              "    </tr>\n",
              "    <tr>\n",
              "      <th>4</th>\n",
              "      <td>0.369469</td>\n",
              "      <td>1.303227</td>\n",
              "      <td>34</td>\n",
              "    </tr>\n",
              "    <tr>\n",
              "      <th>5</th>\n",
              "      <td>0.243822</td>\n",
              "      <td>5.946742</td>\n",
              "      <td>55</td>\n",
              "    </tr>\n",
              "    <tr>\n",
              "      <th>6</th>\n",
              "      <td>0.195792</td>\n",
              "      <td>25.387011</td>\n",
              "      <td>83</td>\n",
              "    </tr>\n",
              "    <tr>\n",
              "      <th>7</th>\n",
              "      <td>0.524637</td>\n",
              "      <td>617.083048</td>\n",
              "      <td>119</td>\n",
              "    </tr>\n",
              "    <tr>\n",
              "      <th>8</th>\n",
              "      <td>0.163401</td>\n",
              "      <td>2042.241082</td>\n",
              "      <td>164</td>\n",
              "    </tr>\n",
              "    <tr>\n",
              "      <th>9</th>\n",
              "      <td>0.118851</td>\n",
              "      <td>177882.423702</td>\n",
              "      <td>219</td>\n",
              "    </tr>\n",
              "  </tbody>\n",
              "</table>\n",
              "</div>\n",
              "      <button class=\"colab-df-convert\" onclick=\"convertToInteractive('df-a0b3b49f-debb-4705-b613-c9ada5c503ff')\"\n",
              "              title=\"Convert this dataframe to an interactive table.\"\n",
              "              style=\"display:none;\">\n",
              "        \n",
              "  <svg xmlns=\"http://www.w3.org/2000/svg\" height=\"24px\"viewBox=\"0 0 24 24\"\n",
              "       width=\"24px\">\n",
              "    <path d=\"M0 0h24v24H0V0z\" fill=\"none\"/>\n",
              "    <path d=\"M18.56 5.44l.94 2.06.94-2.06 2.06-.94-2.06-.94-.94-2.06-.94 2.06-2.06.94zm-11 1L8.5 8.5l.94-2.06 2.06-.94-2.06-.94L8.5 2.5l-.94 2.06-2.06.94zm10 10l.94 2.06.94-2.06 2.06-.94-2.06-.94-.94-2.06-.94 2.06-2.06.94z\"/><path d=\"M17.41 7.96l-1.37-1.37c-.4-.4-.92-.59-1.43-.59-.52 0-1.04.2-1.43.59L10.3 9.45l-7.72 7.72c-.78.78-.78 2.05 0 2.83L4 21.41c.39.39.9.59 1.41.59.51 0 1.02-.2 1.41-.59l7.78-7.78 2.81-2.81c.8-.78.8-2.07 0-2.86zM5.41 20L4 18.59l7.72-7.72 1.47 1.35L5.41 20z\"/>\n",
              "  </svg>\n",
              "      </button>\n",
              "      \n",
              "  <style>\n",
              "    .colab-df-container {\n",
              "      display:flex;\n",
              "      flex-wrap:wrap;\n",
              "      gap: 12px;\n",
              "    }\n",
              "\n",
              "    .colab-df-convert {\n",
              "      background-color: #E8F0FE;\n",
              "      border: none;\n",
              "      border-radius: 50%;\n",
              "      cursor: pointer;\n",
              "      display: none;\n",
              "      fill: #1967D2;\n",
              "      height: 32px;\n",
              "      padding: 0 0 0 0;\n",
              "      width: 32px;\n",
              "    }\n",
              "\n",
              "    .colab-df-convert:hover {\n",
              "      background-color: #E2EBFA;\n",
              "      box-shadow: 0px 1px 2px rgba(60, 64, 67, 0.3), 0px 1px 3px 1px rgba(60, 64, 67, 0.15);\n",
              "      fill: #174EA6;\n",
              "    }\n",
              "\n",
              "    [theme=dark] .colab-df-convert {\n",
              "      background-color: #3B4455;\n",
              "      fill: #D2E3FC;\n",
              "    }\n",
              "\n",
              "    [theme=dark] .colab-df-convert:hover {\n",
              "      background-color: #434B5C;\n",
              "      box-shadow: 0px 1px 3px 1px rgba(0, 0, 0, 0.15);\n",
              "      filter: drop-shadow(0px 1px 2px rgba(0, 0, 0, 0.3));\n",
              "      fill: #FFFFFF;\n",
              "    }\n",
              "  </style>\n",
              "\n",
              "      <script>\n",
              "        const buttonEl =\n",
              "          document.querySelector('#df-a0b3b49f-debb-4705-b613-c9ada5c503ff button.colab-df-convert');\n",
              "        buttonEl.style.display =\n",
              "          google.colab.kernel.accessAllowed ? 'block' : 'none';\n",
              "\n",
              "        async function convertToInteractive(key) {\n",
              "          const element = document.querySelector('#df-a0b3b49f-debb-4705-b613-c9ada5c503ff');\n",
              "          const dataTable =\n",
              "            await google.colab.kernel.invokeFunction('convertToInteractive',\n",
              "                                                     [key], {});\n",
              "          if (!dataTable) return;\n",
              "\n",
              "          const docLinkHtml = 'Like what you see? Visit the ' +\n",
              "            '<a target=\"_blank\" href=https://colab.research.google.com/notebooks/data_table.ipynb>data table notebook</a>'\n",
              "            + ' to learn more about interactive tables.';\n",
              "          element.innerHTML = '';\n",
              "          dataTable['output_type'] = 'display_data';\n",
              "          await google.colab.output.renderOutput(dataTable, element);\n",
              "          const docLink = document.createElement('div');\n",
              "          docLink.innerHTML = docLinkHtml;\n",
              "          element.appendChild(docLink);\n",
              "        }\n",
              "      </script>\n",
              "    </div>\n",
              "  </div>\n",
              "  "
            ]
          },
          "metadata": {},
          "execution_count": 190
        }
      ],
      "source": [
        "poly(10)"
      ]
    },
    {
      "cell_type": "code",
      "execution_count": 191,
      "id": "obvious-mobility",
      "metadata": {
        "colab": {
          "base_uri": "https://localhost:8080/",
          "height": 388
        },
        "id": "obvious-mobility",
        "outputId": "3a2b5ef3-869f-4bd3-8ae6-b953565a390a"
      },
      "outputs": [
        {
          "output_type": "display_data",
          "data": {
            "text/plain": [
              "<Figure size 720x432 with 1 Axes>"
            ],
            "image/png": "[encoded data removed]"
          },
          "metadata": {
            "needs_background": "light"
          }
        }
      ],
      "source": [
        "plt.plot(range(1,10), poly(10)[\"train_rmse_errors\"], label = \"TRAIN\")\n",
        "plt.plot(range(1,10), poly(10)[\"test_rmse_errors\"], label = \"TEST\")\n",
        "plt.xlabel(\"Polynomial Complex\")\n",
        "plt.ylabel(\"RMSE\")\n",
        "plt.legend();"
      ]
    },
    {
      "cell_type": "code",
      "execution_count": 192,
      "id": "southern-colonial",
      "metadata": {
        "colab": {
          "base_uri": "https://localhost:8080/",
          "height": 388
        },
        "id": "southern-colonial",
        "outputId": "a5e17280-37d9-42fe-bcdc-b76b10021c06"
      },
      "outputs": [
        {
          "output_type": "display_data",
          "data": {
            "text/plain": [
              "<Figure size 720x432 with 1 Axes>"
            ],
            "image/png": "[encoded data removed]"
          },
          "metadata": {
            "needs_background": "light"
          }
        }
      ],
      "source": [
        "plt.plot(range(1,6), poly(6)[\"train_rmse_errors\"], label = \"TRAIN\")\n",
        "plt.plot(range(1,6), poly(6)[\"test_rmse_errors\"], label = \"TEST\")\n",
        "plt.xlabel(\"Polynamial Complex\")\n",
        "plt.ylabel(\"RMSE\")\n",
        "plt.xticks(np.arange(1,6,1))\n",
        "plt.legend();"
      ]
    },
    {
      "cell_type": "markdown",
      "id": "continuing-patrick",
      "metadata": {
        "id": "continuing-patrick"
      },
      "source": [
        "## Finalizing Model Choice"
      ]
    },
    {
      "cell_type": "code",
      "execution_count": 193,
      "id": "right-samuel",
      "metadata": {
        "id": "right-samuel"
      },
      "outputs": [],
      "source": [
        "final_poly_converter = PolynomialFeatures(degree = 3, include_bias=False)"
      ]
    },
    {
      "cell_type": "code",
      "execution_count": 194,
      "id": "matched-singapore",
      "metadata": {
        "id": "matched-singapore"
      },
      "outputs": [],
      "source": [
        "final_model = LinearRegression()"
      ]
    },
    {
      "cell_type": "code",
      "execution_count": 195,
      "id": "primary-regular",
      "metadata": {
        "colab": {
          "base_uri": "https://localhost:8080/"
        },
        "id": "primary-regular",
        "outputId": "66b47c3d-3b94-4899-d662-0c1e42067996"
      },
      "outputs": [
        {
          "output_type": "execute_result",
          "data": {
            "text/plain": [
              "LinearRegression()"
            ]
          },
          "metadata": {},
          "execution_count": 195
        }
      ],
      "source": [
        "final_model.fit(final_poly_converter.fit_transform(X), y)"
      ]
    },
    {
      "cell_type": "markdown",
      "id": "broadband-terrorist",
      "metadata": {
        "id": "broadband-terrorist"
      },
      "source": [
        "### Predictions"
      ]
    },
    {
      "cell_type": "code",
      "execution_count": 212,
      "id": "coordinate-outdoors",
      "metadata": {
        "id": "coordinate-outdoors"
      },
      "outputs": [],
      "source": [
        "new_record = [[230.1, 37.8, 69.2],\n",
        "              [44.5, 39.3, 45.1]]"
      ]
    },
    {
      "cell_type": "code",
      "execution_count": 213,
      "id": "varied-jonathan",
      "metadata": {
        "id": "varied-jonathan"
      },
      "outputs": [],
      "source": [
        "new_record_poly = final_poly_converter.fit_transform(new_record)"
      ]
    },
    {
      "cell_type": "code",
      "execution_count": 214,
      "id": "rocky-weapon",
      "metadata": {
        "colab": {
          "base_uri": "https://localhost:8080/"
        },
        "id": "rocky-weapon",
        "outputId": "bbbe2686-56fd-41b7-eb8b-5513fa6e799d"
      },
      "outputs": [
        {
          "output_type": "execute_result",
          "data": {
            "text/plain": [
              "array([[2.30100000e+02, 3.78000000e+01, 6.92000000e+01, 5.29460100e+04,\n",
              "        8.69778000e+03, 1.59229200e+04, 1.42884000e+03, 2.61576000e+03,\n",
              "        4.78864000e+03, 1.21828769e+07, 2.00135918e+06, 3.66386389e+06,\n",
              "        3.28776084e+05, 6.01886376e+05, 1.10186606e+06, 5.40101520e+04,\n",
              "        9.88757280e+04, 1.81010592e+05, 3.31373888e+05],\n",
              "       [4.45000000e+01, 3.93000000e+01, 4.51000000e+01, 1.98025000e+03,\n",
              "        1.74885000e+03, 2.00695000e+03, 1.54449000e+03, 1.77243000e+03,\n",
              "        2.03401000e+03, 8.81211250e+04, 7.78238250e+04, 8.93092750e+04,\n",
              "        6.87298050e+04, 7.88731350e+04, 9.05134450e+04, 6.06984570e+04,\n",
              "        6.96564990e+04, 7.99365930e+04, 9.17338510e+04]])"
            ]
          },
          "metadata": {},
          "execution_count": 214
        }
      ],
      "source": [
        "new_record_poly"
      ]
    },
    {
      "cell_type": "code",
      "execution_count": 215,
      "id": "legitimate-example",
      "metadata": {
        "colab": {
          "base_uri": "https://localhost:8080/"
        },
        "id": "legitimate-example",
        "outputId": "806803ab-f6ca-455d-a982-33af92443d01"
      },
      "outputs": [
        {
          "output_type": "execute_result",
          "data": {
            "text/plain": [
              "array([21.25112435, 10.76944735])"
            ]
          },
          "metadata": {},
          "execution_count": 215
        }
      ],
      "source": [
        "final_model.predict(new_record_poly) "
      ]
    },
    {
      "cell_type": "markdown",
      "id": "sweet-document",
      "metadata": {
        "id": "sweet-document"
      },
      "source": [
        "## Overfitting case"
      ]
    },
    {
      "cell_type": "code",
      "execution_count": 216,
      "id": "micro-worship",
      "metadata": {
        "id": "micro-worship"
      },
      "outputs": [],
      "source": [
        "over_poly_converter = PolynomialFeatures(degree =5, include_bias =False)"
      ]
    },
    {
      "cell_type": "code",
      "execution_count": 217,
      "id": "therapeutic-father",
      "metadata": {
        "id": "therapeutic-father"
      },
      "outputs": [],
      "source": [
        "over_model = LinearRegression()"
      ]
    },
    {
      "cell_type": "code",
      "execution_count": 218,
      "id": "little-video",
      "metadata": {
        "id": "little-video"
      },
      "outputs": [],
      "source": [
        "X_train, X_test, y_train, y_test = train_test_split(over_poly_converter.fit_transform(X), y, test_size=0.3, random_state=42)"
      ]
    },
    {
      "cell_type": "code",
      "execution_count": 219,
      "id": "precious-lighter",
      "metadata": {
        "colab": {
          "base_uri": "https://localhost:8080/"
        },
        "id": "precious-lighter",
        "outputId": "5aa61397-5b38-4f04-dbce-c9fcfb91c50a"
      },
      "outputs": [
        {
          "output_type": "execute_result",
          "data": {
            "text/plain": [
              "LinearRegression()"
            ]
          },
          "metadata": {},
          "execution_count": 219
        }
      ],
      "source": [
        "over_model.fit(X_train, y_train)"
      ]
    },
    {
      "cell_type": "code",
      "execution_count": 220,
      "id": "referenced-pride",
      "metadata": {
        "id": "referenced-pride"
      },
      "outputs": [],
      "source": [
        "y_pred_over = over_model.predict(X_test)"
      ]
    },
    {
      "cell_type": "code",
      "execution_count": 221,
      "id": "signal-winner",
      "metadata": {
        "colab": {
          "base_uri": "https://localhost:8080/"
        },
        "id": "signal-winner",
        "outputId": "74ca3941-46fb-4029-f715-31d1bcff59b3"
      },
      "outputs": [
        {
          "output_type": "stream",
          "name": "stdout",
          "text": [
            "Model testing performance:\n",
            "--------------------------\n",
            "R2_score \t: -0.29515668376685666\n",
            "MAE \t\t: 1.3795283822019895\n",
            "MSE \t\t: 35.36374598055288\n",
            "RMSE \t\t: 5.946742467986391\n"
          ]
        }
      ],
      "source": [
        "eval_metric(y_test, y_pred_over)"
      ]
    },
    {
      "cell_type": "code",
      "execution_count": 222,
      "id": "adapted-accident",
      "metadata": {
        "id": "adapted-accident"
      },
      "outputs": [],
      "source": [
        "y_train_over = over_model.predict(X_train)"
      ]
    },
    {
      "cell_type": "code",
      "execution_count": 223,
      "id": "floral-inside",
      "metadata": {
        "colab": {
          "base_uri": "https://localhost:8080/"
        },
        "id": "floral-inside",
        "outputId": "09a53f6c-8377-48bf-b39f-353d292d9ba7"
      },
      "outputs": [
        {
          "output_type": "stream",
          "name": "stdout",
          "text": [
            "Model testing performance:\n",
            "--------------------------\n",
            "R2_score \t: 0.9977344909818051\n",
            "MAE \t\t: 0.18385624027607136\n",
            "MSE \t\t: 0.05944920365250044\n",
            "RMSE \t\t: 0.24382207375974072\n"
          ]
        }
      ],
      "source": [
        "eval_metric(y_train, y_train_over)"
      ]
    }
  ],
  "metadata": {
    "colab": {
      "name": "ML-3 (Poly Regression-Overfiting-Underfiting).ipynb",
      "provenance": [],
      "toc_visible": true
    },
    "kernelspec": {
      "display_name": "Python 3 (ipykernel)",
      "language": "python",
      "name": "python3"
    },
    "language_info": {
      "codemirror_mode": {
        "name": "ipython",
        "version": 3
      },
      "file_extension": ".py",
      "mimetype": "text/x-python",
      "name": "python",
      "nbconvert_exporter": "python",
      "pygments_lexer": "ipython3",
      "version": "3.9.12"
    }
  },
  "nbformat": 4,
  "nbformat_minor": 5
}
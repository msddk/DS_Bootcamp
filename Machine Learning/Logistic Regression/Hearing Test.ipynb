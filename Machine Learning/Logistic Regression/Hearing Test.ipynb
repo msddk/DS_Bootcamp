{
  "cells": [
    {
      "cell_type": "markdown",
      "metadata": {
        "id": "GlOUpFZsdDKa"
      },
      "source": [
        "# Logistic Regression (Hearing)\n"
      ]
    },
    {
      "cell_type": "markdown",
      "source": [
        "## Import Libraries"
      ],
      "metadata": {
        "id": "rvJNea7EB4kz"
      }
    },
    {
      "cell_type": "code",
      "execution_count": 1,
      "metadata": {
        "id": "nYkvkmeZdDKc"
      },
      "outputs": [],
      "source": [
        "import numpy as np\n",
        "import pandas as pd\n",
        "import seaborn as sns\n",
        "import matplotlib\n",
        "import matplotlib.pyplot as plt\n",
        "\n",
        "%matplotlib inline\n",
        "#%matplotlib notebook\n",
        "plt.rcParams[\"figure.figsize\"] = (10,6)\n",
        "import warnings\n",
        "warnings.filterwarnings(\"ignore\")\n",
        "warnings.warn(\"this will not show\")\n",
        "pd.set_option('display.float_format', lambda x: '%.2f' % x)\n",
        "#pd.options.display.float_format = '{:.3f}'.format"
      ]
    },
    {
      "cell_type": "code",
      "source": [
        "# pip install matplotlib --upgrade"
      ],
      "metadata": {
        "id": "082wkS4ZHku_"
      },
      "execution_count": null,
      "outputs": []
    },
    {
      "cell_type": "markdown",
      "metadata": {
        "jp-MarkdownHeadingCollapsed": true,
        "tags": [],
        "id": "Rk6ItV-NdDKe"
      },
      "source": [
        "## Exploratory Data Analysis and Visualization"
      ]
    },
    {
      "cell_type": "code",
      "execution_count": 2,
      "metadata": {
        "id": "2iuiQ71BdDKd"
      },
      "outputs": [],
      "source": [
        "df = pd.read_csv('https://raw.githubusercontent.com/msddk/DS_Bootcamp/main/Machine%20Learning/Logistic%20Regression/hearing_test.csv')"
      ]
    },
    {
      "cell_type": "code",
      "execution_count": 3,
      "metadata": {
        "id": "ZBydzF73dDKd",
        "outputId": "f02d7359-dbb3-4f27-f22b-77776809d829",
        "colab": {
          "base_uri": "https://localhost:8080/",
          "height": 206
        }
      },
      "outputs": [
        {
          "output_type": "execute_result",
          "data": {
            "text/plain": [
              "    age  physical_score  test_result\n",
              "0 33.00           40.70            1\n",
              "1 50.00           37.20            1\n",
              "2 52.00           24.70            0\n",
              "3 56.00           31.00            0\n",
              "4 35.00           42.90            1"
            ],
            "text/html": [
              "\n",
              "  <div id=\"df-13137074-fcf7-4b09-b9c7-cfceb81563df\">\n",
              "    <div class=\"colab-df-container\">\n",
              "      <div>\n",
              "<style scoped>\n",
              "    .dataframe tbody tr th:only-of-type {\n",
              "        vertical-align: middle;\n",
              "    }\n",
              "\n",
              "    .dataframe tbody tr th {\n",
              "        vertical-align: top;\n",
              "    }\n",
              "\n",
              "    .dataframe thead th {\n",
              "        text-align: right;\n",
              "    }\n",
              "</style>\n",
              "<table border=\"1\" class=\"dataframe\">\n",
              "  <thead>\n",
              "    <tr style=\"text-align: right;\">\n",
              "      <th></th>\n",
              "      <th>age</th>\n",
              "      <th>physical_score</th>\n",
              "      <th>test_result</th>\n",
              "    </tr>\n",
              "  </thead>\n",
              "  <tbody>\n",
              "    <tr>\n",
              "      <th>0</th>\n",
              "      <td>33.00</td>\n",
              "      <td>40.70</td>\n",
              "      <td>1</td>\n",
              "    </tr>\n",
              "    <tr>\n",
              "      <th>1</th>\n",
              "      <td>50.00</td>\n",
              "      <td>37.20</td>\n",
              "      <td>1</td>\n",
              "    </tr>\n",
              "    <tr>\n",
              "      <th>2</th>\n",
              "      <td>52.00</td>\n",
              "      <td>24.70</td>\n",
              "      <td>0</td>\n",
              "    </tr>\n",
              "    <tr>\n",
              "      <th>3</th>\n",
              "      <td>56.00</td>\n",
              "      <td>31.00</td>\n",
              "      <td>0</td>\n",
              "    </tr>\n",
              "    <tr>\n",
              "      <th>4</th>\n",
              "      <td>35.00</td>\n",
              "      <td>42.90</td>\n",
              "      <td>1</td>\n",
              "    </tr>\n",
              "  </tbody>\n",
              "</table>\n",
              "</div>\n",
              "      <button class=\"colab-df-convert\" onclick=\"convertToInteractive('df-13137074-fcf7-4b09-b9c7-cfceb81563df')\"\n",
              "              title=\"Convert this dataframe to an interactive table.\"\n",
              "              style=\"display:none;\">\n",
              "        \n",
              "  <svg xmlns=\"http://www.w3.org/2000/svg\" height=\"24px\"viewBox=\"0 0 24 24\"\n",
              "       width=\"24px\">\n",
              "    <path d=\"M0 0h24v24H0V0z\" fill=\"none\"/>\n",
              "    <path d=\"M18.56 5.44l.94 2.06.94-2.06 2.06-.94-2.06-.94-.94-2.06-.94 2.06-2.06.94zm-11 1L8.5 8.5l.94-2.06 2.06-.94-2.06-.94L8.5 2.5l-.94 2.06-2.06.94zm10 10l.94 2.06.94-2.06 2.06-.94-2.06-.94-.94-2.06-.94 2.06-2.06.94z\"/><path d=\"M17.41 7.96l-1.37-1.37c-.4-.4-.92-.59-1.43-.59-.52 0-1.04.2-1.43.59L10.3 9.45l-7.72 7.72c-.78.78-.78 2.05 0 2.83L4 21.41c.39.39.9.59 1.41.59.51 0 1.02-.2 1.41-.59l7.78-7.78 2.81-2.81c.8-.78.8-2.07 0-2.86zM5.41 20L4 18.59l7.72-7.72 1.47 1.35L5.41 20z\"/>\n",
              "  </svg>\n",
              "      </button>\n",
              "      \n",
              "  <style>\n",
              "    .colab-df-container {\n",
              "      display:flex;\n",
              "      flex-wrap:wrap;\n",
              "      gap: 12px;\n",
              "    }\n",
              "\n",
              "    .colab-df-convert {\n",
              "      background-color: #E8F0FE;\n",
              "      border: none;\n",
              "      border-radius: 50%;\n",
              "      cursor: pointer;\n",
              "      display: none;\n",
              "      fill: #1967D2;\n",
              "      height: 32px;\n",
              "      padding: 0 0 0 0;\n",
              "      width: 32px;\n",
              "    }\n",
              "\n",
              "    .colab-df-convert:hover {\n",
              "      background-color: #E2EBFA;\n",
              "      box-shadow: 0px 1px 2px rgba(60, 64, 67, 0.3), 0px 1px 3px 1px rgba(60, 64, 67, 0.15);\n",
              "      fill: #174EA6;\n",
              "    }\n",
              "\n",
              "    [theme=dark] .colab-df-convert {\n",
              "      background-color: #3B4455;\n",
              "      fill: #D2E3FC;\n",
              "    }\n",
              "\n",
              "    [theme=dark] .colab-df-convert:hover {\n",
              "      background-color: #434B5C;\n",
              "      box-shadow: 0px 1px 3px 1px rgba(0, 0, 0, 0.15);\n",
              "      filter: drop-shadow(0px 1px 2px rgba(0, 0, 0, 0.3));\n",
              "      fill: #FFFFFF;\n",
              "    }\n",
              "  </style>\n",
              "\n",
              "      <script>\n",
              "        const buttonEl =\n",
              "          document.querySelector('#df-13137074-fcf7-4b09-b9c7-cfceb81563df button.colab-df-convert');\n",
              "        buttonEl.style.display =\n",
              "          google.colab.kernel.accessAllowed ? 'block' : 'none';\n",
              "\n",
              "        async function convertToInteractive(key) {\n",
              "          const element = document.querySelector('#df-13137074-fcf7-4b09-b9c7-cfceb81563df');\n",
              "          const dataTable =\n",
              "            await google.colab.kernel.invokeFunction('convertToInteractive',\n",
              "                                                     [key], {});\n",
              "          if (!dataTable) return;\n",
              "\n",
              "          const docLinkHtml = 'Like what you see? Visit the ' +\n",
              "            '<a target=\"_blank\" href=https://colab.research.google.com/notebooks/data_table.ipynb>data table notebook</a>'\n",
              "            + ' to learn more about interactive tables.';\n",
              "          element.innerHTML = '';\n",
              "          dataTable['output_type'] = 'display_data';\n",
              "          await google.colab.output.renderOutput(dataTable, element);\n",
              "          const docLink = document.createElement('div');\n",
              "          docLink.innerHTML = docLinkHtml;\n",
              "          element.appendChild(docLink);\n",
              "        }\n",
              "      </script>\n",
              "    </div>\n",
              "  </div>\n",
              "  "
            ]
          },
          "metadata": {},
          "execution_count": 3
        }
      ],
      "source": [
        "df.head()"
      ]
    },
    {
      "cell_type": "code",
      "execution_count": 4,
      "metadata": {
        "id": "ocBOKrB8dDKe",
        "outputId": "213d4b47-b254-434b-b353-81f5fcb59124",
        "colab": {
          "base_uri": "https://localhost:8080/"
        }
      },
      "outputs": [
        {
          "output_type": "stream",
          "name": "stdout",
          "text": [
            "<class 'pandas.core.frame.DataFrame'>\n",
            "RangeIndex: 5000 entries, 0 to 4999\n",
            "Data columns (total 3 columns):\n",
            " #   Column          Non-Null Count  Dtype  \n",
            "---  ------          --------------  -----  \n",
            " 0   age             5000 non-null   float64\n",
            " 1   physical_score  5000 non-null   float64\n",
            " 2   test_result     5000 non-null   int64  \n",
            "dtypes: float64(2), int64(1)\n",
            "memory usage: 117.3 KB\n"
          ]
        }
      ],
      "source": [
        "df.info()"
      ]
    },
    {
      "cell_type": "code",
      "execution_count": 5,
      "metadata": {
        "id": "ffAHSUoVdDKf",
        "outputId": "9de4c4c6-1529-4429-cb00-e2826500c08b",
        "colab": {
          "base_uri": "https://localhost:8080/",
          "height": 143
        }
      },
      "outputs": [
        {
          "output_type": "execute_result",
          "data": {
            "text/plain": [
              "                 count  mean   std   min   25%   50%   75%   max\n",
              "age            5000.00 51.61 11.29 18.00 43.00 51.00 60.00 90.00\n",
              "physical_score 5000.00 32.76  8.17 -0.00 26.70 35.30 38.90 50.00\n",
              "test_result    5000.00  0.60  0.49  0.00  0.00  1.00  1.00  1.00"
            ],
            "text/html": [
              "\n",
              "  <div id=\"df-055aeebf-34f9-4c7f-81c6-edbaf870a890\">\n",
              "    <div class=\"colab-df-container\">\n",
              "      <div>\n",
              "<style scoped>\n",
              "    .dataframe tbody tr th:only-of-type {\n",
              "        vertical-align: middle;\n",
              "    }\n",
              "\n",
              "    .dataframe tbody tr th {\n",
              "        vertical-align: top;\n",
              "    }\n",
              "\n",
              "    .dataframe thead th {\n",
              "        text-align: right;\n",
              "    }\n",
              "</style>\n",
              "<table border=\"1\" class=\"dataframe\">\n",
              "  <thead>\n",
              "    <tr style=\"text-align: right;\">\n",
              "      <th></th>\n",
              "      <th>count</th>\n",
              "      <th>mean</th>\n",
              "      <th>std</th>\n",
              "      <th>min</th>\n",
              "      <th>25%</th>\n",
              "      <th>50%</th>\n",
              "      <th>75%</th>\n",
              "      <th>max</th>\n",
              "    </tr>\n",
              "  </thead>\n",
              "  <tbody>\n",
              "    <tr>\n",
              "      <th>age</th>\n",
              "      <td>5000.00</td>\n",
              "      <td>51.61</td>\n",
              "      <td>11.29</td>\n",
              "      <td>18.00</td>\n",
              "      <td>43.00</td>\n",
              "      <td>51.00</td>\n",
              "      <td>60.00</td>\n",
              "      <td>90.00</td>\n",
              "    </tr>\n",
              "    <tr>\n",
              "      <th>physical_score</th>\n",
              "      <td>5000.00</td>\n",
              "      <td>32.76</td>\n",
              "      <td>8.17</td>\n",
              "      <td>-0.00</td>\n",
              "      <td>26.70</td>\n",
              "      <td>35.30</td>\n",
              "      <td>38.90</td>\n",
              "      <td>50.00</td>\n",
              "    </tr>\n",
              "    <tr>\n",
              "      <th>test_result</th>\n",
              "      <td>5000.00</td>\n",
              "      <td>0.60</td>\n",
              "      <td>0.49</td>\n",
              "      <td>0.00</td>\n",
              "      <td>0.00</td>\n",
              "      <td>1.00</td>\n",
              "      <td>1.00</td>\n",
              "      <td>1.00</td>\n",
              "    </tr>\n",
              "  </tbody>\n",
              "</table>\n",
              "</div>\n",
              "      <button class=\"colab-df-convert\" onclick=\"convertToInteractive('df-055aeebf-34f9-4c7f-81c6-edbaf870a890')\"\n",
              "              title=\"Convert this dataframe to an interactive table.\"\n",
              "              style=\"display:none;\">\n",
              "        \n",
              "  <svg xmlns=\"http://www.w3.org/2000/svg\" height=\"24px\"viewBox=\"0 0 24 24\"\n",
              "       width=\"24px\">\n",
              "    <path d=\"M0 0h24v24H0V0z\" fill=\"none\"/>\n",
              "    <path d=\"M18.56 5.44l.94 2.06.94-2.06 2.06-.94-2.06-.94-.94-2.06-.94 2.06-2.06.94zm-11 1L8.5 8.5l.94-2.06 2.06-.94-2.06-.94L8.5 2.5l-.94 2.06-2.06.94zm10 10l.94 2.06.94-2.06 2.06-.94-2.06-.94-.94-2.06-.94 2.06-2.06.94z\"/><path d=\"M17.41 7.96l-1.37-1.37c-.4-.4-.92-.59-1.43-.59-.52 0-1.04.2-1.43.59L10.3 9.45l-7.72 7.72c-.78.78-.78 2.05 0 2.83L4 21.41c.39.39.9.59 1.41.59.51 0 1.02-.2 1.41-.59l7.78-7.78 2.81-2.81c.8-.78.8-2.07 0-2.86zM5.41 20L4 18.59l7.72-7.72 1.47 1.35L5.41 20z\"/>\n",
              "  </svg>\n",
              "      </button>\n",
              "      \n",
              "  <style>\n",
              "    .colab-df-container {\n",
              "      display:flex;\n",
              "      flex-wrap:wrap;\n",
              "      gap: 12px;\n",
              "    }\n",
              "\n",
              "    .colab-df-convert {\n",
              "      background-color: #E8F0FE;\n",
              "      border: none;\n",
              "      border-radius: 50%;\n",
              "      cursor: pointer;\n",
              "      display: none;\n",
              "      fill: #1967D2;\n",
              "      height: 32px;\n",
              "      padding: 0 0 0 0;\n",
              "      width: 32px;\n",
              "    }\n",
              "\n",
              "    .colab-df-convert:hover {\n",
              "      background-color: #E2EBFA;\n",
              "      box-shadow: 0px 1px 2px rgba(60, 64, 67, 0.3), 0px 1px 3px 1px rgba(60, 64, 67, 0.15);\n",
              "      fill: #174EA6;\n",
              "    }\n",
              "\n",
              "    [theme=dark] .colab-df-convert {\n",
              "      background-color: #3B4455;\n",
              "      fill: #D2E3FC;\n",
              "    }\n",
              "\n",
              "    [theme=dark] .colab-df-convert:hover {\n",
              "      background-color: #434B5C;\n",
              "      box-shadow: 0px 1px 3px 1px rgba(0, 0, 0, 0.15);\n",
              "      filter: drop-shadow(0px 1px 2px rgba(0, 0, 0, 0.3));\n",
              "      fill: #FFFFFF;\n",
              "    }\n",
              "  </style>\n",
              "\n",
              "      <script>\n",
              "        const buttonEl =\n",
              "          document.querySelector('#df-055aeebf-34f9-4c7f-81c6-edbaf870a890 button.colab-df-convert');\n",
              "        buttonEl.style.display =\n",
              "          google.colab.kernel.accessAllowed ? 'block' : 'none';\n",
              "\n",
              "        async function convertToInteractive(key) {\n",
              "          const element = document.querySelector('#df-055aeebf-34f9-4c7f-81c6-edbaf870a890');\n",
              "          const dataTable =\n",
              "            await google.colab.kernel.invokeFunction('convertToInteractive',\n",
              "                                                     [key], {});\n",
              "          if (!dataTable) return;\n",
              "\n",
              "          const docLinkHtml = 'Like what you see? Visit the ' +\n",
              "            '<a target=\"_blank\" href=https://colab.research.google.com/notebooks/data_table.ipynb>data table notebook</a>'\n",
              "            + ' to learn more about interactive tables.';\n",
              "          element.innerHTML = '';\n",
              "          dataTable['output_type'] = 'display_data';\n",
              "          await google.colab.output.renderOutput(dataTable, element);\n",
              "          const docLink = document.createElement('div');\n",
              "          docLink.innerHTML = docLinkHtml;\n",
              "          element.appendChild(docLink);\n",
              "        }\n",
              "      </script>\n",
              "    </div>\n",
              "  </div>\n",
              "  "
            ]
          },
          "metadata": {},
          "execution_count": 5
        }
      ],
      "source": [
        "df.describe().T"
      ]
    },
    {
      "cell_type": "code",
      "execution_count": 6,
      "metadata": {
        "id": "6ef-OSkrdDKf",
        "outputId": "a766fc48-2525-4a1a-e474-a6e2465292c7",
        "colab": {
          "base_uri": "https://localhost:8080/"
        }
      },
      "outputs": [
        {
          "output_type": "execute_result",
          "data": {
            "text/plain": [
              "1    3000\n",
              "0    2000\n",
              "Name: test_result, dtype: int64"
            ]
          },
          "metadata": {},
          "execution_count": 6
        }
      ],
      "source": [
        "df['test_result'].value_counts()"
      ]
    },
    {
      "cell_type": "code",
      "execution_count": 11,
      "metadata": {
        "id": "hsUUdaC3dDKf",
        "outputId": "1bde056d-6d29-4adb-ea78-cb9a7e2d6696",
        "colab": {
          "base_uri": "https://localhost:8080/",
          "height": 389
        }
      },
      "outputs": [
        {
          "output_type": "display_data",
          "data": {
            "text/plain": [
              "<Figure size 720x432 with 1 Axes>"
            ],
            "image/png": "[encoded data removed]"
          },
          "metadata": {
            "needs_background": "light"
          }
        }
      ],
      "source": [
        "ax = sns.countplot(x='test_result', data=df)\n",
        "ax.bar_label(ax.containers[0]);"
      ]
    },
    {
      "cell_type": "code",
      "execution_count": 12,
      "metadata": {
        "id": "6tXyUvvBdDKg",
        "outputId": "90a9532f-4f2e-4aec-df45-34efd71e5ecb",
        "colab": {
          "base_uri": "https://localhost:8080/",
          "height": 389
        }
      },
      "outputs": [
        {
          "output_type": "display_data",
          "data": {
            "text/plain": [
              "<Figure size 720x432 with 1 Axes>"
            ],
            "image/png": "[encoded data removed]"
          },
          "metadata": {
            "needs_background": "light"
          }
        }
      ],
      "source": [
        "sns.boxplot(x='test_result',y='age',data=df);"
      ]
    },
    {
      "cell_type": "code",
      "execution_count": 13,
      "metadata": {
        "id": "j190IfyMdDKg",
        "outputId": "d1194990-e02a-4275-e061-8ec03be1e926",
        "colab": {
          "base_uri": "https://localhost:8080/",
          "height": 389
        }
      },
      "outputs": [
        {
          "output_type": "display_data",
          "data": {
            "text/plain": [
              "<Figure size 720x432 with 1 Axes>"
            ],
            "image/png": "[encoded data removed]"
          },
          "metadata": {
            "needs_background": "light"
          }
        }
      ],
      "source": [
        "sns.boxplot(x='test_result',y='physical_score',data=df);"
      ]
    },
    {
      "cell_type": "code",
      "execution_count": 14,
      "metadata": {
        "id": "L862f3_sdDKg",
        "outputId": "7c4c173e-86c0-4c4a-a00b-caa159680f64",
        "colab": {
          "base_uri": "https://localhost:8080/",
          "height": 388
        }
      },
      "outputs": [
        {
          "output_type": "display_data",
          "data": {
            "text/plain": [
              "<Figure size 720x432 with 1 Axes>"
            ],
            "image/png": "[encoded data removed]"
          },
          "metadata": {
            "needs_background": "light"
          }
        }
      ],
      "source": [
        "sns.scatterplot(x='age', y='physical_score', data=df, hue='test_result', alpha=0.5);"
      ]
    },
    {
      "cell_type": "code",
      "execution_count": 15,
      "metadata": {
        "id": "CA90JayAdDKh",
        "outputId": "81c91662-0ec5-4a3e-f0a3-e723bff70861",
        "colab": {
          "base_uri": "https://localhost:8080/",
          "height": 374
        }
      },
      "outputs": [
        {
          "output_type": "display_data",
          "data": {
            "text/plain": [
              "<Figure size 420.5x360 with 6 Axes>"
            ],
            "image/png": "[encoded data removed]"
          },
          "metadata": {
            "needs_background": "light"
          }
        }
      ],
      "source": [
        "sns.pairplot(df,hue='test_result');"
      ]
    },
    {
      "cell_type": "code",
      "execution_count": 16,
      "metadata": {
        "id": "vIvK_IrRdDKh",
        "outputId": "8c5a2aa9-86d3-4e5d-f073-2bf4356b8978",
        "colab": {
          "base_uri": "https://localhost:8080/",
          "height": 379
        }
      },
      "outputs": [
        {
          "output_type": "display_data",
          "data": {
            "text/plain": [
              "<Figure size 720x432 with 2 Axes>"
            ],
            "image/png": "[encoded data removed]"
          },
          "metadata": {
            "needs_background": "light"
          }
        }
      ],
      "source": [
        "sns.heatmap(df.corr(), annot=True);"
      ]
    },
    {
      "cell_type": "code",
      "execution_count": 17,
      "metadata": {
        "id": "TUcVuIR7dDKh",
        "outputId": "4362e887-8045-4fd8-a73a-41ea961b6ea6",
        "colab": {
          "base_uri": "https://localhost:8080/",
          "height": 389
        }
      },
      "outputs": [
        {
          "output_type": "display_data",
          "data": {
            "text/plain": [
              "<Figure size 720x432 with 1 Axes>"
            ],
            "image/png": "[encoded data removed]"
          },
          "metadata": {
            "needs_background": "light"
          }
        }
      ],
      "source": [
        "sns.scatterplot(x='physical_score',y='test_result',data=df);"
      ]
    },
    {
      "cell_type": "markdown",
      "metadata": {
        "jp-MarkdownHeadingCollapsed": true,
        "tags": [],
        "id": "Wy0yEqbcdDKh"
      },
      "source": [
        "## Train | Test Split and Scaling"
      ]
    },
    {
      "cell_type": "code",
      "execution_count": 18,
      "metadata": {
        "id": "lwhlOShfdDKi"
      },
      "outputs": [],
      "source": [
        "X = df.drop('test_result',axis=1)\n",
        "y = df['test_result']"
      ]
    },
    {
      "cell_type": "code",
      "execution_count": 19,
      "metadata": {
        "id": "VwnTdHobdDKi"
      },
      "outputs": [],
      "source": [
        "from sklearn.model_selection import train_test_split\n",
        "from sklearn.preprocessing import StandardScaler"
      ]
    },
    {
      "cell_type": "code",
      "execution_count": 20,
      "metadata": {
        "id": "75DYvplxdDKi"
      },
      "outputs": [],
      "source": [
        "X_train, X_test, y_train, y_test = train_test_split(X, y, test_size=0.1, random_state=42)"
      ]
    },
    {
      "cell_type": "code",
      "execution_count": 28,
      "metadata": {
        "id": "afWzGYLYdDKi"
      },
      "outputs": [],
      "source": [
        "scaler = StandardScaler()"
      ]
    },
    {
      "cell_type": "code",
      "execution_count": 29,
      "metadata": {
        "id": "6UZ7255WdDKj"
      },
      "outputs": [],
      "source": [
        "X_train_scaled = scaler.fit_transform(X_train)\n",
        "X_test_scaled = scaler.transform(X_test)"
      ]
    },
    {
      "cell_type": "markdown",
      "metadata": {
        "jp-MarkdownHeadingCollapsed": true,
        "tags": [],
        "id": "28tPeCewdDKj"
      },
      "source": [
        "## Modelling"
      ]
    },
    {
      "cell_type": "code",
      "execution_count": 30,
      "metadata": {
        "id": "pP7f921OdDKj"
      },
      "outputs": [],
      "source": [
        "from sklearn.linear_model import LogisticRegression"
      ]
    },
    {
      "cell_type": "markdown",
      "metadata": {
        "id": "Yp0lk5qGdDKj"
      },
      "source": [
        "https://scikit-learn.org/stable/modules/generated/sklearn.linear_model.LogisticRegression.html"
      ]
    },
    {
      "cell_type": "code",
      "execution_count": 31,
      "metadata": {
        "id": "Fnyv-6ChdDKj"
      },
      "outputs": [],
      "source": [
        "#help(LogisticRegression)"
      ]
    },
    {
      "cell_type": "code",
      "execution_count": 32,
      "metadata": {
        "id": "VYnWJLmHdDKk"
      },
      "outputs": [],
      "source": [
        "log_model = LogisticRegression()"
      ]
    },
    {
      "cell_type": "code",
      "execution_count": 33,
      "metadata": {
        "id": "1GjJ-ug6dDKk",
        "outputId": "5377a0aa-3eba-4c2d-ac82-7ae8319900a6",
        "colab": {
          "base_uri": "https://localhost:8080/"
        }
      },
      "outputs": [
        {
          "output_type": "execute_result",
          "data": {
            "text/plain": [
              "LogisticRegression()"
            ]
          },
          "metadata": {},
          "execution_count": 33
        }
      ],
      "source": [
        "log_model.fit(X_train_scaled, y_train)"
      ]
    },
    {
      "cell_type": "code",
      "execution_count": 35,
      "metadata": {
        "id": "ilIYC800dDKk",
        "outputId": "da39f156-f743-4ca5-e138-66a6c9a2818b",
        "colab": {
          "base_uri": "https://localhost:8080/"
        }
      },
      "outputs": [
        {
          "output_type": "execute_result",
          "data": {
            "text/plain": [
              "array([[-0.91841476,  3.52854047]])"
            ]
          },
          "metadata": {},
          "execution_count": 35
        }
      ],
      "source": [
        "log_model.coef_"
      ]
    },
    {
      "cell_type": "code",
      "execution_count": 36,
      "metadata": {
        "id": "EpAuHxGydDKl",
        "outputId": "57fe8030-53e5-4e4f-fcbc-38c40f7ae915",
        "colab": {
          "base_uri": "https://localhost:8080/"
        }
      },
      "outputs": [
        {
          "output_type": "execute_result",
          "data": {
            "text/plain": [
              "array([1, 0, 1, 1, 0, 0, 0, 1, 1, 0, 1, 0, 1, 1, 1, 0, 1, 0, 1, 0, 0, 0,\n",
              "       0, 1, 1, 1, 0, 0, 0, 0, 1, 1, 1, 1, 0, 0, 1, 1, 1, 0, 1, 1, 1, 0,\n",
              "       1, 0, 1, 0, 1, 0, 0, 1, 1, 0, 1, 1, 1, 0, 0, 1, 1, 1, 1, 0, 1, 1,\n",
              "       0, 1, 0, 1, 0, 1, 0, 1, 0, 0, 1, 1, 1, 0, 0, 1, 1, 1, 1, 1, 1, 1,\n",
              "       1, 1, 0, 1, 0, 1, 1, 0, 1, 1, 1, 1, 1, 0, 1, 1, 1, 1, 1, 0, 0, 1,\n",
              "       1, 0, 0, 1, 1, 1, 1, 1, 1, 1, 1, 0, 0, 0, 1, 1, 0, 1, 1, 1, 1, 0,\n",
              "       0, 1, 1, 0, 1, 1, 1, 1, 1, 1, 1, 1, 0, 1, 0, 0, 1, 1, 1, 0, 0, 1,\n",
              "       1, 1, 1, 1, 0, 1, 0, 1, 0, 1, 0, 1, 0, 1, 1, 0, 0, 1, 1, 0, 1, 1,\n",
              "       1, 1, 0, 1, 1, 1, 0, 0, 0, 1, 1, 1, 0, 1, 1, 0, 0, 1, 0, 0, 0, 1,\n",
              "       1, 1, 1, 1, 1, 1, 0, 0, 0, 1, 0, 0, 0, 1, 0, 1, 1, 1, 1, 0, 1, 0,\n",
              "       0, 0, 1, 0, 1, 1, 1, 1, 1, 0, 0, 0, 1, 1, 1, 0, 0, 1, 1, 1, 1, 1,\n",
              "       1, 1, 0, 1, 0, 1, 1, 0, 1, 1, 1, 1, 1, 1, 0, 1, 0, 1, 1, 1, 1, 0,\n",
              "       1, 1, 1, 0, 1, 1, 0, 1, 0, 1, 1, 0, 0, 1, 1, 1, 1, 1, 1, 0, 1, 1,\n",
              "       1, 1, 1, 0, 0, 0, 1, 1, 1, 1, 0, 0, 0, 1, 0, 1, 1, 0, 0, 0, 0, 1,\n",
              "       1, 0, 1, 1, 1, 1, 1, 1, 0, 0, 0, 1, 0, 1, 1, 0, 0, 1, 0, 1, 1, 0,\n",
              "       0, 1, 1, 1, 1, 1, 1, 0, 0, 1, 1, 1, 1, 1, 1, 0, 0, 0, 1, 0, 1, 1,\n",
              "       1, 1, 1, 1, 1, 0, 1, 1, 0, 1, 1, 0, 1, 1, 1, 1, 1, 1, 1, 0, 1, 1,\n",
              "       1, 1, 1, 1, 1, 1, 0, 0, 1, 1, 1, 0, 0, 0, 0, 0, 1, 1, 1, 1, 0, 1,\n",
              "       1, 1, 0, 0, 0, 0, 0, 1, 1, 0, 1, 0, 1, 0, 1, 0, 1, 0, 1, 0, 1, 0,\n",
              "       0, 1, 1, 1, 0, 1, 1, 1, 1, 1, 1, 1, 1, 0, 1, 1, 1, 1, 1, 1, 1, 1,\n",
              "       1, 0, 0, 1, 1, 1, 1, 0, 1, 1, 0, 0, 1, 0, 0, 1, 1, 1, 1, 1, 0, 1,\n",
              "       1, 0, 0, 1, 1, 1, 1, 1, 1, 0, 1, 0, 0, 1, 0, 0, 1, 0, 0, 1, 1, 1,\n",
              "       1, 0, 0, 1, 1, 1, 1, 1, 1, 1, 1, 0, 1, 0, 1, 1])"
            ]
          },
          "metadata": {},
          "execution_count": 36
        }
      ],
      "source": [
        "y_pred = log_model.predict(X_test_scaled)\n",
        "y_pred"
      ]
    },
    {
      "cell_type": "code",
      "execution_count": 37,
      "metadata": {
        "id": "826EKiBndDKl",
        "outputId": "231a259e-567f-4697-acce-78197ab12209",
        "colab": {
          "base_uri": "https://localhost:8080/"
        }
      },
      "outputs": [
        {
          "output_type": "execute_result",
          "data": {
            "text/plain": [
              "array([[3.85772024e-02, 9.61422798e-01],\n",
              "       [9.76936888e-01, 2.30631119e-02],\n",
              "       [3.34205902e-02, 9.66579410e-01],\n",
              "       [3.96264761e-03, 9.96037352e-01],\n",
              "       [9.16652351e-01, 8.33476488e-02],\n",
              "       [7.44755915e-01, 2.55244085e-01],\n",
              "       [9.98059804e-01, 1.94019559e-03],\n",
              "       [1.50614978e-01, 8.49385022e-01],\n",
              "       [1.85211035e-01, 8.14788965e-01],\n",
              "       [9.96440162e-01, 3.55983801e-03],\n",
              "       [3.95696792e-01, 6.04303208e-01],\n",
              "       [9.69371989e-01, 3.06280111e-02],\n",
              "       [2.63170279e-02, 9.73682972e-01],\n",
              "       [6.66051036e-02, 9.33394896e-01],\n",
              "       [1.68923145e-01, 8.31076855e-01],\n",
              "       [9.99204565e-01, 7.95434551e-04],\n",
              "       [9.60525122e-02, 9.03947488e-01],\n",
              "       [9.29050085e-01, 7.09499154e-02],\n",
              "       [3.37535133e-02, 9.66246487e-01],\n",
              "       [6.40896997e-01, 3.59103003e-01],\n",
              "       [6.02791501e-01, 3.97208499e-01],\n",
              "       [9.70332257e-01, 2.96677429e-02],\n",
              "       [9.73441753e-01, 2.65582472e-02],\n",
              "       [2.41999369e-01, 7.58000631e-01],\n",
              "       [5.23713789e-02, 9.47628621e-01],\n",
              "       [8.25213833e-04, 9.99174786e-01],\n",
              "       [9.76470141e-01, 2.35298592e-02],\n",
              "       [9.99929350e-01, 7.06503682e-05],\n",
              "       [9.94751161e-01, 5.24883927e-03],\n",
              "       [6.26358036e-01, 3.73641964e-01],\n",
              "       [1.46412468e-02, 9.85358753e-01],\n",
              "       [2.60028892e-02, 9.73997111e-01],\n",
              "       [1.25067444e-01, 8.74932556e-01],\n",
              "       [6.23352696e-02, 9.37664730e-01],\n",
              "       [9.66540967e-01, 3.34590328e-02],\n",
              "       [8.26839667e-01, 1.73160333e-01],\n",
              "       [1.40035902e-02, 9.85996410e-01],\n",
              "       [2.54717704e-03, 9.97452823e-01],\n",
              "       [2.85955560e-03, 9.97140444e-01],\n",
              "       [9.78262702e-01, 2.17372976e-02],\n",
              "       [9.60525122e-02, 9.03947488e-01],\n",
              "       [6.41581963e-02, 9.35841804e-01],\n",
              "       [7.82655350e-03, 9.92173447e-01],\n",
              "       [9.88352422e-01, 1.16475778e-02],\n",
              "       [3.78663329e-01, 6.21336671e-01],\n",
              "       [9.98593508e-01, 1.40649215e-03],\n",
              "       [1.38074649e-01, 8.61925351e-01],\n",
              "       [9.99280644e-01, 7.19355870e-04],\n",
              "       [1.87544041e-01, 8.12455959e-01],\n",
              "       [5.33409749e-01, 4.66590251e-01],\n",
              "       [6.76181975e-01, 3.23818025e-01],\n",
              "       [1.90716423e-02, 9.80928358e-01],\n",
              "       [1.58251063e-01, 8.41748937e-01],\n",
              "       [9.99808068e-01, 1.91931901e-04],\n",
              "       [2.50075548e-03, 9.97499245e-01],\n",
              "       [1.33857567e-01, 8.66142433e-01],\n",
              "       [5.07650998e-02, 9.49234900e-01],\n",
              "       [6.01562941e-01, 3.98437059e-01],\n",
              "       [9.92864926e-01, 7.13507414e-03],\n",
              "       [9.94005394e-02, 9.00599461e-01],\n",
              "       [9.71046135e-03, 9.90289539e-01],\n",
              "       [2.88927376e-01, 7.11072624e-01],\n",
              "       [9.23846774e-03, 9.90761532e-01],\n",
              "       [9.48929593e-01, 5.10704071e-02],\n",
              "       [1.92644756e-02, 9.80735524e-01],\n",
              "       [7.01991226e-02, 9.29800877e-01],\n",
              "       [9.80906094e-01, 1.90939058e-02],\n",
              "       [1.24071111e-04, 9.99875929e-01],\n",
              "       [9.66374719e-01, 3.36252806e-02],\n",
              "       [6.66051036e-02, 9.33394896e-01],\n",
              "       [8.95802290e-01, 1.04197710e-01],\n",
              "       [4.56284091e-03, 9.95437159e-01],\n",
              "       [9.99494486e-01, 5.05513667e-04],\n",
              "       [3.38877109e-03, 9.96611229e-01],\n",
              "       [9.99586990e-01, 4.13009557e-04],\n",
              "       [9.54219204e-01, 4.57807962e-02],\n",
              "       [3.32844400e-01, 6.67155600e-01],\n",
              "       [1.16930109e-02, 9.88306989e-01],\n",
              "       [3.48367736e-03, 9.96516323e-01],\n",
              "       [9.78109010e-01, 2.18909901e-02],\n",
              "       [9.99756245e-01, 2.43755191e-04],\n",
              "       [1.10360699e-02, 9.88963930e-01],\n",
              "       [9.73966842e-02, 9.02603316e-01],\n",
              "       [1.65947861e-02, 9.83405214e-01],\n",
              "       [1.07701204e-02, 9.89229880e-01],\n",
              "       [1.32196202e-01, 8.67803798e-01],\n",
              "       [7.65460218e-02, 9.23453978e-01],\n",
              "       [3.23343232e-01, 6.76656768e-01],\n",
              "       [7.19959730e-03, 9.92800403e-01],\n",
              "       [1.70074991e-01, 8.29925009e-01],\n",
              "       [9.92415469e-01, 7.58453103e-03],\n",
              "       [4.07356023e-03, 9.95926440e-01],\n",
              "       [9.64350249e-01, 3.56497507e-02],\n",
              "       [1.54593909e-01, 8.45406091e-01],\n",
              "       [1.41777590e-01, 8.58222410e-01],\n",
              "       [9.66871085e-01, 3.31289147e-02],\n",
              "       [3.87448587e-03, 9.96125514e-01],\n",
              "       [6.52843114e-03, 9.93471569e-01],\n",
              "       [8.37069932e-03, 9.91629301e-01],\n",
              "       [2.98918471e-04, 9.99701082e-01],\n",
              "       [1.64077442e-01, 8.35922558e-01],\n",
              "       [9.93718823e-01, 6.28117741e-03],\n",
              "       [1.32856332e-02, 9.86714367e-01],\n",
              "       [3.97917243e-01, 6.02082757e-01],\n",
              "       [3.71451230e-01, 6.28548770e-01],\n",
              "       [5.83220573e-02, 9.41677943e-01],\n",
              "       [3.96557220e-02, 9.60344278e-01],\n",
              "       [7.58162917e-01, 2.41837083e-01],\n",
              "       [9.97318585e-01, 2.68141530e-03],\n",
              "       [2.16472431e-02, 9.78352757e-01],\n",
              "       [1.19479176e-03, 9.98805208e-01],\n",
              "       [6.38533014e-01, 3.61466986e-01],\n",
              "       [9.75994180e-01, 2.40058203e-02],\n",
              "       [9.78304827e-04, 9.99021695e-01],\n",
              "       [4.00333739e-03, 9.95996663e-01],\n",
              "       [3.27174962e-01, 6.72825038e-01],\n",
              "       [3.41318387e-03, 9.96586816e-01],\n",
              "       [3.08488892e-01, 6.91511108e-01],\n",
              "       [1.08872048e-01, 8.91127952e-01],\n",
              "       [2.09048298e-03, 9.97909517e-01],\n",
              "       [1.73130317e-02, 9.82686968e-01],\n",
              "       [9.92806725e-01, 7.19327500e-03],\n",
              "       [9.40186762e-01, 5.98132379e-02],\n",
              "       [9.47721089e-01, 5.22789112e-02],\n",
              "       [4.01280041e-02, 9.59871996e-01],\n",
              "       [5.38697157e-02, 9.46130284e-01],\n",
              "       [9.92791896e-01, 7.20810370e-03],\n",
              "       [2.77194196e-02, 9.72280580e-01],\n",
              "       [2.41471134e-02, 9.75852887e-01],\n",
              "       [2.57180602e-01, 7.42819398e-01],\n",
              "       [8.05575112e-02, 9.19442489e-01],\n",
              "       [5.43362261e-01, 4.56637739e-01],\n",
              "       [8.31491882e-01, 1.68508118e-01],\n",
              "       [6.58425778e-02, 9.34157422e-01],\n",
              "       [4.86108174e-03, 9.95138918e-01],\n",
              "       [9.72634551e-01, 2.73654488e-02],\n",
              "       [1.58581201e-02, 9.84141880e-01],\n",
              "       [2.21308293e-02, 9.77869171e-01],\n",
              "       [3.24407366e-02, 9.67559263e-01],\n",
              "       [3.23343232e-01, 6.76656768e-01],\n",
              "       [2.63745442e-03, 9.97362546e-01],\n",
              "       [2.48285258e-03, 9.97517147e-01],\n",
              "       [1.94200091e-01, 8.05799909e-01],\n",
              "       [1.32785646e-01, 8.67214354e-01],\n",
              "       [5.64658170e-01, 4.35341830e-01],\n",
              "       [8.66062007e-02, 9.13393799e-01],\n",
              "       [9.99124086e-01, 8.75914060e-04],\n",
              "       [9.73966971e-01, 2.60330293e-02],\n",
              "       [3.73773161e-02, 9.62622684e-01],\n",
              "       [1.33024689e-01, 8.66975311e-01],\n",
              "       [7.89002408e-02, 9.21099759e-01],\n",
              "       [9.04910539e-01, 9.50894605e-02],\n",
              "       [9.99056994e-01, 9.43006204e-04],\n",
              "       [1.59900590e-01, 8.40099410e-01],\n",
              "       [2.02686412e-01, 7.97313588e-01],\n",
              "       [4.85233922e-01, 5.14766078e-01],\n",
              "       [4.59918722e-01, 5.40081278e-01],\n",
              "       [6.26356968e-02, 9.37364303e-01],\n",
              "       [9.75409522e-01, 2.45904782e-02],\n",
              "       [1.82590725e-01, 8.17409275e-01],\n",
              "       [9.99996117e-01, 3.88288913e-06],\n",
              "       [2.61857546e-03, 9.97381425e-01],\n",
              "       [9.97949444e-01, 2.05055580e-03],\n",
              "       [1.28131970e-01, 8.71868030e-01],\n",
              "       [9.90178850e-01, 9.82114993e-03],\n",
              "       [2.93590059e-01, 7.06409941e-01],\n",
              "       [9.75703566e-01, 2.42964345e-02],\n",
              "       [6.05387105e-03, 9.93946129e-01],\n",
              "       [6.01522967e-02, 9.39847703e-01],\n",
              "       [9.55373103e-01, 4.46268969e-02],\n",
              "       [9.19886761e-01, 8.01132391e-02],\n",
              "       [5.65396208e-03, 9.94346038e-01],\n",
              "       [3.10237150e-01, 6.89762850e-01],\n",
              "       [9.99045305e-01, 9.54695331e-04],\n",
              "       [1.78180917e-03, 9.98218191e-01],\n",
              "       [1.78807787e-02, 9.82119221e-01],\n",
              "       [2.68478176e-02, 9.73152182e-01],\n",
              "       [7.77893383e-02, 9.22210662e-01],\n",
              "       [9.82840562e-01, 1.71594379e-02],\n",
              "       [9.07120840e-03, 9.90928792e-01],\n",
              "       [3.01526754e-01, 6.98473246e-01],\n",
              "       [1.71743682e-02, 9.82825632e-01],\n",
              "       [9.99604794e-01, 3.95205992e-04],\n",
              "       [9.71773522e-01, 2.82264781e-02],\n",
              "       [9.99904179e-01, 9.58211328e-05],\n",
              "       [3.06242284e-03, 9.96937577e-01],\n",
              "       [7.47530358e-02, 9.25246964e-01],\n",
              "       [2.68478176e-02, 9.73152182e-01],\n",
              "       [9.59109079e-01, 4.08909212e-02],\n",
              "       [1.54195172e-01, 8.45804828e-01],\n",
              "       [1.77293695e-01, 8.22706305e-01],\n",
              "       [7.92602128e-01, 2.07397872e-01],\n",
              "       [9.91137374e-01, 8.86262618e-03],\n",
              "       [1.13194722e-02, 9.88680528e-01],\n",
              "       [9.99335250e-01, 6.64749572e-04],\n",
              "       [9.91297888e-01, 8.70211156e-03],\n",
              "       [5.52254683e-01, 4.47745317e-01],\n",
              "       [2.25791452e-02, 9.77420855e-01],\n",
              "       [1.13624194e-03, 9.98863758e-01],\n",
              "       [1.03629217e-02, 9.89637078e-01],\n",
              "       [9.13371482e-04, 9.99086629e-01],\n",
              "       [2.07108743e-02, 9.79289126e-01],\n",
              "       [3.96557220e-02, 9.60344278e-01],\n",
              "       [6.22141388e-02, 9.37785861e-01],\n",
              "       [9.88053506e-01, 1.19464936e-02],\n",
              "       [9.99813700e-01, 1.86299509e-04],\n",
              "       [8.06262562e-01, 1.93737438e-01],\n",
              "       [6.72456001e-02, 9.32754400e-01],\n",
              "       [9.88690427e-01, 1.13095732e-02],\n",
              "       [9.67034963e-01, 3.29650373e-02],\n",
              "       [9.99523191e-01, 4.76809478e-04],\n",
              "       [1.90689784e-01, 8.09310216e-01],\n",
              "       [6.10135187e-01, 3.89864813e-01],\n",
              "       [2.84189329e-02, 9.71581067e-01],\n",
              "       [4.18214841e-02, 9.58178516e-01],\n",
              "       [7.61842975e-02, 9.23815702e-01],\n",
              "       [2.54717704e-03, 9.97452823e-01],\n",
              "       [6.65533122e-01, 3.34466878e-01],\n",
              "       [1.76001084e-03, 9.98239989e-01],\n",
              "       [9.96805946e-01, 3.19405415e-03],\n",
              "       [9.32809883e-01, 6.71901172e-02],\n",
              "       [9.85518627e-01, 1.44813727e-02],\n",
              "       [1.99060603e-01, 8.00939397e-01],\n",
              "       [8.93871930e-01, 1.06128070e-01],\n",
              "       [2.02686412e-01, 7.97313588e-01],\n",
              "       [2.35501994e-02, 9.76449801e-01],\n",
              "       [1.10577555e-01, 8.89422445e-01],\n",
              "       [5.07650998e-02, 9.49234900e-01],\n",
              "       [1.36260074e-02, 9.86373993e-01],\n",
              "       [8.97701558e-01, 1.02298442e-01],\n",
              "       [9.99088329e-01, 9.11671412e-04],\n",
              "       [9.16577459e-01, 8.34225405e-02],\n",
              "       [1.24507343e-01, 8.75492657e-01],\n",
              "       [2.14721624e-01, 7.85278376e-01],\n",
              "       [1.79517765e-04, 9.99820482e-01],\n",
              "       [6.05244724e-01, 3.94755276e-01],\n",
              "       [9.91333603e-01, 8.66639730e-03],\n",
              "       [3.05022722e-02, 9.69497728e-01],\n",
              "       [1.67972265e-02, 9.83202774e-01],\n",
              "       [2.02528110e-01, 7.97471890e-01],\n",
              "       [3.84714822e-01, 6.15285178e-01],\n",
              "       [6.58425778e-02, 9.34157422e-01],\n",
              "       [3.23343232e-01, 6.76656768e-01],\n",
              "       [2.42682548e-02, 9.75731745e-01],\n",
              "       [6.95410594e-01, 3.04589406e-01],\n",
              "       [2.69821333e-02, 9.73017867e-01],\n",
              "       [9.89854248e-01, 1.01457519e-02],\n",
              "       [4.73197848e-01, 5.26802152e-01],\n",
              "       [1.51931841e-01, 8.48068159e-01],\n",
              "       [9.97938923e-01, 2.06107717e-03],\n",
              "       [7.19992252e-04, 9.99280008e-01],\n",
              "       [7.07586855e-03, 9.92924131e-01],\n",
              "       [1.11590351e-01, 8.88409649e-01],\n",
              "       [3.69361621e-02, 9.63063838e-01],\n",
              "       [1.35441538e-02, 9.86455846e-01],\n",
              "       [1.13849395e-01, 8.86150605e-01],\n",
              "       [7.50561035e-01, 2.49438965e-01],\n",
              "       [2.31828913e-03, 9.97681711e-01],\n",
              "       [9.65462353e-01, 3.45376474e-02],\n",
              "       [6.15431742e-04, 9.99384568e-01],\n",
              "       [1.03400844e-03, 9.98965992e-01],\n",
              "       [1.50918629e-02, 9.84908137e-01],\n",
              "       [5.27299932e-02, 9.47270007e-01],\n",
              "       [7.95794821e-01, 2.04205179e-01],\n",
              "       [5.50025681e-03, 9.94499743e-01],\n",
              "       [2.82646920e-01, 7.17353080e-01],\n",
              "       [1.97951672e-02, 9.80204833e-01],\n",
              "       [9.30057548e-01, 6.99424522e-02],\n",
              "       [2.67141522e-02, 9.73285848e-01],\n",
              "       [1.26423032e-01, 8.73576968e-01],\n",
              "       [9.66107814e-01, 3.38921862e-02],\n",
              "       [1.79548948e-01, 8.20451052e-01],\n",
              "       [8.38423126e-01, 1.61576874e-01],\n",
              "       [1.67972265e-02, 9.83202774e-01],\n",
              "       [8.35349902e-03, 9.91646501e-01],\n",
              "       [9.99020532e-01, 9.79467955e-04],\n",
              "       [9.23006198e-01, 7.69938022e-02],\n",
              "       [1.85211035e-01, 8.14788965e-01],\n",
              "       [3.65518353e-03, 9.96344816e-01],\n",
              "       [2.29211926e-02, 9.77078807e-01],\n",
              "       [2.22420859e-02, 9.77757914e-01],\n",
              "       [9.49029679e-02, 9.05097032e-01],\n",
              "       [1.01853873e-02, 9.89814613e-01],\n",
              "       [9.66674870e-01, 3.33251296e-02],\n",
              "       [4.20274756e-02, 9.57972524e-01],\n",
              "       [7.35543782e-02, 9.26445622e-01],\n",
              "       [1.19324626e-02, 9.88067537e-01],\n",
              "       [7.96918038e-04, 9.99203082e-01],\n",
              "       [6.78918079e-02, 9.32108192e-01],\n",
              "       [7.20025011e-01, 2.79974989e-01],\n",
              "       [9.89062457e-01, 1.09375429e-02],\n",
              "       [9.85664283e-01, 1.43357174e-02],\n",
              "       [4.65534261e-01, 5.34465739e-01],\n",
              "       [1.31023968e-01, 8.68976032e-01],\n",
              "       [2.35501994e-02, 9.76449801e-01],\n",
              "       [5.41673660e-03, 9.94583263e-01],\n",
              "       [9.16652351e-01, 8.33476488e-02],\n",
              "       [9.94670215e-01, 5.32978456e-03],\n",
              "       [5.50986246e-01, 4.49013754e-01],\n",
              "       [1.45376969e-02, 9.85462303e-01],\n",
              "       [8.56823955e-01, 1.43176045e-01],\n",
              "       [4.05280727e-03, 9.95947193e-01],\n",
              "       [2.71171022e-02, 9.72882898e-01],\n",
              "       [9.99870311e-01, 1.29689120e-04],\n",
              "       [5.09861908e-01, 4.90138092e-01],\n",
              "       [9.92140425e-01, 7.85957453e-03],\n",
              "       [8.93871930e-01, 1.06128070e-01],\n",
              "       [1.43189210e-02, 9.85681079e-01],\n",
              "       [2.61859340e-02, 9.73814066e-01],\n",
              "       [8.69894113e-01, 1.30105887e-01],\n",
              "       [7.21686645e-02, 9.27831335e-01],\n",
              "       [4.32289759e-01, 5.67710241e-01],\n",
              "       [1.01252073e-01, 8.98747927e-01],\n",
              "       [2.46851360e-02, 9.75314864e-01],\n",
              "       [3.67384098e-01, 6.32615902e-01],\n",
              "       [5.59994682e-02, 9.44000532e-01],\n",
              "       [9.94804444e-01, 5.19555630e-03],\n",
              "       [8.33636574e-01, 1.66363426e-01],\n",
              "       [8.57705289e-01, 1.42294711e-01],\n",
              "       [7.96488822e-02, 9.20351118e-01],\n",
              "       [9.96986851e-01, 3.01314888e-03],\n",
              "       [4.15237993e-01, 5.84762007e-01],\n",
              "       [3.66193001e-01, 6.33806999e-01],\n",
              "       [9.83469374e-01, 1.65306258e-02],\n",
              "       [9.50158055e-01, 4.98419449e-02],\n",
              "       [3.08070507e-02, 9.69192949e-01],\n",
              "       [6.46776900e-01, 3.53223100e-01],\n",
              "       [7.27328243e-03, 9.92726718e-01],\n",
              "       [3.06954512e-01, 6.93045488e-01],\n",
              "       [9.99868156e-01, 1.31843777e-04],\n",
              "       [7.25164887e-01, 2.74835113e-01],\n",
              "       [3.95958524e-01, 6.04041476e-01],\n",
              "       [1.67488095e-01, 8.32511905e-01],\n",
              "       [2.21970204e-02, 9.77802980e-01],\n",
              "       [1.32856332e-02, 9.86714367e-01],\n",
              "       [4.79593987e-01, 5.20406013e-01],\n",
              "       [3.50842996e-02, 9.64915700e-01],\n",
              "       [9.51550100e-01, 4.84499000e-02],\n",
              "       [9.98524113e-01, 1.47588713e-03],\n",
              "       [1.60672036e-02, 9.83932796e-01],\n",
              "       [1.07376299e-02, 9.89262370e-01],\n",
              "       [1.41777590e-01, 8.58222410e-01],\n",
              "       [1.83740669e-02, 9.81625933e-01],\n",
              "       [2.08574642e-02, 9.79142536e-01],\n",
              "       [6.52843114e-03, 9.93471569e-01],\n",
              "       [9.99961597e-01, 3.84028154e-05],\n",
              "       [6.91933187e-01, 3.08066813e-01],\n",
              "       [8.19373514e-01, 1.80626486e-01],\n",
              "       [1.00618174e-02, 9.89938183e-01],\n",
              "       [9.76470141e-01, 2.35298592e-02],\n",
              "       [3.36540470e-02, 9.66345953e-01],\n",
              "       [5.55664718e-03, 9.94443353e-01],\n",
              "       [3.43276004e-02, 9.65672400e-01],\n",
              "       [1.61283225e-01, 8.38716775e-01],\n",
              "       [1.47108526e-03, 9.98528915e-01],\n",
              "       [6.61587158e-02, 9.33841284e-01],\n",
              "       [6.55828178e-04, 9.99344172e-01],\n",
              "       [8.18305058e-01, 1.81694942e-01],\n",
              "       [1.35934691e-04, 9.99864065e-01],\n",
              "       [1.07388347e-01, 8.92611653e-01],\n",
              "       [9.99884386e-01, 1.15613758e-04],\n",
              "       [1.20787256e-02, 9.87921274e-01],\n",
              "       [3.08896303e-04, 9.99691104e-01],\n",
              "       [9.97098799e-01, 2.90120102e-03],\n",
              "       [1.11257347e-02, 9.88874265e-01],\n",
              "       [1.96137021e-01, 8.03862979e-01],\n",
              "       [9.04983068e-02, 9.09501693e-01],\n",
              "       [7.23634676e-03, 9.92763653e-01],\n",
              "       [1.65171351e-03, 9.98348286e-01],\n",
              "       [1.09802372e-02, 9.89019763e-01],\n",
              "       [3.57139142e-02, 9.64286086e-01],\n",
              "       [9.83469374e-01, 1.65306258e-02],\n",
              "       [3.04680541e-03, 9.96953195e-01],\n",
              "       [1.73287066e-01, 8.26712934e-01],\n",
              "       [1.29860574e-01, 8.70139426e-01],\n",
              "       [1.40534153e-01, 8.59465847e-01],\n",
              "       [1.81867088e-03, 9.98181329e-01],\n",
              "       [2.44393953e-02, 9.75560605e-01],\n",
              "       [5.37640920e-02, 9.46235908e-01],\n",
              "       [1.26040149e-02, 9.87395985e-01],\n",
              "       [9.86385881e-01, 1.36141192e-02],\n",
              "       [9.97032718e-01, 2.96728218e-03],\n",
              "       [1.24770033e-02, 9.87522997e-01],\n",
              "       [4.66810495e-01, 5.33189505e-01],\n",
              "       [3.70967066e-01, 6.29032934e-01],\n",
              "       [9.99386986e-01, 6.13013789e-04],\n",
              "       [8.64937696e-01, 1.35062304e-01],\n",
              "       [5.63397092e-01, 4.36602908e-01],\n",
              "       [9.75581694e-01, 2.44183062e-02],\n",
              "       [9.99744983e-01, 2.55016689e-04],\n",
              "       [3.73773161e-02, 9.62622684e-01],\n",
              "       [6.15431742e-04, 9.99384568e-01],\n",
              "       [2.64487603e-02, 9.73551240e-01],\n",
              "       [9.42860852e-02, 9.05713915e-01],\n",
              "       [9.58907474e-01, 4.10925258e-02],\n",
              "       [5.28827541e-02, 9.47117246e-01],\n",
              "       [1.04471751e-02, 9.89552825e-01],\n",
              "       [3.01526754e-01, 6.98473246e-01],\n",
              "       [9.99817483e-01, 1.82517450e-04],\n",
              "       [9.98709523e-01, 1.29047685e-03],\n",
              "       [9.99682047e-01, 3.17952591e-04],\n",
              "       [9.99794413e-01, 2.05587265e-04],\n",
              "       [9.91421279e-01, 8.57872058e-03],\n",
              "       [1.56668175e-02, 9.84333183e-01],\n",
              "       [7.76406635e-02, 9.22359337e-01],\n",
              "       [9.99932264e-01, 6.77364551e-05],\n",
              "       [7.13473131e-02, 9.28652687e-01],\n",
              "       [9.50641558e-01, 4.93584418e-02],\n",
              "       [7.72741992e-02, 9.22725801e-01],\n",
              "       [9.76635065e-01, 2.33649354e-02],\n",
              "       [4.82546380e-02, 9.51745362e-01],\n",
              "       [9.57175106e-01, 4.28248944e-02],\n",
              "       [3.13328155e-01, 6.86671845e-01],\n",
              "       [9.99218322e-01, 7.81677948e-04],\n",
              "       [5.88879266e-02, 9.41112073e-01],\n",
              "       [9.80081874e-01, 1.99181260e-02],\n",
              "       [7.80287288e-03, 9.92197127e-01],\n",
              "       [9.99998848e-01, 1.15206477e-06],\n",
              "       [7.78789793e-01, 2.21210207e-01],\n",
              "       [5.27299932e-02, 9.47270007e-01],\n",
              "       [8.86562486e-02, 9.11343751e-01],\n",
              "       [3.08983717e-02, 9.69101628e-01],\n",
              "       [8.43904212e-01, 1.56095788e-01],\n",
              "       [8.79973509e-02, 9.12002649e-01],\n",
              "       [5.93167833e-03, 9.94068322e-01],\n",
              "       [2.87613978e-02, 9.71238602e-01],\n",
              "       [1.71822607e-01, 8.28177393e-01],\n",
              "       [1.18721493e-02, 9.88127851e-01],\n",
              "       [3.65003538e-01, 6.34996462e-01],\n",
              "       [4.33699158e-02, 9.56630084e-01],\n",
              "       [2.72971229e-01, 7.27028771e-01],\n",
              "       [8.78028849e-01, 1.21971151e-01],\n",
              "       [1.56668175e-02, 9.84333183e-01],\n",
              "       [4.34058265e-01, 5.65941735e-01],\n",
              "       [9.10928998e-02, 9.08907100e-01],\n",
              "       [7.30650620e-02, 9.26934938e-01],\n",
              "       [6.66051036e-02, 9.33394896e-01],\n",
              "       [1.10074181e-01, 8.89925819e-01],\n",
              "       [3.90075325e-01, 6.09924675e-01],\n",
              "       [1.58581201e-02, 9.84141880e-01],\n",
              "       [1.77909408e-02, 9.82209059e-01],\n",
              "       [9.90396096e-01, 9.60390386e-03],\n",
              "       [5.48961049e-01, 4.51038951e-01],\n",
              "       [3.10681200e-01, 6.89318800e-01],\n",
              "       [9.41090984e-02, 9.05890902e-01],\n",
              "       [1.75465316e-03, 9.98245347e-01],\n",
              "       [5.50836197e-02, 9.44916380e-01],\n",
              "       [7.79840309e-01, 2.20159691e-01],\n",
              "       [2.52889153e-01, 7.47110847e-01],\n",
              "       [7.13473131e-02, 9.28652687e-01],\n",
              "       [9.94571564e-01, 5.42843563e-03],\n",
              "       [9.99877424e-01, 1.22576436e-04],\n",
              "       [1.20176821e-02, 9.87982318e-01],\n",
              "       [9.86859636e-01, 1.31403642e-02],\n",
              "       [9.99988249e-01, 1.17505664e-05],\n",
              "       [1.02162241e-02, 9.89783776e-01],\n",
              "       [2.13509628e-01, 7.86490372e-01],\n",
              "       [2.53859323e-01, 7.46140677e-01],\n",
              "       [6.80231913e-02, 9.31976809e-01],\n",
              "       [1.78794717e-01, 8.21205283e-01],\n",
              "       [9.99152364e-01, 8.47636203e-04],\n",
              "       [4.43650562e-01, 5.56349438e-01],\n",
              "       [1.53535921e-02, 9.84646408e-01],\n",
              "       [5.70950704e-01, 4.29049296e-01],\n",
              "       [9.17976605e-01, 8.20233946e-02],\n",
              "       [8.43889352e-03, 9.91561106e-01],\n",
              "       [3.09605437e-02, 9.69039456e-01],\n",
              "       [2.55245258e-03, 9.97447547e-01],\n",
              "       [1.15410822e-01, 8.84589178e-01],\n",
              "       [4.85865082e-02, 9.51413492e-01],\n",
              "       [3.48367736e-03, 9.96516323e-01],\n",
              "       [9.99969733e-01, 3.02665501e-05],\n",
              "       [5.64231243e-03, 9.94357688e-01],\n",
              "       [9.99529031e-01, 4.70968745e-04],\n",
              "       [7.58543037e-01, 2.41456963e-01],\n",
              "       [5.40255901e-02, 9.45974410e-01],\n",
              "       [9.22274119e-01, 7.77258809e-02],\n",
              "       [7.79315499e-01, 2.20684501e-01],\n",
              "       [4.12009580e-01, 5.87990420e-01],\n",
              "       [8.33924051e-01, 1.66075949e-01],\n",
              "       [9.96943265e-01, 3.05673495e-03],\n",
              "       [1.01644964e-02, 9.89835504e-01],\n",
              "       [7.51431309e-03, 9.92485687e-01],\n",
              "       [7.61842975e-02, 9.23815702e-01],\n",
              "       [6.17384471e-02, 9.38261553e-01],\n",
              "       [9.59906066e-01, 4.00939336e-02],\n",
              "       [9.29050085e-01, 7.09499154e-02],\n",
              "       [8.66062007e-02, 9.13393799e-01],\n",
              "       [2.40501569e-01, 7.59498431e-01],\n",
              "       [2.22420859e-02, 9.77757914e-01],\n",
              "       [2.24662413e-02, 9.77533759e-01],\n",
              "       [4.49729869e-02, 9.55027013e-01],\n",
              "       [2.89050025e-02, 9.71094998e-01],\n",
              "       [4.92159354e-01, 5.07840646e-01],\n",
              "       [1.30890277e-03, 9.98691097e-01],\n",
              "       [6.75727625e-01, 3.24272375e-01],\n",
              "       [4.24423725e-02, 9.57557627e-01],\n",
              "       [9.88781556e-01, 1.12184437e-02],\n",
              "       [6.82806186e-03, 9.93171938e-01],\n",
              "       [1.88892658e-03, 9.98111073e-01]])"
            ]
          },
          "metadata": {},
          "execution_count": 37
        }
      ],
      "source": [
        "y_pred_proba = log_model.predict_proba(X_test_scaled)\n",
        "y_pred_proba"
      ]
    },
    {
      "cell_type": "markdown",
      "metadata": {
        "jp-MarkdownHeadingCollapsed": true,
        "tags": [],
        "id": "2Le2DNeIdDKl"
      },
      "source": [
        "## `Pred_proba `"
      ]
    },
    {
      "cell_type": "code",
      "execution_count": 38,
      "metadata": {
        "id": "MpQs6EUAdDKl",
        "outputId": "322149a6-a791-41a0-bec8-aa3d730848c0",
        "colab": {
          "base_uri": "https://localhost:8080/",
          "height": 423
        }
      },
      "outputs": [
        {
          "output_type": "execute_result",
          "data": {
            "text/plain": [
              "       age  physical_score  test_result\n",
              "1501 55.00           39.70            0\n",
              "2586 59.00           24.30            0\n",
              "2653 42.00           37.60            1\n",
              "1055 35.00           41.30            1\n",
              "705  53.00           26.30            0\n",
              "...    ...             ...          ...\n",
              "3928 58.00           31.10            1\n",
              "544  44.00           37.40            1\n",
              "367  59.00           22.60            0\n",
              "1612 46.00           42.10            1\n",
              "3550 37.00           43.40            1\n",
              "\n",
              "[500 rows x 3 columns]"
            ],
            "text/html": [
              "\n",
              "  <div id=\"df-e788e568-8dfc-4173-8c5e-d8b41290dd4d\">\n",
              "    <div class=\"colab-df-container\">\n",
              "      <div>\n",
              "<style scoped>\n",
              "    .dataframe tbody tr th:only-of-type {\n",
              "        vertical-align: middle;\n",
              "    }\n",
              "\n",
              "    .dataframe tbody tr th {\n",
              "        vertical-align: top;\n",
              "    }\n",
              "\n",
              "    .dataframe thead th {\n",
              "        text-align: right;\n",
              "    }\n",
              "</style>\n",
              "<table border=\"1\" class=\"dataframe\">\n",
              "  <thead>\n",
              "    <tr style=\"text-align: right;\">\n",
              "      <th></th>\n",
              "      <th>age</th>\n",
              "      <th>physical_score</th>\n",
              "      <th>test_result</th>\n",
              "    </tr>\n",
              "  </thead>\n",
              "  <tbody>\n",
              "    <tr>\n",
              "      <th>1501</th>\n",
              "      <td>55.00</td>\n",
              "      <td>39.70</td>\n",
              "      <td>0</td>\n",
              "    </tr>\n",
              "    <tr>\n",
              "      <th>2586</th>\n",
              "      <td>59.00</td>\n",
              "      <td>24.30</td>\n",
              "      <td>0</td>\n",
              "    </tr>\n",
              "    <tr>\n",
              "      <th>2653</th>\n",
              "      <td>42.00</td>\n",
              "      <td>37.60</td>\n",
              "      <td>1</td>\n",
              "    </tr>\n",
              "    <tr>\n",
              "      <th>1055</th>\n",
              "      <td>35.00</td>\n",
              "      <td>41.30</td>\n",
              "      <td>1</td>\n",
              "    </tr>\n",
              "    <tr>\n",
              "      <th>705</th>\n",
              "      <td>53.00</td>\n",
              "      <td>26.30</td>\n",
              "      <td>0</td>\n",
              "    </tr>\n",
              "    <tr>\n",
              "      <th>...</th>\n",
              "      <td>...</td>\n",
              "      <td>...</td>\n",
              "      <td>...</td>\n",
              "    </tr>\n",
              "    <tr>\n",
              "      <th>3928</th>\n",
              "      <td>58.00</td>\n",
              "      <td>31.10</td>\n",
              "      <td>1</td>\n",
              "    </tr>\n",
              "    <tr>\n",
              "      <th>544</th>\n",
              "      <td>44.00</td>\n",
              "      <td>37.40</td>\n",
              "      <td>1</td>\n",
              "    </tr>\n",
              "    <tr>\n",
              "      <th>367</th>\n",
              "      <td>59.00</td>\n",
              "      <td>22.60</td>\n",
              "      <td>0</td>\n",
              "    </tr>\n",
              "    <tr>\n",
              "      <th>1612</th>\n",
              "      <td>46.00</td>\n",
              "      <td>42.10</td>\n",
              "      <td>1</td>\n",
              "    </tr>\n",
              "    <tr>\n",
              "      <th>3550</th>\n",
              "      <td>37.00</td>\n",
              "      <td>43.40</td>\n",
              "      <td>1</td>\n",
              "    </tr>\n",
              "  </tbody>\n",
              "</table>\n",
              "<p>500 rows × 3 columns</p>\n",
              "</div>\n",
              "      <button class=\"colab-df-convert\" onclick=\"convertToInteractive('df-e788e568-8dfc-4173-8c5e-d8b41290dd4d')\"\n",
              "              title=\"Convert this dataframe to an interactive table.\"\n",
              "              style=\"display:none;\">\n",
              "        \n",
              "  <svg xmlns=\"http://www.w3.org/2000/svg\" height=\"24px\"viewBox=\"0 0 24 24\"\n",
              "       width=\"24px\">\n",
              "    <path d=\"M0 0h24v24H0V0z\" fill=\"none\"/>\n",
              "    <path d=\"M18.56 5.44l.94 2.06.94-2.06 2.06-.94-2.06-.94-.94-2.06-.94 2.06-2.06.94zm-11 1L8.5 8.5l.94-2.06 2.06-.94-2.06-.94L8.5 2.5l-.94 2.06-2.06.94zm10 10l.94 2.06.94-2.06 2.06-.94-2.06-.94-.94-2.06-.94 2.06-2.06.94z\"/><path d=\"M17.41 7.96l-1.37-1.37c-.4-.4-.92-.59-1.43-.59-.52 0-1.04.2-1.43.59L10.3 9.45l-7.72 7.72c-.78.78-.78 2.05 0 2.83L4 21.41c.39.39.9.59 1.41.59.51 0 1.02-.2 1.41-.59l7.78-7.78 2.81-2.81c.8-.78.8-2.07 0-2.86zM5.41 20L4 18.59l7.72-7.72 1.47 1.35L5.41 20z\"/>\n",
              "  </svg>\n",
              "      </button>\n",
              "      \n",
              "  <style>\n",
              "    .colab-df-container {\n",
              "      display:flex;\n",
              "      flex-wrap:wrap;\n",
              "      gap: 12px;\n",
              "    }\n",
              "\n",
              "    .colab-df-convert {\n",
              "      background-color: #E8F0FE;\n",
              "      border: none;\n",
              "      border-radius: 50%;\n",
              "      cursor: pointer;\n",
              "      display: none;\n",
              "      fill: #1967D2;\n",
              "      height: 32px;\n",
              "      padding: 0 0 0 0;\n",
              "      width: 32px;\n",
              "    }\n",
              "\n",
              "    .colab-df-convert:hover {\n",
              "      background-color: #E2EBFA;\n",
              "      box-shadow: 0px 1px 2px rgba(60, 64, 67, 0.3), 0px 1px 3px 1px rgba(60, 64, 67, 0.15);\n",
              "      fill: #174EA6;\n",
              "    }\n",
              "\n",
              "    [theme=dark] .colab-df-convert {\n",
              "      background-color: #3B4455;\n",
              "      fill: #D2E3FC;\n",
              "    }\n",
              "\n",
              "    [theme=dark] .colab-df-convert:hover {\n",
              "      background-color: #434B5C;\n",
              "      box-shadow: 0px 1px 3px 1px rgba(0, 0, 0, 0.15);\n",
              "      filter: drop-shadow(0px 1px 2px rgba(0, 0, 0, 0.3));\n",
              "      fill: #FFFFFF;\n",
              "    }\n",
              "  </style>\n",
              "\n",
              "      <script>\n",
              "        const buttonEl =\n",
              "          document.querySelector('#df-e788e568-8dfc-4173-8c5e-d8b41290dd4d button.colab-df-convert');\n",
              "        buttonEl.style.display =\n",
              "          google.colab.kernel.accessAllowed ? 'block' : 'none';\n",
              "\n",
              "        async function convertToInteractive(key) {\n",
              "          const element = document.querySelector('#df-e788e568-8dfc-4173-8c5e-d8b41290dd4d');\n",
              "          const dataTable =\n",
              "            await google.colab.kernel.invokeFunction('convertToInteractive',\n",
              "                                                     [key], {});\n",
              "          if (!dataTable) return;\n",
              "\n",
              "          const docLinkHtml = 'Like what you see? Visit the ' +\n",
              "            '<a target=\"_blank\" href=https://colab.research.google.com/notebooks/data_table.ipynb>data table notebook</a>'\n",
              "            + ' to learn more about interactive tables.';\n",
              "          element.innerHTML = '';\n",
              "          dataTable['output_type'] = 'display_data';\n",
              "          await google.colab.output.renderOutput(dataTable, element);\n",
              "          const docLink = document.createElement('div');\n",
              "          docLink.innerHTML = docLinkHtml;\n",
              "          element.appendChild(docLink);\n",
              "        }\n",
              "      </script>\n",
              "    </div>\n",
              "  </div>\n",
              "  "
            ]
          },
          "metadata": {},
          "execution_count": 38
        }
      ],
      "source": [
        "test_data = pd.concat([X_test, y_test], axis=1)\n",
        "test_data"
      ]
    },
    {
      "cell_type": "code",
      "source": [
        "# y_pred_proba[:,1]"
      ],
      "metadata": {
        "id": "hgz1OUoyNViq"
      },
      "execution_count": null,
      "outputs": []
    },
    {
      "cell_type": "code",
      "execution_count": 49,
      "metadata": {
        "id": "TDR98Hh1dDKm",
        "outputId": "a96c4895-6355-4e28-cbb4-4d19fb519a64",
        "colab": {
          "base_uri": "https://localhost:8080/",
          "height": 423
        }
      },
      "outputs": [
        {
          "output_type": "execute_result",
          "data": {
            "text/plain": [
              "       age  physical_score  test_result  pred_proba\n",
              "1501 55.00           39.70            0        0.96\n",
              "2586 59.00           24.30            0        0.02\n",
              "2653 42.00           37.60            1        0.97\n",
              "1055 35.00           41.30            1        1.00\n",
              "705  53.00           26.30            0        0.08\n",
              "...    ...             ...          ...         ...\n",
              "3928 58.00           31.10            1        0.32\n",
              "544  44.00           37.40            1        0.96\n",
              "367  59.00           22.60            0        0.01\n",
              "1612 46.00           42.10            1        0.99\n",
              "3550 37.00           43.40            1        1.00\n",
              "\n",
              "[500 rows x 4 columns]"
            ],
            "text/html": [
              "\n",
              "  <div id=\"df-ba6104e1-d8bc-4ae5-b0e7-15955e5da045\">\n",
              "    <div class=\"colab-df-container\">\n",
              "      <div>\n",
              "<style scoped>\n",
              "    .dataframe tbody tr th:only-of-type {\n",
              "        vertical-align: middle;\n",
              "    }\n",
              "\n",
              "    .dataframe tbody tr th {\n",
              "        vertical-align: top;\n",
              "    }\n",
              "\n",
              "    .dataframe thead th {\n",
              "        text-align: right;\n",
              "    }\n",
              "</style>\n",
              "<table border=\"1\" class=\"dataframe\">\n",
              "  <thead>\n",
              "    <tr style=\"text-align: right;\">\n",
              "      <th></th>\n",
              "      <th>age</th>\n",
              "      <th>physical_score</th>\n",
              "      <th>test_result</th>\n",
              "      <th>pred_proba</th>\n",
              "    </tr>\n",
              "  </thead>\n",
              "  <tbody>\n",
              "    <tr>\n",
              "      <th>1501</th>\n",
              "      <td>55.00</td>\n",
              "      <td>39.70</td>\n",
              "      <td>0</td>\n",
              "      <td>0.96</td>\n",
              "    </tr>\n",
              "    <tr>\n",
              "      <th>2586</th>\n",
              "      <td>59.00</td>\n",
              "      <td>24.30</td>\n",
              "      <td>0</td>\n",
              "      <td>0.02</td>\n",
              "    </tr>\n",
              "    <tr>\n",
              "      <th>2653</th>\n",
              "      <td>42.00</td>\n",
              "      <td>37.60</td>\n",
              "      <td>1</td>\n",
              "      <td>0.97</td>\n",
              "    </tr>\n",
              "    <tr>\n",
              "      <th>1055</th>\n",
              "      <td>35.00</td>\n",
              "      <td>41.30</td>\n",
              "      <td>1</td>\n",
              "      <td>1.00</td>\n",
              "    </tr>\n",
              "    <tr>\n",
              "      <th>705</th>\n",
              "      <td>53.00</td>\n",
              "      <td>26.30</td>\n",
              "      <td>0</td>\n",
              "      <td>0.08</td>\n",
              "    </tr>\n",
              "    <tr>\n",
              "      <th>...</th>\n",
              "      <td>...</td>\n",
              "      <td>...</td>\n",
              "      <td>...</td>\n",
              "      <td>...</td>\n",
              "    </tr>\n",
              "    <tr>\n",
              "      <th>3928</th>\n",
              "      <td>58.00</td>\n",
              "      <td>31.10</td>\n",
              "      <td>1</td>\n",
              "      <td>0.32</td>\n",
              "    </tr>\n",
              "    <tr>\n",
              "      <th>544</th>\n",
              "      <td>44.00</td>\n",
              "      <td>37.40</td>\n",
              "      <td>1</td>\n",
              "      <td>0.96</td>\n",
              "    </tr>\n",
              "    <tr>\n",
              "      <th>367</th>\n",
              "      <td>59.00</td>\n",
              "      <td>22.60</td>\n",
              "      <td>0</td>\n",
              "      <td>0.01</td>\n",
              "    </tr>\n",
              "    <tr>\n",
              "      <th>1612</th>\n",
              "      <td>46.00</td>\n",
              "      <td>42.10</td>\n",
              "      <td>1</td>\n",
              "      <td>0.99</td>\n",
              "    </tr>\n",
              "    <tr>\n",
              "      <th>3550</th>\n",
              "      <td>37.00</td>\n",
              "      <td>43.40</td>\n",
              "      <td>1</td>\n",
              "      <td>1.00</td>\n",
              "    </tr>\n",
              "  </tbody>\n",
              "</table>\n",
              "<p>500 rows × 4 columns</p>\n",
              "</div>\n",
              "      <button class=\"colab-df-convert\" onclick=\"convertToInteractive('df-ba6104e1-d8bc-4ae5-b0e7-15955e5da045')\"\n",
              "              title=\"Convert this dataframe to an interactive table.\"\n",
              "              style=\"display:none;\">\n",
              "        \n",
              "  <svg xmlns=\"http://www.w3.org/2000/svg\" height=\"24px\"viewBox=\"0 0 24 24\"\n",
              "       width=\"24px\">\n",
              "    <path d=\"M0 0h24v24H0V0z\" fill=\"none\"/>\n",
              "    <path d=\"M18.56 5.44l.94 2.06.94-2.06 2.06-.94-2.06-.94-.94-2.06-.94 2.06-2.06.94zm-11 1L8.5 8.5l.94-2.06 2.06-.94-2.06-.94L8.5 2.5l-.94 2.06-2.06.94zm10 10l.94 2.06.94-2.06 2.06-.94-2.06-.94-.94-2.06-.94 2.06-2.06.94z\"/><path d=\"M17.41 7.96l-1.37-1.37c-.4-.4-.92-.59-1.43-.59-.52 0-1.04.2-1.43.59L10.3 9.45l-7.72 7.72c-.78.78-.78 2.05 0 2.83L4 21.41c.39.39.9.59 1.41.59.51 0 1.02-.2 1.41-.59l7.78-7.78 2.81-2.81c.8-.78.8-2.07 0-2.86zM5.41 20L4 18.59l7.72-7.72 1.47 1.35L5.41 20z\"/>\n",
              "  </svg>\n",
              "      </button>\n",
              "      \n",
              "  <style>\n",
              "    .colab-df-container {\n",
              "      display:flex;\n",
              "      flex-wrap:wrap;\n",
              "      gap: 12px;\n",
              "    }\n",
              "\n",
              "    .colab-df-convert {\n",
              "      background-color: #E8F0FE;\n",
              "      border: none;\n",
              "      border-radius: 50%;\n",
              "      cursor: pointer;\n",
              "      display: none;\n",
              "      fill: #1967D2;\n",
              "      height: 32px;\n",
              "      padding: 0 0 0 0;\n",
              "      width: 32px;\n",
              "    }\n",
              "\n",
              "    .colab-df-convert:hover {\n",
              "      background-color: #E2EBFA;\n",
              "      box-shadow: 0px 1px 2px rgba(60, 64, 67, 0.3), 0px 1px 3px 1px rgba(60, 64, 67, 0.15);\n",
              "      fill: #174EA6;\n",
              "    }\n",
              "\n",
              "    [theme=dark] .colab-df-convert {\n",
              "      background-color: #3B4455;\n",
              "      fill: #D2E3FC;\n",
              "    }\n",
              "\n",
              "    [theme=dark] .colab-df-convert:hover {\n",
              "      background-color: #434B5C;\n",
              "      box-shadow: 0px 1px 3px 1px rgba(0, 0, 0, 0.15);\n",
              "      filter: drop-shadow(0px 1px 2px rgba(0, 0, 0, 0.3));\n",
              "      fill: #FFFFFF;\n",
              "    }\n",
              "  </style>\n",
              "\n",
              "      <script>\n",
              "        const buttonEl =\n",
              "          document.querySelector('#df-ba6104e1-d8bc-4ae5-b0e7-15955e5da045 button.colab-df-convert');\n",
              "        buttonEl.style.display =\n",
              "          google.colab.kernel.accessAllowed ? 'block' : 'none';\n",
              "\n",
              "        async function convertToInteractive(key) {\n",
              "          const element = document.querySelector('#df-ba6104e1-d8bc-4ae5-b0e7-15955e5da045');\n",
              "          const dataTable =\n",
              "            await google.colab.kernel.invokeFunction('convertToInteractive',\n",
              "                                                     [key], {});\n",
              "          if (!dataTable) return;\n",
              "\n",
              "          const docLinkHtml = 'Like what you see? Visit the ' +\n",
              "            '<a target=\"_blank\" href=https://colab.research.google.com/notebooks/data_table.ipynb>data table notebook</a>'\n",
              "            + ' to learn more about interactive tables.';\n",
              "          element.innerHTML = '';\n",
              "          dataTable['output_type'] = 'display_data';\n",
              "          await google.colab.output.renderOutput(dataTable, element);\n",
              "          const docLink = document.createElement('div');\n",
              "          docLink.innerHTML = docLinkHtml;\n",
              "          element.appendChild(docLink);\n",
              "        }\n",
              "      </script>\n",
              "    </div>\n",
              "  </div>\n",
              "  "
            ]
          },
          "metadata": {},
          "execution_count": 49
        }
      ],
      "source": [
        "test_data[\"pred_proba\"] = y_pred_proba[:,1]\n",
        "test_data"
      ]
    },
    {
      "cell_type": "code",
      "source": [
        "# y_pred"
      ],
      "metadata": {
        "id": "pwWyGH2zOQ7E"
      },
      "execution_count": null,
      "outputs": []
    },
    {
      "cell_type": "code",
      "execution_count": 52,
      "metadata": {
        "id": "NqE3lEP4dDKm",
        "outputId": "443d399d-9b19-48d6-dfc0-de0e3b757420",
        "colab": {
          "base_uri": "https://localhost:8080/",
          "height": 423
        }
      },
      "outputs": [
        {
          "output_type": "execute_result",
          "data": {
            "text/plain": [
              "       age  physical_score  test_result  pred_proba  pred\n",
              "1501 55.00           39.70            0        0.96     1\n",
              "2586 59.00           24.30            0        0.02     0\n",
              "2653 42.00           37.60            1        0.97     1\n",
              "1055 35.00           41.30            1        1.00     1\n",
              "705  53.00           26.30            0        0.08     0\n",
              "...    ...             ...          ...         ...   ...\n",
              "3928 58.00           31.10            1        0.32     0\n",
              "544  44.00           37.40            1        0.96     1\n",
              "367  59.00           22.60            0        0.01     0\n",
              "1612 46.00           42.10            1        0.99     1\n",
              "3550 37.00           43.40            1        1.00     1\n",
              "\n",
              "[500 rows x 5 columns]"
            ],
            "text/html": [
              "\n",
              "  <div id=\"df-f16ff363-e822-4fc9-815e-b06416f9e287\">\n",
              "    <div class=\"colab-df-container\">\n",
              "      <div>\n",
              "<style scoped>\n",
              "    .dataframe tbody tr th:only-of-type {\n",
              "        vertical-align: middle;\n",
              "    }\n",
              "\n",
              "    .dataframe tbody tr th {\n",
              "        vertical-align: top;\n",
              "    }\n",
              "\n",
              "    .dataframe thead th {\n",
              "        text-align: right;\n",
              "    }\n",
              "</style>\n",
              "<table border=\"1\" class=\"dataframe\">\n",
              "  <thead>\n",
              "    <tr style=\"text-align: right;\">\n",
              "      <th></th>\n",
              "      <th>age</th>\n",
              "      <th>physical_score</th>\n",
              "      <th>test_result</th>\n",
              "      <th>pred_proba</th>\n",
              "      <th>pred</th>\n",
              "    </tr>\n",
              "  </thead>\n",
              "  <tbody>\n",
              "    <tr>\n",
              "      <th>1501</th>\n",
              "      <td>55.00</td>\n",
              "      <td>39.70</td>\n",
              "      <td>0</td>\n",
              "      <td>0.96</td>\n",
              "      <td>1</td>\n",
              "    </tr>\n",
              "    <tr>\n",
              "      <th>2586</th>\n",
              "      <td>59.00</td>\n",
              "      <td>24.30</td>\n",
              "      <td>0</td>\n",
              "      <td>0.02</td>\n",
              "      <td>0</td>\n",
              "    </tr>\n",
              "    <tr>\n",
              "      <th>2653</th>\n",
              "      <td>42.00</td>\n",
              "      <td>37.60</td>\n",
              "      <td>1</td>\n",
              "      <td>0.97</td>\n",
              "      <td>1</td>\n",
              "    </tr>\n",
              "    <tr>\n",
              "      <th>1055</th>\n",
              "      <td>35.00</td>\n",
              "      <td>41.30</td>\n",
              "      <td>1</td>\n",
              "      <td>1.00</td>\n",
              "      <td>1</td>\n",
              "    </tr>\n",
              "    <tr>\n",
              "      <th>705</th>\n",
              "      <td>53.00</td>\n",
              "      <td>26.30</td>\n",
              "      <td>0</td>\n",
              "      <td>0.08</td>\n",
              "      <td>0</td>\n",
              "    </tr>\n",
              "    <tr>\n",
              "      <th>...</th>\n",
              "      <td>...</td>\n",
              "      <td>...</td>\n",
              "      <td>...</td>\n",
              "      <td>...</td>\n",
              "      <td>...</td>\n",
              "    </tr>\n",
              "    <tr>\n",
              "      <th>3928</th>\n",
              "      <td>58.00</td>\n",
              "      <td>31.10</td>\n",
              "      <td>1</td>\n",
              "      <td>0.32</td>\n",
              "      <td>0</td>\n",
              "    </tr>\n",
              "    <tr>\n",
              "      <th>544</th>\n",
              "      <td>44.00</td>\n",
              "      <td>37.40</td>\n",
              "      <td>1</td>\n",
              "      <td>0.96</td>\n",
              "      <td>1</td>\n",
              "    </tr>\n",
              "    <tr>\n",
              "      <th>367</th>\n",
              "      <td>59.00</td>\n",
              "      <td>22.60</td>\n",
              "      <td>0</td>\n",
              "      <td>0.01</td>\n",
              "      <td>0</td>\n",
              "    </tr>\n",
              "    <tr>\n",
              "      <th>1612</th>\n",
              "      <td>46.00</td>\n",
              "      <td>42.10</td>\n",
              "      <td>1</td>\n",
              "      <td>0.99</td>\n",
              "      <td>1</td>\n",
              "    </tr>\n",
              "    <tr>\n",
              "      <th>3550</th>\n",
              "      <td>37.00</td>\n",
              "      <td>43.40</td>\n",
              "      <td>1</td>\n",
              "      <td>1.00</td>\n",
              "      <td>1</td>\n",
              "    </tr>\n",
              "  </tbody>\n",
              "</table>\n",
              "<p>500 rows × 5 columns</p>\n",
              "</div>\n",
              "      <button class=\"colab-df-convert\" onclick=\"convertToInteractive('df-f16ff363-e822-4fc9-815e-b06416f9e287')\"\n",
              "              title=\"Convert this dataframe to an interactive table.\"\n",
              "              style=\"display:none;\">\n",
              "        \n",
              "  <svg xmlns=\"http://www.w3.org/2000/svg\" height=\"24px\"viewBox=\"0 0 24 24\"\n",
              "       width=\"24px\">\n",
              "    <path d=\"M0 0h24v24H0V0z\" fill=\"none\"/>\n",
              "    <path d=\"M18.56 5.44l.94 2.06.94-2.06 2.06-.94-2.06-.94-.94-2.06-.94 2.06-2.06.94zm-11 1L8.5 8.5l.94-2.06 2.06-.94-2.06-.94L8.5 2.5l-.94 2.06-2.06.94zm10 10l.94 2.06.94-2.06 2.06-.94-2.06-.94-.94-2.06-.94 2.06-2.06.94z\"/><path d=\"M17.41 7.96l-1.37-1.37c-.4-.4-.92-.59-1.43-.59-.52 0-1.04.2-1.43.59L10.3 9.45l-7.72 7.72c-.78.78-.78 2.05 0 2.83L4 21.41c.39.39.9.59 1.41.59.51 0 1.02-.2 1.41-.59l7.78-7.78 2.81-2.81c.8-.78.8-2.07 0-2.86zM5.41 20L4 18.59l7.72-7.72 1.47 1.35L5.41 20z\"/>\n",
              "  </svg>\n",
              "      </button>\n",
              "      \n",
              "  <style>\n",
              "    .colab-df-container {\n",
              "      display:flex;\n",
              "      flex-wrap:wrap;\n",
              "      gap: 12px;\n",
              "    }\n",
              "\n",
              "    .colab-df-convert {\n",
              "      background-color: #E8F0FE;\n",
              "      border: none;\n",
              "      border-radius: 50%;\n",
              "      cursor: pointer;\n",
              "      display: none;\n",
              "      fill: #1967D2;\n",
              "      height: 32px;\n",
              "      padding: 0 0 0 0;\n",
              "      width: 32px;\n",
              "    }\n",
              "\n",
              "    .colab-df-convert:hover {\n",
              "      background-color: #E2EBFA;\n",
              "      box-shadow: 0px 1px 2px rgba(60, 64, 67, 0.3), 0px 1px 3px 1px rgba(60, 64, 67, 0.15);\n",
              "      fill: #174EA6;\n",
              "    }\n",
              "\n",
              "    [theme=dark] .colab-df-convert {\n",
              "      background-color: #3B4455;\n",
              "      fill: #D2E3FC;\n",
              "    }\n",
              "\n",
              "    [theme=dark] .colab-df-convert:hover {\n",
              "      background-color: #434B5C;\n",
              "      box-shadow: 0px 1px 3px 1px rgba(0, 0, 0, 0.15);\n",
              "      filter: drop-shadow(0px 1px 2px rgba(0, 0, 0, 0.3));\n",
              "      fill: #FFFFFF;\n",
              "    }\n",
              "  </style>\n",
              "\n",
              "      <script>\n",
              "        const buttonEl =\n",
              "          document.querySelector('#df-f16ff363-e822-4fc9-815e-b06416f9e287 button.colab-df-convert');\n",
              "        buttonEl.style.display =\n",
              "          google.colab.kernel.accessAllowed ? 'block' : 'none';\n",
              "\n",
              "        async function convertToInteractive(key) {\n",
              "          const element = document.querySelector('#df-f16ff363-e822-4fc9-815e-b06416f9e287');\n",
              "          const dataTable =\n",
              "            await google.colab.kernel.invokeFunction('convertToInteractive',\n",
              "                                                     [key], {});\n",
              "          if (!dataTable) return;\n",
              "\n",
              "          const docLinkHtml = 'Like what you see? Visit the ' +\n",
              "            '<a target=\"_blank\" href=https://colab.research.google.com/notebooks/data_table.ipynb>data table notebook</a>'\n",
              "            + ' to learn more about interactive tables.';\n",
              "          element.innerHTML = '';\n",
              "          dataTable['output_type'] = 'display_data';\n",
              "          await google.colab.output.renderOutput(dataTable, element);\n",
              "          const docLink = document.createElement('div');\n",
              "          docLink.innerHTML = docLinkHtml;\n",
              "          element.appendChild(docLink);\n",
              "        }\n",
              "      </script>\n",
              "    </div>\n",
              "  </div>\n",
              "  "
            ]
          },
          "metadata": {},
          "execution_count": 52
        }
      ],
      "source": [
        "test_data[\"pred\"] = y_pred\n",
        "test_data"
      ]
    },
    {
      "cell_type": "code",
      "execution_count": 54,
      "metadata": {
        "id": "fKe2km0TdDKm",
        "outputId": "7983d502-430f-4ac8-e905-d4a3145a72b9",
        "colab": {
          "base_uri": "https://localhost:8080/",
          "height": 363
        }
      },
      "outputs": [
        {
          "output_type": "execute_result",
          "data": {
            "text/plain": [
              "       age  physical_score  test_result  pred_proba  pred\n",
              "2357 66.00           31.00            1        0.19     0\n",
              "3570 35.00           41.90            1        1.00     1\n",
              "2642 55.00           28.50            0        0.17     0\n",
              "2178 56.00           21.80            0        0.01     0\n",
              "1491 53.00           26.10            0        0.08     0\n",
              "2804 61.00           11.90            0        0.00     0\n",
              "296  32.00           41.10            1        1.00     1\n",
              "4139 56.00           19.00            0        0.00     0\n",
              "2413 53.00           35.30            1        0.81     1\n",
              "1096 51.00           20.50            0        0.01     0"
            ],
            "text/html": [
              "\n",
              "  <div id=\"df-67747437-b396-4485-aa74-de012121f561\">\n",
              "    <div class=\"colab-df-container\">\n",
              "      <div>\n",
              "<style scoped>\n",
              "    .dataframe tbody tr th:only-of-type {\n",
              "        vertical-align: middle;\n",
              "    }\n",
              "\n",
              "    .dataframe tbody tr th {\n",
              "        vertical-align: top;\n",
              "    }\n",
              "\n",
              "    .dataframe thead th {\n",
              "        text-align: right;\n",
              "    }\n",
              "</style>\n",
              "<table border=\"1\" class=\"dataframe\">\n",
              "  <thead>\n",
              "    <tr style=\"text-align: right;\">\n",
              "      <th></th>\n",
              "      <th>age</th>\n",
              "      <th>physical_score</th>\n",
              "      <th>test_result</th>\n",
              "      <th>pred_proba</th>\n",
              "      <th>pred</th>\n",
              "    </tr>\n",
              "  </thead>\n",
              "  <tbody>\n",
              "    <tr>\n",
              "      <th>2357</th>\n",
              "      <td>66.00</td>\n",
              "      <td>31.00</td>\n",
              "      <td>1</td>\n",
              "      <td>0.19</td>\n",
              "      <td>0</td>\n",
              "    </tr>\n",
              "    <tr>\n",
              "      <th>3570</th>\n",
              "      <td>35.00</td>\n",
              "      <td>41.90</td>\n",
              "      <td>1</td>\n",
              "      <td>1.00</td>\n",
              "      <td>1</td>\n",
              "    </tr>\n",
              "    <tr>\n",
              "      <th>2642</th>\n",
              "      <td>55.00</td>\n",
              "      <td>28.50</td>\n",
              "      <td>0</td>\n",
              "      <td>0.17</td>\n",
              "      <td>0</td>\n",
              "    </tr>\n",
              "    <tr>\n",
              "      <th>2178</th>\n",
              "      <td>56.00</td>\n",
              "      <td>21.80</td>\n",
              "      <td>0</td>\n",
              "      <td>0.01</td>\n",
              "      <td>0</td>\n",
              "    </tr>\n",
              "    <tr>\n",
              "      <th>1491</th>\n",
              "      <td>53.00</td>\n",
              "      <td>26.10</td>\n",
              "      <td>0</td>\n",
              "      <td>0.08</td>\n",
              "      <td>0</td>\n",
              "    </tr>\n",
              "    <tr>\n",
              "      <th>2804</th>\n",
              "      <td>61.00</td>\n",
              "      <td>11.90</td>\n",
              "      <td>0</td>\n",
              "      <td>0.00</td>\n",
              "      <td>0</td>\n",
              "    </tr>\n",
              "    <tr>\n",
              "      <th>296</th>\n",
              "      <td>32.00</td>\n",
              "      <td>41.10</td>\n",
              "      <td>1</td>\n",
              "      <td>1.00</td>\n",
              "      <td>1</td>\n",
              "    </tr>\n",
              "    <tr>\n",
              "      <th>4139</th>\n",
              "      <td>56.00</td>\n",
              "      <td>19.00</td>\n",
              "      <td>0</td>\n",
              "      <td>0.00</td>\n",
              "      <td>0</td>\n",
              "    </tr>\n",
              "    <tr>\n",
              "      <th>2413</th>\n",
              "      <td>53.00</td>\n",
              "      <td>35.30</td>\n",
              "      <td>1</td>\n",
              "      <td>0.81</td>\n",
              "      <td>1</td>\n",
              "    </tr>\n",
              "    <tr>\n",
              "      <th>1096</th>\n",
              "      <td>51.00</td>\n",
              "      <td>20.50</td>\n",
              "      <td>0</td>\n",
              "      <td>0.01</td>\n",
              "      <td>0</td>\n",
              "    </tr>\n",
              "  </tbody>\n",
              "</table>\n",
              "</div>\n",
              "      <button class=\"colab-df-convert\" onclick=\"convertToInteractive('df-67747437-b396-4485-aa74-de012121f561')\"\n",
              "              title=\"Convert this dataframe to an interactive table.\"\n",
              "              style=\"display:none;\">\n",
              "        \n",
              "  <svg xmlns=\"http://www.w3.org/2000/svg\" height=\"24px\"viewBox=\"0 0 24 24\"\n",
              "       width=\"24px\">\n",
              "    <path d=\"M0 0h24v24H0V0z\" fill=\"none\"/>\n",
              "    <path d=\"M18.56 5.44l.94 2.06.94-2.06 2.06-.94-2.06-.94-.94-2.06-.94 2.06-2.06.94zm-11 1L8.5 8.5l.94-2.06 2.06-.94-2.06-.94L8.5 2.5l-.94 2.06-2.06.94zm10 10l.94 2.06.94-2.06 2.06-.94-2.06-.94-.94-2.06-.94 2.06-2.06.94z\"/><path d=\"M17.41 7.96l-1.37-1.37c-.4-.4-.92-.59-1.43-.59-.52 0-1.04.2-1.43.59L10.3 9.45l-7.72 7.72c-.78.78-.78 2.05 0 2.83L4 21.41c.39.39.9.59 1.41.59.51 0 1.02-.2 1.41-.59l7.78-7.78 2.81-2.81c.8-.78.8-2.07 0-2.86zM5.41 20L4 18.59l7.72-7.72 1.47 1.35L5.41 20z\"/>\n",
              "  </svg>\n",
              "      </button>\n",
              "      \n",
              "  <style>\n",
              "    .colab-df-container {\n",
              "      display:flex;\n",
              "      flex-wrap:wrap;\n",
              "      gap: 12px;\n",
              "    }\n",
              "\n",
              "    .colab-df-convert {\n",
              "      background-color: #E8F0FE;\n",
              "      border: none;\n",
              "      border-radius: 50%;\n",
              "      cursor: pointer;\n",
              "      display: none;\n",
              "      fill: #1967D2;\n",
              "      height: 32px;\n",
              "      padding: 0 0 0 0;\n",
              "      width: 32px;\n",
              "    }\n",
              "\n",
              "    .colab-df-convert:hover {\n",
              "      background-color: #E2EBFA;\n",
              "      box-shadow: 0px 1px 2px rgba(60, 64, 67, 0.3), 0px 1px 3px 1px rgba(60, 64, 67, 0.15);\n",
              "      fill: #174EA6;\n",
              "    }\n",
              "\n",
              "    [theme=dark] .colab-df-convert {\n",
              "      background-color: #3B4455;\n",
              "      fill: #D2E3FC;\n",
              "    }\n",
              "\n",
              "    [theme=dark] .colab-df-convert:hover {\n",
              "      background-color: #434B5C;\n",
              "      box-shadow: 0px 1px 3px 1px rgba(0, 0, 0, 0.15);\n",
              "      filter: drop-shadow(0px 1px 2px rgba(0, 0, 0, 0.3));\n",
              "      fill: #FFFFFF;\n",
              "    }\n",
              "  </style>\n",
              "\n",
              "      <script>\n",
              "        const buttonEl =\n",
              "          document.querySelector('#df-67747437-b396-4485-aa74-de012121f561 button.colab-df-convert');\n",
              "        buttonEl.style.display =\n",
              "          google.colab.kernel.accessAllowed ? 'block' : 'none';\n",
              "\n",
              "        async function convertToInteractive(key) {\n",
              "          const element = document.querySelector('#df-67747437-b396-4485-aa74-de012121f561');\n",
              "          const dataTable =\n",
              "            await google.colab.kernel.invokeFunction('convertToInteractive',\n",
              "                                                     [key], {});\n",
              "          if (!dataTable) return;\n",
              "\n",
              "          const docLinkHtml = 'Like what you see? Visit the ' +\n",
              "            '<a target=\"_blank\" href=https://colab.research.google.com/notebooks/data_table.ipynb>data table notebook</a>'\n",
              "            + ' to learn more about interactive tables.';\n",
              "          element.innerHTML = '';\n",
              "          dataTable['output_type'] = 'display_data';\n",
              "          await google.colab.output.renderOutput(dataTable, element);\n",
              "          const docLink = document.createElement('div');\n",
              "          docLink.innerHTML = docLinkHtml;\n",
              "          element.appendChild(docLink);\n",
              "        }\n",
              "      </script>\n",
              "    </div>\n",
              "  </div>\n",
              "  "
            ]
          },
          "metadata": {},
          "execution_count": 54
        }
      ],
      "source": [
        "test_data.sample(10)"
      ]
    },
    {
      "cell_type": "markdown",
      "metadata": {
        "jp-MarkdownHeadingCollapsed": true,
        "tags": [],
        "id": "1bFyLnxOdDKm"
      },
      "source": [
        "## Model Performance on Classification Tasks"
      ]
    },
    {
      "cell_type": "code",
      "execution_count": 55,
      "metadata": {
        "id": "-AacX4GfdDKn"
      },
      "outputs": [],
      "source": [
        "from sklearn.metrics import precision_score, recall_score, accuracy_score, f1_score"
      ]
    },
    {
      "cell_type": "code",
      "execution_count": 56,
      "metadata": {
        "id": "Utgifd2ydDKn",
        "outputId": "445d8613-ae7d-48a8-d13a-e522e95f2209",
        "colab": {
          "base_uri": "https://localhost:8080/"
        }
      },
      "outputs": [
        {
          "output_type": "execute_result",
          "data": {
            "text/plain": [
              "0.906832298136646"
            ]
          },
          "metadata": {},
          "execution_count": 56
        }
      ],
      "source": [
        "precision_score(y_test, y_pred)"
      ]
    },
    {
      "cell_type": "code",
      "execution_count": 57,
      "metadata": {
        "id": "qKnrkvtBdDKn",
        "outputId": "d1b887dd-62dc-4800-af2d-f2ab8cd44327",
        "colab": {
          "base_uri": "https://localhost:8080/"
        }
      },
      "outputs": [
        {
          "output_type": "execute_result",
          "data": {
            "text/plain": [
              "0.9449838187702265"
            ]
          },
          "metadata": {},
          "execution_count": 57
        }
      ],
      "source": [
        "recall_score(y_test, y_pred)"
      ]
    },
    {
      "cell_type": "code",
      "execution_count": 58,
      "metadata": {
        "id": "tj2MkuuAdDKn",
        "outputId": "87a9c8e9-5b94-4446-d74e-2529c0c11c6b",
        "colab": {
          "base_uri": "https://localhost:8080/"
        }
      },
      "outputs": [
        {
          "output_type": "execute_result",
          "data": {
            "text/plain": [
              "0.906"
            ]
          },
          "metadata": {},
          "execution_count": 58
        }
      ],
      "source": [
        "accuracy_score(y_test,y_pred)"
      ]
    },
    {
      "cell_type": "code",
      "execution_count": 59,
      "metadata": {
        "id": "wmqSa5V7dDKn",
        "outputId": "31db1bee-4a97-4d88-8ff5-2b2b40b6c33b",
        "colab": {
          "base_uri": "https://localhost:8080/"
        }
      },
      "outputs": [
        {
          "output_type": "execute_result",
          "data": {
            "text/plain": [
              "0.9255150554675119"
            ]
          },
          "metadata": {},
          "execution_count": 59
        }
      ],
      "source": [
        "f1_score(y_test,y_pred)"
      ]
    },
    {
      "cell_type": "code",
      "execution_count": 60,
      "metadata": {
        "id": "ZkjLr0NvdDKn",
        "outputId": "f39a3525-4322-442b-d6f7-b774eb0860ba",
        "colab": {
          "base_uri": "https://localhost:8080/"
        }
      },
      "outputs": [
        {
          "output_type": "execute_result",
          "data": {
            "text/plain": [
              "0.906"
            ]
          },
          "metadata": {},
          "execution_count": 60
        }
      ],
      "source": [
        "log_model.score(X_test_scaled, y_test)"
      ]
    },
    {
      "cell_type": "code",
      "execution_count": 61,
      "metadata": {
        "id": "EuZWDQqUdDKo"
      },
      "outputs": [],
      "source": [
        "from sklearn.metrics import confusion_matrix, classification_report, plot_confusion_matrix"
      ]
    },
    {
      "cell_type": "code",
      "execution_count": 62,
      "metadata": {
        "id": "pEinksocdDKo",
        "outputId": "259307d8-d812-4b8e-8d8b-4c0a2d6593ed",
        "colab": {
          "base_uri": "https://localhost:8080/"
        }
      },
      "outputs": [
        {
          "output_type": "execute_result",
          "data": {
            "text/plain": [
              "array([[161,  30],\n",
              "       [ 17, 292]])"
            ]
          },
          "metadata": {},
          "execution_count": 62
        }
      ],
      "source": [
        "confusion_matrix(y_test,y_pred)"
      ]
    },
    {
      "cell_type": "code",
      "execution_count": 63,
      "metadata": {
        "id": "eqsOOfhNdDKo",
        "outputId": "2bf827ee-6689-4da3-99f6-d55ca2ff0422",
        "colab": {
          "base_uri": "https://localhost:8080/",
          "height": 388
        }
      },
      "outputs": [
        {
          "output_type": "display_data",
          "data": {
            "text/plain": [
              "<Figure size 720x432 with 2 Axes>"
            ],
            "image/png": "[encoded data removed]"
          },
          "metadata": {
            "needs_background": "light"
          }
        }
      ],
      "source": [
        "plot_confusion_matrix(log_model, X_test_scaled, y_test);"
      ]
    },
    {
      "cell_type": "code",
      "execution_count": 64,
      "metadata": {
        "id": "K-jo1w7rdDKo",
        "outputId": "143cf040-2f55-463d-f5e0-77bd0df3a025",
        "colab": {
          "base_uri": "https://localhost:8080/",
          "height": 389
        }
      },
      "outputs": [
        {
          "output_type": "display_data",
          "data": {
            "text/plain": [
              "<Figure size 720x432 with 2 Axes>"
            ],
            "image/png": "[encoded data removed]"
          },
          "metadata": {
            "needs_background": "light"
          }
        }
      ],
      "source": [
        "plot_confusion_matrix(log_model, X_test_scaled, y_test, normalize='pred');"
      ]
    },
    {
      "cell_type": "code",
      "execution_count": 65,
      "metadata": {
        "id": "E7RFqH7ndDKo",
        "outputId": "425ca197-fceb-4c15-fcf0-5c4cc3fd512c",
        "colab": {
          "base_uri": "https://localhost:8080/"
        }
      },
      "outputs": [
        {
          "output_type": "stream",
          "name": "stdout",
          "text": [
            "              precision    recall  f1-score   support\n",
            "\n",
            "           0       0.90      0.84      0.87       191\n",
            "           1       0.91      0.94      0.93       309\n",
            "\n",
            "    accuracy                           0.91       500\n",
            "   macro avg       0.91      0.89      0.90       500\n",
            "weighted avg       0.91      0.91      0.91       500\n",
            "\n"
          ]
        }
      ],
      "source": [
        "print(classification_report(y_test,y_pred))"
      ]
    },
    {
      "cell_type": "code",
      "execution_count": 66,
      "metadata": {
        "id": "ROSEuZ2mdDKo",
        "outputId": "c69695e6-af86-4aaf-8bbb-1d9c4ee496f7",
        "colab": {
          "base_uri": "https://localhost:8080/"
        }
      },
      "outputs": [
        {
          "output_type": "stream",
          "name": "stdout",
          "text": [
            "              precision    recall  f1-score   support\n",
            "\n",
            "           0       0.92      0.87      0.89      1809\n",
            "           1       0.92      0.95      0.93      2691\n",
            "\n",
            "    accuracy                           0.92      4500\n",
            "   macro avg       0.92      0.91      0.91      4500\n",
            "weighted avg       0.92      0.92      0.92      4500\n",
            "\n"
          ]
        }
      ],
      "source": [
        "y_train_pred = log_model.predict(X_train_scaled)\n",
        "print(classification_report(y_train,y_train_pred))"
      ]
    },
    {
      "cell_type": "code",
      "execution_count": 67,
      "metadata": {
        "id": "kOifrfk5dDKp",
        "outputId": "e84e8705-d064-4a2e-a3ed-499f5279c742",
        "colab": {
          "base_uri": "https://localhost:8080/",
          "height": 388
        }
      },
      "outputs": [
        {
          "output_type": "display_data",
          "data": {
            "text/plain": [
              "<Figure size 720x432 with 2 Axes>"
            ],
            "image/png": "[encoded data removed]"
          },
          "metadata": {
            "needs_background": "light"
          }
        }
      ],
      "source": [
        "plot_confusion_matrix(log_model, X_train_scaled, y_train);"
      ]
    },
    {
      "cell_type": "markdown",
      "metadata": {
        "jp-MarkdownHeadingCollapsed": true,
        "tags": [],
        "id": "tZ55v04cdDKp"
      },
      "source": [
        "## Cross Validate"
      ]
    },
    {
      "cell_type": "code",
      "execution_count": 68,
      "metadata": {
        "id": "fwQPbX61dDKp"
      },
      "outputs": [],
      "source": [
        "from sklearn.model_selection import cross_validate"
      ]
    },
    {
      "cell_type": "code",
      "execution_count": 69,
      "metadata": {
        "id": "qmk7ZhORdDKp"
      },
      "outputs": [],
      "source": [
        "# import sklearn\n",
        "# sklearn.metrics.SCORERS.keys()"
      ]
    },
    {
      "cell_type": "code",
      "execution_count": 73,
      "metadata": {
        "id": "e0_SOYR3dDKp",
        "outputId": "63245e58-81be-49a2-a1a8-ff3b5fcf49fa",
        "colab": {
          "base_uri": "https://localhost:8080/",
          "height": 363
        }
      },
      "outputs": [
        {
          "output_type": "execute_result",
          "data": {
            "text/plain": [
              "    test_accuracy  test_precision  test_recall  test_f1\n",
              "1            0.89            0.90         0.91     0.91\n",
              "2            0.92            0.92         0.95     0.94\n",
              "3            0.91            0.91         0.94     0.92\n",
              "4            0.92            0.94         0.93     0.93\n",
              "5            0.90            0.91         0.93     0.92\n",
              "6            0.91            0.90         0.97     0.93\n",
              "7            0.94            0.93         0.97     0.95\n",
              "8            0.93            0.92         0.97     0.94\n",
              "9            0.92            0.91         0.96     0.94\n",
              "10           0.93            0.93         0.95     0.94"
            ],
            "text/html": [
              "\n",
              "  <div id=\"df-63c6e310-03d5-4e4b-b60c-82885fe13d38\">\n",
              "    <div class=\"colab-df-container\">\n",
              "      <div>\n",
              "<style scoped>\n",
              "    .dataframe tbody tr th:only-of-type {\n",
              "        vertical-align: middle;\n",
              "    }\n",
              "\n",
              "    .dataframe tbody tr th {\n",
              "        vertical-align: top;\n",
              "    }\n",
              "\n",
              "    .dataframe thead th {\n",
              "        text-align: right;\n",
              "    }\n",
              "</style>\n",
              "<table border=\"1\" class=\"dataframe\">\n",
              "  <thead>\n",
              "    <tr style=\"text-align: right;\">\n",
              "      <th></th>\n",
              "      <th>test_accuracy</th>\n",
              "      <th>test_precision</th>\n",
              "      <th>test_recall</th>\n",
              "      <th>test_f1</th>\n",
              "    </tr>\n",
              "  </thead>\n",
              "  <tbody>\n",
              "    <tr>\n",
              "      <th>1</th>\n",
              "      <td>0.89</td>\n",
              "      <td>0.90</td>\n",
              "      <td>0.91</td>\n",
              "      <td>0.91</td>\n",
              "    </tr>\n",
              "    <tr>\n",
              "      <th>2</th>\n",
              "      <td>0.92</td>\n",
              "      <td>0.92</td>\n",
              "      <td>0.95</td>\n",
              "      <td>0.94</td>\n",
              "    </tr>\n",
              "    <tr>\n",
              "      <th>3</th>\n",
              "      <td>0.91</td>\n",
              "      <td>0.91</td>\n",
              "      <td>0.94</td>\n",
              "      <td>0.92</td>\n",
              "    </tr>\n",
              "    <tr>\n",
              "      <th>4</th>\n",
              "      <td>0.92</td>\n",
              "      <td>0.94</td>\n",
              "      <td>0.93</td>\n",
              "      <td>0.93</td>\n",
              "    </tr>\n",
              "    <tr>\n",
              "      <th>5</th>\n",
              "      <td>0.90</td>\n",
              "      <td>0.91</td>\n",
              "      <td>0.93</td>\n",
              "      <td>0.92</td>\n",
              "    </tr>\n",
              "    <tr>\n",
              "      <th>6</th>\n",
              "      <td>0.91</td>\n",
              "      <td>0.90</td>\n",
              "      <td>0.97</td>\n",
              "      <td>0.93</td>\n",
              "    </tr>\n",
              "    <tr>\n",
              "      <th>7</th>\n",
              "      <td>0.94</td>\n",
              "      <td>0.93</td>\n",
              "      <td>0.97</td>\n",
              "      <td>0.95</td>\n",
              "    </tr>\n",
              "    <tr>\n",
              "      <th>8</th>\n",
              "      <td>0.93</td>\n",
              "      <td>0.92</td>\n",
              "      <td>0.97</td>\n",
              "      <td>0.94</td>\n",
              "    </tr>\n",
              "    <tr>\n",
              "      <th>9</th>\n",
              "      <td>0.92</td>\n",
              "      <td>0.91</td>\n",
              "      <td>0.96</td>\n",
              "      <td>0.94</td>\n",
              "    </tr>\n",
              "    <tr>\n",
              "      <th>10</th>\n",
              "      <td>0.93</td>\n",
              "      <td>0.93</td>\n",
              "      <td>0.95</td>\n",
              "      <td>0.94</td>\n",
              "    </tr>\n",
              "  </tbody>\n",
              "</table>\n",
              "</div>\n",
              "      <button class=\"colab-df-convert\" onclick=\"convertToInteractive('df-63c6e310-03d5-4e4b-b60c-82885fe13d38')\"\n",
              "              title=\"Convert this dataframe to an interactive table.\"\n",
              "              style=\"display:none;\">\n",
              "        \n",
              "  <svg xmlns=\"http://www.w3.org/2000/svg\" height=\"24px\"viewBox=\"0 0 24 24\"\n",
              "       width=\"24px\">\n",
              "    <path d=\"M0 0h24v24H0V0z\" fill=\"none\"/>\n",
              "    <path d=\"M18.56 5.44l.94 2.06.94-2.06 2.06-.94-2.06-.94-.94-2.06-.94 2.06-2.06.94zm-11 1L8.5 8.5l.94-2.06 2.06-.94-2.06-.94L8.5 2.5l-.94 2.06-2.06.94zm10 10l.94 2.06.94-2.06 2.06-.94-2.06-.94-.94-2.06-.94 2.06-2.06.94z\"/><path d=\"M17.41 7.96l-1.37-1.37c-.4-.4-.92-.59-1.43-.59-.52 0-1.04.2-1.43.59L10.3 9.45l-7.72 7.72c-.78.78-.78 2.05 0 2.83L4 21.41c.39.39.9.59 1.41.59.51 0 1.02-.2 1.41-.59l7.78-7.78 2.81-2.81c.8-.78.8-2.07 0-2.86zM5.41 20L4 18.59l7.72-7.72 1.47 1.35L5.41 20z\"/>\n",
              "  </svg>\n",
              "      </button>\n",
              "      \n",
              "  <style>\n",
              "    .colab-df-container {\n",
              "      display:flex;\n",
              "      flex-wrap:wrap;\n",
              "      gap: 12px;\n",
              "    }\n",
              "\n",
              "    .colab-df-convert {\n",
              "      background-color: #E8F0FE;\n",
              "      border: none;\n",
              "      border-radius: 50%;\n",
              "      cursor: pointer;\n",
              "      display: none;\n",
              "      fill: #1967D2;\n",
              "      height: 32px;\n",
              "      padding: 0 0 0 0;\n",
              "      width: 32px;\n",
              "    }\n",
              "\n",
              "    .colab-df-convert:hover {\n",
              "      background-color: #E2EBFA;\n",
              "      box-shadow: 0px 1px 2px rgba(60, 64, 67, 0.3), 0px 1px 3px 1px rgba(60, 64, 67, 0.15);\n",
              "      fill: #174EA6;\n",
              "    }\n",
              "\n",
              "    [theme=dark] .colab-df-convert {\n",
              "      background-color: #3B4455;\n",
              "      fill: #D2E3FC;\n",
              "    }\n",
              "\n",
              "    [theme=dark] .colab-df-convert:hover {\n",
              "      background-color: #434B5C;\n",
              "      box-shadow: 0px 1px 3px 1px rgba(0, 0, 0, 0.15);\n",
              "      filter: drop-shadow(0px 1px 2px rgba(0, 0, 0, 0.3));\n",
              "      fill: #FFFFFF;\n",
              "    }\n",
              "  </style>\n",
              "\n",
              "      <script>\n",
              "        const buttonEl =\n",
              "          document.querySelector('#df-63c6e310-03d5-4e4b-b60c-82885fe13d38 button.colab-df-convert');\n",
              "        buttonEl.style.display =\n",
              "          google.colab.kernel.accessAllowed ? 'block' : 'none';\n",
              "\n",
              "        async function convertToInteractive(key) {\n",
              "          const element = document.querySelector('#df-63c6e310-03d5-4e4b-b60c-82885fe13d38');\n",
              "          const dataTable =\n",
              "            await google.colab.kernel.invokeFunction('convertToInteractive',\n",
              "                                                     [key], {});\n",
              "          if (!dataTable) return;\n",
              "\n",
              "          const docLinkHtml = 'Like what you see? Visit the ' +\n",
              "            '<a target=\"_blank\" href=https://colab.research.google.com/notebooks/data_table.ipynb>data table notebook</a>'\n",
              "            + ' to learn more about interactive tables.';\n",
              "          element.innerHTML = '';\n",
              "          dataTable['output_type'] = 'display_data';\n",
              "          await google.colab.output.renderOutput(dataTable, element);\n",
              "          const docLink = document.createElement('div');\n",
              "          docLink.innerHTML = docLinkHtml;\n",
              "          element.appendChild(docLink);\n",
              "        }\n",
              "      </script>\n",
              "    </div>\n",
              "  </div>\n",
              "  "
            ]
          },
          "metadata": {},
          "execution_count": 73
        }
      ],
      "source": [
        "model = LogisticRegression()\n",
        "\n",
        "scores = cross_validate(model, X_train_scaled, y_train, scoring = ['accuracy', 'precision','recall','f1'], cv = 10)\n",
        "df_scores = pd.DataFrame(scores, index = range(1, 11))\n",
        "df_scores.iloc[:,2:]"
      ]
    },
    {
      "cell_type": "code",
      "execution_count": 78,
      "metadata": {
        "id": "YrYqRwYRdDKp",
        "outputId": "aa035cc2-b3df-4a3f-c64d-f06445b3720c",
        "colab": {
          "base_uri": "https://localhost:8080/"
        }
      },
      "outputs": [
        {
          "output_type": "execute_result",
          "data": {
            "text/plain": [
              "test_accuracy    0.92\n",
              "test_precision   0.92\n",
              "test_recall      0.95\n",
              "test_f1          0.93\n",
              "dtype: float64"
            ]
          },
          "metadata": {},
          "execution_count": 78
        }
      ],
      "source": [
        "df_scores.mean()[2:]"
      ]
    },
    {
      "cell_type": "code",
      "execution_count": 79,
      "metadata": {
        "id": "tYc7D_EadDKq",
        "outputId": "c39e1064-e8b5-423f-a5e3-7be537b86115",
        "colab": {
          "base_uri": "https://localhost:8080/"
        }
      },
      "outputs": [
        {
          "output_type": "stream",
          "name": "stdout",
          "text": [
            "Test Set\n",
            "              precision    recall  f1-score   support\n",
            "\n",
            "           0       0.90      0.84      0.87       191\n",
            "           1       0.91      0.94      0.93       309\n",
            "\n",
            "    accuracy                           0.91       500\n",
            "   macro avg       0.91      0.89      0.90       500\n",
            "weighted avg       0.91      0.91      0.91       500\n",
            "\n",
            "Train Set\n",
            "\n",
            "              precision    recall  f1-score   support\n",
            "\n",
            "           0       0.92      0.87      0.89      1809\n",
            "           1       0.92      0.95      0.93      2691\n",
            "\n",
            "    accuracy                           0.92      4500\n",
            "   macro avg       0.92      0.91      0.91      4500\n",
            "weighted avg       0.92      0.92      0.92      4500\n",
            "\n"
          ]
        }
      ],
      "source": [
        "print(\"Test Set\")\n",
        "print(classification_report(y_test,y_pred))\n",
        "print(\"Train Set\\n\")\n",
        "y_train_pred = log_model.predict(X_train_scaled)\n",
        "print(classification_report(y_train,y_train_pred))"
      ]
    },
    {
      "cell_type": "markdown",
      "metadata": {
        "jp-MarkdownHeadingCollapsed": true,
        "tags": [],
        "id": "4JDdGzDkdDKq"
      },
      "source": [
        "## ROC (Receiver Operating Curve) and AUC (Area Under Curve)"
      ]
    },
    {
      "cell_type": "markdown",
      "metadata": {
        "id": "nT32t4z8dDKq"
      },
      "source": [
        "Purpose of ROC Curve:\n",
        "    1. Analysing the strength/predictive power of a classifier.\n",
        "    2. Determining optimal threshold.\n",
        "    3. Comparing two models (using Area Under the Curve)."
      ]
    },
    {
      "cell_type": "markdown",
      "metadata": {
        "id": "nCHUALzAdDKq"
      },
      "source": [
        "AUC represents a degree or measure of separability. It tells us how much the model is capable of distinguishing between classes. Higher the AUC, better the model is at predicting the probability of class YES higher than the probability of class NO."
      ]
    },
    {
      "cell_type": "markdown",
      "metadata": {
        "id": "q4LacIYQdDKq"
      },
      "source": [
        "The ROC Curve was first used during World War II for the analysis of radar signals. After the attack on Pearl Harbor, the US army began new research to improve the rate of detection of Japanese aircraft from their radar signals. Needless to say, they did not want to miss any of them. Neither did they wish to waste their resources on false alarms. They measured the ability of a radar receiver operator to make these predictions called the Receiver Operating Characteristic. That is the origin of the name. The purpose of the curve was similar to how we use it to improve our machine learning models now. The aim was to analyse the predictive power of the predictor in ensuring the detection of as many true positives as possible while minimizing false positives.\n",
        "\n",
        "https://towardsdatascience.com/demystifying-roc-curves-df809474529a"
      ]
    },
    {
      "cell_type": "code",
      "execution_count": 80,
      "metadata": {
        "id": "L15AvRwTdDKq"
      },
      "outputs": [],
      "source": [
        "from sklearn.metrics import plot_roc_curve, plot_precision_recall_curve, roc_auc_score, auc, roc_curve"
      ]
    },
    {
      "cell_type": "code",
      "execution_count": 81,
      "metadata": {
        "id": "KvFPkoMudDKr",
        "outputId": "f04d7432-cd2e-41db-9841-b3d870b1cfa7",
        "colab": {
          "base_uri": "https://localhost:8080/",
          "height": 388
        }
      },
      "outputs": [
        {
          "output_type": "display_data",
          "data": {
            "text/plain": [
              "<Figure size 720x432 with 1 Axes>"
            ],
            "image/png": "[encoded data removed]"
          },
          "metadata": {
            "needs_background": "light"
          }
        }
      ],
      "source": [
        "plot_roc_curve(log_model, X_test_scaled, y_test);"
      ]
    },
    {
      "cell_type": "code",
      "execution_count": 82,
      "metadata": {
        "id": "m8uPAx_cdDKr",
        "outputId": "e87f7648-99a4-4cac-d7d6-31a00797295f",
        "colab": {
          "base_uri": "https://localhost:8080/"
        }
      },
      "outputs": [
        {
          "output_type": "execute_result",
          "data": {
            "text/plain": [
              "0.9574204917060608"
            ]
          },
          "metadata": {},
          "execution_count": 82
        }
      ],
      "source": [
        "roc_auc_score(y_test, y_pred_proba[:,1])"
      ]
    },
    {
      "cell_type": "code",
      "execution_count": 88,
      "metadata": {
        "id": "xQGh1I6CdDKr",
        "outputId": "d181b864-c1e4-4817-f904-eb3896d2d583",
        "colab": {
          "base_uri": "https://localhost:8080/"
        }
      },
      "outputs": [
        {
          "output_type": "execute_result",
          "data": {
            "text/plain": [
              "0.8939578779715005"
            ]
          },
          "metadata": {},
          "execution_count": 88
        }
      ],
      "source": [
        "roc_auc_score(y_test, y_pred)"
      ]
    },
    {
      "cell_type": "code",
      "execution_count": 89,
      "metadata": {
        "id": "pBC0cWJ0dDKr",
        "outputId": "cbc29cb1-0ced-4126-b9d9-68ce1ab504d8",
        "colab": {
          "base_uri": "https://localhost:8080/",
          "height": 388
        }
      },
      "outputs": [
        {
          "output_type": "display_data",
          "data": {
            "text/plain": [
              "<Figure size 720x432 with 1 Axes>"
            ],
            "image/png": "[encoded data removed]"
          },
          "metadata": {
            "needs_background": "light"
          }
        }
      ],
      "source": [
        "plot_precision_recall_curve(log_model, X_test_scaled, y_test);"
      ]
    },
    {
      "cell_type": "markdown",
      "metadata": {
        "jp-MarkdownHeadingCollapsed": true,
        "tags": [],
        "id": "AjmxUacBdDKr"
      },
      "source": [
        "## <span style='color:red'> Final Model and Model Deployment</span> "
      ]
    },
    {
      "cell_type": "code",
      "execution_count": 90,
      "metadata": {
        "id": "F5cQWueLdDKr"
      },
      "outputs": [],
      "source": [
        "scaler = StandardScaler().fit(X)"
      ]
    },
    {
      "cell_type": "code",
      "execution_count": 91,
      "metadata": {
        "id": "pIsZMsAGdDKs"
      },
      "outputs": [],
      "source": [
        "import pickle\n",
        "pickle.dump(scaler, open(\"scaler_hearing\", 'wb'))"
      ]
    },
    {
      "cell_type": "code",
      "execution_count": 92,
      "metadata": {
        "id": "wT26Q7tmdDKs"
      },
      "outputs": [],
      "source": [
        "X_scaled = scaler.transform(X)"
      ]
    },
    {
      "cell_type": "code",
      "execution_count": 93,
      "metadata": {
        "id": "u0OqZ0s5dDKs"
      },
      "outputs": [],
      "source": [
        "final_model = LogisticRegression().fit(X_scaled, y)"
      ]
    },
    {
      "cell_type": "code",
      "execution_count": 94,
      "metadata": {
        "id": "qOZSYiQidDKs"
      },
      "outputs": [],
      "source": [
        "pickle.dump(final_model, open(\"final_model_hearing\", 'wb'))"
      ]
    },
    {
      "cell_type": "markdown",
      "metadata": {
        "jp-MarkdownHeadingCollapsed": true,
        "tags": [],
        "id": "1y1ATosDdDKs"
      },
      "source": [
        "# Using the Model"
      ]
    },
    {
      "cell_type": "code",
      "execution_count": 95,
      "metadata": {
        "id": "eR9mQsIddDKs"
      },
      "outputs": [],
      "source": [
        "my_dict = {\"age\": [20, 30, 40, 50, 60],\n",
        "           \"physical_score\": [50, 30, 20, 10, 5]}"
      ]
    },
    {
      "cell_type": "code",
      "execution_count": 96,
      "metadata": {
        "id": "lZZGD04ydDKs",
        "outputId": "8855a5fe-5c89-43d9-ebfe-011ca63565de",
        "colab": {
          "base_uri": "https://localhost:8080/",
          "height": 206
        }
      },
      "outputs": [
        {
          "output_type": "execute_result",
          "data": {
            "text/plain": [
              "   age  physical_score\n",
              "0   20              50\n",
              "1   30              30\n",
              "2   40              20\n",
              "3   50              10\n",
              "4   60               5"
            ],
            "text/html": [
              "\n",
              "  <div id=\"df-088fd0f6-eaae-457f-b656-00b501120e79\">\n",
              "    <div class=\"colab-df-container\">\n",
              "      <div>\n",
              "<style scoped>\n",
              "    .dataframe tbody tr th:only-of-type {\n",
              "        vertical-align: middle;\n",
              "    }\n",
              "\n",
              "    .dataframe tbody tr th {\n",
              "        vertical-align: top;\n",
              "    }\n",
              "\n",
              "    .dataframe thead th {\n",
              "        text-align: right;\n",
              "    }\n",
              "</style>\n",
              "<table border=\"1\" class=\"dataframe\">\n",
              "  <thead>\n",
              "    <tr style=\"text-align: right;\">\n",
              "      <th></th>\n",
              "      <th>age</th>\n",
              "      <th>physical_score</th>\n",
              "    </tr>\n",
              "  </thead>\n",
              "  <tbody>\n",
              "    <tr>\n",
              "      <th>0</th>\n",
              "      <td>20</td>\n",
              "      <td>50</td>\n",
              "    </tr>\n",
              "    <tr>\n",
              "      <th>1</th>\n",
              "      <td>30</td>\n",
              "      <td>30</td>\n",
              "    </tr>\n",
              "    <tr>\n",
              "      <th>2</th>\n",
              "      <td>40</td>\n",
              "      <td>20</td>\n",
              "    </tr>\n",
              "    <tr>\n",
              "      <th>3</th>\n",
              "      <td>50</td>\n",
              "      <td>10</td>\n",
              "    </tr>\n",
              "    <tr>\n",
              "      <th>4</th>\n",
              "      <td>60</td>\n",
              "      <td>5</td>\n",
              "    </tr>\n",
              "  </tbody>\n",
              "</table>\n",
              "</div>\n",
              "      <button class=\"colab-df-convert\" onclick=\"convertToInteractive('df-088fd0f6-eaae-457f-b656-00b501120e79')\"\n",
              "              title=\"Convert this dataframe to an interactive table.\"\n",
              "              style=\"display:none;\">\n",
              "        \n",
              "  <svg xmlns=\"http://www.w3.org/2000/svg\" height=\"24px\"viewBox=\"0 0 24 24\"\n",
              "       width=\"24px\">\n",
              "    <path d=\"M0 0h24v24H0V0z\" fill=\"none\"/>\n",
              "    <path d=\"M18.56 5.44l.94 2.06.94-2.06 2.06-.94-2.06-.94-.94-2.06-.94 2.06-2.06.94zm-11 1L8.5 8.5l.94-2.06 2.06-.94-2.06-.94L8.5 2.5l-.94 2.06-2.06.94zm10 10l.94 2.06.94-2.06 2.06-.94-2.06-.94-.94-2.06-.94 2.06-2.06.94z\"/><path d=\"M17.41 7.96l-1.37-1.37c-.4-.4-.92-.59-1.43-.59-.52 0-1.04.2-1.43.59L10.3 9.45l-7.72 7.72c-.78.78-.78 2.05 0 2.83L4 21.41c.39.39.9.59 1.41.59.51 0 1.02-.2 1.41-.59l7.78-7.78 2.81-2.81c.8-.78.8-2.07 0-2.86zM5.41 20L4 18.59l7.72-7.72 1.47 1.35L5.41 20z\"/>\n",
              "  </svg>\n",
              "      </button>\n",
              "      \n",
              "  <style>\n",
              "    .colab-df-container {\n",
              "      display:flex;\n",
              "      flex-wrap:wrap;\n",
              "      gap: 12px;\n",
              "    }\n",
              "\n",
              "    .colab-df-convert {\n",
              "      background-color: #E8F0FE;\n",
              "      border: none;\n",
              "      border-radius: 50%;\n",
              "      cursor: pointer;\n",
              "      display: none;\n",
              "      fill: #1967D2;\n",
              "      height: 32px;\n",
              "      padding: 0 0 0 0;\n",
              "      width: 32px;\n",
              "    }\n",
              "\n",
              "    .colab-df-convert:hover {\n",
              "      background-color: #E2EBFA;\n",
              "      box-shadow: 0px 1px 2px rgba(60, 64, 67, 0.3), 0px 1px 3px 1px rgba(60, 64, 67, 0.15);\n",
              "      fill: #174EA6;\n",
              "    }\n",
              "\n",
              "    [theme=dark] .colab-df-convert {\n",
              "      background-color: #3B4455;\n",
              "      fill: #D2E3FC;\n",
              "    }\n",
              "\n",
              "    [theme=dark] .colab-df-convert:hover {\n",
              "      background-color: #434B5C;\n",
              "      box-shadow: 0px 1px 3px 1px rgba(0, 0, 0, 0.15);\n",
              "      filter: drop-shadow(0px 1px 2px rgba(0, 0, 0, 0.3));\n",
              "      fill: #FFFFFF;\n",
              "    }\n",
              "  </style>\n",
              "\n",
              "      <script>\n",
              "        const buttonEl =\n",
              "          document.querySelector('#df-088fd0f6-eaae-457f-b656-00b501120e79 button.colab-df-convert');\n",
              "        buttonEl.style.display =\n",
              "          google.colab.kernel.accessAllowed ? 'block' : 'none';\n",
              "\n",
              "        async function convertToInteractive(key) {\n",
              "          const element = document.querySelector('#df-088fd0f6-eaae-457f-b656-00b501120e79');\n",
              "          const dataTable =\n",
              "            await google.colab.kernel.invokeFunction('convertToInteractive',\n",
              "                                                     [key], {});\n",
              "          if (!dataTable) return;\n",
              "\n",
              "          const docLinkHtml = 'Like what you see? Visit the ' +\n",
              "            '<a target=\"_blank\" href=https://colab.research.google.com/notebooks/data_table.ipynb>data table notebook</a>'\n",
              "            + ' to learn more about interactive tables.';\n",
              "          element.innerHTML = '';\n",
              "          dataTable['output_type'] = 'display_data';\n",
              "          await google.colab.output.renderOutput(dataTable, element);\n",
              "          const docLink = document.createElement('div');\n",
              "          docLink.innerHTML = docLinkHtml;\n",
              "          element.appendChild(docLink);\n",
              "        }\n",
              "      </script>\n",
              "    </div>\n",
              "  </div>\n",
              "  "
            ]
          },
          "metadata": {},
          "execution_count": 96
        }
      ],
      "source": [
        "sample = pd.DataFrame(my_dict)\n",
        "sample"
      ]
    },
    {
      "cell_type": "code",
      "execution_count": 97,
      "metadata": {
        "id": "k8y9_OqBdDKt"
      },
      "outputs": [],
      "source": [
        "scaler_hearing = pickle.load(open(\"scaler_hearing\", \"rb\"))"
      ]
    },
    {
      "cell_type": "code",
      "execution_count": 98,
      "metadata": {
        "id": "UfCuY6s8dDKt",
        "outputId": "c83253ed-ae0a-4100-8d78-e1dd65614f82",
        "colab": {
          "base_uri": "https://localhost:8080/"
        }
      },
      "outputs": [
        {
          "output_type": "execute_result",
          "data": {
            "text/plain": [
              "array([[-2.80075819,  2.11038956],\n",
              "       [-1.91469467, -0.33789511],\n",
              "       [-1.02863115, -1.56203745],\n",
              "       [-0.14256762, -2.78617979],\n",
              "       [ 0.7434959 , -3.39825096]])"
            ]
          },
          "metadata": {},
          "execution_count": 98
        }
      ],
      "source": [
        "sample_scaled = scaler_hearing.transform(sample)\n",
        "sample_scaled"
      ]
    },
    {
      "cell_type": "code",
      "execution_count": 99,
      "metadata": {
        "id": "4bJekhTldDKt"
      },
      "outputs": [],
      "source": [
        "final_model = pickle.load(open(\"final_model_hearing\", \"rb\"))"
      ]
    },
    {
      "cell_type": "code",
      "execution_count": 100,
      "metadata": {
        "id": "FHLPD3VudDKt"
      },
      "outputs": [],
      "source": [
        "predictions = final_model.predict(sample_scaled)\n",
        "predictions_proba = final_model.predict_proba(sample_scaled)"
      ]
    },
    {
      "cell_type": "code",
      "execution_count": 101,
      "metadata": {
        "id": "4w0-WU5IdDKt",
        "outputId": "82eb609f-8e8b-4d0e-f896-b2474c86d226",
        "colab": {
          "base_uri": "https://localhost:8080/",
          "height": 206
        }
      },
      "outputs": [
        {
          "output_type": "execute_result",
          "data": {
            "text/plain": [
              "   age  physical_score  pred  pred_proba\n",
              "0   20              50     1        1.00\n",
              "1   30              30     1        0.73\n",
              "2   40              20     0        0.02\n",
              "3   50              10     0        0.00\n",
              "4   60               5     0        0.00"
            ],
            "text/html": [
              "\n",
              "  <div id=\"df-b69b8268-3aac-4bb8-a698-32bb43a10605\">\n",
              "    <div class=\"colab-df-container\">\n",
              "      <div>\n",
              "<style scoped>\n",
              "    .dataframe tbody tr th:only-of-type {\n",
              "        vertical-align: middle;\n",
              "    }\n",
              "\n",
              "    .dataframe tbody tr th {\n",
              "        vertical-align: top;\n",
              "    }\n",
              "\n",
              "    .dataframe thead th {\n",
              "        text-align: right;\n",
              "    }\n",
              "</style>\n",
              "<table border=\"1\" class=\"dataframe\">\n",
              "  <thead>\n",
              "    <tr style=\"text-align: right;\">\n",
              "      <th></th>\n",
              "      <th>age</th>\n",
              "      <th>physical_score</th>\n",
              "      <th>pred</th>\n",
              "      <th>pred_proba</th>\n",
              "    </tr>\n",
              "  </thead>\n",
              "  <tbody>\n",
              "    <tr>\n",
              "      <th>0</th>\n",
              "      <td>20</td>\n",
              "      <td>50</td>\n",
              "      <td>1</td>\n",
              "      <td>1.00</td>\n",
              "    </tr>\n",
              "    <tr>\n",
              "      <th>1</th>\n",
              "      <td>30</td>\n",
              "      <td>30</td>\n",
              "      <td>1</td>\n",
              "      <td>0.73</td>\n",
              "    </tr>\n",
              "    <tr>\n",
              "      <th>2</th>\n",
              "      <td>40</td>\n",
              "      <td>20</td>\n",
              "      <td>0</td>\n",
              "      <td>0.02</td>\n",
              "    </tr>\n",
              "    <tr>\n",
              "      <th>3</th>\n",
              "      <td>50</td>\n",
              "      <td>10</td>\n",
              "      <td>0</td>\n",
              "      <td>0.00</td>\n",
              "    </tr>\n",
              "    <tr>\n",
              "      <th>4</th>\n",
              "      <td>60</td>\n",
              "      <td>5</td>\n",
              "      <td>0</td>\n",
              "      <td>0.00</td>\n",
              "    </tr>\n",
              "  </tbody>\n",
              "</table>\n",
              "</div>\n",
              "      <button class=\"colab-df-convert\" onclick=\"convertToInteractive('df-b69b8268-3aac-4bb8-a698-32bb43a10605')\"\n",
              "              title=\"Convert this dataframe to an interactive table.\"\n",
              "              style=\"display:none;\">\n",
              "        \n",
              "  <svg xmlns=\"http://www.w3.org/2000/svg\" height=\"24px\"viewBox=\"0 0 24 24\"\n",
              "       width=\"24px\">\n",
              "    <path d=\"M0 0h24v24H0V0z\" fill=\"none\"/>\n",
              "    <path d=\"M18.56 5.44l.94 2.06.94-2.06 2.06-.94-2.06-.94-.94-2.06-.94 2.06-2.06.94zm-11 1L8.5 8.5l.94-2.06 2.06-.94-2.06-.94L8.5 2.5l-.94 2.06-2.06.94zm10 10l.94 2.06.94-2.06 2.06-.94-2.06-.94-.94-2.06-.94 2.06-2.06.94z\"/><path d=\"M17.41 7.96l-1.37-1.37c-.4-.4-.92-.59-1.43-.59-.52 0-1.04.2-1.43.59L10.3 9.45l-7.72 7.72c-.78.78-.78 2.05 0 2.83L4 21.41c.39.39.9.59 1.41.59.51 0 1.02-.2 1.41-.59l7.78-7.78 2.81-2.81c.8-.78.8-2.07 0-2.86zM5.41 20L4 18.59l7.72-7.72 1.47 1.35L5.41 20z\"/>\n",
              "  </svg>\n",
              "      </button>\n",
              "      \n",
              "  <style>\n",
              "    .colab-df-container {\n",
              "      display:flex;\n",
              "      flex-wrap:wrap;\n",
              "      gap: 12px;\n",
              "    }\n",
              "\n",
              "    .colab-df-convert {\n",
              "      background-color: #E8F0FE;\n",
              "      border: none;\n",
              "      border-radius: 50%;\n",
              "      cursor: pointer;\n",
              "      display: none;\n",
              "      fill: #1967D2;\n",
              "      height: 32px;\n",
              "      padding: 0 0 0 0;\n",
              "      width: 32px;\n",
              "    }\n",
              "\n",
              "    .colab-df-convert:hover {\n",
              "      background-color: #E2EBFA;\n",
              "      box-shadow: 0px 1px 2px rgba(60, 64, 67, 0.3), 0px 1px 3px 1px rgba(60, 64, 67, 0.15);\n",
              "      fill: #174EA6;\n",
              "    }\n",
              "\n",
              "    [theme=dark] .colab-df-convert {\n",
              "      background-color: #3B4455;\n",
              "      fill: #D2E3FC;\n",
              "    }\n",
              "\n",
              "    [theme=dark] .colab-df-convert:hover {\n",
              "      background-color: #434B5C;\n",
              "      box-shadow: 0px 1px 3px 1px rgba(0, 0, 0, 0.15);\n",
              "      filter: drop-shadow(0px 1px 2px rgba(0, 0, 0, 0.3));\n",
              "      fill: #FFFFFF;\n",
              "    }\n",
              "  </style>\n",
              "\n",
              "      <script>\n",
              "        const buttonEl =\n",
              "          document.querySelector('#df-b69b8268-3aac-4bb8-a698-32bb43a10605 button.colab-df-convert');\n",
              "        buttonEl.style.display =\n",
              "          google.colab.kernel.accessAllowed ? 'block' : 'none';\n",
              "\n",
              "        async function convertToInteractive(key) {\n",
              "          const element = document.querySelector('#df-b69b8268-3aac-4bb8-a698-32bb43a10605');\n",
              "          const dataTable =\n",
              "            await google.colab.kernel.invokeFunction('convertToInteractive',\n",
              "                                                     [key], {});\n",
              "          if (!dataTable) return;\n",
              "\n",
              "          const docLinkHtml = 'Like what you see? Visit the ' +\n",
              "            '<a target=\"_blank\" href=https://colab.research.google.com/notebooks/data_table.ipynb>data table notebook</a>'\n",
              "            + ' to learn more about interactive tables.';\n",
              "          element.innerHTML = '';\n",
              "          dataTable['output_type'] = 'display_data';\n",
              "          await google.colab.output.renderOutput(dataTable, element);\n",
              "          const docLink = document.createElement('div');\n",
              "          docLink.innerHTML = docLinkHtml;\n",
              "          element.appendChild(docLink);\n",
              "        }\n",
              "      </script>\n",
              "    </div>\n",
              "  </div>\n",
              "  "
            ]
          },
          "metadata": {},
          "execution_count": 101
        }
      ],
      "source": [
        "sample[\"pred\"] = predictions\n",
        "sample[\"pred_proba\"] = predictions_proba[:,1]\n",
        "sample"
      ]
    }
  ],
  "metadata": {
    "interpreter": {
      "hash": "aee8b7b246df8f9039afb4144a1f6fd8d2ca17a180786b69acc140d282b71a49"
    },
    "kernelspec": {
      "display_name": "Python 3 (ipykernel)",
      "language": "python",
      "name": "python3"
    },
    "language_info": {
      "codemirror_mode": {
        "name": "ipython",
        "version": 3
      },
      "file_extension": ".py",
      "mimetype": "text/x-python",
      "name": "python",
      "nbconvert_exporter": "python",
      "pygments_lexer": "ipython3",
      "version": "3.9.12"
    },
    "colab": {
      "provenance": [],
      "toc_visible": true
    }
  },
  "nbformat": 4,
  "nbformat_minor": 0
}
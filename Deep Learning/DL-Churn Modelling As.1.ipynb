{
 "cells": [
  {
   "cell_type": "markdown",
   "metadata": {},
   "source": [
    "___\n",
    "\n",
    "<p style=\"text-align: center;\"><img src=\"https://docs.google.com/uc?id=1lY0Uj5R04yMY3-ZppPWxqCr5pvBLYPnV\" class=\"img-fluid\" alt=\"CLRSWY\"></p>\n",
    "\n",
    "___"
   ]
  },
  {
   "cell_type": "markdown",
   "metadata": {},
   "source": [
    "<h1 style=\"text-align: center;\">Deep Learning<br><br>Assignment-1 (ANN)<br><br>Churn Prediction for Bank Customer"
   ]
  },
  {
   "cell_type": "markdown",
   "metadata": {},
   "source": [
    "## Dataset Info"
   ]
  },
  {
   "cell_type": "markdown",
   "metadata": {},
   "source": [
    "We have a dataset in which there are details of a bank's customers and the target variable is a binary variable reflecting the fact whether the customer left the bank (closed his account) or he continues to be a customer."
   ]
  },
  {
   "cell_type": "markdown",
   "metadata": {},
   "source": [
    "## Import Libraries"
   ]
  },
  {
   "cell_type": "code",
   "execution_count": 1,
   "metadata": {},
   "outputs": [],
   "source": [
    "import numpy as np\n",
    "import pandas as pd\n",
    "import seaborn as sns\n",
    "import matplotlib.pyplot as plt\n",
    "\n",
    "%matplotlib inline\n",
    "# %matplotlib notebook\n",
    "plt.rcParams[\"figure.figsize\"] = (12, 6)\n",
    "# plt.rcParams['figure.dpi'] = 100\n",
    "sns.set_style(\"whitegrid\")\n",
    "import warnings\n",
    "\n",
    "warnings.filterwarnings(\"ignore\")\n",
    "warnings.warn(\"this will not show\")\n",
    "pd.set_option('display.float_format', lambda x: '%.3f' % x)"
   ]
  },
  {
   "cell_type": "code",
   "execution_count": 2,
   "metadata": {},
   "outputs": [],
   "source": [
    "import tensorflow as tf\n",
    "from tensorflow.keras.models import Sequential\n",
    "from tensorflow.keras.layers import Dense, Activation\n",
    "from tensorflow.keras.callbacks import EarlyStopping\n",
    "from sklearn.metrics import classification_report, confusion_matrix\n",
    "from sklearn.metrics import roc_auc_score, roc_curve, precision_recall_curve, average_precision_score\n",
    "from sklearn.model_selection import cross_val_score, cross_validate\n",
    "from sklearn.model_selection import GridSearchCV"
   ]
  },
  {
   "cell_type": "code",
   "execution_count": 60,
   "metadata": {},
   "outputs": [],
   "source": [
    "df = pd.read_csv(\"Churn_Modelling.csv\", index_col='RowNumber')"
   ]
  },
  {
   "cell_type": "code",
   "execution_count": 61,
   "metadata": {},
   "outputs": [
    {
     "data": {
      "text/html": [
       "<div>\n",
       "<style scoped>\n",
       "    .dataframe tbody tr th:only-of-type {\n",
       "        vertical-align: middle;\n",
       "    }\n",
       "\n",
       "    .dataframe tbody tr th {\n",
       "        vertical-align: top;\n",
       "    }\n",
       "\n",
       "    .dataframe thead th {\n",
       "        text-align: right;\n",
       "    }\n",
       "</style>\n",
       "<table border=\"1\" class=\"dataframe\">\n",
       "  <thead>\n",
       "    <tr style=\"text-align: right;\">\n",
       "      <th></th>\n",
       "      <th>CustomerId</th>\n",
       "      <th>Surname</th>\n",
       "      <th>CreditScore</th>\n",
       "      <th>Geography</th>\n",
       "      <th>Gender</th>\n",
       "      <th>Age</th>\n",
       "      <th>Tenure</th>\n",
       "      <th>Balance</th>\n",
       "      <th>NumOfProducts</th>\n",
       "      <th>HasCrCard</th>\n",
       "      <th>IsActiveMember</th>\n",
       "      <th>EstimatedSalary</th>\n",
       "      <th>Exited</th>\n",
       "    </tr>\n",
       "    <tr>\n",
       "      <th>RowNumber</th>\n",
       "      <th></th>\n",
       "      <th></th>\n",
       "      <th></th>\n",
       "      <th></th>\n",
       "      <th></th>\n",
       "      <th></th>\n",
       "      <th></th>\n",
       "      <th></th>\n",
       "      <th></th>\n",
       "      <th></th>\n",
       "      <th></th>\n",
       "      <th></th>\n",
       "      <th></th>\n",
       "    </tr>\n",
       "  </thead>\n",
       "  <tbody>\n",
       "    <tr>\n",
       "      <th>1</th>\n",
       "      <td>15634602</td>\n",
       "      <td>Hargrave</td>\n",
       "      <td>619</td>\n",
       "      <td>France</td>\n",
       "      <td>Female</td>\n",
       "      <td>42</td>\n",
       "      <td>2</td>\n",
       "      <td>0.000</td>\n",
       "      <td>1</td>\n",
       "      <td>1</td>\n",
       "      <td>1</td>\n",
       "      <td>101348.880</td>\n",
       "      <td>1</td>\n",
       "    </tr>\n",
       "    <tr>\n",
       "      <th>2</th>\n",
       "      <td>15647311</td>\n",
       "      <td>Hill</td>\n",
       "      <td>608</td>\n",
       "      <td>Spain</td>\n",
       "      <td>Female</td>\n",
       "      <td>41</td>\n",
       "      <td>1</td>\n",
       "      <td>83807.860</td>\n",
       "      <td>1</td>\n",
       "      <td>0</td>\n",
       "      <td>1</td>\n",
       "      <td>112542.580</td>\n",
       "      <td>0</td>\n",
       "    </tr>\n",
       "    <tr>\n",
       "      <th>3</th>\n",
       "      <td>15619304</td>\n",
       "      <td>Onio</td>\n",
       "      <td>502</td>\n",
       "      <td>France</td>\n",
       "      <td>Female</td>\n",
       "      <td>42</td>\n",
       "      <td>8</td>\n",
       "      <td>159660.800</td>\n",
       "      <td>3</td>\n",
       "      <td>1</td>\n",
       "      <td>0</td>\n",
       "      <td>113931.570</td>\n",
       "      <td>1</td>\n",
       "    </tr>\n",
       "    <tr>\n",
       "      <th>4</th>\n",
       "      <td>15701354</td>\n",
       "      <td>Boni</td>\n",
       "      <td>699</td>\n",
       "      <td>France</td>\n",
       "      <td>Female</td>\n",
       "      <td>39</td>\n",
       "      <td>1</td>\n",
       "      <td>0.000</td>\n",
       "      <td>2</td>\n",
       "      <td>0</td>\n",
       "      <td>0</td>\n",
       "      <td>93826.630</td>\n",
       "      <td>0</td>\n",
       "    </tr>\n",
       "    <tr>\n",
       "      <th>5</th>\n",
       "      <td>15737888</td>\n",
       "      <td>Mitchell</td>\n",
       "      <td>850</td>\n",
       "      <td>Spain</td>\n",
       "      <td>Female</td>\n",
       "      <td>43</td>\n",
       "      <td>2</td>\n",
       "      <td>125510.820</td>\n",
       "      <td>1</td>\n",
       "      <td>1</td>\n",
       "      <td>1</td>\n",
       "      <td>79084.100</td>\n",
       "      <td>0</td>\n",
       "    </tr>\n",
       "  </tbody>\n",
       "</table>\n",
       "</div>"
      ],
      "text/plain": [
       "           CustomerId   Surname  CreditScore Geography  Gender  Age  Tenure  \\\n",
       "RowNumber                                                                     \n",
       "1            15634602  Hargrave          619    France  Female   42       2   \n",
       "2            15647311      Hill          608     Spain  Female   41       1   \n",
       "3            15619304      Onio          502    France  Female   42       8   \n",
       "4            15701354      Boni          699    France  Female   39       1   \n",
       "5            15737888  Mitchell          850     Spain  Female   43       2   \n",
       "\n",
       "             Balance  NumOfProducts  HasCrCard  IsActiveMember  \\\n",
       "RowNumber                                                        \n",
       "1              0.000              1          1               1   \n",
       "2          83807.860              1          0               1   \n",
       "3         159660.800              3          1               0   \n",
       "4              0.000              2          0               0   \n",
       "5         125510.820              1          1               1   \n",
       "\n",
       "           EstimatedSalary  Exited  \n",
       "RowNumber                           \n",
       "1               101348.880       1  \n",
       "2               112542.580       0  \n",
       "3               113931.570       1  \n",
       "4                93826.630       0  \n",
       "5                79084.100       0  "
      ]
     },
     "execution_count": 61,
     "metadata": {},
     "output_type": "execute_result"
    }
   ],
   "source": [
    "df.head()"
   ]
  },
  {
   "cell_type": "markdown",
   "metadata": {},
   "source": [
    "## Exploratory Data Analysis and Visualization"
   ]
  },
  {
   "cell_type": "markdown",
   "metadata": {},
   "source": [
    "1. Implement basic steps to see how is your data looks like\n",
    "2. Check for missing values\n",
    "3. Drop the features that not suitable for modelling\n",
    "4. Implement basic visualization steps such as histogram, countplot, heatmap\n",
    "5. Convert categorical variables to dummy variables"
   ]
  },
  {
   "cell_type": "code",
   "execution_count": 64,
   "metadata": {},
   "outputs": [
    {
     "name": "stdout",
     "output_type": "stream",
     "text": [
      "<class 'pandas.core.frame.DataFrame'>\n",
      "Int64Index: 10000 entries, 1 to 10000\n",
      "Data columns (total 13 columns):\n",
      " #   Column           Non-Null Count  Dtype  \n",
      "---  ------           --------------  -----  \n",
      " 0   CustomerId       10000 non-null  int64  \n",
      " 1   Surname          10000 non-null  object \n",
      " 2   CreditScore      10000 non-null  int64  \n",
      " 3   Geography        10000 non-null  object \n",
      " 4   Gender           10000 non-null  object \n",
      " 5   Age              10000 non-null  int64  \n",
      " 6   Tenure           10000 non-null  int64  \n",
      " 7   Balance          10000 non-null  float64\n",
      " 8   NumOfProducts    10000 non-null  int64  \n",
      " 9   HasCrCard        10000 non-null  int64  \n",
      " 10  IsActiveMember   10000 non-null  int64  \n",
      " 11  EstimatedSalary  10000 non-null  float64\n",
      " 12  Exited           10000 non-null  int64  \n",
      "dtypes: float64(2), int64(8), object(3)\n",
      "memory usage: 1.1+ MB\n"
     ]
    }
   ],
   "source": [
    "df.info()"
   ]
  },
  {
   "cell_type": "code",
   "execution_count": 65,
   "metadata": {},
   "outputs": [
    {
     "data": {
      "text/plain": [
       "(10000, 13)"
      ]
     },
     "execution_count": 65,
     "metadata": {},
     "output_type": "execute_result"
    }
   ],
   "source": [
    "df.shape"
   ]
  },
  {
   "cell_type": "code",
   "execution_count": 66,
   "metadata": {},
   "outputs": [
    {
     "data": {
      "text/html": [
       "<div>\n",
       "<style scoped>\n",
       "    .dataframe tbody tr th:only-of-type {\n",
       "        vertical-align: middle;\n",
       "    }\n",
       "\n",
       "    .dataframe tbody tr th {\n",
       "        vertical-align: top;\n",
       "    }\n",
       "\n",
       "    .dataframe thead th {\n",
       "        text-align: right;\n",
       "    }\n",
       "</style>\n",
       "<table border=\"1\" class=\"dataframe\">\n",
       "  <thead>\n",
       "    <tr style=\"text-align: right;\">\n",
       "      <th></th>\n",
       "      <th>count</th>\n",
       "      <th>mean</th>\n",
       "      <th>std</th>\n",
       "      <th>min</th>\n",
       "      <th>25%</th>\n",
       "      <th>50%</th>\n",
       "      <th>75%</th>\n",
       "      <th>max</th>\n",
       "    </tr>\n",
       "  </thead>\n",
       "  <tbody>\n",
       "    <tr>\n",
       "      <th>CustomerId</th>\n",
       "      <td>10000.000</td>\n",
       "      <td>15690940.569</td>\n",
       "      <td>71936.186</td>\n",
       "      <td>15565701.000</td>\n",
       "      <td>15628528.250</td>\n",
       "      <td>15690738.000</td>\n",
       "      <td>15753233.750</td>\n",
       "      <td>15815690.000</td>\n",
       "    </tr>\n",
       "    <tr>\n",
       "      <th>CreditScore</th>\n",
       "      <td>10000.000</td>\n",
       "      <td>650.529</td>\n",
       "      <td>96.653</td>\n",
       "      <td>350.000</td>\n",
       "      <td>584.000</td>\n",
       "      <td>652.000</td>\n",
       "      <td>718.000</td>\n",
       "      <td>850.000</td>\n",
       "    </tr>\n",
       "    <tr>\n",
       "      <th>Age</th>\n",
       "      <td>10000.000</td>\n",
       "      <td>38.922</td>\n",
       "      <td>10.488</td>\n",
       "      <td>18.000</td>\n",
       "      <td>32.000</td>\n",
       "      <td>37.000</td>\n",
       "      <td>44.000</td>\n",
       "      <td>92.000</td>\n",
       "    </tr>\n",
       "    <tr>\n",
       "      <th>Tenure</th>\n",
       "      <td>10000.000</td>\n",
       "      <td>5.013</td>\n",
       "      <td>2.892</td>\n",
       "      <td>0.000</td>\n",
       "      <td>3.000</td>\n",
       "      <td>5.000</td>\n",
       "      <td>7.000</td>\n",
       "      <td>10.000</td>\n",
       "    </tr>\n",
       "    <tr>\n",
       "      <th>Balance</th>\n",
       "      <td>10000.000</td>\n",
       "      <td>76485.889</td>\n",
       "      <td>62397.405</td>\n",
       "      <td>0.000</td>\n",
       "      <td>0.000</td>\n",
       "      <td>97198.540</td>\n",
       "      <td>127644.240</td>\n",
       "      <td>250898.090</td>\n",
       "    </tr>\n",
       "    <tr>\n",
       "      <th>NumOfProducts</th>\n",
       "      <td>10000.000</td>\n",
       "      <td>1.530</td>\n",
       "      <td>0.582</td>\n",
       "      <td>1.000</td>\n",
       "      <td>1.000</td>\n",
       "      <td>1.000</td>\n",
       "      <td>2.000</td>\n",
       "      <td>4.000</td>\n",
       "    </tr>\n",
       "    <tr>\n",
       "      <th>HasCrCard</th>\n",
       "      <td>10000.000</td>\n",
       "      <td>0.706</td>\n",
       "      <td>0.456</td>\n",
       "      <td>0.000</td>\n",
       "      <td>0.000</td>\n",
       "      <td>1.000</td>\n",
       "      <td>1.000</td>\n",
       "      <td>1.000</td>\n",
       "    </tr>\n",
       "    <tr>\n",
       "      <th>IsActiveMember</th>\n",
       "      <td>10000.000</td>\n",
       "      <td>0.515</td>\n",
       "      <td>0.500</td>\n",
       "      <td>0.000</td>\n",
       "      <td>0.000</td>\n",
       "      <td>1.000</td>\n",
       "      <td>1.000</td>\n",
       "      <td>1.000</td>\n",
       "    </tr>\n",
       "    <tr>\n",
       "      <th>EstimatedSalary</th>\n",
       "      <td>10000.000</td>\n",
       "      <td>100090.240</td>\n",
       "      <td>57510.493</td>\n",
       "      <td>11.580</td>\n",
       "      <td>51002.110</td>\n",
       "      <td>100193.915</td>\n",
       "      <td>149388.247</td>\n",
       "      <td>199992.480</td>\n",
       "    </tr>\n",
       "    <tr>\n",
       "      <th>Exited</th>\n",
       "      <td>10000.000</td>\n",
       "      <td>0.204</td>\n",
       "      <td>0.403</td>\n",
       "      <td>0.000</td>\n",
       "      <td>0.000</td>\n",
       "      <td>0.000</td>\n",
       "      <td>0.000</td>\n",
       "      <td>1.000</td>\n",
       "    </tr>\n",
       "  </tbody>\n",
       "</table>\n",
       "</div>"
      ],
      "text/plain": [
       "                    count         mean       std          min          25%  \\\n",
       "CustomerId      10000.000 15690940.569 71936.186 15565701.000 15628528.250   \n",
       "CreditScore     10000.000      650.529    96.653      350.000      584.000   \n",
       "Age             10000.000       38.922    10.488       18.000       32.000   \n",
       "Tenure          10000.000        5.013     2.892        0.000        3.000   \n",
       "Balance         10000.000    76485.889 62397.405        0.000        0.000   \n",
       "NumOfProducts   10000.000        1.530     0.582        1.000        1.000   \n",
       "HasCrCard       10000.000        0.706     0.456        0.000        0.000   \n",
       "IsActiveMember  10000.000        0.515     0.500        0.000        0.000   \n",
       "EstimatedSalary 10000.000   100090.240 57510.493       11.580    51002.110   \n",
       "Exited          10000.000        0.204     0.403        0.000        0.000   \n",
       "\n",
       "                         50%          75%          max  \n",
       "CustomerId      15690738.000 15753233.750 15815690.000  \n",
       "CreditScore          652.000      718.000      850.000  \n",
       "Age                   37.000       44.000       92.000  \n",
       "Tenure                 5.000        7.000       10.000  \n",
       "Balance            97198.540   127644.240   250898.090  \n",
       "NumOfProducts          1.000        2.000        4.000  \n",
       "HasCrCard              1.000        1.000        1.000  \n",
       "IsActiveMember         1.000        1.000        1.000  \n",
       "EstimatedSalary   100193.915   149388.247   199992.480  \n",
       "Exited                 0.000        0.000        1.000  "
      ]
     },
     "execution_count": 66,
     "metadata": {},
     "output_type": "execute_result"
    }
   ],
   "source": [
    "df.describe().T"
   ]
  },
  {
   "cell_type": "code",
   "execution_count": 67,
   "metadata": {},
   "outputs": [
    {
     "name": "stdout",
     "output_type": "stream",
     "text": [
      "0    7963\n",
      "1    2037\n",
      "Name: Exited, dtype: int64\n"
     ]
    },
    {
     "data": {
      "image/png": "[encoded data removed]",
      "text/plain": [
       "<Figure size 864x432 with 1 Axes>"
      ]
     },
     "metadata": {},
     "output_type": "display_data"
    }
   ],
   "source": [
    "print(df.Exited.value_counts())\n",
    "sns.countplot(df[\"Exited\"]);"
   ]
  },
  {
   "cell_type": "code",
   "execution_count": 68,
   "metadata": {},
   "outputs": [],
   "source": [
    "df.drop(['CustomerId'], axis=1, inplace=True)"
   ]
  },
  {
   "cell_type": "code",
   "execution_count": 69,
   "metadata": {},
   "outputs": [],
   "source": [
    "df.drop(['Surname'], axis=1, inplace=True)"
   ]
  },
  {
   "cell_type": "code",
   "execution_count": 70,
   "metadata": {},
   "outputs": [
    {
     "data": {
      "text/html": [
       "<div>\n",
       "<style scoped>\n",
       "    .dataframe tbody tr th:only-of-type {\n",
       "        vertical-align: middle;\n",
       "    }\n",
       "\n",
       "    .dataframe tbody tr th {\n",
       "        vertical-align: top;\n",
       "    }\n",
       "\n",
       "    .dataframe thead th {\n",
       "        text-align: right;\n",
       "    }\n",
       "</style>\n",
       "<table border=\"1\" class=\"dataframe\">\n",
       "  <thead>\n",
       "    <tr style=\"text-align: right;\">\n",
       "      <th></th>\n",
       "      <th>CreditScore</th>\n",
       "      <th>Geography</th>\n",
       "      <th>Gender</th>\n",
       "      <th>Age</th>\n",
       "      <th>Tenure</th>\n",
       "      <th>Balance</th>\n",
       "      <th>NumOfProducts</th>\n",
       "      <th>HasCrCard</th>\n",
       "      <th>IsActiveMember</th>\n",
       "      <th>EstimatedSalary</th>\n",
       "      <th>Exited</th>\n",
       "    </tr>\n",
       "    <tr>\n",
       "      <th>RowNumber</th>\n",
       "      <th></th>\n",
       "      <th></th>\n",
       "      <th></th>\n",
       "      <th></th>\n",
       "      <th></th>\n",
       "      <th></th>\n",
       "      <th></th>\n",
       "      <th></th>\n",
       "      <th></th>\n",
       "      <th></th>\n",
       "      <th></th>\n",
       "    </tr>\n",
       "  </thead>\n",
       "  <tbody>\n",
       "    <tr>\n",
       "      <th>1</th>\n",
       "      <td>619</td>\n",
       "      <td>France</td>\n",
       "      <td>Female</td>\n",
       "      <td>42</td>\n",
       "      <td>2</td>\n",
       "      <td>0.000</td>\n",
       "      <td>1</td>\n",
       "      <td>1</td>\n",
       "      <td>1</td>\n",
       "      <td>101348.880</td>\n",
       "      <td>1</td>\n",
       "    </tr>\n",
       "    <tr>\n",
       "      <th>2</th>\n",
       "      <td>608</td>\n",
       "      <td>Spain</td>\n",
       "      <td>Female</td>\n",
       "      <td>41</td>\n",
       "      <td>1</td>\n",
       "      <td>83807.860</td>\n",
       "      <td>1</td>\n",
       "      <td>0</td>\n",
       "      <td>1</td>\n",
       "      <td>112542.580</td>\n",
       "      <td>0</td>\n",
       "    </tr>\n",
       "    <tr>\n",
       "      <th>3</th>\n",
       "      <td>502</td>\n",
       "      <td>France</td>\n",
       "      <td>Female</td>\n",
       "      <td>42</td>\n",
       "      <td>8</td>\n",
       "      <td>159660.800</td>\n",
       "      <td>3</td>\n",
       "      <td>1</td>\n",
       "      <td>0</td>\n",
       "      <td>113931.570</td>\n",
       "      <td>1</td>\n",
       "    </tr>\n",
       "    <tr>\n",
       "      <th>4</th>\n",
       "      <td>699</td>\n",
       "      <td>France</td>\n",
       "      <td>Female</td>\n",
       "      <td>39</td>\n",
       "      <td>1</td>\n",
       "      <td>0.000</td>\n",
       "      <td>2</td>\n",
       "      <td>0</td>\n",
       "      <td>0</td>\n",
       "      <td>93826.630</td>\n",
       "      <td>0</td>\n",
       "    </tr>\n",
       "    <tr>\n",
       "      <th>5</th>\n",
       "      <td>850</td>\n",
       "      <td>Spain</td>\n",
       "      <td>Female</td>\n",
       "      <td>43</td>\n",
       "      <td>2</td>\n",
       "      <td>125510.820</td>\n",
       "      <td>1</td>\n",
       "      <td>1</td>\n",
       "      <td>1</td>\n",
       "      <td>79084.100</td>\n",
       "      <td>0</td>\n",
       "    </tr>\n",
       "  </tbody>\n",
       "</table>\n",
       "</div>"
      ],
      "text/plain": [
       "           CreditScore Geography  Gender  Age  Tenure    Balance  \\\n",
       "RowNumber                                                          \n",
       "1                  619    France  Female   42       2      0.000   \n",
       "2                  608     Spain  Female   41       1  83807.860   \n",
       "3                  502    France  Female   42       8 159660.800   \n",
       "4                  699    France  Female   39       1      0.000   \n",
       "5                  850     Spain  Female   43       2 125510.820   \n",
       "\n",
       "           NumOfProducts  HasCrCard  IsActiveMember  EstimatedSalary  Exited  \n",
       "RowNumber                                                                     \n",
       "1                      1          1               1       101348.880       1  \n",
       "2                      1          0               1       112542.580       0  \n",
       "3                      3          1               0       113931.570       1  \n",
       "4                      2          0               0        93826.630       0  \n",
       "5                      1          1               1        79084.100       0  "
      ]
     },
     "execution_count": 70,
     "metadata": {},
     "output_type": "execute_result"
    }
   ],
   "source": [
    "df.head()"
   ]
  },
  {
   "cell_type": "code",
   "execution_count": 71,
   "metadata": {},
   "outputs": [
    {
     "data": {
      "image/png": "[encoded data removed]",
      "text/plain": [
       "<Figure size 1296x1008 with 9 Axes>"
      ]
     },
     "metadata": {},
     "output_type": "display_data"
    }
   ],
   "source": [
    "df.hist(figsize=(18, 14));"
   ]
  },
  {
   "cell_type": "code",
   "execution_count": 72,
   "metadata": {
    "scrolled": true,
    "tags": []
   },
   "outputs": [
    {
     "data": {
      "text/plain": [
       "<AxesSubplot:>"
      ]
     },
     "execution_count": 72,
     "metadata": {},
     "output_type": "execute_result"
    },
    {
     "data": {
      "image/png": "[encoded data removed]",
      "text/plain": [
       "<Figure size 1296x1008 with 2 Axes>"
      ]
     },
     "metadata": {},
     "output_type": "display_data"
    }
   ],
   "source": [
    "plt.figure(figsize=(18, 14))\n",
    "sns.heatmap(df.corr(), annot=True)"
   ]
  },
  {
   "cell_type": "code",
   "execution_count": 73,
   "metadata": {},
   "outputs": [
    {
     "data": {
      "text/plain": [
       "<AxesSubplot:>"
      ]
     },
     "execution_count": 73,
     "metadata": {},
     "output_type": "execute_result"
    },
    {
     "data": {
      "image/png": "[encoded data removed]",
      "text/plain": [
       "<Figure size 864x432 with 1 Axes>"
      ]
     },
     "metadata": {},
     "output_type": "display_data"
    }
   ],
   "source": [
    "df.corr()['Exited'][:-1].sort_values().plot.barh()"
   ]
  },
  {
   "cell_type": "code",
   "execution_count": 74,
   "metadata": {},
   "outputs": [
    {
     "data": {
      "text/html": [
       "<div>\n",
       "<style scoped>\n",
       "    .dataframe tbody tr th:only-of-type {\n",
       "        vertical-align: middle;\n",
       "    }\n",
       "\n",
       "    .dataframe tbody tr th {\n",
       "        vertical-align: top;\n",
       "    }\n",
       "\n",
       "    .dataframe thead th {\n",
       "        text-align: right;\n",
       "    }\n",
       "</style>\n",
       "<table border=\"1\" class=\"dataframe\">\n",
       "  <thead>\n",
       "    <tr style=\"text-align: right;\">\n",
       "      <th></th>\n",
       "      <th>CreditScore</th>\n",
       "      <th>Age</th>\n",
       "      <th>Tenure</th>\n",
       "      <th>Balance</th>\n",
       "      <th>NumOfProducts</th>\n",
       "      <th>HasCrCard</th>\n",
       "      <th>IsActiveMember</th>\n",
       "      <th>EstimatedSalary</th>\n",
       "      <th>Exited</th>\n",
       "      <th>Geography_Germany</th>\n",
       "      <th>Geography_Spain</th>\n",
       "      <th>Gender_Male</th>\n",
       "    </tr>\n",
       "    <tr>\n",
       "      <th>RowNumber</th>\n",
       "      <th></th>\n",
       "      <th></th>\n",
       "      <th></th>\n",
       "      <th></th>\n",
       "      <th></th>\n",
       "      <th></th>\n",
       "      <th></th>\n",
       "      <th></th>\n",
       "      <th></th>\n",
       "      <th></th>\n",
       "      <th></th>\n",
       "      <th></th>\n",
       "    </tr>\n",
       "  </thead>\n",
       "  <tbody>\n",
       "    <tr>\n",
       "      <th>1</th>\n",
       "      <td>619</td>\n",
       "      <td>42</td>\n",
       "      <td>2</td>\n",
       "      <td>0.000</td>\n",
       "      <td>1</td>\n",
       "      <td>1</td>\n",
       "      <td>1</td>\n",
       "      <td>101348.880</td>\n",
       "      <td>1</td>\n",
       "      <td>0</td>\n",
       "      <td>0</td>\n",
       "      <td>0</td>\n",
       "    </tr>\n",
       "    <tr>\n",
       "      <th>2</th>\n",
       "      <td>608</td>\n",
       "      <td>41</td>\n",
       "      <td>1</td>\n",
       "      <td>83807.860</td>\n",
       "      <td>1</td>\n",
       "      <td>0</td>\n",
       "      <td>1</td>\n",
       "      <td>112542.580</td>\n",
       "      <td>0</td>\n",
       "      <td>0</td>\n",
       "      <td>1</td>\n",
       "      <td>0</td>\n",
       "    </tr>\n",
       "    <tr>\n",
       "      <th>3</th>\n",
       "      <td>502</td>\n",
       "      <td>42</td>\n",
       "      <td>8</td>\n",
       "      <td>159660.800</td>\n",
       "      <td>3</td>\n",
       "      <td>1</td>\n",
       "      <td>0</td>\n",
       "      <td>113931.570</td>\n",
       "      <td>1</td>\n",
       "      <td>0</td>\n",
       "      <td>0</td>\n",
       "      <td>0</td>\n",
       "    </tr>\n",
       "    <tr>\n",
       "      <th>4</th>\n",
       "      <td>699</td>\n",
       "      <td>39</td>\n",
       "      <td>1</td>\n",
       "      <td>0.000</td>\n",
       "      <td>2</td>\n",
       "      <td>0</td>\n",
       "      <td>0</td>\n",
       "      <td>93826.630</td>\n",
       "      <td>0</td>\n",
       "      <td>0</td>\n",
       "      <td>0</td>\n",
       "      <td>0</td>\n",
       "    </tr>\n",
       "    <tr>\n",
       "      <th>5</th>\n",
       "      <td>850</td>\n",
       "      <td>43</td>\n",
       "      <td>2</td>\n",
       "      <td>125510.820</td>\n",
       "      <td>1</td>\n",
       "      <td>1</td>\n",
       "      <td>1</td>\n",
       "      <td>79084.100</td>\n",
       "      <td>0</td>\n",
       "      <td>0</td>\n",
       "      <td>1</td>\n",
       "      <td>0</td>\n",
       "    </tr>\n",
       "  </tbody>\n",
       "</table>\n",
       "</div>"
      ],
      "text/plain": [
       "           CreditScore  Age  Tenure    Balance  NumOfProducts  HasCrCard  \\\n",
       "RowNumber                                                                  \n",
       "1                  619   42       2      0.000              1          1   \n",
       "2                  608   41       1  83807.860              1          0   \n",
       "3                  502   42       8 159660.800              3          1   \n",
       "4                  699   39       1      0.000              2          0   \n",
       "5                  850   43       2 125510.820              1          1   \n",
       "\n",
       "           IsActiveMember  EstimatedSalary  Exited  Geography_Germany  \\\n",
       "RowNumber                                                               \n",
       "1                       1       101348.880       1                  0   \n",
       "2                       1       112542.580       0                  0   \n",
       "3                       0       113931.570       1                  0   \n",
       "4                       0        93826.630       0                  0   \n",
       "5                       1        79084.100       0                  0   \n",
       "\n",
       "           Geography_Spain  Gender_Male  \n",
       "RowNumber                                \n",
       "1                        0            0  \n",
       "2                        1            0  \n",
       "3                        0            0  \n",
       "4                        0            0  \n",
       "5                        1            0  "
      ]
     },
     "execution_count": 74,
     "metadata": {},
     "output_type": "execute_result"
    }
   ],
   "source": [
    "df = pd.get_dummies(df, drop_first=True)\n",
    "df.head()"
   ]
  },
  {
   "cell_type": "code",
   "execution_count": 75,
   "metadata": {},
   "outputs": [
    {
     "data": {
      "text/plain": [
       "(10000, 12)"
      ]
     },
     "execution_count": 75,
     "metadata": {},
     "output_type": "execute_result"
    }
   ],
   "source": [
    "df.shape"
   ]
  },
  {
   "cell_type": "markdown",
   "metadata": {},
   "source": [
    "## Preprocessing of Data\n",
    "- Train | Test Split, Scaling"
   ]
  },
  {
   "cell_type": "code",
   "execution_count": 76,
   "metadata": {},
   "outputs": [],
   "source": [
    "from sklearn.model_selection import train_test_split\n",
    "from sklearn.preprocessing import MinMaxScaler"
   ]
  },
  {
   "cell_type": "code",
   "execution_count": 77,
   "metadata": {},
   "outputs": [],
   "source": [
    "X = df.drop('Exited', axis=1)\n",
    "y = df['Exited'].values   #we use arrays instead of dataframes in deep learning\n"
   ]
  },
  {
   "cell_type": "code",
   "execution_count": 78,
   "metadata": {},
   "outputs": [],
   "source": [
    "seed = 42"
   ]
  },
  {
   "cell_type": "code",
   "execution_count": 79,
   "metadata": {},
   "outputs": [],
   "source": [
    "X_train, X_test, y_train, y_test = train_test_split(X, y, stratify=y, test_size=0.2, random_state=seed)\n",
    "\n"
   ]
  },
  {
   "cell_type": "code",
   "execution_count": 80,
   "metadata": {},
   "outputs": [],
   "source": [
    "scaler = MinMaxScaler()\n",
    "\n"
   ]
  },
  {
   "cell_type": "code",
   "execution_count": 81,
   "metadata": {},
   "outputs": [],
   "source": [
    "X_train = scaler.fit_transform(X_train)\n",
    "\n"
   ]
  },
  {
   "cell_type": "code",
   "execution_count": 82,
   "metadata": {},
   "outputs": [],
   "source": [
    "X_test = scaler.transform(X_test)"
   ]
  },
  {
   "cell_type": "markdown",
   "metadata": {
    "id": "Ha9hDt_AoGaE"
   },
   "source": [
    "## Modelling & Model Performance"
   ]
  },
  {
   "cell_type": "markdown",
   "metadata": {},
   "source": [
    "### Creating Model"
   ]
  },
  {
   "cell_type": "markdown",
   "metadata": {},
   "source": [
    "### without class_weigth"
   ]
  },
  {
   "cell_type": "code",
   "execution_count": 84,
   "metadata": {},
   "outputs": [],
   "source": [
    "from tensorflow.keras.optimizers import Adam, Adadelta, RMSprop, Nadam"
   ]
  },
  {
   "cell_type": "code",
   "execution_count": 85,
   "metadata": {},
   "outputs": [],
   "source": [
    "model = Sequential()\n",
    "\n",
    "tf.random.set_seed(seed)\n",
    "\n",
    "model.add(Dense(16, activation=\"relu\"))\n",
    "model.add(Dense(8, activation=\"relu\"))\n",
    "model.add(Dense(1, activation=\"sigmoid\"))\n",
    "\n",
    "opt = Adam(lr=0.001)\n",
    "model.compile(optimizer=opt, loss=\"binary_crossentropy\", metrics=[\"Recall\"])"
   ]
  },
  {
   "cell_type": "code",
   "execution_count": 86,
   "metadata": {},
   "outputs": [],
   "source": [
    "early_stop = EarlyStopping(monitor=\"val_loss\", mode=\"auto\", verbose=1, patience=15)"
   ]
  },
  {
   "cell_type": "code",
   "execution_count": 87,
   "metadata": {
    "scrolled": true,
    "tags": []
   },
   "outputs": [
    {
     "name": "stdout",
     "output_type": "stream",
     "text": [
      "Epoch 1/200\n",
      "57/57 [==============================] - 2s 7ms/step - loss: 0.5433 - recall: 0.0000e+00 - val_loss: 0.4865 - val_recall: 0.0000e+00\n",
      "Epoch 2/200\n",
      "57/57 [==============================] - 0s 3ms/step - loss: 0.4984 - recall: 0.0000e+00 - val_loss: 0.4733 - val_recall: 0.0000e+00\n",
      "Epoch 3/200\n",
      "57/57 [==============================] - 0s 3ms/step - loss: 0.4888 - recall: 0.0000e+00 - val_loss: 0.4660 - val_recall: 0.0000e+00\n",
      "Epoch 4/200\n",
      "57/57 [==============================] - 0s 2ms/step - loss: 0.4814 - recall: 0.0000e+00 - val_loss: 0.4600 - val_recall: 0.0000e+00\n",
      "Epoch 5/200\n",
      "57/57 [==============================] - 0s 2ms/step - loss: 0.4738 - recall: 0.0169 - val_loss: 0.4534 - val_recall: 0.0395\n",
      "Epoch 6/200\n",
      "57/57 [==============================] - 0s 3ms/step - loss: 0.4667 - recall: 0.0602 - val_loss: 0.4487 - val_recall: 0.0592\n",
      "Epoch 7/200\n",
      "57/57 [==============================] - 0s 3ms/step - loss: 0.4621 - recall: 0.0900 - val_loss: 0.4449 - val_recall: 0.0789\n",
      "Epoch 8/200\n",
      "57/57 [==============================] - 0s 3ms/step - loss: 0.4568 - recall: 0.1022 - val_loss: 0.4413 - val_recall: 0.0987\n",
      "Epoch 9/200\n",
      "57/57 [==============================] - 0s 2ms/step - loss: 0.4526 - recall: 0.1218 - val_loss: 0.4379 - val_recall: 0.0921\n",
      "Epoch 10/200\n",
      "57/57 [==============================] - 0s 2ms/step - loss: 0.4476 - recall: 0.1245 - val_loss: 0.4350 - val_recall: 0.1513\n",
      "Epoch 11/200\n",
      "57/57 [==============================] - 0s 3ms/step - loss: 0.4445 - recall: 0.1516 - val_loss: 0.4317 - val_recall: 0.1579\n",
      "Epoch 12/200\n",
      "57/57 [==============================] - 0s 2ms/step - loss: 0.4412 - recall: 0.1671 - val_loss: 0.4288 - val_recall: 0.1382\n",
      "Epoch 13/200\n",
      "57/57 [==============================] - 0s 2ms/step - loss: 0.4386 - recall: 0.1563 - val_loss: 0.4251 - val_recall: 0.1579\n",
      "Epoch 14/200\n",
      "57/57 [==============================] - 0s 3ms/step - loss: 0.4352 - recall: 0.1739 - val_loss: 0.4228 - val_recall: 0.1579\n",
      "Epoch 15/200\n",
      "57/57 [==============================] - 0s 2ms/step - loss: 0.4323 - recall: 0.1847 - val_loss: 0.4223 - val_recall: 0.1513\n",
      "Epoch 16/200\n",
      "57/57 [==============================] - 0s 2ms/step - loss: 0.4304 - recall: 0.1955 - val_loss: 0.4183 - val_recall: 0.1974\n",
      "Epoch 17/200\n",
      "57/57 [==============================] - 0s 2ms/step - loss: 0.4276 - recall: 0.2104 - val_loss: 0.4164 - val_recall: 0.1974\n",
      "Epoch 18/200\n",
      "57/57 [==============================] - 0s 2ms/step - loss: 0.4247 - recall: 0.2179 - val_loss: 0.4149 - val_recall: 0.2434\n",
      "Epoch 19/200\n",
      "57/57 [==============================] - 0s 2ms/step - loss: 0.4220 - recall: 0.2246 - val_loss: 0.4112 - val_recall: 0.2434\n",
      "Epoch 20/200\n",
      "57/57 [==============================] - 0s 3ms/step - loss: 0.4205 - recall: 0.2355 - val_loss: 0.4087 - val_recall: 0.2171\n",
      "Epoch 21/200\n",
      "57/57 [==============================] - 0s 3ms/step - loss: 0.4173 - recall: 0.2490 - val_loss: 0.4066 - val_recall: 0.2632\n",
      "Epoch 22/200\n",
      "57/57 [==============================] - 0s 2ms/step - loss: 0.4149 - recall: 0.2686 - val_loss: 0.4034 - val_recall: 0.2303\n",
      "Epoch 23/200\n",
      "57/57 [==============================] - 0s 2ms/step - loss: 0.4122 - recall: 0.2720 - val_loss: 0.4011 - val_recall: 0.2368\n",
      "Epoch 24/200\n",
      "57/57 [==============================] - 0s 2ms/step - loss: 0.4099 - recall: 0.2801 - val_loss: 0.3979 - val_recall: 0.2697\n",
      "Epoch 25/200\n",
      "57/57 [==============================] - 0s 2ms/step - loss: 0.4078 - recall: 0.2821 - val_loss: 0.3949 - val_recall: 0.2829\n",
      "Epoch 26/200\n",
      "57/57 [==============================] - 0s 2ms/step - loss: 0.4054 - recall: 0.2930 - val_loss: 0.3942 - val_recall: 0.2171\n",
      "Epoch 27/200\n",
      "57/57 [==============================] - 0s 2ms/step - loss: 0.4032 - recall: 0.2957 - val_loss: 0.3894 - val_recall: 0.2895\n",
      "Epoch 28/200\n",
      "57/57 [==============================] - 0s 2ms/step - loss: 0.4003 - recall: 0.3024 - val_loss: 0.3867 - val_recall: 0.3224\n",
      "Epoch 29/200\n",
      "57/57 [==============================] - 0s 2ms/step - loss: 0.3970 - recall: 0.3085 - val_loss: 0.3829 - val_recall: 0.3355\n",
      "Epoch 30/200\n",
      "57/57 [==============================] - 0s 2ms/step - loss: 0.3944 - recall: 0.3187 - val_loss: 0.3790 - val_recall: 0.3158\n",
      "Epoch 31/200\n",
      "57/57 [==============================] - 0s 2ms/step - loss: 0.3918 - recall: 0.3261 - val_loss: 0.3771 - val_recall: 0.3618\n",
      "Epoch 32/200\n",
      "57/57 [==============================] - 0s 2ms/step - loss: 0.3893 - recall: 0.3248 - val_loss: 0.3733 - val_recall: 0.3487\n",
      "Epoch 33/200\n",
      "57/57 [==============================] - 0s 2ms/step - loss: 0.3871 - recall: 0.3268 - val_loss: 0.3706 - val_recall: 0.3750\n",
      "Epoch 34/200\n",
      "57/57 [==============================] - 0s 2ms/step - loss: 0.3842 - recall: 0.3532 - val_loss: 0.3685 - val_recall: 0.2961\n",
      "Epoch 35/200\n",
      "57/57 [==============================] - 0s 2ms/step - loss: 0.3818 - recall: 0.3532 - val_loss: 0.3638 - val_recall: 0.3355\n",
      "Epoch 36/200\n",
      "57/57 [==============================] - 0s 2ms/step - loss: 0.3790 - recall: 0.3586 - val_loss: 0.3636 - val_recall: 0.4145\n",
      "Epoch 37/200\n",
      "57/57 [==============================] - 0s 2ms/step - loss: 0.3768 - recall: 0.3606 - val_loss: 0.3579 - val_recall: 0.3553\n",
      "Epoch 38/200\n",
      "57/57 [==============================] - 0s 2ms/step - loss: 0.3746 - recall: 0.3708 - val_loss: 0.3552 - val_recall: 0.3224\n",
      "Epoch 39/200\n",
      "57/57 [==============================] - 0s 2ms/step - loss: 0.3734 - recall: 0.3762 - val_loss: 0.3536 - val_recall: 0.4145\n",
      "Epoch 40/200\n",
      "57/57 [==============================] - 0s 2ms/step - loss: 0.3710 - recall: 0.3647 - val_loss: 0.3524 - val_recall: 0.4145\n",
      "Epoch 41/200\n",
      "57/57 [==============================] - 0s 2ms/step - loss: 0.3693 - recall: 0.3823 - val_loss: 0.3479 - val_recall: 0.3882\n",
      "Epoch 42/200\n",
      "57/57 [==============================] - 0s 5ms/step - loss: 0.3680 - recall: 0.3857 - val_loss: 0.3458 - val_recall: 0.3684\n",
      "Epoch 43/200\n",
      "57/57 [==============================] - 0s 2ms/step - loss: 0.3667 - recall: 0.3843 - val_loss: 0.3461 - val_recall: 0.4211\n",
      "Epoch 44/200\n",
      "57/57 [==============================] - 0s 2ms/step - loss: 0.3650 - recall: 0.4012 - val_loss: 0.3424 - val_recall: 0.3618\n",
      "Epoch 45/200\n",
      "57/57 [==============================] - 0s 2ms/step - loss: 0.3638 - recall: 0.3917 - val_loss: 0.3426 - val_recall: 0.4276\n",
      "Epoch 46/200\n",
      "57/57 [==============================] - 0s 2ms/step - loss: 0.3622 - recall: 0.4147 - val_loss: 0.3402 - val_recall: 0.3487\n",
      "Epoch 47/200\n",
      "57/57 [==============================] - 0s 2ms/step - loss: 0.3619 - recall: 0.4073 - val_loss: 0.3383 - val_recall: 0.3684\n",
      "Epoch 48/200\n",
      "57/57 [==============================] - 0s 2ms/step - loss: 0.3606 - recall: 0.4060 - val_loss: 0.3369 - val_recall: 0.4013\n",
      "Epoch 49/200\n",
      "57/57 [==============================] - 0s 2ms/step - loss: 0.3598 - recall: 0.4080 - val_loss: 0.3445 - val_recall: 0.4868\n",
      "Epoch 50/200\n",
      "57/57 [==============================] - 0s 2ms/step - loss: 0.3602 - recall: 0.4249 - val_loss: 0.3367 - val_recall: 0.4671\n",
      "Epoch 51/200\n",
      "57/57 [==============================] - 0s 2ms/step - loss: 0.3577 - recall: 0.4202 - val_loss: 0.3343 - val_recall: 0.4276\n",
      "Epoch 52/200\n",
      "57/57 [==============================] - 0s 2ms/step - loss: 0.3581 - recall: 0.4215 - val_loss: 0.3334 - val_recall: 0.4013\n",
      "Epoch 53/200\n",
      "57/57 [==============================] - 0s 3ms/step - loss: 0.3566 - recall: 0.4208 - val_loss: 0.3327 - val_recall: 0.4276\n",
      "Epoch 54/200\n",
      "57/57 [==============================] - 0s 2ms/step - loss: 0.3564 - recall: 0.4269 - val_loss: 0.3312 - val_recall: 0.3947\n",
      "Epoch 55/200\n",
      "57/57 [==============================] - 0s 2ms/step - loss: 0.3564 - recall: 0.4323 - val_loss: 0.3300 - val_recall: 0.4145\n",
      "Epoch 56/200\n",
      "57/57 [==============================] - 0s 2ms/step - loss: 0.3543 - recall: 0.4384 - val_loss: 0.3322 - val_recall: 0.4342\n",
      "Epoch 57/200\n",
      "57/57 [==============================] - 0s 2ms/step - loss: 0.3545 - recall: 0.4290 - val_loss: 0.3296 - val_recall: 0.4408\n",
      "Epoch 58/200\n",
      "57/57 [==============================] - 0s 2ms/step - loss: 0.3540 - recall: 0.4296 - val_loss: 0.3310 - val_recall: 0.4605\n",
      "Epoch 59/200\n",
      "57/57 [==============================] - 0s 2ms/step - loss: 0.3539 - recall: 0.4425 - val_loss: 0.3285 - val_recall: 0.4408\n",
      "Epoch 60/200\n",
      "57/57 [==============================] - 0s 2ms/step - loss: 0.3527 - recall: 0.4405 - val_loss: 0.3272 - val_recall: 0.4539\n",
      "Epoch 61/200\n",
      "57/57 [==============================] - 0s 2ms/step - loss: 0.3531 - recall: 0.4310 - val_loss: 0.3261 - val_recall: 0.4342\n",
      "Epoch 62/200\n",
      "57/57 [==============================] - 0s 3ms/step - loss: 0.3526 - recall: 0.4371 - val_loss: 0.3262 - val_recall: 0.4079\n",
      "Epoch 63/200\n",
      "57/57 [==============================] - 0s 3ms/step - loss: 0.3523 - recall: 0.4310 - val_loss: 0.3246 - val_recall: 0.4211\n",
      "Epoch 64/200\n",
      "57/57 [==============================] - 0s 3ms/step - loss: 0.3524 - recall: 0.4398 - val_loss: 0.3259 - val_recall: 0.4474\n",
      "Epoch 65/200\n",
      "57/57 [==============================] - 0s 3ms/step - loss: 0.3516 - recall: 0.4438 - val_loss: 0.3236 - val_recall: 0.4079\n",
      "Epoch 66/200\n",
      "57/57 [==============================] - 0s 2ms/step - loss: 0.3513 - recall: 0.4371 - val_loss: 0.3238 - val_recall: 0.4013\n",
      "Epoch 67/200\n",
      "57/57 [==============================] - 0s 3ms/step - loss: 0.3509 - recall: 0.4411 - val_loss: 0.3226 - val_recall: 0.4408\n",
      "Epoch 68/200\n",
      "57/57 [==============================] - 0s 2ms/step - loss: 0.3510 - recall: 0.4438 - val_loss: 0.3239 - val_recall: 0.4276\n",
      "Epoch 69/200\n",
      "57/57 [==============================] - 0s 2ms/step - loss: 0.3510 - recall: 0.4337 - val_loss: 0.3270 - val_recall: 0.4737\n",
      "Epoch 70/200\n",
      "57/57 [==============================] - 0s 2ms/step - loss: 0.3508 - recall: 0.4452 - val_loss: 0.3225 - val_recall: 0.4474\n",
      "Epoch 71/200\n",
      "57/57 [==============================] - 0s 2ms/step - loss: 0.3506 - recall: 0.4513 - val_loss: 0.3221 - val_recall: 0.4408\n",
      "Epoch 72/200\n",
      "57/57 [==============================] - 0s 2ms/step - loss: 0.3487 - recall: 0.4378 - val_loss: 0.3221 - val_recall: 0.4474\n",
      "Epoch 73/200\n",
      "57/57 [==============================] - 0s 2ms/step - loss: 0.3489 - recall: 0.4364 - val_loss: 0.3215 - val_recall: 0.4474\n",
      "Epoch 74/200\n",
      "57/57 [==============================] - 0s 2ms/step - loss: 0.3489 - recall: 0.4499 - val_loss: 0.3203 - val_recall: 0.4211\n",
      "Epoch 75/200\n",
      "57/57 [==============================] - 0s 3ms/step - loss: 0.3486 - recall: 0.4378 - val_loss: 0.3211 - val_recall: 0.3882\n",
      "Epoch 76/200\n",
      "57/57 [==============================] - 0s 2ms/step - loss: 0.3486 - recall: 0.4411 - val_loss: 0.3215 - val_recall: 0.4408\n",
      "Epoch 77/200\n",
      "57/57 [==============================] - 0s 2ms/step - loss: 0.3484 - recall: 0.4472 - val_loss: 0.3221 - val_recall: 0.3816\n",
      "Epoch 78/200\n",
      "57/57 [==============================] - 0s 2ms/step - loss: 0.3482 - recall: 0.4411 - val_loss: 0.3213 - val_recall: 0.4342\n",
      "Epoch 79/200\n",
      "57/57 [==============================] - 0s 2ms/step - loss: 0.3476 - recall: 0.4398 - val_loss: 0.3224 - val_recall: 0.3750\n",
      "Epoch 80/200\n",
      "57/57 [==============================] - 0s 2ms/step - loss: 0.3477 - recall: 0.4391 - val_loss: 0.3208 - val_recall: 0.4408\n",
      "Epoch 81/200\n",
      "57/57 [==============================] - 0s 2ms/step - loss: 0.3469 - recall: 0.4486 - val_loss: 0.3203 - val_recall: 0.3882\n",
      "Epoch 82/200\n",
      "57/57 [==============================] - 0s 2ms/step - loss: 0.3477 - recall: 0.4506 - val_loss: 0.3227 - val_recall: 0.3750\n",
      "Epoch 83/200\n",
      "57/57 [==============================] - 0s 2ms/step - loss: 0.3488 - recall: 0.4472 - val_loss: 0.3208 - val_recall: 0.3750\n",
      "Epoch 84/200\n",
      "57/57 [==============================] - 0s 2ms/step - loss: 0.3471 - recall: 0.4418 - val_loss: 0.3197 - val_recall: 0.4474\n",
      "Epoch 85/200\n",
      "57/57 [==============================] - 0s 2ms/step - loss: 0.3462 - recall: 0.4506 - val_loss: 0.3197 - val_recall: 0.3816\n",
      "Epoch 86/200\n",
      "57/57 [==============================] - 0s 2ms/step - loss: 0.3471 - recall: 0.4465 - val_loss: 0.3193 - val_recall: 0.4408\n",
      "Epoch 87/200\n",
      "57/57 [==============================] - 0s 2ms/step - loss: 0.3464 - recall: 0.4398 - val_loss: 0.3205 - val_recall: 0.4605\n",
      "Epoch 88/200\n",
      "57/57 [==============================] - 0s 2ms/step - loss: 0.3460 - recall: 0.4493 - val_loss: 0.3180 - val_recall: 0.4276\n",
      "Epoch 89/200\n",
      "57/57 [==============================] - 0s 2ms/step - loss: 0.3458 - recall: 0.4425 - val_loss: 0.3175 - val_recall: 0.4079\n",
      "Epoch 90/200\n",
      "57/57 [==============================] - 0s 2ms/step - loss: 0.3454 - recall: 0.4513 - val_loss: 0.3220 - val_recall: 0.4737\n",
      "Epoch 91/200\n",
      "57/57 [==============================] - 0s 2ms/step - loss: 0.3458 - recall: 0.4540 - val_loss: 0.3181 - val_recall: 0.4079\n",
      "Epoch 92/200\n",
      "57/57 [==============================] - 0s 2ms/step - loss: 0.3451 - recall: 0.4350 - val_loss: 0.3208 - val_recall: 0.4737\n",
      "Epoch 93/200\n",
      "57/57 [==============================] - 0s 2ms/step - loss: 0.3464 - recall: 0.4520 - val_loss: 0.3186 - val_recall: 0.4605\n",
      "Epoch 94/200\n",
      "57/57 [==============================] - 0s 2ms/step - loss: 0.3447 - recall: 0.4465 - val_loss: 0.3204 - val_recall: 0.4671\n",
      "Epoch 95/200\n",
      "57/57 [==============================] - 0s 2ms/step - loss: 0.3448 - recall: 0.4465 - val_loss: 0.3179 - val_recall: 0.4342\n",
      "Epoch 96/200\n",
      "57/57 [==============================] - 0s 3ms/step - loss: 0.3445 - recall: 0.4459 - val_loss: 0.3168 - val_recall: 0.4276\n",
      "Epoch 97/200\n",
      "57/57 [==============================] - 0s 2ms/step - loss: 0.3452 - recall: 0.4445 - val_loss: 0.3178 - val_recall: 0.4342\n",
      "Epoch 98/200\n",
      "57/57 [==============================] - 0s 2ms/step - loss: 0.3444 - recall: 0.4445 - val_loss: 0.3167 - val_recall: 0.4211\n",
      "Epoch 99/200\n",
      "57/57 [==============================] - 0s 2ms/step - loss: 0.3440 - recall: 0.4513 - val_loss: 0.3172 - val_recall: 0.3947\n",
      "Epoch 100/200\n",
      "57/57 [==============================] - 0s 2ms/step - loss: 0.3439 - recall: 0.4310 - val_loss: 0.3254 - val_recall: 0.5000\n",
      "Epoch 101/200\n",
      "57/57 [==============================] - 0s 3ms/step - loss: 0.3434 - recall: 0.4493 - val_loss: 0.3169 - val_recall: 0.4342\n",
      "Epoch 102/200\n",
      "57/57 [==============================] - 0s 3ms/step - loss: 0.3434 - recall: 0.4459 - val_loss: 0.3168 - val_recall: 0.3882\n",
      "Epoch 103/200\n",
      "57/57 [==============================] - 0s 2ms/step - loss: 0.3426 - recall: 0.4486 - val_loss: 0.3166 - val_recall: 0.3750\n",
      "Epoch 104/200\n",
      "57/57 [==============================] - 0s 2ms/step - loss: 0.3438 - recall: 0.4445 - val_loss: 0.3163 - val_recall: 0.4013\n",
      "Epoch 105/200\n",
      "57/57 [==============================] - 0s 2ms/step - loss: 0.3428 - recall: 0.4479 - val_loss: 0.3163 - val_recall: 0.4079\n",
      "Epoch 106/200\n",
      "57/57 [==============================] - 0s 3ms/step - loss: 0.3424 - recall: 0.4553 - val_loss: 0.3154 - val_recall: 0.4276\n",
      "Epoch 107/200\n",
      "57/57 [==============================] - 0s 2ms/step - loss: 0.3419 - recall: 0.4553 - val_loss: 0.3172 - val_recall: 0.4211\n",
      "Epoch 108/200\n",
      "57/57 [==============================] - 0s 2ms/step - loss: 0.3424 - recall: 0.4472 - val_loss: 0.3166 - val_recall: 0.4211\n",
      "Epoch 109/200\n",
      "57/57 [==============================] - 0s 3ms/step - loss: 0.3422 - recall: 0.4499 - val_loss: 0.3157 - val_recall: 0.4276\n",
      "Epoch 110/200\n",
      "57/57 [==============================] - 0s 3ms/step - loss: 0.3419 - recall: 0.4533 - val_loss: 0.3185 - val_recall: 0.4605\n",
      "Epoch 111/200\n",
      "57/57 [==============================] - 0s 3ms/step - loss: 0.3415 - recall: 0.4452 - val_loss: 0.3161 - val_recall: 0.4079\n",
      "Epoch 112/200\n",
      "57/57 [==============================] - 0s 3ms/step - loss: 0.3417 - recall: 0.4378 - val_loss: 0.3187 - val_recall: 0.4671\n",
      "Epoch 113/200\n",
      "57/57 [==============================] - 0s 3ms/step - loss: 0.3422 - recall: 0.4628 - val_loss: 0.3202 - val_recall: 0.4868\n",
      "Epoch 114/200\n",
      "57/57 [==============================] - 0s 4ms/step - loss: 0.3415 - recall: 0.4526 - val_loss: 0.3153 - val_recall: 0.4013\n",
      "Epoch 115/200\n",
      "57/57 [==============================] - 0s 3ms/step - loss: 0.3419 - recall: 0.4540 - val_loss: 0.3154 - val_recall: 0.4342\n",
      "Epoch 116/200\n",
      "57/57 [==============================] - 0s 3ms/step - loss: 0.3416 - recall: 0.4540 - val_loss: 0.3152 - val_recall: 0.4276\n",
      "Epoch 117/200\n",
      "57/57 [==============================] - 0s 3ms/step - loss: 0.3410 - recall: 0.4479 - val_loss: 0.3142 - val_recall: 0.4145\n",
      "Epoch 118/200\n",
      "57/57 [==============================] - 0s 2ms/step - loss: 0.3410 - recall: 0.4465 - val_loss: 0.3163 - val_recall: 0.4605\n",
      "Epoch 119/200\n",
      "57/57 [==============================] - 0s 4ms/step - loss: 0.3414 - recall: 0.4553 - val_loss: 0.3158 - val_recall: 0.4342\n",
      "Epoch 120/200\n",
      "57/57 [==============================] - 0s 3ms/step - loss: 0.3414 - recall: 0.4540 - val_loss: 0.3157 - val_recall: 0.4276\n",
      "Epoch 121/200\n",
      "57/57 [==============================] - 0s 3ms/step - loss: 0.3413 - recall: 0.4587 - val_loss: 0.3148 - val_recall: 0.4276\n",
      "Epoch 122/200\n",
      "57/57 [==============================] - 0s 2ms/step - loss: 0.3403 - recall: 0.4587 - val_loss: 0.3154 - val_recall: 0.4211\n",
      "Epoch 123/200\n",
      "57/57 [==============================] - 0s 2ms/step - loss: 0.3396 - recall: 0.4499 - val_loss: 0.3147 - val_recall: 0.4276\n",
      "Epoch 124/200\n",
      "57/57 [==============================] - 0s 2ms/step - loss: 0.3405 - recall: 0.4533 - val_loss: 0.3183 - val_recall: 0.3684\n",
      "Epoch 125/200\n",
      "57/57 [==============================] - 0s 2ms/step - loss: 0.3398 - recall: 0.4520 - val_loss: 0.3191 - val_recall: 0.4934\n",
      "Epoch 126/200\n",
      "57/57 [==============================] - 0s 2ms/step - loss: 0.3396 - recall: 0.4547 - val_loss: 0.3141 - val_recall: 0.4211\n",
      "Epoch 127/200\n",
      "57/57 [==============================] - 0s 2ms/step - loss: 0.3401 - recall: 0.4594 - val_loss: 0.3141 - val_recall: 0.4276\n",
      "Epoch 128/200\n",
      "57/57 [==============================] - 0s 3ms/step - loss: 0.3394 - recall: 0.4499 - val_loss: 0.3147 - val_recall: 0.4211\n",
      "Epoch 129/200\n",
      "57/57 [==============================] - 0s 3ms/step - loss: 0.3387 - recall: 0.4526 - val_loss: 0.3148 - val_recall: 0.4474\n",
      "Epoch 130/200\n",
      "57/57 [==============================] - 0s 2ms/step - loss: 0.3390 - recall: 0.4675 - val_loss: 0.3143 - val_recall: 0.3882\n",
      "Epoch 131/200\n",
      "57/57 [==============================] - 0s 2ms/step - loss: 0.3387 - recall: 0.4526 - val_loss: 0.3146 - val_recall: 0.3882\n",
      "Epoch 132/200\n",
      "57/57 [==============================] - 0s 2ms/step - loss: 0.3397 - recall: 0.4608 - val_loss: 0.3148 - val_recall: 0.4079\n",
      "Epoch 133/200\n",
      "57/57 [==============================] - 0s 2ms/step - loss: 0.3390 - recall: 0.4608 - val_loss: 0.3134 - val_recall: 0.4145\n",
      "Epoch 134/200\n",
      "57/57 [==============================] - 0s 3ms/step - loss: 0.3387 - recall: 0.4553 - val_loss: 0.3142 - val_recall: 0.3947\n",
      "Epoch 135/200\n",
      "57/57 [==============================] - 0s 3ms/step - loss: 0.3390 - recall: 0.4540 - val_loss: 0.3174 - val_recall: 0.4737\n",
      "Epoch 136/200\n",
      "57/57 [==============================] - 0s 3ms/step - loss: 0.3394 - recall: 0.4689 - val_loss: 0.3135 - val_recall: 0.4145\n",
      "Epoch 137/200\n",
      "57/57 [==============================] - 0s 3ms/step - loss: 0.3379 - recall: 0.4668 - val_loss: 0.3191 - val_recall: 0.5132\n",
      "Epoch 138/200\n",
      "57/57 [==============================] - 0s 2ms/step - loss: 0.3386 - recall: 0.4581 - val_loss: 0.3137 - val_recall: 0.4276\n",
      "Epoch 139/200\n",
      "57/57 [==============================] - 0s 3ms/step - loss: 0.3375 - recall: 0.4628 - val_loss: 0.3138 - val_recall: 0.4079\n",
      "Epoch 140/200\n",
      "57/57 [==============================] - 0s 2ms/step - loss: 0.3377 - recall: 0.4675 - val_loss: 0.3144 - val_recall: 0.4211\n",
      "Epoch 141/200\n",
      "57/57 [==============================] - 0s 3ms/step - loss: 0.3376 - recall: 0.4520 - val_loss: 0.3129 - val_recall: 0.4276\n",
      "Epoch 142/200\n",
      "57/57 [==============================] - 0s 3ms/step - loss: 0.3373 - recall: 0.4608 - val_loss: 0.3169 - val_recall: 0.5066\n",
      "Epoch 143/200\n",
      "57/57 [==============================] - 0s 3ms/step - loss: 0.3383 - recall: 0.4641 - val_loss: 0.3135 - val_recall: 0.4145\n",
      "Epoch 144/200\n",
      "57/57 [==============================] - 0s 2ms/step - loss: 0.3372 - recall: 0.4520 - val_loss: 0.3149 - val_recall: 0.4737\n",
      "Epoch 145/200\n",
      "57/57 [==============================] - 0s 3ms/step - loss: 0.3396 - recall: 0.4635 - val_loss: 0.3155 - val_recall: 0.4934\n",
      "Epoch 146/200\n",
      "57/57 [==============================] - 0s 2ms/step - loss: 0.3370 - recall: 0.4723 - val_loss: 0.3146 - val_recall: 0.3684\n",
      "Epoch 147/200\n",
      "57/57 [==============================] - 0s 2ms/step - loss: 0.3380 - recall: 0.4594 - val_loss: 0.3127 - val_recall: 0.4013\n",
      "Epoch 148/200\n",
      "57/57 [==============================] - 0s 3ms/step - loss: 0.3365 - recall: 0.4675 - val_loss: 0.3132 - val_recall: 0.3947\n",
      "Epoch 149/200\n",
      "57/57 [==============================] - 0s 2ms/step - loss: 0.3377 - recall: 0.4635 - val_loss: 0.3142 - val_recall: 0.4408\n",
      "Epoch 150/200\n",
      "57/57 [==============================] - 0s 2ms/step - loss: 0.3373 - recall: 0.4689 - val_loss: 0.3133 - val_recall: 0.4737\n",
      "Epoch 151/200\n",
      "57/57 [==============================] - 0s 2ms/step - loss: 0.3385 - recall: 0.4601 - val_loss: 0.3131 - val_recall: 0.4079\n",
      "Epoch 152/200\n",
      "57/57 [==============================] - 0s 2ms/step - loss: 0.3363 - recall: 0.4750 - val_loss: 0.3131 - val_recall: 0.4539\n",
      "Epoch 153/200\n",
      "57/57 [==============================] - 0s 2ms/step - loss: 0.3362 - recall: 0.4675 - val_loss: 0.3120 - val_recall: 0.4211\n",
      "Epoch 154/200\n",
      "57/57 [==============================] - 0s 3ms/step - loss: 0.3361 - recall: 0.4668 - val_loss: 0.3116 - val_recall: 0.4145\n",
      "Epoch 155/200\n",
      "57/57 [==============================] - 0s 3ms/step - loss: 0.3379 - recall: 0.4696 - val_loss: 0.3118 - val_recall: 0.4276\n",
      "Epoch 156/200\n",
      "57/57 [==============================] - 0s 2ms/step - loss: 0.3357 - recall: 0.4675 - val_loss: 0.3118 - val_recall: 0.4276\n",
      "Epoch 157/200\n",
      "57/57 [==============================] - 0s 2ms/step - loss: 0.3357 - recall: 0.4668 - val_loss: 0.3116 - val_recall: 0.4539\n",
      "Epoch 158/200\n",
      "57/57 [==============================] - 0s 3ms/step - loss: 0.3361 - recall: 0.4709 - val_loss: 0.3107 - val_recall: 0.4145\n",
      "Epoch 159/200\n",
      "57/57 [==============================] - 0s 2ms/step - loss: 0.3361 - recall: 0.4601 - val_loss: 0.3122 - val_recall: 0.4408\n",
      "Epoch 160/200\n",
      "57/57 [==============================] - 0s 3ms/step - loss: 0.3362 - recall: 0.4736 - val_loss: 0.3105 - val_recall: 0.4276\n",
      "Epoch 161/200\n",
      "57/57 [==============================] - 0s 3ms/step - loss: 0.3361 - recall: 0.4729 - val_loss: 0.3104 - val_recall: 0.4211\n",
      "Epoch 162/200\n",
      "57/57 [==============================] - 0s 2ms/step - loss: 0.3355 - recall: 0.4641 - val_loss: 0.3129 - val_recall: 0.4737\n",
      "Epoch 163/200\n",
      "57/57 [==============================] - 0s 3ms/step - loss: 0.3357 - recall: 0.4743 - val_loss: 0.3107 - val_recall: 0.4145\n",
      "Epoch 164/200\n",
      "57/57 [==============================] - 0s 2ms/step - loss: 0.3371 - recall: 0.4689 - val_loss: 0.3129 - val_recall: 0.4934\n",
      "Epoch 165/200\n",
      "57/57 [==============================] - 0s 3ms/step - loss: 0.3358 - recall: 0.4736 - val_loss: 0.3147 - val_recall: 0.3684\n",
      "Epoch 166/200\n",
      "57/57 [==============================] - 0s 3ms/step - loss: 0.3364 - recall: 0.4655 - val_loss: 0.3116 - val_recall: 0.3947\n",
      "Epoch 167/200\n",
      "57/57 [==============================] - 0s 2ms/step - loss: 0.3357 - recall: 0.4899 - val_loss: 0.3110 - val_recall: 0.4145\n",
      "Epoch 168/200\n",
      "57/57 [==============================] - 0s 2ms/step - loss: 0.3365 - recall: 0.4675 - val_loss: 0.3106 - val_recall: 0.4474\n",
      "Epoch 169/200\n",
      "57/57 [==============================] - 0s 3ms/step - loss: 0.3349 - recall: 0.4804 - val_loss: 0.3122 - val_recall: 0.3816\n",
      "Epoch 170/200\n",
      "57/57 [==============================] - 0s 2ms/step - loss: 0.3349 - recall: 0.4702 - val_loss: 0.3114 - val_recall: 0.4276\n",
      "Epoch 171/200\n",
      "57/57 [==============================] - 0s 2ms/step - loss: 0.3346 - recall: 0.4696 - val_loss: 0.3110 - val_recall: 0.4408\n",
      "Epoch 172/200\n",
      "57/57 [==============================] - 0s 4ms/step - loss: 0.3351 - recall: 0.4763 - val_loss: 0.3116 - val_recall: 0.4539\n",
      "Epoch 173/200\n",
      "57/57 [==============================] - 0s 3ms/step - loss: 0.3345 - recall: 0.4709 - val_loss: 0.3114 - val_recall: 0.4408\n",
      "Epoch 174/200\n",
      "57/57 [==============================] - 0s 3ms/step - loss: 0.3351 - recall: 0.4696 - val_loss: 0.3120 - val_recall: 0.4474\n",
      "Epoch 175/200\n",
      "57/57 [==============================] - 0s 3ms/step - loss: 0.3345 - recall: 0.4763 - val_loss: 0.3110 - val_recall: 0.4079\n",
      "Epoch 176/200\n",
      "57/57 [==============================] - 0s 3ms/step - loss: 0.3345 - recall: 0.4716 - val_loss: 0.3119 - val_recall: 0.4474\n",
      "Epoch 00176: early stopping\n"
     ]
    },
    {
     "data": {
      "text/plain": [
       "<keras.callbacks.History at 0x185a3f38250>"
      ]
     },
     "execution_count": 87,
     "metadata": {},
     "output_type": "execute_result"
    }
   ],
   "source": [
    "model.fit(x=X_train, y=y_train, validation_split=.1, batch_size=128, epochs=200, verbose=1, callbacks=[early_stop])"
   ]
  },
  {
   "cell_type": "code",
   "execution_count": 88,
   "metadata": {},
   "outputs": [
    {
     "name": "stdout",
     "output_type": "stream",
     "text": [
      "Model: \"sequential_7\"\n",
      "_________________________________________________________________\n",
      " Layer (type)                Output Shape              Param #   \n",
      "=================================================================\n",
      " dense_21 (Dense)            (None, 16)                192       \n",
      "                                                                 \n",
      " dense_22 (Dense)            (None, 8)                 136       \n",
      "                                                                 \n",
      " dense_23 (Dense)            (None, 1)                 9         \n",
      "                                                                 \n",
      "=================================================================\n",
      "Total params: 337\n",
      "Trainable params: 337\n",
      "Non-trainable params: 0\n",
      "_________________________________________________________________\n"
     ]
    }
   ],
   "source": [
    "model.summary()"
   ]
  },
  {
   "cell_type": "code",
   "execution_count": 89,
   "metadata": {
    "scrolled": true,
    "tags": []
   },
   "outputs": [
    {
     "data": {
      "text/html": [
       "<div>\n",
       "<style scoped>\n",
       "    .dataframe tbody tr th:only-of-type {\n",
       "        vertical-align: middle;\n",
       "    }\n",
       "\n",
       "    .dataframe tbody tr th {\n",
       "        vertical-align: top;\n",
       "    }\n",
       "\n",
       "    .dataframe thead th {\n",
       "        text-align: right;\n",
       "    }\n",
       "</style>\n",
       "<table border=\"1\" class=\"dataframe\">\n",
       "  <thead>\n",
       "    <tr style=\"text-align: right;\">\n",
       "      <th></th>\n",
       "      <th>loss</th>\n",
       "      <th>recall</th>\n",
       "      <th>val_loss</th>\n",
       "      <th>val_recall</th>\n",
       "    </tr>\n",
       "  </thead>\n",
       "  <tbody>\n",
       "    <tr>\n",
       "      <th>0</th>\n",
       "      <td>0.543</td>\n",
       "      <td>0.000</td>\n",
       "      <td>0.487</td>\n",
       "      <td>0.000</td>\n",
       "    </tr>\n",
       "    <tr>\n",
       "      <th>1</th>\n",
       "      <td>0.498</td>\n",
       "      <td>0.000</td>\n",
       "      <td>0.473</td>\n",
       "      <td>0.000</td>\n",
       "    </tr>\n",
       "    <tr>\n",
       "      <th>2</th>\n",
       "      <td>0.489</td>\n",
       "      <td>0.000</td>\n",
       "      <td>0.466</td>\n",
       "      <td>0.000</td>\n",
       "    </tr>\n",
       "    <tr>\n",
       "      <th>3</th>\n",
       "      <td>0.481</td>\n",
       "      <td>0.000</td>\n",
       "      <td>0.460</td>\n",
       "      <td>0.000</td>\n",
       "    </tr>\n",
       "    <tr>\n",
       "      <th>4</th>\n",
       "      <td>0.474</td>\n",
       "      <td>0.017</td>\n",
       "      <td>0.453</td>\n",
       "      <td>0.039</td>\n",
       "    </tr>\n",
       "  </tbody>\n",
       "</table>\n",
       "</div>"
      ],
      "text/plain": [
       "   loss  recall  val_loss  val_recall\n",
       "0 0.543   0.000     0.487       0.000\n",
       "1 0.498   0.000     0.473       0.000\n",
       "2 0.489   0.000     0.466       0.000\n",
       "3 0.481   0.000     0.460       0.000\n",
       "4 0.474   0.017     0.453       0.039"
      ]
     },
     "execution_count": 89,
     "metadata": {},
     "output_type": "execute_result"
    }
   ],
   "source": [
    "loss_df = pd.DataFrame(model.history.history)\n",
    "loss_df.head()"
   ]
  },
  {
   "cell_type": "code",
   "execution_count": 90,
   "metadata": {},
   "outputs": [
    {
     "data": {
      "text/plain": [
       "<AxesSubplot:>"
      ]
     },
     "execution_count": 90,
     "metadata": {},
     "output_type": "execute_result"
    },
    {
     "data": {
      "image/png": "[encoded data removed]",
      "text/plain": [
       "<Figure size 864x432 with 1 Axes>"
      ]
     },
     "metadata": {},
     "output_type": "display_data"
    }
   ],
   "source": [
    "loss_df.plot()"
   ]
  },
  {
   "cell_type": "code",
   "execution_count": 91,
   "metadata": {},
   "outputs": [
    {
     "name": "stdout",
     "output_type": "stream",
     "text": [
      "[[1535   58]\n",
      " [ 215  192]]\n",
      "              precision    recall  f1-score   support\n",
      "\n",
      "           0       0.88      0.96      0.92      1593\n",
      "           1       0.77      0.47      0.58       407\n",
      "\n",
      "    accuracy                           0.86      2000\n",
      "   macro avg       0.82      0.72      0.75      2000\n",
      "weighted avg       0.85      0.86      0.85      2000\n",
      "\n"
     ]
    }
   ],
   "source": [
    "y_pred = (model.predict(X_test) > 0.5).astype(\"int32\")\n",
    "print(confusion_matrix(y_test, y_pred))\n",
    "print(classification_report(y_test, y_pred))\n"
   ]
  },
  {
   "cell_type": "markdown",
   "metadata": {},
   "source": [
    "#### ROC-AUC"
   ]
  },
  {
   "cell_type": "code",
   "execution_count": 92,
   "metadata": {},
   "outputs": [
    {
     "data": {
      "image/png": "[encoded data removed]",
      "text/plain": [
       "<Figure size 864x432 with 1 Axes>"
      ]
     },
     "metadata": {},
     "output_type": "display_data"
    }
   ],
   "source": [
    "y_pred_proba = model.predict(X_test)\n",
    "precisions, recalls, thresholds = precision_recall_curve(y_test, y_pred_proba)\n",
    "plt.plot(recalls, precisions, label='ANN')\n",
    "plt.xlabel('recalls')\n",
    "plt.ylabel('precisions')\n",
    "plt.title('Precision-Recall curve')\n",
    "plt.show()\n"
   ]
  },
  {
   "cell_type": "code",
   "execution_count": 93,
   "metadata": {},
   "outputs": [
    {
     "data": {
      "text/plain": [
       "0.6984867955025867"
      ]
     },
     "execution_count": 93,
     "metadata": {},
     "output_type": "execute_result"
    }
   ],
   "source": [
    "average_precision_score(y_test, y_pred_proba)"
   ]
  },
  {
   "cell_type": "markdown",
   "metadata": {},
   "source": [
    "### with class_weigth\n",
    "\n",
    "Investigate how the \"class_weight\" hyper-parameter is used in a Neural Network."
   ]
  },
  {
   "cell_type": "code",
   "execution_count": 99,
   "metadata": {},
   "outputs": [],
   "source": [
    "model = Sequential()\n",
    "\n",
    "tf.random.set_seed(seed)\n",
    "\n",
    "model.add(Dense(16, activation=\"relu\"))\n",
    "model.add(Dense(8, activation=\"relu\"))\n",
    "model.add(Dense(1, activation=\"sigmoid\"))\n",
    "\n",
    "opt = Adam(lr=0.001)\n",
    "model.compile(optimizer=opt, loss=\"binary_crossentropy\", metrics=[\"Recall\"])"
   ]
  },
  {
   "cell_type": "code",
   "execution_count": 100,
   "metadata": {},
   "outputs": [
    {
     "data": {
      "text/plain": [
       "{0: 0.6279434850863422, 1: 2.4539877300613497}"
      ]
     },
     "execution_count": 100,
     "metadata": {},
     "output_type": "execute_result"
    }
   ],
   "source": [
    "from sklearn.utils import class_weight\n",
    "\n",
    "class_weights = class_weight.compute_class_weight('balanced',\n",
    "                                                  classes=np.unique(y_train),\n",
    "                                                  y=y_train)\n",
    "\n",
    "class_weights = {0: class_weights[0], 1: class_weights[1]}\n",
    "class_weights"
   ]
  },
  {
   "cell_type": "code",
   "execution_count": 101,
   "metadata": {
    "scrolled": true,
    "tags": []
   },
   "outputs": [
    {
     "name": "stdout",
     "output_type": "stream",
     "text": [
      "Epoch 1/200\n",
      "57/57 [==============================] - 1s 7ms/step - loss: 0.6896 - recall: 0.2300 - val_loss: 0.6664 - val_recall: 0.5329\n",
      "Epoch 2/200\n",
      "57/57 [==============================] - 0s 2ms/step - loss: 0.6702 - recall: 0.5298 - val_loss: 0.6526 - val_recall: 0.5658\n",
      "Epoch 3/200\n",
      "57/57 [==============================] - 0s 2ms/step - loss: 0.6522 - recall: 0.6543 - val_loss: 0.6179 - val_recall: 0.5592\n",
      "Epoch 4/200\n",
      "57/57 [==============================] - 0s 2ms/step - loss: 0.6362 - recall: 0.6360 - val_loss: 0.6375 - val_recall: 0.6711\n",
      "Epoch 5/200\n",
      "57/57 [==============================] - 0s 3ms/step - loss: 0.6259 - recall: 0.6516 - val_loss: 0.6138 - val_recall: 0.6184\n",
      "Epoch 6/200\n",
      "57/57 [==============================] - 0s 3ms/step - loss: 0.6179 - recall: 0.6624 - val_loss: 0.5900 - val_recall: 0.5987\n",
      "Epoch 7/200\n",
      "57/57 [==============================] - 0s 4ms/step - loss: 0.6125 - recall: 0.6671 - val_loss: 0.5913 - val_recall: 0.6184\n",
      "Epoch 8/200\n",
      "57/57 [==============================] - 0s 3ms/step - loss: 0.6049 - recall: 0.6779 - val_loss: 0.5904 - val_recall: 0.6842\n",
      "Epoch 9/200\n",
      "57/57 [==============================] - 0s 3ms/step - loss: 0.5969 - recall: 0.7097 - val_loss: 0.5648 - val_recall: 0.6382\n",
      "Epoch 10/200\n",
      "57/57 [==============================] - 0s 3ms/step - loss: 0.5909 - recall: 0.6881 - val_loss: 0.6065 - val_recall: 0.7039\n",
      "Epoch 11/200\n",
      "57/57 [==============================] - 0s 2ms/step - loss: 0.5874 - recall: 0.6935 - val_loss: 0.6103 - val_recall: 0.7039\n",
      "Epoch 12/200\n",
      "57/57 [==============================] - 0s 3ms/step - loss: 0.5829 - recall: 0.7179 - val_loss: 0.5407 - val_recall: 0.6250\n",
      "Epoch 13/200\n",
      "57/57 [==============================] - 0s 3ms/step - loss: 0.5788 - recall: 0.6874 - val_loss: 0.5654 - val_recall: 0.6974\n",
      "Epoch 14/200\n",
      "57/57 [==============================] - 0s 3ms/step - loss: 0.5740 - recall: 0.7084 - val_loss: 0.5519 - val_recall: 0.6908\n",
      "Epoch 15/200\n",
      "57/57 [==============================] - 0s 2ms/step - loss: 0.5700 - recall: 0.7030 - val_loss: 0.5237 - val_recall: 0.6382\n",
      "Epoch 16/200\n",
      "57/57 [==============================] - 0s 2ms/step - loss: 0.5675 - recall: 0.7043 - val_loss: 0.5570 - val_recall: 0.6908\n",
      "Epoch 17/200\n",
      "57/57 [==============================] - 0s 3ms/step - loss: 0.5634 - recall: 0.7091 - val_loss: 0.5471 - val_recall: 0.6842\n",
      "Epoch 18/200\n",
      "57/57 [==============================] - 0s 3ms/step - loss: 0.5598 - recall: 0.7016 - val_loss: 0.5802 - val_recall: 0.7105\n",
      "Epoch 19/200\n",
      "57/57 [==============================] - 0s 2ms/step - loss: 0.5556 - recall: 0.7104 - val_loss: 0.5706 - val_recall: 0.7105\n",
      "Epoch 20/200\n",
      "57/57 [==============================] - 0s 2ms/step - loss: 0.5526 - recall: 0.7253 - val_loss: 0.5365 - val_recall: 0.6776\n",
      "Epoch 21/200\n",
      "57/57 [==============================] - 0s 2ms/step - loss: 0.5465 - recall: 0.7091 - val_loss: 0.5671 - val_recall: 0.7171\n",
      "Epoch 22/200\n",
      "57/57 [==============================] - 0s 3ms/step - loss: 0.5417 - recall: 0.7287 - val_loss: 0.5413 - val_recall: 0.7105\n",
      "Epoch 23/200\n",
      "57/57 [==============================] - 0s 2ms/step - loss: 0.5363 - recall: 0.7246 - val_loss: 0.5308 - val_recall: 0.7039\n",
      "Epoch 24/200\n",
      "57/57 [==============================] - 0s 3ms/step - loss: 0.5312 - recall: 0.7240 - val_loss: 0.5247 - val_recall: 0.6974\n",
      "Epoch 25/200\n",
      "57/57 [==============================] - 0s 3ms/step - loss: 0.5265 - recall: 0.7246 - val_loss: 0.5200 - val_recall: 0.7039\n",
      "Epoch 26/200\n",
      "57/57 [==============================] - 0s 3ms/step - loss: 0.5220 - recall: 0.7422 - val_loss: 0.4789 - val_recall: 0.6842\n",
      "Epoch 27/200\n",
      "57/57 [==============================] - 0s 3ms/step - loss: 0.5171 - recall: 0.7388 - val_loss: 0.5097 - val_recall: 0.7105\n",
      "Epoch 28/200\n",
      "57/57 [==============================] - 0s 2ms/step - loss: 0.5135 - recall: 0.7449 - val_loss: 0.5302 - val_recall: 0.7632\n",
      "Epoch 29/200\n",
      "57/57 [==============================] - 0s 2ms/step - loss: 0.5091 - recall: 0.7497 - val_loss: 0.5148 - val_recall: 0.7632\n",
      "Epoch 30/200\n",
      "57/57 [==============================] - 0s 2ms/step - loss: 0.5062 - recall: 0.7564 - val_loss: 0.4872 - val_recall: 0.7237\n",
      "Epoch 31/200\n",
      "57/57 [==============================] - 0s 3ms/step - loss: 0.5036 - recall: 0.7483 - val_loss: 0.5152 - val_recall: 0.7763\n",
      "Epoch 32/200\n",
      "57/57 [==============================] - 0s 3ms/step - loss: 0.5008 - recall: 0.7530 - val_loss: 0.4971 - val_recall: 0.7697\n",
      "Epoch 33/200\n",
      "57/57 [==============================] - 0s 3ms/step - loss: 0.4994 - recall: 0.7503 - val_loss: 0.5027 - val_recall: 0.7697\n",
      "Epoch 34/200\n",
      "57/57 [==============================] - 0s 2ms/step - loss: 0.4970 - recall: 0.7652 - val_loss: 0.4407 - val_recall: 0.7105\n",
      "Epoch 35/200\n",
      "57/57 [==============================] - 0s 3ms/step - loss: 0.4953 - recall: 0.7524 - val_loss: 0.4752 - val_recall: 0.7500\n",
      "Epoch 36/200\n",
      "57/57 [==============================] - 0s 4ms/step - loss: 0.4931 - recall: 0.7483 - val_loss: 0.5258 - val_recall: 0.8158\n",
      "Epoch 37/200\n",
      "57/57 [==============================] - 0s 3ms/step - loss: 0.4923 - recall: 0.7605 - val_loss: 0.4714 - val_recall: 0.7763\n",
      "Epoch 38/200\n",
      "57/57 [==============================] - 0s 2ms/step - loss: 0.4906 - recall: 0.7598 - val_loss: 0.4525 - val_recall: 0.7303\n",
      "Epoch 39/200\n",
      "57/57 [==============================] - 0s 3ms/step - loss: 0.4912 - recall: 0.7564 - val_loss: 0.4992 - val_recall: 0.7961\n",
      "Epoch 40/200\n",
      "57/57 [==============================] - 0s 3ms/step - loss: 0.4892 - recall: 0.7510 - val_loss: 0.4902 - val_recall: 0.7961\n",
      "Epoch 41/200\n",
      "57/57 [==============================] - 0s 2ms/step - loss: 0.4878 - recall: 0.7571 - val_loss: 0.4617 - val_recall: 0.7632\n",
      "Epoch 42/200\n",
      "57/57 [==============================] - 0s 2ms/step - loss: 0.4869 - recall: 0.7564 - val_loss: 0.4635 - val_recall: 0.7697\n",
      "Epoch 43/200\n",
      "57/57 [==============================] - 0s 3ms/step - loss: 0.4868 - recall: 0.7551 - val_loss: 0.5061 - val_recall: 0.8224\n",
      "Epoch 44/200\n",
      "57/57 [==============================] - 0s 2ms/step - loss: 0.4852 - recall: 0.7585 - val_loss: 0.4613 - val_recall: 0.7763\n",
      "Epoch 45/200\n",
      "57/57 [==============================] - 0s 3ms/step - loss: 0.4846 - recall: 0.7510 - val_loss: 0.4984 - val_recall: 0.8092\n",
      "Epoch 46/200\n",
      "57/57 [==============================] - 0s 3ms/step - loss: 0.4838 - recall: 0.7598 - val_loss: 0.4545 - val_recall: 0.7697\n",
      "Epoch 47/200\n",
      "57/57 [==============================] - 0s 3ms/step - loss: 0.4842 - recall: 0.7537 - val_loss: 0.4664 - val_recall: 0.7829\n",
      "Epoch 48/200\n",
      "57/57 [==============================] - 0s 3ms/step - loss: 0.4822 - recall: 0.7537 - val_loss: 0.4589 - val_recall: 0.7763\n",
      "Epoch 49/200\n",
      "57/57 [==============================] - 0s 4ms/step - loss: 0.4815 - recall: 0.7483 - val_loss: 0.5121 - val_recall: 0.8224\n",
      "Epoch 00049: early stopping\n"
     ]
    },
    {
     "data": {
      "text/plain": [
       "<keras.callbacks.History at 0x185a0274790>"
      ]
     },
     "execution_count": 101,
     "metadata": {},
     "output_type": "execute_result"
    }
   ],
   "source": [
    "model.fit(x=X_train, y=y_train, validation_split=.1, batch_size=128, epochs=200, verbose=1, callbacks=[early_stop], class_weight=class_weights)"
   ]
  },
  {
   "cell_type": "code",
   "execution_count": 102,
   "metadata": {},
   "outputs": [
    {
     "data": {
      "text/plain": [
       "<AxesSubplot:>"
      ]
     },
     "execution_count": 102,
     "metadata": {},
     "output_type": "execute_result"
    },
    {
     "data": {
      "image/png": "[encoded data removed]",
      "text/plain": [
       "<Figure size 864x432 with 1 Axes>"
      ]
     },
     "metadata": {},
     "output_type": "display_data"
    }
   ],
   "source": [
    "loss_df = pd.DataFrame(model.history.history)\n",
    "loss_df.plot()"
   ]
  },
  {
   "cell_type": "code",
   "execution_count": 104,
   "metadata": {},
   "outputs": [
    {
     "name": "stdout",
     "output_type": "stream",
     "text": [
      "[[1135  458]\n",
      " [  78  329]]\n",
      "              precision    recall  f1-score   support\n",
      "\n",
      "           0       0.94      0.71      0.81      1593\n",
      "           1       0.42      0.81      0.55       407\n",
      "\n",
      "    accuracy                           0.73      2000\n",
      "   macro avg       0.68      0.76      0.68      2000\n",
      "weighted avg       0.83      0.73      0.76      2000\n",
      "\n"
     ]
    }
   ],
   "source": [
    "y_pred = (model.predict(X_test) > 0.5).astype(\"int32\")\n",
    "print(confusion_matrix(y_test, y_pred))\n",
    "print(classification_report(y_test, y_pred))\n",
    "\n"
   ]
  },
  {
   "cell_type": "code",
   "execution_count": 105,
   "metadata": {},
   "outputs": [
    {
     "data": {
      "image/png": "[encoded data removed]",
      "text/plain": [
       "<Figure size 864x432 with 1 Axes>"
      ]
     },
     "metadata": {},
     "output_type": "display_data"
    }
   ],
   "source": [
    "y_pred_proba = model.predict(X_test)\n",
    "precisions, recalls, thresholds = precision_recall_curve(y_test, y_pred_proba)\n",
    "plt.plot(recalls, precisions, label='ANN')\n",
    "plt.xlabel('recalls')\n",
    "plt.ylabel('precisions')\n",
    "plt.title('Precision-Recall curve')\n",
    "plt.show()\n"
   ]
  },
  {
   "cell_type": "code",
   "execution_count": 106,
   "metadata": {},
   "outputs": [
    {
     "data": {
      "text/plain": [
       "0.6665169663853729"
      ]
     },
     "execution_count": 106,
     "metadata": {},
     "output_type": "execute_result"
    }
   ],
   "source": [
    "average_precision_score(y_test, y_pred_proba)   "
   ]
  },
  {
   "cell_type": "markdown",
   "metadata": {},
   "source": [
    "## GridSearchCV"
   ]
  },
  {
   "cell_type": "code",
   "execution_count": 107,
   "metadata": {},
   "outputs": [],
   "source": [
    "from tensorflow.keras.wrappers.scikit_learn import KerasClassifier\n",
    "from tensorflow.keras.optimizers import Adadelta, RMSprop, Nadam, Adam, SGD"
   ]
  },
  {
   "cell_type": "code",
   "execution_count": 109,
   "metadata": {},
   "outputs": [],
   "source": [
    "def build_classifier(optimizer,learn_rate):\n",
    "    classifier = Sequential()\n",
    "    classifier.add(Dense(units=16, activation='relu'))\n",
    "    classifier.add(Dense(units=8, activation='relu'))\n",
    "    classifier.add(Dense(units=1, activation='sigmoid'))\n",
    "    classifier.compile(optimizer=optimizer(learn_rate), loss='binary_crossentropy', metrics=['Recall'])\n",
    "    return classifier"
   ]
  },
  {
   "cell_type": "code",
   "execution_count": 110,
   "metadata": {},
   "outputs": [
    {
     "data": {
      "text/plain": [
       "{0: 0.6279434850863422, 1: 2.4539877300613497}"
      ]
     },
     "execution_count": 110,
     "metadata": {},
     "output_type": "execute_result"
    }
   ],
   "source": [
    "class_weights"
   ]
  },
  {
   "cell_type": "code",
   "execution_count": 112,
   "metadata": {
    "scrolled": true,
    "tags": []
   },
   "outputs": [
    {
     "name": "stdout",
     "output_type": "stream",
     "text": [
      "Epoch 1/200\n",
      "63/63 [==============================] - 1s 1ms/step - loss: 0.6674 - recall: 0.4693\n",
      "Epoch 2/200\n",
      "63/63 [==============================] - 0s 2ms/step - loss: 0.6262 - recall: 0.6681\n",
      "Epoch 3/200\n",
      "63/63 [==============================] - 0s 2ms/step - loss: 0.6054 - recall: 0.6699\n",
      "Epoch 4/200\n",
      "63/63 [==============================] - 0s 2ms/step - loss: 0.5870 - recall: 0.6994\n",
      "Epoch 5/200\n",
      "63/63 [==============================] - 0s 2ms/step - loss: 0.5750 - recall: 0.6969\n",
      "Epoch 6/200\n",
      "63/63 [==============================] - 0s 2ms/step - loss: 0.5635 - recall: 0.6883\n",
      "Epoch 7/200\n",
      "63/63 [==============================] - 0s 2ms/step - loss: 0.5537 - recall: 0.7153\n",
      "Epoch 8/200\n",
      "63/63 [==============================] - 0s 2ms/step - loss: 0.5393 - recall: 0.7233\n",
      "Epoch 9/200\n",
      "63/63 [==============================] - 0s 1ms/step - loss: 0.5311 - recall: 0.7270\n",
      "Epoch 10/200\n",
      "63/63 [==============================] - 0s 1ms/step - loss: 0.5186 - recall: 0.7356\n",
      "Epoch 11/200\n",
      "63/63 [==============================] - 0s 1ms/step - loss: 0.5129 - recall: 0.7399\n",
      "Epoch 12/200\n",
      "63/63 [==============================] - 0s 2ms/step - loss: 0.5037 - recall: 0.7521\n",
      "Epoch 13/200\n",
      "63/63 [==============================] - 0s 2ms/step - loss: 0.4994 - recall: 0.7583\n",
      "Epoch 14/200\n",
      "63/63 [==============================] - 0s 2ms/step - loss: 0.4960 - recall: 0.7521\n",
      "Epoch 15/200\n",
      "63/63 [==============================] - 0s 2ms/step - loss: 0.4916 - recall: 0.7558\n",
      "Epoch 16/200\n",
      "63/63 [==============================] - 0s 2ms/step - loss: 0.4849 - recall: 0.7571\n",
      "Epoch 17/200\n",
      "63/63 [==============================] - 0s 1ms/step - loss: 0.4831 - recall: 0.7589\n",
      "Epoch 18/200\n",
      "63/63 [==============================] - 0s 1ms/step - loss: 0.4822 - recall: 0.7620\n",
      "Epoch 19/200\n",
      "63/63 [==============================] - 0s 2ms/step - loss: 0.4782 - recall: 0.7626\n",
      "Epoch 20/200\n",
      "63/63 [==============================] - 0s 2ms/step - loss: 0.4792 - recall: 0.7712\n",
      "Epoch 21/200\n",
      "63/63 [==============================] - 0s 2ms/step - loss: 0.4763 - recall: 0.7571\n",
      "Epoch 22/200\n",
      "63/63 [==============================] - 0s 1ms/step - loss: 0.4774 - recall: 0.7638\n",
      "Epoch 23/200\n",
      "63/63 [==============================] - 0s 2ms/step - loss: 0.4747 - recall: 0.7681\n",
      "Epoch 24/200\n",
      "63/63 [==============================] - 0s 2ms/step - loss: 0.4775 - recall: 0.7583\n",
      "Epoch 25/200\n",
      "63/63 [==============================] - 0s 2ms/step - loss: 0.4755 - recall: 0.7607\n",
      "Epoch 26/200\n",
      "63/63 [==============================] - 0s 2ms/step - loss: 0.4694 - recall: 0.7638\n",
      "Epoch 27/200\n",
      "63/63 [==============================] - 0s 2ms/step - loss: 0.4716 - recall: 0.7650\n",
      "Epoch 28/200\n",
      "63/63 [==============================] - 0s 2ms/step - loss: 0.4702 - recall: 0.7620\n",
      "Epoch 29/200\n",
      "63/63 [==============================] - 0s 2ms/step - loss: 0.4690 - recall: 0.7718\n",
      "Epoch 30/200\n",
      "63/63 [==============================] - 0s 2ms/step - loss: 0.4707 - recall: 0.7663\n",
      "Epoch 31/200\n",
      "63/63 [==============================] - 0s 2ms/step - loss: 0.4652 - recall: 0.7669\n",
      "Epoch 32/200\n",
      "63/63 [==============================] - 0s 2ms/step - loss: 0.4643 - recall: 0.7669\n",
      "Epoch 33/200\n",
      "63/63 [==============================] - 0s 2ms/step - loss: 0.4655 - recall: 0.7620\n",
      "Epoch 34/200\n",
      "63/63 [==============================] - 0s 2ms/step - loss: 0.4634 - recall: 0.7626\n",
      "Epoch 35/200\n",
      "63/63 [==============================] - 0s 2ms/step - loss: 0.4615 - recall: 0.7589\n",
      "Epoch 36/200\n",
      "63/63 [==============================] - 0s 2ms/step - loss: 0.4622 - recall: 0.7730\n",
      "Epoch 37/200\n",
      "63/63 [==============================] - 0s 2ms/step - loss: 0.4613 - recall: 0.7656\n",
      "Epoch 38/200\n",
      "63/63 [==============================] - 0s 2ms/step - loss: 0.4601 - recall: 0.7669\n",
      "Epoch 39/200\n",
      "63/63 [==============================] - 0s 2ms/step - loss: 0.4621 - recall: 0.7626\n",
      "Epoch 40/200\n",
      "63/63 [==============================] - 0s 2ms/step - loss: 0.4615 - recall: 0.7669\n",
      "Epoch 41/200\n",
      "63/63 [==============================] - 0s 2ms/step - loss: 0.4617 - recall: 0.7834\n",
      "Epoch 42/200\n",
      "63/63 [==============================] - 0s 2ms/step - loss: 0.4628 - recall: 0.7656\n",
      "Epoch 43/200\n",
      "63/63 [==============================] - 0s 2ms/step - loss: 0.4590 - recall: 0.7718\n",
      "Epoch 44/200\n",
      "63/63 [==============================] - 0s 2ms/step - loss: 0.4578 - recall: 0.7730\n",
      "Epoch 45/200\n",
      "63/63 [==============================] - 0s 1ms/step - loss: 0.4618 - recall: 0.7626\n",
      "Epoch 46/200\n",
      "63/63 [==============================] - 0s 1ms/step - loss: 0.4600 - recall: 0.7693\n",
      "Epoch 47/200\n",
      "63/63 [==============================] - 0s 2ms/step - loss: 0.4582 - recall: 0.7620\n",
      "Epoch 48/200\n",
      "63/63 [==============================] - 0s 1ms/step - loss: 0.4586 - recall: 0.7706\n",
      "Epoch 49/200\n",
      "63/63 [==============================] - 0s 2ms/step - loss: 0.4607 - recall: 0.7761\n",
      "Epoch 50/200\n",
      "63/63 [==============================] - 0s 2ms/step - loss: 0.4568 - recall: 0.7712\n",
      "Epoch 51/200\n",
      "63/63 [==============================] - 0s 2ms/step - loss: 0.4559 - recall: 0.7699\n",
      "Epoch 52/200\n",
      "63/63 [==============================] - 0s 2ms/step - loss: 0.4554 - recall: 0.7755\n",
      "Epoch 53/200\n",
      "63/63 [==============================] - 0s 2ms/step - loss: 0.4575 - recall: 0.7687\n",
      "Epoch 54/200\n",
      "63/63 [==============================] - 0s 1ms/step - loss: 0.4612 - recall: 0.7767\n",
      "Epoch 55/200\n",
      "63/63 [==============================] - 0s 2ms/step - loss: 0.4564 - recall: 0.7663\n",
      "Epoch 56/200\n",
      "63/63 [==============================] - 0s 2ms/step - loss: 0.4562 - recall: 0.7601\n",
      "Epoch 57/200\n",
      "63/63 [==============================] - 0s 1ms/step - loss: 0.4558 - recall: 0.7840\n",
      "Epoch 58/200\n",
      "63/63 [==============================] - 0s 2ms/step - loss: 0.4548 - recall: 0.7706\n",
      "Epoch 59/200\n",
      "63/63 [==============================] - 0s 1ms/step - loss: 0.4541 - recall: 0.7748\n",
      "Epoch 60/200\n",
      "63/63 [==============================] - 0s 2ms/step - loss: 0.4583 - recall: 0.7558\n",
      "Epoch 61/200\n",
      "63/63 [==============================] - 0s 2ms/step - loss: 0.4531 - recall: 0.7810\n",
      "Epoch 62/200\n",
      "63/63 [==============================] - 0s 1ms/step - loss: 0.4547 - recall: 0.7779\n",
      "Epoch 63/200\n",
      "63/63 [==============================] - 0s 2ms/step - loss: 0.4556 - recall: 0.7761\n",
      "Epoch 64/200\n",
      "63/63 [==============================] - 0s 2ms/step - loss: 0.4525 - recall: 0.7693\n",
      "Epoch 65/200\n",
      "63/63 [==============================] - 0s 1ms/step - loss: 0.4526 - recall: 0.7785\n",
      "Epoch 66/200\n",
      "63/63 [==============================] - 0s 2ms/step - loss: 0.4564 - recall: 0.7607\n",
      "Epoch 67/200\n",
      "63/63 [==============================] - 0s 2ms/step - loss: 0.4531 - recall: 0.7840\n",
      "Epoch 68/200\n",
      "63/63 [==============================] - 0s 2ms/step - loss: 0.4522 - recall: 0.7724\n",
      "Epoch 69/200\n",
      "63/63 [==============================] - 0s 1ms/step - loss: 0.4534 - recall: 0.7687\n",
      "Epoch 70/200\n",
      "63/63 [==============================] - 0s 2ms/step - loss: 0.4552 - recall: 0.7847\n",
      "Epoch 71/200\n",
      "63/63 [==============================] - 0s 2ms/step - loss: 0.4570 - recall: 0.7626\n",
      "Epoch 72/200\n",
      "63/63 [==============================] - 0s 2ms/step - loss: 0.4509 - recall: 0.7859\n",
      "Epoch 73/200\n",
      "63/63 [==============================] - 0s 2ms/step - loss: 0.4517 - recall: 0.7669\n",
      "Epoch 74/200\n",
      "63/63 [==============================] - 0s 2ms/step - loss: 0.4583 - recall: 0.7712\n",
      "Epoch 75/200\n",
      "63/63 [==============================] - 0s 2ms/step - loss: 0.4501 - recall: 0.7767\n",
      "Epoch 76/200\n",
      "63/63 [==============================] - 0s 2ms/step - loss: 0.4525 - recall: 0.7712\n",
      "Epoch 77/200\n",
      "63/63 [==============================] - 0s 1ms/step - loss: 0.4536 - recall: 0.7699\n",
      "Epoch 78/200\n",
      "63/63 [==============================] - 0s 1ms/step - loss: 0.4493 - recall: 0.7761\n",
      "Epoch 79/200\n",
      "63/63 [==============================] - 0s 1ms/step - loss: 0.4560 - recall: 0.7816\n",
      "Epoch 80/200\n",
      "63/63 [==============================] - 0s 2ms/step - loss: 0.4522 - recall: 0.7687\n",
      "Epoch 81/200\n",
      "63/63 [==============================] - 0s 2ms/step - loss: 0.4508 - recall: 0.7779\n",
      "Epoch 82/200\n",
      "63/63 [==============================] - 0s 2ms/step - loss: 0.4498 - recall: 0.7669\n",
      "Epoch 83/200\n",
      "63/63 [==============================] - 0s 2ms/step - loss: 0.4509 - recall: 0.7742\n",
      "Epoch 84/200\n",
      "63/63 [==============================] - 0s 1ms/step - loss: 0.4490 - recall: 0.7656\n",
      "Epoch 85/200\n",
      "63/63 [==============================] - 0s 2ms/step - loss: 0.4499 - recall: 0.7828\n",
      "Epoch 86/200\n",
      "63/63 [==============================] - 0s 2ms/step - loss: 0.4531 - recall: 0.7767\n",
      "Epoch 87/200\n",
      "63/63 [==============================] - 0s 2ms/step - loss: 0.4500 - recall: 0.7681\n",
      "Epoch 88/200\n",
      "63/63 [==============================] - 0s 2ms/step - loss: 0.4499 - recall: 0.7785\n",
      "Epoch 89/200\n",
      "63/63 [==============================] - 0s 2ms/step - loss: 0.4486 - recall: 0.7798\n",
      "Epoch 90/200\n",
      "63/63 [==============================] - 0s 1ms/step - loss: 0.4496 - recall: 0.7847\n",
      "Epoch 91/200\n",
      "63/63 [==============================] - 0s 2ms/step - loss: 0.4507 - recall: 0.7742\n",
      "Epoch 92/200\n",
      "63/63 [==============================] - 0s 2ms/step - loss: 0.4491 - recall: 0.7742\n",
      "Epoch 93/200\n",
      "63/63 [==============================] - 0s 1ms/step - loss: 0.4475 - recall: 0.7804\n",
      "Epoch 94/200\n",
      "63/63 [==============================] - 0s 2ms/step - loss: 0.4470 - recall: 0.7834\n",
      "Epoch 95/200\n",
      "63/63 [==============================] - 0s 2ms/step - loss: 0.4476 - recall: 0.7718\n",
      "Epoch 96/200\n",
      "63/63 [==============================] - 0s 1ms/step - loss: 0.4475 - recall: 0.7791\n",
      "Epoch 97/200\n",
      "63/63 [==============================] - 0s 2ms/step - loss: 0.4477 - recall: 0.7785\n",
      "Epoch 98/200\n",
      "63/63 [==============================] - 0s 2ms/step - loss: 0.4474 - recall: 0.7804\n",
      "Epoch 99/200\n",
      "63/63 [==============================] - 0s 2ms/step - loss: 0.4478 - recall: 0.7822\n",
      "Epoch 100/200\n",
      "63/63 [==============================] - 0s 2ms/step - loss: 0.4487 - recall: 0.7681\n",
      "Epoch 101/200\n",
      "63/63 [==============================] - 0s 2ms/step - loss: 0.4456 - recall: 0.7767\n",
      "Epoch 102/200\n",
      "63/63 [==============================] - 0s 1ms/step - loss: 0.4483 - recall: 0.7718\n",
      "Epoch 103/200\n",
      "63/63 [==============================] - 0s 1ms/step - loss: 0.4481 - recall: 0.7767\n",
      "Epoch 104/200\n",
      "63/63 [==============================] - 0s 2ms/step - loss: 0.4458 - recall: 0.7798\n",
      "Epoch 105/200\n",
      "63/63 [==============================] - 0s 2ms/step - loss: 0.4457 - recall: 0.7816\n",
      "Epoch 106/200\n",
      "63/63 [==============================] - 0s 2ms/step - loss: 0.4468 - recall: 0.7761\n",
      "Epoch 107/200\n",
      "63/63 [==============================] - 0s 3ms/step - loss: 0.4427 - recall: 0.7779\n",
      "Epoch 108/200\n",
      "63/63 [==============================] - 0s 2ms/step - loss: 0.4456 - recall: 0.7834\n",
      "Epoch 109/200\n",
      "63/63 [==============================] - 0s 2ms/step - loss: 0.4473 - recall: 0.7706\n",
      "Epoch 110/200\n",
      "63/63 [==============================] - 0s 2ms/step - loss: 0.4485 - recall: 0.7724\n",
      "Epoch 111/200\n",
      "63/63 [==============================] - 0s 2ms/step - loss: 0.4445 - recall: 0.7761\n",
      "Epoch 112/200\n",
      "63/63 [==============================] - 0s 1ms/step - loss: 0.4441 - recall: 0.7761\n",
      "Epoch 113/200\n",
      "63/63 [==============================] - 0s 2ms/step - loss: 0.4471 - recall: 0.7761\n",
      "Epoch 114/200\n",
      "63/63 [==============================] - 0s 2ms/step - loss: 0.4453 - recall: 0.7742\n",
      "Epoch 115/200\n",
      "63/63 [==============================] - 0s 1ms/step - loss: 0.4459 - recall: 0.7810\n",
      "Epoch 116/200\n",
      "63/63 [==============================] - 0s 1ms/step - loss: 0.4447 - recall: 0.7755\n",
      "Epoch 117/200\n",
      "63/63 [==============================] - 0s 2ms/step - loss: 0.4457 - recall: 0.7736\n",
      "Epoch 118/200\n",
      "63/63 [==============================] - 0s 2ms/step - loss: 0.4492 - recall: 0.7791\n",
      "Epoch 119/200\n",
      "63/63 [==============================] - 0s 2ms/step - loss: 0.4464 - recall: 0.7706\n",
      "Epoch 120/200\n",
      "63/63 [==============================] - 0s 2ms/step - loss: 0.4436 - recall: 0.7706\n",
      "Epoch 121/200\n",
      "63/63 [==============================] - 0s 2ms/step - loss: 0.4457 - recall: 0.7742\n",
      "Epoch 122/200\n",
      "63/63 [==============================] - 0s 1ms/step - loss: 0.4445 - recall: 0.7742\n",
      "Epoch 123/200\n",
      "63/63 [==============================] - 0s 2ms/step - loss: 0.4432 - recall: 0.7687\n",
      "Epoch 124/200\n",
      "63/63 [==============================] - 0s 2ms/step - loss: 0.4426 - recall: 0.7816\n",
      "Epoch 125/200\n",
      "63/63 [==============================] - 0s 1ms/step - loss: 0.4451 - recall: 0.7663\n",
      "Epoch 126/200\n",
      "63/63 [==============================] - 0s 2ms/step - loss: 0.4435 - recall: 0.7773\n",
      "Epoch 127/200\n",
      "63/63 [==============================] - 0s 2ms/step - loss: 0.4443 - recall: 0.7730\n",
      "Epoch 128/200\n",
      "63/63 [==============================] - 0s 2ms/step - loss: 0.4455 - recall: 0.7693\n",
      "Epoch 129/200\n",
      "63/63 [==============================] - 0s 2ms/step - loss: 0.4427 - recall: 0.7663\n",
      "Epoch 130/200\n",
      "63/63 [==============================] - 0s 1ms/step - loss: 0.4451 - recall: 0.7822\n",
      "Epoch 131/200\n",
      "63/63 [==============================] - 0s 2ms/step - loss: 0.4441 - recall: 0.7810\n",
      "Epoch 132/200\n",
      "63/63 [==============================] - 0s 2ms/step - loss: 0.4459 - recall: 0.7669\n",
      "Epoch 133/200\n",
      "63/63 [==============================] - 0s 2ms/step - loss: 0.4447 - recall: 0.7736\n",
      "Epoch 134/200\n",
      "63/63 [==============================] - 0s 2ms/step - loss: 0.4437 - recall: 0.7724\n",
      "Epoch 135/200\n",
      "63/63 [==============================] - 0s 2ms/step - loss: 0.4419 - recall: 0.7730\n",
      "Epoch 136/200\n",
      "63/63 [==============================] - 0s 1ms/step - loss: 0.4439 - recall: 0.7675\n",
      "Epoch 137/200\n",
      "63/63 [==============================] - 0s 2ms/step - loss: 0.4444 - recall: 0.7730\n",
      "Epoch 138/200\n",
      "63/63 [==============================] - 0s 2ms/step - loss: 0.4420 - recall: 0.7742\n",
      "Epoch 139/200\n",
      "63/63 [==============================] - 0s 2ms/step - loss: 0.4414 - recall: 0.7681\n",
      "Epoch 140/200\n",
      "63/63 [==============================] - 0s 2ms/step - loss: 0.4401 - recall: 0.7718\n",
      "Epoch 141/200\n",
      "63/63 [==============================] - 0s 2ms/step - loss: 0.4475 - recall: 0.7663\n",
      "Epoch 142/200\n",
      "63/63 [==============================] - 0s 2ms/step - loss: 0.4421 - recall: 0.7675\n",
      "Epoch 143/200\n",
      "63/63 [==============================] - 0s 2ms/step - loss: 0.4407 - recall: 0.7791\n",
      "Epoch 144/200\n",
      "63/63 [==============================] - 0s 2ms/step - loss: 0.4434 - recall: 0.7681\n",
      "Epoch 145/200\n",
      "63/63 [==============================] - 0s 2ms/step - loss: 0.4417 - recall: 0.7730\n",
      "Epoch 146/200\n",
      "63/63 [==============================] - 0s 2ms/step - loss: 0.4426 - recall: 0.7773\n",
      "Epoch 147/200\n",
      "63/63 [==============================] - 0s 2ms/step - loss: 0.4415 - recall: 0.7785\n",
      "Epoch 148/200\n",
      "63/63 [==============================] - 0s 2ms/step - loss: 0.4419 - recall: 0.7724\n",
      "Epoch 149/200\n",
      "63/63 [==============================] - 0s 2ms/step - loss: 0.4432 - recall: 0.7804\n",
      "Epoch 150/200\n",
      "63/63 [==============================] - 0s 2ms/step - loss: 0.4406 - recall: 0.7755\n",
      "Epoch 151/200\n",
      "63/63 [==============================] - 0s 2ms/step - loss: 0.4409 - recall: 0.7810\n",
      "Epoch 152/200\n",
      "63/63 [==============================] - 0s 2ms/step - loss: 0.4416 - recall: 0.7785\n",
      "Epoch 153/200\n",
      "63/63 [==============================] - 0s 2ms/step - loss: 0.4433 - recall: 0.7669\n",
      "Epoch 154/200\n",
      "63/63 [==============================] - 0s 2ms/step - loss: 0.4393 - recall: 0.7742\n",
      "Epoch 155/200\n",
      "63/63 [==============================] - 0s 2ms/step - loss: 0.4418 - recall: 0.7785\n",
      "Epoch 156/200\n",
      "63/63 [==============================] - 0s 2ms/step - loss: 0.4431 - recall: 0.7804\n",
      "Epoch 157/200\n",
      "63/63 [==============================] - 0s 2ms/step - loss: 0.4407 - recall: 0.7761\n",
      "Epoch 158/200\n",
      "63/63 [==============================] - 0s 2ms/step - loss: 0.4422 - recall: 0.7693\n",
      "Epoch 159/200\n",
      "63/63 [==============================] - 0s 2ms/step - loss: 0.4402 - recall: 0.7675\n",
      "Epoch 160/200\n",
      "63/63 [==============================] - 0s 2ms/step - loss: 0.4406 - recall: 0.7828\n",
      "Epoch 161/200\n",
      "63/63 [==============================] - 0s 2ms/step - loss: 0.4418 - recall: 0.7644\n",
      "Epoch 162/200\n",
      "63/63 [==============================] - 0s 2ms/step - loss: 0.4407 - recall: 0.7675\n",
      "Epoch 163/200\n",
      "63/63 [==============================] - 0s 2ms/step - loss: 0.4409 - recall: 0.7755\n",
      "Epoch 164/200\n",
      "63/63 [==============================] - 0s 2ms/step - loss: 0.4392 - recall: 0.7779\n",
      "Epoch 165/200\n",
      "63/63 [==============================] - 0s 2ms/step - loss: 0.4388 - recall: 0.7847\n",
      "Epoch 166/200\n",
      "63/63 [==============================] - 0s 2ms/step - loss: 0.4398 - recall: 0.7718\n",
      "Epoch 167/200\n",
      "63/63 [==============================] - ETA: 0s - loss: 0.4390 - recall: 0.78 - 0s 2ms/step - loss: 0.4386 - recall: 0.7791\n",
      "Epoch 168/200\n",
      "63/63 [==============================] - 0s 2ms/step - loss: 0.4398 - recall: 0.7755\n",
      "Epoch 169/200\n",
      "63/63 [==============================] - 0s 2ms/step - loss: 0.4391 - recall: 0.7736\n",
      "Epoch 170/200\n",
      "63/63 [==============================] - 0s 2ms/step - loss: 0.4414 - recall: 0.7840\n",
      "Epoch 171/200\n",
      "63/63 [==============================] - 0s 2ms/step - loss: 0.4406 - recall: 0.7699\n",
      "Epoch 172/200\n",
      "63/63 [==============================] - 0s 2ms/step - loss: 0.4398 - recall: 0.7748\n",
      "Epoch 173/200\n",
      "63/63 [==============================] - 0s 2ms/step - loss: 0.4400 - recall: 0.7693\n",
      "Epoch 174/200\n",
      "63/63 [==============================] - 0s 2ms/step - loss: 0.4395 - recall: 0.7755\n",
      "Epoch 175/200\n",
      "63/63 [==============================] - 0s 3ms/step - loss: 0.4419 - recall: 0.7706\n",
      "Epoch 176/200\n",
      "63/63 [==============================] - 0s 3ms/step - loss: 0.4387 - recall: 0.7847\n",
      "Epoch 177/200\n",
      "63/63 [==============================] - 0s 2ms/step - loss: 0.4415 - recall: 0.7761\n",
      "Epoch 178/200\n",
      "63/63 [==============================] - 0s 3ms/step - loss: 0.4383 - recall: 0.7822\n",
      "Epoch 179/200\n",
      "63/63 [==============================] - 0s 3ms/step - loss: 0.4400 - recall: 0.7748\n",
      "Epoch 180/200\n",
      "63/63 [==============================] - 0s 2ms/step - loss: 0.4418 - recall: 0.7730\n",
      "Epoch 181/200\n",
      "63/63 [==============================] - 0s 3ms/step - loss: 0.4404 - recall: 0.7748\n",
      "Epoch 182/200\n",
      "63/63 [==============================] - 0s 2ms/step - loss: 0.4395 - recall: 0.7706\n",
      "Epoch 183/200\n",
      "63/63 [==============================] - 0s 2ms/step - loss: 0.4386 - recall: 0.7804\n",
      "Epoch 184/200\n",
      "63/63 [==============================] - 0s 2ms/step - loss: 0.4386 - recall: 0.7687\n",
      "Epoch 185/200\n",
      "63/63 [==============================] - 0s 2ms/step - loss: 0.4377 - recall: 0.7742\n",
      "Epoch 186/200\n",
      "63/63 [==============================] - 0s 3ms/step - loss: 0.4382 - recall: 0.7767\n",
      "Epoch 187/200\n",
      "63/63 [==============================] - 0s 3ms/step - loss: 0.4372 - recall: 0.7773\n",
      "Epoch 188/200\n",
      "63/63 [==============================] - 0s 2ms/step - loss: 0.4380 - recall: 0.7779\n",
      "Epoch 189/200\n",
      "63/63 [==============================] - 0s 2ms/step - loss: 0.4399 - recall: 0.7736\n",
      "Epoch 190/200\n",
      "63/63 [==============================] - 0s 2ms/step - loss: 0.4394 - recall: 0.7773\n",
      "Epoch 191/200\n",
      "63/63 [==============================] - 0s 2ms/step - loss: 0.4373 - recall: 0.7718\n",
      "Epoch 192/200\n",
      "63/63 [==============================] - 0s 2ms/step - loss: 0.4371 - recall: 0.7706\n",
      "Epoch 193/200\n",
      "63/63 [==============================] - 0s 2ms/step - loss: 0.4383 - recall: 0.7687\n",
      "Epoch 194/200\n",
      "63/63 [==============================] - 0s 2ms/step - loss: 0.4389 - recall: 0.7816\n",
      "Epoch 195/200\n",
      "63/63 [==============================] - 0s 2ms/step - loss: 0.4375 - recall: 0.7773\n",
      "Epoch 196/200\n",
      "63/63 [==============================] - 0s 2ms/step - loss: 0.4383 - recall: 0.7798\n",
      "Epoch 197/200\n",
      "63/63 [==============================] - 0s 2ms/step - loss: 0.4366 - recall: 0.7853\n",
      "Epoch 198/200\n",
      "63/63 [==============================] - 0s 2ms/step - loss: 0.4384 - recall: 0.7761\n",
      "Epoch 199/200\n",
      "63/63 [==============================] - 0s 2ms/step - loss: 0.4396 - recall: 0.7853\n",
      "Epoch 200/200\n",
      "63/63 [==============================] - 0s 2ms/step - loss: 0.4401 - recall: 0.7755\n"
     ]
    }
   ],
   "source": [
    "tf.random.set_seed(seed)\n",
    "\n",
    "classifier = KerasClassifier(build_fn=build_classifier, epochs=200)\n",
    "parameters = {'batch_size': [128, 256], 'optimizer': [Adam, RMSprop, Nadam, Adadelta, SGD], 'learn_rate': [0.001, 0.003, 0.005]}\n",
    "grid_model = GridSearchCV(estimator=classifier,param_grid=parameters, scoring='recall', cv=5,n_jobs=-1, verbose=0).fit(X_train, y_train, class_weight=class_weights)"
   ]
  },
  {
   "cell_type": "code",
   "execution_count": 113,
   "metadata": {},
   "outputs": [
    {
     "data": {
      "text/plain": [
       "0.7642002502067757"
      ]
     },
     "execution_count": 113,
     "metadata": {},
     "output_type": "execute_result"
    }
   ],
   "source": [
    "grid_model.best_score_"
   ]
  },
  {
   "cell_type": "code",
   "execution_count": 114,
   "metadata": {},
   "outputs": [
    {
     "data": {
      "text/plain": [
       "{'batch_size': 128,\n",
       " 'learn_rate': 0.003,\n",
       " 'optimizer': keras.optimizer_v2.adam.Adam}"
      ]
     },
     "execution_count": 114,
     "metadata": {},
     "output_type": "execute_result"
    }
   ],
   "source": [
    "grid_model.best_params_"
   ]
  },
  {
   "cell_type": "code",
   "execution_count": 115,
   "metadata": {},
   "outputs": [
    {
     "name": "stdout",
     "output_type": "stream",
     "text": [
      "[[1256  337]\n",
      " [  97  310]]\n",
      "              precision    recall  f1-score   support\n",
      "\n",
      "           0       0.93      0.79      0.85      1593\n",
      "           1       0.48      0.76      0.59       407\n",
      "\n",
      "    accuracy                           0.78      2000\n",
      "   macro avg       0.70      0.78      0.72      2000\n",
      "weighted avg       0.84      0.78      0.80      2000\n",
      "\n"
     ]
    }
   ],
   "source": [
    "y_pred = grid_model.predict(X_test)\n",
    "print(confusion_matrix(y_test, y_pred))\n",
    "print(classification_report(y_test, y_pred))\n"
   ]
  },
  {
   "cell_type": "markdown",
   "metadata": {},
   "source": [
    "#### ROC-AUC"
   ]
  },
  {
   "cell_type": "code",
   "execution_count": 116,
   "metadata": {},
   "outputs": [
    {
     "data": {
      "image/png": "[encoded data removed]",
      "text/plain": [
       "<Figure size 864x432 with 1 Axes>"
      ]
     },
     "metadata": {},
     "output_type": "display_data"
    }
   ],
   "source": [
    "y_pred_proba = grid_model.predict(X_test)\n",
    "precisions, recalls, thresholds = precision_recall_curve(y_test, y_pred_proba)\n",
    "plt.plot(recalls, precisions, label='ANN')\n",
    "plt.xlabel('recalls')\n",
    "plt.ylabel('precisions')\n",
    "plt.title('Precision-Recall curve')\n",
    "plt.show()"
   ]
  },
  {
   "cell_type": "code",
   "execution_count": 117,
   "metadata": {},
   "outputs": [
    {
     "data": {
      "text/plain": [
       "0.4134427142471964"
      ]
     },
     "execution_count": 117,
     "metadata": {},
     "output_type": "execute_result"
    }
   ],
   "source": [
    "average_precision_score(y_test, y_pred_proba)"
   ]
  },
  {
   "cell_type": "markdown",
   "metadata": {},
   "source": [
    "## Final Model and Model Deployment"
   ]
  },
  {
   "cell_type": "code",
   "execution_count": 118,
   "metadata": {},
   "outputs": [],
   "source": [
    "import pickle\n",
    "\n",
    "pickle.dump(scaler, open(\"scaler_churn\", 'wb'))"
   ]
  },
  {
   "cell_type": "code",
   "execution_count": 119,
   "metadata": {
    "scrolled": true,
    "tags": []
   },
   "outputs": [
    {
     "name": "stdout",
     "output_type": "stream",
     "text": [
      "Epoch 1/200\n",
      "32/32 [==============================] - 1s 8ms/step - loss: 0.6786 - recall: 0.4117 - val_loss: 0.6552 - val_recall: 0.4840\n",
      "Epoch 2/200\n",
      "32/32 [==============================] - 0s 2ms/step - loss: 0.6474 - recall: 0.6117 - val_loss: 0.6522 - val_recall: 0.6929\n",
      "Epoch 3/200\n",
      "32/32 [==============================] - 0s 3ms/step - loss: 0.6248 - recall: 0.6472 - val_loss: 0.6159 - val_recall: 0.6290\n",
      "Epoch 4/200\n",
      "32/32 [==============================] - 0s 3ms/step - loss: 0.6117 - recall: 0.6607 - val_loss: 0.6378 - val_recall: 0.7199\n",
      "Epoch 5/200\n",
      "32/32 [==============================] - 0s 3ms/step - loss: 0.5992 - recall: 0.6865 - val_loss: 0.6885 - val_recall: 0.8059\n",
      "Epoch 6/200\n",
      "32/32 [==============================] - 0s 3ms/step - loss: 0.5913 - recall: 0.7104 - val_loss: 0.5532 - val_recall: 0.6339\n",
      "Epoch 7/200\n",
      "32/32 [==============================] - 0s 3ms/step - loss: 0.5811 - recall: 0.6945 - val_loss: 0.5769 - val_recall: 0.6757\n",
      "Epoch 8/200\n",
      "32/32 [==============================] - 0s 3ms/step - loss: 0.5732 - recall: 0.7080 - val_loss: 0.5812 - val_recall: 0.7052\n",
      "Epoch 9/200\n",
      "32/32 [==============================] - 0s 3ms/step - loss: 0.5652 - recall: 0.6988 - val_loss: 0.5551 - val_recall: 0.7002\n",
      "Epoch 10/200\n",
      "32/32 [==============================] - 0s 3ms/step - loss: 0.5568 - recall: 0.7061 - val_loss: 0.5172 - val_recall: 0.6634\n",
      "Epoch 11/200\n",
      "32/32 [==============================] - 0s 3ms/step - loss: 0.5537 - recall: 0.7080 - val_loss: 0.5157 - val_recall: 0.6732\n",
      "Epoch 12/200\n",
      "32/32 [==============================] - 0s 3ms/step - loss: 0.5412 - recall: 0.7258 - val_loss: 0.5050 - val_recall: 0.6830\n",
      "Epoch 13/200\n",
      "32/32 [==============================] - 0s 3ms/step - loss: 0.5360 - recall: 0.7276 - val_loss: 0.5051 - val_recall: 0.6953\n",
      "Epoch 14/200\n",
      "32/32 [==============================] - 0s 3ms/step - loss: 0.5285 - recall: 0.7337 - val_loss: 0.5023 - val_recall: 0.7101\n",
      "Epoch 15/200\n",
      "32/32 [==============================] - 0s 3ms/step - loss: 0.5218 - recall: 0.7429 - val_loss: 0.5009 - val_recall: 0.7248\n",
      "Epoch 16/200\n",
      "32/32 [==============================] - 0s 3ms/step - loss: 0.5147 - recall: 0.7411 - val_loss: 0.4967 - val_recall: 0.7396\n",
      "Epoch 17/200\n",
      "32/32 [==============================] - 0s 3ms/step - loss: 0.5093 - recall: 0.7589 - val_loss: 0.5040 - val_recall: 0.7592\n",
      "Epoch 18/200\n",
      "32/32 [==============================] - 0s 3ms/step - loss: 0.5041 - recall: 0.7460 - val_loss: 0.5224 - val_recall: 0.7961\n",
      "Epoch 19/200\n",
      "32/32 [==============================] - 0s 3ms/step - loss: 0.5021 - recall: 0.7528 - val_loss: 0.5417 - val_recall: 0.8157\n",
      "Epoch 20/200\n",
      "32/32 [==============================] - 0s 3ms/step - loss: 0.4961 - recall: 0.7601 - val_loss: 0.4913 - val_recall: 0.7715\n",
      "Epoch 21/200\n",
      "32/32 [==============================] - 0s 3ms/step - loss: 0.4909 - recall: 0.7595 - val_loss: 0.5545 - val_recall: 0.8133\n",
      "Epoch 22/200\n",
      "32/32 [==============================] - 0s 3ms/step - loss: 0.4908 - recall: 0.7663 - val_loss: 0.4992 - val_recall: 0.7838\n",
      "Epoch 23/200\n",
      "32/32 [==============================] - 0s 3ms/step - loss: 0.4861 - recall: 0.7558 - val_loss: 0.4976 - val_recall: 0.7838\n",
      "Epoch 24/200\n",
      "32/32 [==============================] - 0s 3ms/step - loss: 0.4867 - recall: 0.7607 - val_loss: 0.5033 - val_recall: 0.7936\n",
      "Epoch 25/200\n",
      "32/32 [==============================] - 0s 3ms/step - loss: 0.4832 - recall: 0.7546 - val_loss: 0.5098 - val_recall: 0.7961\n",
      "Epoch 26/200\n",
      "32/32 [==============================] - 0s 3ms/step - loss: 0.4825 - recall: 0.7687 - val_loss: 0.5209 - val_recall: 0.8084\n",
      "Epoch 27/200\n",
      "32/32 [==============================] - 0s 3ms/step - loss: 0.4830 - recall: 0.7546 - val_loss: 0.4618 - val_recall: 0.7568\n",
      "Epoch 28/200\n",
      "32/32 [==============================] - 0s 3ms/step - loss: 0.4793 - recall: 0.7632 - val_loss: 0.4634 - val_recall: 0.7420\n",
      "Epoch 29/200\n",
      "32/32 [==============================] - 0s 3ms/step - loss: 0.4812 - recall: 0.7706 - val_loss: 0.4379 - val_recall: 0.7125\n",
      "Epoch 30/200\n",
      "32/32 [==============================] - 0s 3ms/step - loss: 0.4785 - recall: 0.7663 - val_loss: 0.5532 - val_recall: 0.8206\n",
      "Epoch 31/200\n",
      "32/32 [==============================] - 0s 3ms/step - loss: 0.4782 - recall: 0.7595 - val_loss: 0.5412 - val_recall: 0.8182\n",
      "Epoch 32/200\n",
      "32/32 [==============================] - 0s 3ms/step - loss: 0.4760 - recall: 0.7730 - val_loss: 0.4510 - val_recall: 0.7543\n",
      "Epoch 33/200\n",
      "32/32 [==============================] - 0s 3ms/step - loss: 0.4789 - recall: 0.7528 - val_loss: 0.4690 - val_recall: 0.7641\n",
      "Epoch 34/200\n",
      "32/32 [==============================] - 0s 3ms/step - loss: 0.4743 - recall: 0.7613 - val_loss: 0.4608 - val_recall: 0.7518\n",
      "Epoch 35/200\n",
      "32/32 [==============================] - 0s 2ms/step - loss: 0.4731 - recall: 0.7620 - val_loss: 0.4488 - val_recall: 0.7469\n",
      "Epoch 36/200\n",
      "32/32 [==============================] - 0s 2ms/step - loss: 0.4710 - recall: 0.7761 - val_loss: 0.4951 - val_recall: 0.7912\n",
      "Epoch 37/200\n",
      "32/32 [==============================] - 0s 2ms/step - loss: 0.4714 - recall: 0.7564 - val_loss: 0.4283 - val_recall: 0.7125\n",
      "Epoch 38/200\n",
      "32/32 [==============================] - 0s 3ms/step - loss: 0.4712 - recall: 0.7663 - val_loss: 0.5212 - val_recall: 0.8010\n",
      "Epoch 39/200\n",
      "32/32 [==============================] - 0s 3ms/step - loss: 0.4710 - recall: 0.7718 - val_loss: 0.4420 - val_recall: 0.7297\n",
      "Epoch 40/200\n",
      "32/32 [==============================] - 0s 3ms/step - loss: 0.4693 - recall: 0.7613 - val_loss: 0.5468 - val_recall: 0.8256\n",
      "Epoch 41/200\n",
      "32/32 [==============================] - 0s 3ms/step - loss: 0.4719 - recall: 0.7779 - val_loss: 0.4290 - val_recall: 0.7174\n",
      "Epoch 42/200\n",
      "32/32 [==============================] - 0s 3ms/step - loss: 0.4699 - recall: 0.7663 - val_loss: 0.4664 - val_recall: 0.7690\n",
      "Epoch 43/200\n",
      "32/32 [==============================] - 0s 3ms/step - loss: 0.4696 - recall: 0.7601 - val_loss: 0.5422 - val_recall: 0.8206\n",
      "Epoch 44/200\n",
      "32/32 [==============================] - 0s 2ms/step - loss: 0.4709 - recall: 0.7779 - val_loss: 0.4651 - val_recall: 0.7543\n",
      "Epoch 45/200\n",
      "32/32 [==============================] - 0s 2ms/step - loss: 0.4703 - recall: 0.7620 - val_loss: 0.4389 - val_recall: 0.7297\n",
      "Epoch 46/200\n",
      "32/32 [==============================] - 0s 3ms/step - loss: 0.4771 - recall: 0.7571 - val_loss: 0.4444 - val_recall: 0.7494\n",
      "Epoch 47/200\n",
      "32/32 [==============================] - 0s 3ms/step - loss: 0.4669 - recall: 0.7601 - val_loss: 0.4904 - val_recall: 0.8010\n",
      "Epoch 48/200\n",
      "32/32 [==============================] - 0s 3ms/step - loss: 0.4767 - recall: 0.7558 - val_loss: 0.4900 - val_recall: 0.7887\n",
      "Epoch 49/200\n",
      "32/32 [==============================] - 0s 3ms/step - loss: 0.4689 - recall: 0.7779 - val_loss: 0.4720 - val_recall: 0.7715\n",
      "Epoch 50/200\n",
      "32/32 [==============================] - 0s 2ms/step - loss: 0.4641 - recall: 0.7638 - val_loss: 0.4458 - val_recall: 0.7469\n",
      "Epoch 51/200\n",
      "32/32 [==============================] - 0s 2ms/step - loss: 0.4641 - recall: 0.7730 - val_loss: 0.4764 - val_recall: 0.7666\n",
      "Epoch 52/200\n",
      "32/32 [==============================] - 0s 2ms/step - loss: 0.4645 - recall: 0.7669 - val_loss: 0.4989 - val_recall: 0.7961\n",
      "Epoch 00052: early stopping\n"
     ]
    },
    {
     "data": {
      "text/plain": [
       "<keras.callbacks.History at 0x185a8acfe50>"
      ]
     },
     "execution_count": 119,
     "metadata": {},
     "output_type": "execute_result"
    }
   ],
   "source": [
    "tf.random.set_seed(seed)\n",
    "\n",
    "model = Sequential()\n",
    "\n",
    "model.add(Dense(16, activation=\"relu\"))\n",
    "model.add(Dense(8, activation=\"relu\"))\n",
    "model.add(Dense(1, activation=\"sigmoid\"))\n",
    "\n",
    "opt = Adam(lr=0.003)\n",
    "\n",
    "model.compile(optimizer=opt,\n",
    "              loss=\"binary_crossentropy\",\n",
    "              metrics=[\"Recall\"])\n",
    "\n",
    "model.fit(x=X_train,\n",
    "          y=y_train,\n",
    "          validation_data=(X_test, y_test), \n",
    "          callbacks=[early_stop],\n",
    "          batch_size=256,\n",
    "          epochs=200,\n",
    "          verbose=1,\n",
    "          class_weight=class_weights)    \n",
    "# {'batch_size': 256,'learn_rate': 0.003,'optimizer': keras.optimizer_v2.adam.Adam}\n",
    "# pay attention!! validation data "
   ]
  },
  {
   "cell_type": "code",
   "execution_count": 120,
   "metadata": {},
   "outputs": [
    {
     "data": {
      "text/plain": [
       "<AxesSubplot:>"
      ]
     },
     "execution_count": 120,
     "metadata": {},
     "output_type": "execute_result"
    },
    {
     "data": {
      "image/png": "[encoded data removed]",
      "text/plain": [
       "<Figure size 864x432 with 1 Axes>"
      ]
     },
     "metadata": {},
     "output_type": "display_data"
    }
   ],
   "source": [
    "loss_df = pd.DataFrame(model.history.history)\n",
    "loss_df.plot()"
   ]
  },
  {
   "cell_type": "code",
   "execution_count": 121,
   "metadata": {},
   "outputs": [
    {
     "name": "stdout",
     "output_type": "stream",
     "text": [
      "loss :  0.49886608123779297\n",
      "recall :  0.7960687875747681\n"
     ]
    }
   ],
   "source": [
    "loss, recall = model.evaluate(X_test, y_test, verbose=0)\n",
    "print(\"loss : \", loss)\n",
    "print(\"recall : \", recall)"
   ]
  },
  {
   "cell_type": "code",
   "execution_count": 122,
   "metadata": {},
   "outputs": [
    {
     "name": "stdout",
     "output_type": "stream",
     "text": [
      "[[1168  425]\n",
      " [  83  324]]\n",
      "              precision    recall  f1-score   support\n",
      "\n",
      "           0       0.93      0.73      0.82      1593\n",
      "           1       0.43      0.80      0.56       407\n",
      "\n",
      "    accuracy                           0.75      2000\n",
      "   macro avg       0.68      0.76      0.69      2000\n",
      "weighted avg       0.83      0.75      0.77      2000\n",
      "\n"
     ]
    }
   ],
   "source": [
    "y_pred = (model.predict(X_test) > 0.5).astype(\"int32\")\n",
    "print(confusion_matrix(y_test, y_pred))\n",
    "print(classification_report(y_test, y_pred))"
   ]
  },
  {
   "cell_type": "code",
   "execution_count": 123,
   "metadata": {},
   "outputs": [],
   "source": [
    "model.save('model_churn.h5')"
   ]
  },
  {
   "cell_type": "markdown",
   "metadata": {
    "id": "Cq10ovAX6daY"
   },
   "source": [
    "### Prediction"
   ]
  },
  {
   "cell_type": "code",
   "execution_count": 124,
   "metadata": {},
   "outputs": [
    {
     "data": {
      "text/plain": [
       "CreditScore            759.000\n",
       "Age                     38.000\n",
       "Tenure                   1.000\n",
       "Balance             104091.290\n",
       "NumOfProducts            1.000\n",
       "HasCrCard                0.000\n",
       "IsActiveMember           0.000\n",
       "EstimatedSalary      91561.910\n",
       "Geography_Germany        0.000\n",
       "Geography_Spain          0.000\n",
       "Gender_Male              0.000\n",
       "Name: 1000, dtype: float64"
      ]
     },
     "execution_count": 124,
     "metadata": {},
     "output_type": "execute_result"
    }
   ],
   "source": [
    "single_customer = df.drop('Exited', axis=1).iloc[999]\n",
    "single_customer"
   ]
  },
  {
   "cell_type": "code",
   "execution_count": 125,
   "metadata": {},
   "outputs": [
    {
     "data": {
      "text/plain": [
       "array([[0.818     , 0.27027027, 0.1       , 0.43664732, 0.        ,\n",
       "        0.        , 0.        , 0.45779537, 0.        , 0.        ,\n",
       "        0.        ]])"
      ]
     },
     "execution_count": 125,
     "metadata": {},
     "output_type": "execute_result"
    }
   ],
   "source": [
    "single_customer = scaler.transform(single_customer.values.reshape(-1, 11))\n",
    "single_customer"
   ]
  },
  {
   "cell_type": "code",
   "execution_count": 126,
   "metadata": {},
   "outputs": [
    {
     "data": {
      "text/plain": [
       "array([[0]])"
      ]
     },
     "execution_count": 126,
     "metadata": {},
     "output_type": "execute_result"
    }
   ],
   "source": [
    "y_pred =(model.predict(single_customer) > 0.5).astype(\"int32\")\n",
    "y_pred"
   ]
  },
  {
   "cell_type": "code",
   "execution_count": 127,
   "metadata": {},
   "outputs": [
    {
     "data": {
      "text/plain": [
       "0"
      ]
     },
     "execution_count": 127,
     "metadata": {},
     "output_type": "execute_result"
    }
   ],
   "source": [
    "df[\"Exited\"].iloc[999]"
   ]
  },
  {
   "cell_type": "markdown",
   "metadata": {},
   "source": [
    "___\n",
    "\n",
    "<p style=\"text-align: center;\"><img src=\"https://docs.google.com/uc?id=1lY0Uj5R04yMY3-ZppPWxqCr5pvBLYPnV\" class=\"img-fluid\" alt=\"CLRSWY\"></p>\n",
    "\n",
    "___"
   ]
  }
 ],
 "metadata": {
  "colab": {
   "authorship_tag": "ABX9TyPKBWWuNpSuP7DHsa+Zpo3l",
   "collapsed_sections": [],
   "name": "Untitled0.ipynb",
   "provenance": []
  },
  "kernelspec": {
   "display_name": "Python 3 (ipykernel)",
   "language": "python",
   "name": "python3"
  },
  "language_info": {
   "codemirror_mode": {
    "name": "ipython",
    "version": 3
   },
   "file_extension": ".py",
   "mimetype": "text/x-python",
   "name": "python",
   "nbconvert_exporter": "python",
   "pygments_lexer": "ipython3",
   "version": "3.7.11"
  }
 },
 "nbformat": 4,
 "nbformat_minor": 4
}

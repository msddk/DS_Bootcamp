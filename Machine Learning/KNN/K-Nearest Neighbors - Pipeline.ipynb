{
  "cells": [
    {
      "cell_type": "markdown",
      "id": "passive-costa",
      "metadata": {
        "id": "passive-costa"
      },
      "source": [
        "# K-Nearest Neighbors(KNN)"
      ]
    },
    {
      "cell_type": "markdown",
      "source": [
        "## Import Libraries and Dataset"
      ],
      "metadata": {
        "id": "tgDuSCcLATva"
      },
      "id": "tgDuSCcLATva"
    },
    {
      "cell_type": "code",
      "execution_count": 1,
      "id": "prime-second",
      "metadata": {
        "ExecuteTime": {
          "end_time": "2022-08-25T14:39:09.664667Z",
          "start_time": "2022-08-25T14:39:08.545737Z"
        },
        "id": "prime-second"
      },
      "outputs": [],
      "source": [
        "import numpy as np\n",
        "import pandas as pd\n",
        "import matplotlib.pyplot as plt\n",
        "import seaborn as sns\n",
        "plt.rcParams[\"figure.figsize\"] = (10,6)\n",
        "import warnings\n",
        "warnings.filterwarnings(\"ignore\")\n",
        "warnings.warn(\"this will not show\")"
      ]
    },
    {
      "cell_type": "code",
      "source": [
        "# import matplotlib\n",
        "# matplotlib.__version__"
      ],
      "metadata": {
        "id": "VyaKfy7PA8X3"
      },
      "id": "VyaKfy7PA8X3",
      "execution_count": null,
      "outputs": []
    },
    {
      "cell_type": "code",
      "source": [
        "# pip install -U matplotlib"
      ],
      "metadata": {
        "id": "a0hrbJU3BLGZ"
      },
      "id": "a0hrbJU3BLGZ",
      "execution_count": null,
      "outputs": []
    },
    {
      "cell_type": "code",
      "execution_count": 2,
      "id": "decimal-ownership",
      "metadata": {
        "ExecuteTime": {
          "end_time": "2022-08-25T14:39:09.680549Z",
          "start_time": "2022-08-25T14:39:09.664667Z"
        },
        "id": "decimal-ownership",
        "outputId": "090501ce-cb94-453b-9062-53bc8a37f886",
        "colab": {
          "base_uri": "https://localhost:8080/",
          "height": 206
        }
      },
      "outputs": [
        {
          "output_type": "execute_result",
          "data": {
            "text/plain": [
              "   Gene One  Gene Two  Cancer Present\n",
              "0       4.3       3.9               1\n",
              "1       2.5       6.3               0\n",
              "2       5.7       3.9               1\n",
              "3       6.1       6.2               0\n",
              "4       7.4       3.4               1"
            ],
            "text/html": [
              "\n",
              "  <div id=\"df-e08f0577-44de-4827-83cd-5cdcf2b5a35a\">\n",
              "    <div class=\"colab-df-container\">\n",
              "      <div>\n",
              "<style scoped>\n",
              "    .dataframe tbody tr th:only-of-type {\n",
              "        vertical-align: middle;\n",
              "    }\n",
              "\n",
              "    .dataframe tbody tr th {\n",
              "        vertical-align: top;\n",
              "    }\n",
              "\n",
              "    .dataframe thead th {\n",
              "        text-align: right;\n",
              "    }\n",
              "</style>\n",
              "<table border=\"1\" class=\"dataframe\">\n",
              "  <thead>\n",
              "    <tr style=\"text-align: right;\">\n",
              "      <th></th>\n",
              "      <th>Gene One</th>\n",
              "      <th>Gene Two</th>\n",
              "      <th>Cancer Present</th>\n",
              "    </tr>\n",
              "  </thead>\n",
              "  <tbody>\n",
              "    <tr>\n",
              "      <th>0</th>\n",
              "      <td>4.3</td>\n",
              "      <td>3.9</td>\n",
              "      <td>1</td>\n",
              "    </tr>\n",
              "    <tr>\n",
              "      <th>1</th>\n",
              "      <td>2.5</td>\n",
              "      <td>6.3</td>\n",
              "      <td>0</td>\n",
              "    </tr>\n",
              "    <tr>\n",
              "      <th>2</th>\n",
              "      <td>5.7</td>\n",
              "      <td>3.9</td>\n",
              "      <td>1</td>\n",
              "    </tr>\n",
              "    <tr>\n",
              "      <th>3</th>\n",
              "      <td>6.1</td>\n",
              "      <td>6.2</td>\n",
              "      <td>0</td>\n",
              "    </tr>\n",
              "    <tr>\n",
              "      <th>4</th>\n",
              "      <td>7.4</td>\n",
              "      <td>3.4</td>\n",
              "      <td>1</td>\n",
              "    </tr>\n",
              "  </tbody>\n",
              "</table>\n",
              "</div>\n",
              "      <button class=\"colab-df-convert\" onclick=\"convertToInteractive('df-e08f0577-44de-4827-83cd-5cdcf2b5a35a')\"\n",
              "              title=\"Convert this dataframe to an interactive table.\"\n",
              "              style=\"display:none;\">\n",
              "        \n",
              "  <svg xmlns=\"http://www.w3.org/2000/svg\" height=\"24px\"viewBox=\"0 0 24 24\"\n",
              "       width=\"24px\">\n",
              "    <path d=\"M0 0h24v24H0V0z\" fill=\"none\"/>\n",
              "    <path d=\"M18.56 5.44l.94 2.06.94-2.06 2.06-.94-2.06-.94-.94-2.06-.94 2.06-2.06.94zm-11 1L8.5 8.5l.94-2.06 2.06-.94-2.06-.94L8.5 2.5l-.94 2.06-2.06.94zm10 10l.94 2.06.94-2.06 2.06-.94-2.06-.94-.94-2.06-.94 2.06-2.06.94z\"/><path d=\"M17.41 7.96l-1.37-1.37c-.4-.4-.92-.59-1.43-.59-.52 0-1.04.2-1.43.59L10.3 9.45l-7.72 7.72c-.78.78-.78 2.05 0 2.83L4 21.41c.39.39.9.59 1.41.59.51 0 1.02-.2 1.41-.59l7.78-7.78 2.81-2.81c.8-.78.8-2.07 0-2.86zM5.41 20L4 18.59l7.72-7.72 1.47 1.35L5.41 20z\"/>\n",
              "  </svg>\n",
              "      </button>\n",
              "      \n",
              "  <style>\n",
              "    .colab-df-container {\n",
              "      display:flex;\n",
              "      flex-wrap:wrap;\n",
              "      gap: 12px;\n",
              "    }\n",
              "\n",
              "    .colab-df-convert {\n",
              "      background-color: #E8F0FE;\n",
              "      border: none;\n",
              "      border-radius: 50%;\n",
              "      cursor: pointer;\n",
              "      display: none;\n",
              "      fill: #1967D2;\n",
              "      height: 32px;\n",
              "      padding: 0 0 0 0;\n",
              "      width: 32px;\n",
              "    }\n",
              "\n",
              "    .colab-df-convert:hover {\n",
              "      background-color: #E2EBFA;\n",
              "      box-shadow: 0px 1px 2px rgba(60, 64, 67, 0.3), 0px 1px 3px 1px rgba(60, 64, 67, 0.15);\n",
              "      fill: #174EA6;\n",
              "    }\n",
              "\n",
              "    [theme=dark] .colab-df-convert {\n",
              "      background-color: #3B4455;\n",
              "      fill: #D2E3FC;\n",
              "    }\n",
              "\n",
              "    [theme=dark] .colab-df-convert:hover {\n",
              "      background-color: #434B5C;\n",
              "      box-shadow: 0px 1px 3px 1px rgba(0, 0, 0, 0.15);\n",
              "      filter: drop-shadow(0px 1px 2px rgba(0, 0, 0, 0.3));\n",
              "      fill: #FFFFFF;\n",
              "    }\n",
              "  </style>\n",
              "\n",
              "      <script>\n",
              "        const buttonEl =\n",
              "          document.querySelector('#df-e08f0577-44de-4827-83cd-5cdcf2b5a35a button.colab-df-convert');\n",
              "        buttonEl.style.display =\n",
              "          google.colab.kernel.accessAllowed ? 'block' : 'none';\n",
              "\n",
              "        async function convertToInteractive(key) {\n",
              "          const element = document.querySelector('#df-e08f0577-44de-4827-83cd-5cdcf2b5a35a');\n",
              "          const dataTable =\n",
              "            await google.colab.kernel.invokeFunction('convertToInteractive',\n",
              "                                                     [key], {});\n",
              "          if (!dataTable) return;\n",
              "\n",
              "          const docLinkHtml = 'Like what you see? Visit the ' +\n",
              "            '<a target=\"_blank\" href=https://colab.research.google.com/notebooks/data_table.ipynb>data table notebook</a>'\n",
              "            + ' to learn more about interactive tables.';\n",
              "          element.innerHTML = '';\n",
              "          dataTable['output_type'] = 'display_data';\n",
              "          await google.colab.output.renderOutput(dataTable, element);\n",
              "          const docLink = document.createElement('div');\n",
              "          docLink.innerHTML = docLinkHtml;\n",
              "          element.appendChild(docLink);\n",
              "        }\n",
              "      </script>\n",
              "    </div>\n",
              "  </div>\n",
              "  "
            ]
          },
          "metadata": {},
          "execution_count": 2
        }
      ],
      "source": [
        "df = pd.read_csv('https://raw.githubusercontent.com/msddk/DS_Bootcamp/main/Machine%20Learning/KNN/gene_expression.csv')\n",
        "df.head()"
      ]
    },
    {
      "cell_type": "markdown",
      "id": "therapeutic-campaign",
      "metadata": {
        "id": "therapeutic-campaign"
      },
      "source": [
        "## Exploratory Data Analysis and Visualization"
      ]
    },
    {
      "cell_type": "code",
      "execution_count": 3,
      "id": "outdoor-fountain",
      "metadata": {
        "ExecuteTime": {
          "end_time": "2022-08-25T14:39:09.696563Z",
          "start_time": "2022-08-25T14:39:09.681543Z"
        },
        "id": "outdoor-fountain",
        "outputId": "35c5eaed-6cf0-4e69-a839-039ef710f818",
        "colab": {
          "base_uri": "https://localhost:8080/"
        }
      },
      "outputs": [
        {
          "output_type": "stream",
          "name": "stdout",
          "text": [
            "<class 'pandas.core.frame.DataFrame'>\n",
            "RangeIndex: 3000 entries, 0 to 2999\n",
            "Data columns (total 3 columns):\n",
            " #   Column          Non-Null Count  Dtype  \n",
            "---  ------          --------------  -----  \n",
            " 0   Gene One        3000 non-null   float64\n",
            " 1   Gene Two        3000 non-null   float64\n",
            " 2   Cancer Present  3000 non-null   int64  \n",
            "dtypes: float64(2), int64(1)\n",
            "memory usage: 70.4 KB\n"
          ]
        }
      ],
      "source": [
        "df.info()"
      ]
    },
    {
      "cell_type": "code",
      "execution_count": 4,
      "id": "informal-tamil",
      "metadata": {
        "ExecuteTime": {
          "end_time": "2022-08-25T14:39:09.712510Z",
          "start_time": "2022-08-25T14:39:09.697556Z"
        },
        "id": "informal-tamil",
        "outputId": "b0ef6f86-7d2a-4a7c-bbd4-d1cb127958bf",
        "colab": {
          "base_uri": "https://localhost:8080/",
          "height": 300
        }
      },
      "outputs": [
        {
          "output_type": "execute_result",
          "data": {
            "text/plain": [
              "          Gene One     Gene Two  Cancer Present\n",
              "count  3000.000000  3000.000000     3000.000000\n",
              "mean      5.600133     5.410467        0.500000\n",
              "std       1.828388     1.729081        0.500083\n",
              "min       1.000000     1.000000        0.000000\n",
              "25%       4.300000     4.000000        0.000000\n",
              "50%       5.600000     5.400000        0.500000\n",
              "75%       6.900000     6.700000        1.000000\n",
              "max      10.000000    10.000000        1.000000"
            ],
            "text/html": [
              "\n",
              "  <div id=\"df-10c32d54-970d-4793-aa00-7f1cd4d669eb\">\n",
              "    <div class=\"colab-df-container\">\n",
              "      <div>\n",
              "<style scoped>\n",
              "    .dataframe tbody tr th:only-of-type {\n",
              "        vertical-align: middle;\n",
              "    }\n",
              "\n",
              "    .dataframe tbody tr th {\n",
              "        vertical-align: top;\n",
              "    }\n",
              "\n",
              "    .dataframe thead th {\n",
              "        text-align: right;\n",
              "    }\n",
              "</style>\n",
              "<table border=\"1\" class=\"dataframe\">\n",
              "  <thead>\n",
              "    <tr style=\"text-align: right;\">\n",
              "      <th></th>\n",
              "      <th>Gene One</th>\n",
              "      <th>Gene Two</th>\n",
              "      <th>Cancer Present</th>\n",
              "    </tr>\n",
              "  </thead>\n",
              "  <tbody>\n",
              "    <tr>\n",
              "      <th>count</th>\n",
              "      <td>3000.000000</td>\n",
              "      <td>3000.000000</td>\n",
              "      <td>3000.000000</td>\n",
              "    </tr>\n",
              "    <tr>\n",
              "      <th>mean</th>\n",
              "      <td>5.600133</td>\n",
              "      <td>5.410467</td>\n",
              "      <td>0.500000</td>\n",
              "    </tr>\n",
              "    <tr>\n",
              "      <th>std</th>\n",
              "      <td>1.828388</td>\n",
              "      <td>1.729081</td>\n",
              "      <td>0.500083</td>\n",
              "    </tr>\n",
              "    <tr>\n",
              "      <th>min</th>\n",
              "      <td>1.000000</td>\n",
              "      <td>1.000000</td>\n",
              "      <td>0.000000</td>\n",
              "    </tr>\n",
              "    <tr>\n",
              "      <th>25%</th>\n",
              "      <td>4.300000</td>\n",
              "      <td>4.000000</td>\n",
              "      <td>0.000000</td>\n",
              "    </tr>\n",
              "    <tr>\n",
              "      <th>50%</th>\n",
              "      <td>5.600000</td>\n",
              "      <td>5.400000</td>\n",
              "      <td>0.500000</td>\n",
              "    </tr>\n",
              "    <tr>\n",
              "      <th>75%</th>\n",
              "      <td>6.900000</td>\n",
              "      <td>6.700000</td>\n",
              "      <td>1.000000</td>\n",
              "    </tr>\n",
              "    <tr>\n",
              "      <th>max</th>\n",
              "      <td>10.000000</td>\n",
              "      <td>10.000000</td>\n",
              "      <td>1.000000</td>\n",
              "    </tr>\n",
              "  </tbody>\n",
              "</table>\n",
              "</div>\n",
              "      <button class=\"colab-df-convert\" onclick=\"convertToInteractive('df-10c32d54-970d-4793-aa00-7f1cd4d669eb')\"\n",
              "              title=\"Convert this dataframe to an interactive table.\"\n",
              "              style=\"display:none;\">\n",
              "        \n",
              "  <svg xmlns=\"http://www.w3.org/2000/svg\" height=\"24px\"viewBox=\"0 0 24 24\"\n",
              "       width=\"24px\">\n",
              "    <path d=\"M0 0h24v24H0V0z\" fill=\"none\"/>\n",
              "    <path d=\"M18.56 5.44l.94 2.06.94-2.06 2.06-.94-2.06-.94-.94-2.06-.94 2.06-2.06.94zm-11 1L8.5 8.5l.94-2.06 2.06-.94-2.06-.94L8.5 2.5l-.94 2.06-2.06.94zm10 10l.94 2.06.94-2.06 2.06-.94-2.06-.94-.94-2.06-.94 2.06-2.06.94z\"/><path d=\"M17.41 7.96l-1.37-1.37c-.4-.4-.92-.59-1.43-.59-.52 0-1.04.2-1.43.59L10.3 9.45l-7.72 7.72c-.78.78-.78 2.05 0 2.83L4 21.41c.39.39.9.59 1.41.59.51 0 1.02-.2 1.41-.59l7.78-7.78 2.81-2.81c.8-.78.8-2.07 0-2.86zM5.41 20L4 18.59l7.72-7.72 1.47 1.35L5.41 20z\"/>\n",
              "  </svg>\n",
              "      </button>\n",
              "      \n",
              "  <style>\n",
              "    .colab-df-container {\n",
              "      display:flex;\n",
              "      flex-wrap:wrap;\n",
              "      gap: 12px;\n",
              "    }\n",
              "\n",
              "    .colab-df-convert {\n",
              "      background-color: #E8F0FE;\n",
              "      border: none;\n",
              "      border-radius: 50%;\n",
              "      cursor: pointer;\n",
              "      display: none;\n",
              "      fill: #1967D2;\n",
              "      height: 32px;\n",
              "      padding: 0 0 0 0;\n",
              "      width: 32px;\n",
              "    }\n",
              "\n",
              "    .colab-df-convert:hover {\n",
              "      background-color: #E2EBFA;\n",
              "      box-shadow: 0px 1px 2px rgba(60, 64, 67, 0.3), 0px 1px 3px 1px rgba(60, 64, 67, 0.15);\n",
              "      fill: #174EA6;\n",
              "    }\n",
              "\n",
              "    [theme=dark] .colab-df-convert {\n",
              "      background-color: #3B4455;\n",
              "      fill: #D2E3FC;\n",
              "    }\n",
              "\n",
              "    [theme=dark] .colab-df-convert:hover {\n",
              "      background-color: #434B5C;\n",
              "      box-shadow: 0px 1px 3px 1px rgba(0, 0, 0, 0.15);\n",
              "      filter: drop-shadow(0px 1px 2px rgba(0, 0, 0, 0.3));\n",
              "      fill: #FFFFFF;\n",
              "    }\n",
              "  </style>\n",
              "\n",
              "      <script>\n",
              "        const buttonEl =\n",
              "          document.querySelector('#df-10c32d54-970d-4793-aa00-7f1cd4d669eb button.colab-df-convert');\n",
              "        buttonEl.style.display =\n",
              "          google.colab.kernel.accessAllowed ? 'block' : 'none';\n",
              "\n",
              "        async function convertToInteractive(key) {\n",
              "          const element = document.querySelector('#df-10c32d54-970d-4793-aa00-7f1cd4d669eb');\n",
              "          const dataTable =\n",
              "            await google.colab.kernel.invokeFunction('convertToInteractive',\n",
              "                                                     [key], {});\n",
              "          if (!dataTable) return;\n",
              "\n",
              "          const docLinkHtml = 'Like what you see? Visit the ' +\n",
              "            '<a target=\"_blank\" href=https://colab.research.google.com/notebooks/data_table.ipynb>data table notebook</a>'\n",
              "            + ' to learn more about interactive tables.';\n",
              "          element.innerHTML = '';\n",
              "          dataTable['output_type'] = 'display_data';\n",
              "          await google.colab.output.renderOutput(dataTable, element);\n",
              "          const docLink = document.createElement('div');\n",
              "          docLink.innerHTML = docLinkHtml;\n",
              "          element.appendChild(docLink);\n",
              "        }\n",
              "      </script>\n",
              "    </div>\n",
              "  </div>\n",
              "  "
            ]
          },
          "metadata": {},
          "execution_count": 4
        }
      ],
      "source": [
        "df.describe()"
      ]
    },
    {
      "cell_type": "code",
      "execution_count": 5,
      "id": "worst-looking",
      "metadata": {
        "ExecuteTime": {
          "end_time": "2022-08-25T14:39:09.728456Z",
          "start_time": "2022-08-25T14:39:09.713507Z"
        },
        "id": "worst-looking",
        "outputId": "b916882b-fd06-4d7d-881a-2f1833c8944b",
        "colab": {
          "base_uri": "https://localhost:8080/"
        }
      },
      "outputs": [
        {
          "output_type": "execute_result",
          "data": {
            "text/plain": [
              "1    1500\n",
              "0    1500\n",
              "Name: Cancer Present, dtype: int64"
            ]
          },
          "metadata": {},
          "execution_count": 5
        }
      ],
      "source": [
        "df[\"Cancer Present\"].value_counts()"
      ]
    },
    {
      "cell_type": "code",
      "execution_count": 7,
      "id": "beccf2f2",
      "metadata": {
        "ExecuteTime": {
          "end_time": "2022-08-25T14:39:09.823220Z",
          "start_time": "2022-08-25T14:39:09.729448Z"
        },
        "id": "beccf2f2",
        "outputId": "48b6fcb4-8407-4690-e463-12b7deec3085",
        "colab": {
          "base_uri": "https://localhost:8080/",
          "height": 388
        }
      },
      "outputs": [
        {
          "output_type": "display_data",
          "data": {
            "text/plain": [
              "<Figure size 720x432 with 1 Axes>"
            ],
            "image/png": "[encoded data removed]"
          },
          "metadata": {
            "needs_background": "light"
          }
        }
      ],
      "source": [
        "ax= sns.countplot(df[\"Cancer Present\"]);\n",
        "ax.bar_label(ax.containers[0]);"
      ]
    },
    {
      "cell_type": "code",
      "execution_count": 8,
      "id": "stuck-single",
      "metadata": {
        "ExecuteTime": {
          "end_time": "2022-08-25T14:39:09.980836Z",
          "start_time": "2022-08-25T14:39:09.824214Z"
        },
        "id": "stuck-single",
        "outputId": "dbd19fee-30f2-43c7-f226-a65069664b8a",
        "colab": {
          "base_uri": "https://localhost:8080/",
          "height": 406
        }
      },
      "outputs": [
        {
          "output_type": "execute_result",
          "data": {
            "text/plain": [
              "<AxesSubplot:xlabel='Gene One', ylabel='Gene Two'>"
            ]
          },
          "metadata": {},
          "execution_count": 8
        },
        {
          "output_type": "display_data",
          "data": {
            "text/plain": [
              "<Figure size 720x432 with 1 Axes>"
            ],
            "image/png": "[encoded data removed]"
          },
          "metadata": {
            "needs_background": "light"
          }
        }
      ],
      "source": [
        "sns.scatterplot(x='Gene One',y='Gene Two',hue='Cancer Present',data=df,alpha=0.7)"
      ]
    },
    {
      "cell_type": "code",
      "execution_count": 9,
      "id": "collective-india",
      "metadata": {
        "ExecuteTime": {
          "end_time": "2022-08-25T14:39:10.184754Z",
          "start_time": "2022-08-25T14:39:09.981830Z"
        },
        "id": "collective-india",
        "outputId": "dc707fd7-6a8a-447a-ec7c-d5005759853a",
        "colab": {
          "base_uri": "https://localhost:8080/",
          "height": 410
        }
      },
      "outputs": [
        {
          "output_type": "execute_result",
          "data": {
            "text/plain": [
              "(4.0, 8.0)"
            ]
          },
          "metadata": {},
          "execution_count": 9
        },
        {
          "output_type": "display_data",
          "data": {
            "text/plain": [
              "<Figure size 720x432 with 1 Axes>"
            ],
            "image/png": "[encoded data removed]"
          },
          "metadata": {
            "needs_background": "light"
          }
        }
      ],
      "source": [
        "sns.scatterplot(x='Gene One',y='Gene Two',hue='Cancer Present',data=df, alpha=0.7, style= \"Cancer Present\")\n",
        "plt.xlim(2,6)\n",
        "plt.ylim(4,8)"
      ]
    },
    {
      "cell_type": "code",
      "execution_count": 14,
      "id": "portable-helicopter",
      "metadata": {
        "ExecuteTime": {
          "end_time": "2022-08-25T14:39:10.864410Z",
          "start_time": "2022-08-25T14:39:10.185415Z"
        },
        "id": "portable-helicopter",
        "outputId": "212be47d-be08-455f-9ad9-ee9ef181e4fe",
        "colab": {
          "base_uri": "https://localhost:8080/",
          "height": 603
        }
      },
      "outputs": [
        {
          "output_type": "execute_result",
          "data": {
            "text/plain": [
              "<seaborn.axisgrid.PairGrid at 0x7fcfcce67290>"
            ]
          },
          "metadata": {},
          "execution_count": 14
        },
        {
          "output_type": "display_data",
          "data": {
            "text/plain": [
              "<Figure size 659.75x576 with 6 Axes>"
            ],
            "image/png": "[encoded data removed]"
          },
          "metadata": {
            "needs_background": "light"
          }
        }
      ],
      "source": [
        "sns.pairplot(data=df, hue=\"Cancer Present\", height=4, aspect=1)"
      ]
    },
    {
      "cell_type": "code",
      "execution_count": 15,
      "id": "grateful-climate",
      "metadata": {
        "ExecuteTime": {
          "end_time": "2022-08-25T14:39:10.944199Z",
          "start_time": "2022-08-25T14:39:10.865403Z"
        },
        "id": "grateful-climate",
        "outputId": "51d49696-0842-4056-958c-44b4ce256212",
        "colab": {
          "base_uri": "https://localhost:8080/",
          "height": 406
        }
      },
      "outputs": [
        {
          "output_type": "execute_result",
          "data": {
            "text/plain": [
              "<AxesSubplot:xlabel='Cancer Present', ylabel='Gene One'>"
            ]
          },
          "metadata": {},
          "execution_count": 15
        },
        {
          "output_type": "display_data",
          "data": {
            "text/plain": [
              "<Figure size 720x432 with 1 Axes>"
            ],
            "image/png": "[encoded data removed]"
          },
          "metadata": {
            "needs_background": "light"
          }
        }
      ],
      "source": [
        "sns.boxplot(x='Cancer Present', y='Gene One', data=df);"
      ]
    },
    {
      "cell_type": "code",
      "execution_count": 16,
      "id": "useful-difficulty",
      "metadata": {
        "ExecuteTime": {
          "end_time": "2022-08-25T14:39:11.023935Z",
          "start_time": "2022-08-25T14:39:10.945196Z"
        },
        "id": "useful-difficulty",
        "outputId": "c80eb1e5-288a-444e-adf4-e2713ffecf3c",
        "colab": {
          "base_uri": "https://localhost:8080/",
          "height": 388
        }
      },
      "outputs": [
        {
          "output_type": "display_data",
          "data": {
            "text/plain": [
              "<Figure size 720x432 with 1 Axes>"
            ],
            "image/png": "[encoded data removed]"
          },
          "metadata": {
            "needs_background": "light"
          }
        }
      ],
      "source": [
        "sns.boxplot(x='Cancer Present', y='Gene Two', data=df);"
      ]
    },
    {
      "cell_type": "code",
      "execution_count": 17,
      "id": "silent-joseph",
      "metadata": {
        "ExecuteTime": {
          "end_time": "2022-08-25T14:39:11.182567Z",
          "start_time": "2022-08-25T14:39:11.025926Z"
        },
        "id": "silent-joseph",
        "outputId": "d3b0a558-f404-4a22-c926-e90c37ea3c37",
        "colab": {
          "base_uri": "https://localhost:8080/",
          "height": 378
        }
      },
      "outputs": [
        {
          "output_type": "display_data",
          "data": {
            "text/plain": [
              "<Figure size 720x432 with 2 Axes>"
            ],
            "image/png": "[encoded data removed]"
          },
          "metadata": {
            "needs_background": "light"
          }
        }
      ],
      "source": [
        "sns.heatmap(df.corr(), annot=True);"
      ]
    },
    {
      "cell_type": "markdown",
      "id": "sorted-calendar",
      "metadata": {
        "id": "sorted-calendar"
      },
      "source": [
        "## Train-Test Split and Scaling Data"
      ]
    },
    {
      "cell_type": "code",
      "execution_count": 18,
      "id": "threaded-barrel",
      "metadata": {
        "ExecuteTime": {
          "end_time": "2022-08-25T14:39:11.370260Z",
          "start_time": "2022-08-25T14:39:11.292488Z"
        },
        "id": "threaded-barrel"
      },
      "outputs": [],
      "source": [
        "from sklearn.model_selection import train_test_split\n",
        "from sklearn.preprocessing import StandardScaler, MinMaxScaler"
      ]
    },
    {
      "cell_type": "code",
      "execution_count": 19,
      "id": "unknown-prophet",
      "metadata": {
        "ExecuteTime": {
          "end_time": "2022-08-25T14:39:11.385529Z",
          "start_time": "2022-08-25T14:39:11.370671Z"
        },
        "id": "unknown-prophet"
      },
      "outputs": [],
      "source": [
        "X = df.drop('Cancer Present',axis=1)\n",
        "y = df['Cancer Present']"
      ]
    },
    {
      "cell_type": "code",
      "execution_count": 20,
      "id": "enclosed-request",
      "metadata": {
        "ExecuteTime": {
          "end_time": "2022-08-25T14:39:11.401629Z",
          "start_time": "2022-08-25T14:39:11.386462Z"
        },
        "id": "enclosed-request"
      },
      "outputs": [],
      "source": [
        "X_train, X_test, y_train, y_test = train_test_split(X, y, test_size=0.3, random_state=42)"
      ]
    },
    {
      "cell_type": "code",
      "execution_count": 21,
      "id": "capable-williams",
      "metadata": {
        "ExecuteTime": {
          "end_time": "2022-08-25T14:39:11.417629Z",
          "start_time": "2022-08-25T14:39:11.402625Z"
        },
        "id": "capable-williams"
      },
      "outputs": [],
      "source": [
        "scaler = StandardScaler()"
      ]
    },
    {
      "cell_type": "code",
      "execution_count": 22,
      "id": "infinite-birmingham",
      "metadata": {
        "ExecuteTime": {
          "end_time": "2022-08-25T14:39:11.433631Z",
          "start_time": "2022-08-25T14:39:11.418625Z"
        },
        "id": "infinite-birmingham"
      },
      "outputs": [],
      "source": [
        "X_train_scaled = scaler.fit_transform(X_train)\n",
        "X_test_scaled = scaler.transform(X_test)"
      ]
    },
    {
      "cell_type": "markdown",
      "id": "adapted-table",
      "metadata": {
        "id": "adapted-table"
      },
      "source": [
        "## Modelling"
      ]
    },
    {
      "cell_type": "code",
      "execution_count": 23,
      "id": "synthetic-andrews",
      "metadata": {
        "ExecuteTime": {
          "end_time": "2022-08-25T14:39:11.481474Z",
          "start_time": "2022-08-25T14:39:11.434629Z"
        },
        "id": "synthetic-andrews"
      },
      "outputs": [],
      "source": [
        "from sklearn.neighbors import KNeighborsClassifier"
      ]
    },
    {
      "cell_type": "code",
      "execution_count": 24,
      "id": "arbitrary-heaven",
      "metadata": {
        "ExecuteTime": {
          "end_time": "2022-08-25T14:39:11.496424Z",
          "start_time": "2022-08-25T14:39:11.482468Z"
        },
        "id": "arbitrary-heaven"
      },
      "outputs": [],
      "source": [
        "knn_model = KNeighborsClassifier(n_neighbors=5)"
      ]
    },
    {
      "cell_type": "code",
      "execution_count": 25,
      "id": "extra-numbers",
      "metadata": {
        "ExecuteTime": {
          "end_time": "2022-08-25T14:39:11.512371Z",
          "start_time": "2022-08-25T14:39:11.497422Z"
        },
        "id": "extra-numbers",
        "outputId": "ee9e670b-21df-4c54-b67e-390c456bdbbc",
        "colab": {
          "base_uri": "https://localhost:8080/"
        }
      },
      "outputs": [
        {
          "output_type": "execute_result",
          "data": {
            "text/plain": [
              "KNeighborsClassifier()"
            ]
          },
          "metadata": {},
          "execution_count": 25
        }
      ],
      "source": [
        "knn_model.fit(X_train_scaled,y_train)"
      ]
    },
    {
      "cell_type": "code",
      "execution_count": 26,
      "id": "sitting-chosen",
      "metadata": {
        "ExecuteTime": {
          "end_time": "2022-08-25T14:39:11.544265Z",
          "start_time": "2022-08-25T14:39:11.513364Z"
        },
        "id": "sitting-chosen",
        "outputId": "8c5cf654-af49-4a7f-bb7a-2018fc25b128",
        "colab": {
          "base_uri": "https://localhost:8080/"
        }
      },
      "outputs": [
        {
          "output_type": "execute_result",
          "data": {
            "text/plain": [
              "array([1, 1, 1, 0, 0, 1, 1, 0, 0, 1, 0, 0, 0, 0, 0, 0, 0, 1, 1, 0, 1, 0,\n",
              "       1, 1, 0, 1, 1, 1, 1, 1, 1, 0, 1, 1, 1, 1, 0, 1, 1, 0, 0, 0, 0, 1,\n",
              "       0, 1, 0, 1, 0, 0, 0, 1, 1, 1, 0, 0, 0, 1, 0, 0, 0, 1, 1, 1, 1, 0,\n",
              "       1, 0, 0, 0, 1, 1, 1, 0, 1, 1, 0, 0, 1, 0, 0, 0, 0, 0, 1, 1, 1, 0,\n",
              "       1, 1, 0, 0, 0, 1, 0, 0, 0, 0, 1, 0, 1, 0, 1, 1, 1, 0, 0, 0, 0, 1,\n",
              "       1, 1, 1, 0, 0, 0, 1, 0, 0, 1, 1, 0, 1, 1, 0, 1, 0, 0, 0, 1, 0, 0,\n",
              "       0, 0, 1, 0, 0, 1, 0, 0, 1, 1, 1, 0, 0, 1, 0, 0, 0, 1, 0, 0, 1, 0,\n",
              "       1, 0, 0, 1, 0, 1, 0, 0, 0, 1, 0, 1, 0, 0, 0, 0, 0, 0, 0, 1, 1, 0,\n",
              "       0, 0, 1, 0, 0, 0, 0, 0, 0, 0, 1, 0, 0, 1, 0, 1, 1, 0, 0, 0, 1, 1,\n",
              "       0, 1, 0, 0, 1, 1, 0, 1, 0, 0, 0, 1, 0, 0, 0, 1, 1, 1, 0, 0, 1, 0,\n",
              "       0, 1, 0, 0, 0, 0, 1, 0, 1, 1, 1, 1, 0, 1, 0, 1, 0, 0, 0, 0, 0, 0,\n",
              "       0, 1, 0, 0, 0, 1, 1, 0, 0, 1, 0, 1, 0, 0, 1, 1, 1, 1, 0, 1, 1, 1,\n",
              "       1, 1, 1, 0, 1, 0, 1, 1, 0, 1, 0, 1, 1, 0, 0, 0, 0, 0, 1, 0, 0, 0,\n",
              "       0, 0, 1, 0, 1, 0, 0, 0, 1, 1, 1, 0, 1, 1, 0, 1, 1, 0, 1, 1, 0, 0,\n",
              "       1, 0, 1, 1, 0, 0, 1, 0, 1, 0, 0, 0, 1, 0, 1, 0, 1, 1, 0, 1, 0, 0,\n",
              "       1, 0, 0, 1, 1, 0, 1, 1, 1, 0, 0, 1, 1, 0, 1, 1, 1, 0, 0, 0, 1, 0,\n",
              "       1, 1, 1, 1, 1, 1, 0, 0, 0, 1, 1, 1, 0, 1, 1, 0, 0, 0, 1, 0, 1, 1,\n",
              "       1, 0, 0, 1, 0, 0, 0, 1, 1, 0, 0, 0, 0, 0, 0, 1, 1, 1, 0, 1, 0, 0,\n",
              "       1, 0, 0, 0, 0, 1, 1, 1, 0, 0, 1, 0, 0, 0, 1, 1, 1, 0, 0, 1, 1, 0,\n",
              "       0, 1, 1, 0, 0, 0, 0, 1, 0, 0, 0, 1, 1, 0, 1, 0, 1, 0, 0, 0, 1, 0,\n",
              "       0, 1, 0, 1, 0, 1, 0, 0, 0, 0, 1, 0, 1, 1, 1, 1, 1, 0, 0, 1, 0, 0,\n",
              "       0, 1, 1, 0, 1, 1, 0, 1, 1, 0, 0, 1, 1, 0, 1, 0, 1, 1, 0, 0, 0, 0,\n",
              "       1, 1, 1, 1, 0, 0, 0, 1, 1, 1, 0, 0, 1, 1, 1, 1, 1, 1, 0, 0, 0, 1,\n",
              "       1, 0, 0, 1, 1, 0, 1, 0, 1, 1, 0, 1, 0, 0, 1, 0, 0, 0, 0, 0, 0, 1,\n",
              "       0, 0, 0, 0, 0, 1, 1, 0, 0, 1, 1, 0, 1, 0, 0, 1, 1, 0, 1, 0, 1, 0,\n",
              "       1, 0, 0, 0, 1, 0, 0, 0, 0, 0, 0, 1, 1, 1, 1, 0, 0, 1, 1, 0, 1, 0,\n",
              "       1, 1, 0, 0, 1, 0, 0, 0, 0, 1, 0, 0, 1, 1, 1, 1, 0, 0, 0, 0, 0, 1,\n",
              "       0, 0, 0, 0, 0, 0, 0, 0, 0, 1, 0, 0, 0, 1, 0, 0, 1, 0, 1, 0, 1, 0,\n",
              "       1, 1, 0, 0, 1, 0, 1, 0, 0, 0, 0, 1, 1, 0, 0, 0, 1, 1, 0, 0, 0, 0,\n",
              "       1, 1, 1, 0, 0, 0, 1, 0, 0, 1, 1, 0, 0, 1, 0, 1, 1, 1, 0, 1, 0, 0,\n",
              "       0, 0, 0, 0, 0, 1, 1, 1, 1, 0, 0, 1, 1, 0, 0, 1, 1, 1, 1, 1, 1, 0,\n",
              "       0, 1, 0, 1, 0, 0, 1, 0, 0, 0, 0, 1, 0, 1, 1, 0, 1, 0, 0, 0, 1, 1,\n",
              "       0, 1, 0, 0, 0, 1, 0, 0, 1, 0, 1, 0, 0, 1, 1, 1, 1, 1, 1, 0, 1, 1,\n",
              "       1, 0, 0, 0, 1, 0, 1, 1, 0, 1, 1, 1, 1, 1, 1, 1, 1, 1, 1, 1, 1, 1,\n",
              "       0, 1, 1, 1, 0, 0, 1, 1, 1, 1, 1, 0, 0, 1, 0, 1, 1, 0, 1, 1, 0, 1,\n",
              "       0, 1, 0, 1, 0, 0, 0, 0, 0, 0, 0, 0, 0, 1, 0, 1, 0, 0, 1, 1, 1, 1,\n",
              "       0, 0, 1, 0, 0, 1, 1, 1, 1, 1, 1, 0, 1, 1, 1, 1, 1, 0, 0, 0, 0, 1,\n",
              "       1, 1, 1, 0, 1, 1, 1, 1, 1, 0, 1, 0, 1, 1, 0, 1, 1, 1, 1, 0, 1, 0,\n",
              "       0, 1, 0, 1, 0, 1, 0, 1, 1, 1, 0, 0, 0, 1, 1, 1, 0, 1, 0, 0, 1, 0,\n",
              "       1, 1, 1, 0, 0, 0, 1, 0, 1, 0, 0, 0, 1, 1, 1, 1, 1, 1, 0, 1, 1, 1,\n",
              "       0, 0, 1, 1, 0, 1, 0, 0, 1, 0, 0, 0, 0, 1, 1, 1, 0, 1, 1, 0])"
            ]
          },
          "metadata": {},
          "execution_count": 26
        }
      ],
      "source": [
        "y_pred = knn_model.predict(X_test_scaled)\n",
        "y_pred"
      ]
    },
    {
      "cell_type": "code",
      "execution_count": 27,
      "id": "verified-prospect",
      "metadata": {
        "ExecuteTime": {
          "end_time": "2022-08-25T14:39:11.560211Z",
          "start_time": "2022-08-25T14:39:11.545263Z"
        },
        "id": "verified-prospect"
      },
      "outputs": [],
      "source": [
        "y_pred_proba = knn_model.predict_proba(X_test_scaled)"
      ]
    },
    {
      "cell_type": "code",
      "execution_count": 28,
      "id": "conceptual-germany",
      "metadata": {
        "ExecuteTime": {
          "end_time": "2022-08-25T14:39:11.576155Z",
          "start_time": "2022-08-25T14:39:11.561209Z"
        },
        "id": "conceptual-germany",
        "outputId": "ba96d501-c6eb-4441-ee4d-df1194396813",
        "colab": {
          "base_uri": "https://localhost:8080/",
          "height": 423
        }
      },
      "outputs": [
        {
          "output_type": "execute_result",
          "data": {
            "text/plain": [
              "       0    1\n",
              "0    0.0  1.0\n",
              "1    0.0  1.0\n",
              "2    0.0  1.0\n",
              "3    1.0  0.0\n",
              "4    1.0  0.0\n",
              "..   ...  ...\n",
              "895  0.4  0.6\n",
              "896  1.0  0.0\n",
              "897  0.0  1.0\n",
              "898  0.0  1.0\n",
              "899  1.0  0.0\n",
              "\n",
              "[900 rows x 2 columns]"
            ],
            "text/html": [
              "\n",
              "  <div id=\"df-45ad36f2-e006-459c-9372-c4eeba57dcb1\">\n",
              "    <div class=\"colab-df-container\">\n",
              "      <div>\n",
              "<style scoped>\n",
              "    .dataframe tbody tr th:only-of-type {\n",
              "        vertical-align: middle;\n",
              "    }\n",
              "\n",
              "    .dataframe tbody tr th {\n",
              "        vertical-align: top;\n",
              "    }\n",
              "\n",
              "    .dataframe thead th {\n",
              "        text-align: right;\n",
              "    }\n",
              "</style>\n",
              "<table border=\"1\" class=\"dataframe\">\n",
              "  <thead>\n",
              "    <tr style=\"text-align: right;\">\n",
              "      <th></th>\n",
              "      <th>0</th>\n",
              "      <th>1</th>\n",
              "    </tr>\n",
              "  </thead>\n",
              "  <tbody>\n",
              "    <tr>\n",
              "      <th>0</th>\n",
              "      <td>0.0</td>\n",
              "      <td>1.0</td>\n",
              "    </tr>\n",
              "    <tr>\n",
              "      <th>1</th>\n",
              "      <td>0.0</td>\n",
              "      <td>1.0</td>\n",
              "    </tr>\n",
              "    <tr>\n",
              "      <th>2</th>\n",
              "      <td>0.0</td>\n",
              "      <td>1.0</td>\n",
              "    </tr>\n",
              "    <tr>\n",
              "      <th>3</th>\n",
              "      <td>1.0</td>\n",
              "      <td>0.0</td>\n",
              "    </tr>\n",
              "    <tr>\n",
              "      <th>4</th>\n",
              "      <td>1.0</td>\n",
              "      <td>0.0</td>\n",
              "    </tr>\n",
              "    <tr>\n",
              "      <th>...</th>\n",
              "      <td>...</td>\n",
              "      <td>...</td>\n",
              "    </tr>\n",
              "    <tr>\n",
              "      <th>895</th>\n",
              "      <td>0.4</td>\n",
              "      <td>0.6</td>\n",
              "    </tr>\n",
              "    <tr>\n",
              "      <th>896</th>\n",
              "      <td>1.0</td>\n",
              "      <td>0.0</td>\n",
              "    </tr>\n",
              "    <tr>\n",
              "      <th>897</th>\n",
              "      <td>0.0</td>\n",
              "      <td>1.0</td>\n",
              "    </tr>\n",
              "    <tr>\n",
              "      <th>898</th>\n",
              "      <td>0.0</td>\n",
              "      <td>1.0</td>\n",
              "    </tr>\n",
              "    <tr>\n",
              "      <th>899</th>\n",
              "      <td>1.0</td>\n",
              "      <td>0.0</td>\n",
              "    </tr>\n",
              "  </tbody>\n",
              "</table>\n",
              "<p>900 rows × 2 columns</p>\n",
              "</div>\n",
              "      <button class=\"colab-df-convert\" onclick=\"convertToInteractive('df-45ad36f2-e006-459c-9372-c4eeba57dcb1')\"\n",
              "              title=\"Convert this dataframe to an interactive table.\"\n",
              "              style=\"display:none;\">\n",
              "        \n",
              "  <svg xmlns=\"http://www.w3.org/2000/svg\" height=\"24px\"viewBox=\"0 0 24 24\"\n",
              "       width=\"24px\">\n",
              "    <path d=\"M0 0h24v24H0V0z\" fill=\"none\"/>\n",
              "    <path d=\"M18.56 5.44l.94 2.06.94-2.06 2.06-.94-2.06-.94-.94-2.06-.94 2.06-2.06.94zm-11 1L8.5 8.5l.94-2.06 2.06-.94-2.06-.94L8.5 2.5l-.94 2.06-2.06.94zm10 10l.94 2.06.94-2.06 2.06-.94-2.06-.94-.94-2.06-.94 2.06-2.06.94z\"/><path d=\"M17.41 7.96l-1.37-1.37c-.4-.4-.92-.59-1.43-.59-.52 0-1.04.2-1.43.59L10.3 9.45l-7.72 7.72c-.78.78-.78 2.05 0 2.83L4 21.41c.39.39.9.59 1.41.59.51 0 1.02-.2 1.41-.59l7.78-7.78 2.81-2.81c.8-.78.8-2.07 0-2.86zM5.41 20L4 18.59l7.72-7.72 1.47 1.35L5.41 20z\"/>\n",
              "  </svg>\n",
              "      </button>\n",
              "      \n",
              "  <style>\n",
              "    .colab-df-container {\n",
              "      display:flex;\n",
              "      flex-wrap:wrap;\n",
              "      gap: 12px;\n",
              "    }\n",
              "\n",
              "    .colab-df-convert {\n",
              "      background-color: #E8F0FE;\n",
              "      border: none;\n",
              "      border-radius: 50%;\n",
              "      cursor: pointer;\n",
              "      display: none;\n",
              "      fill: #1967D2;\n",
              "      height: 32px;\n",
              "      padding: 0 0 0 0;\n",
              "      width: 32px;\n",
              "    }\n",
              "\n",
              "    .colab-df-convert:hover {\n",
              "      background-color: #E2EBFA;\n",
              "      box-shadow: 0px 1px 2px rgba(60, 64, 67, 0.3), 0px 1px 3px 1px rgba(60, 64, 67, 0.15);\n",
              "      fill: #174EA6;\n",
              "    }\n",
              "\n",
              "    [theme=dark] .colab-df-convert {\n",
              "      background-color: #3B4455;\n",
              "      fill: #D2E3FC;\n",
              "    }\n",
              "\n",
              "    [theme=dark] .colab-df-convert:hover {\n",
              "      background-color: #434B5C;\n",
              "      box-shadow: 0px 1px 3px 1px rgba(0, 0, 0, 0.15);\n",
              "      filter: drop-shadow(0px 1px 2px rgba(0, 0, 0, 0.3));\n",
              "      fill: #FFFFFF;\n",
              "    }\n",
              "  </style>\n",
              "\n",
              "      <script>\n",
              "        const buttonEl =\n",
              "          document.querySelector('#df-45ad36f2-e006-459c-9372-c4eeba57dcb1 button.colab-df-convert');\n",
              "        buttonEl.style.display =\n",
              "          google.colab.kernel.accessAllowed ? 'block' : 'none';\n",
              "\n",
              "        async function convertToInteractive(key) {\n",
              "          const element = document.querySelector('#df-45ad36f2-e006-459c-9372-c4eeba57dcb1');\n",
              "          const dataTable =\n",
              "            await google.colab.kernel.invokeFunction('convertToInteractive',\n",
              "                                                     [key], {});\n",
              "          if (!dataTable) return;\n",
              "\n",
              "          const docLinkHtml = 'Like what you see? Visit the ' +\n",
              "            '<a target=\"_blank\" href=https://colab.research.google.com/notebooks/data_table.ipynb>data table notebook</a>'\n",
              "            + ' to learn more about interactive tables.';\n",
              "          element.innerHTML = '';\n",
              "          dataTable['output_type'] = 'display_data';\n",
              "          await google.colab.output.renderOutput(dataTable, element);\n",
              "          const docLink = document.createElement('div');\n",
              "          docLink.innerHTML = docLinkHtml;\n",
              "          element.appendChild(docLink);\n",
              "        }\n",
              "      </script>\n",
              "    </div>\n",
              "  </div>\n",
              "  "
            ]
          },
          "metadata": {},
          "execution_count": 28
        }
      ],
      "source": [
        "pd.DataFrame(y_pred_proba)"
      ]
    },
    {
      "cell_type": "code",
      "execution_count": 29,
      "id": "stuck-nurse",
      "metadata": {
        "ExecuteTime": {
          "end_time": "2022-08-25T14:39:11.592104Z",
          "start_time": "2022-08-25T14:39:11.577151Z"
        },
        "id": "stuck-nurse"
      },
      "outputs": [],
      "source": [
        "my_dict = {\"Actual\": y_test, \"Pred\":y_pred, \"Proba_1\":y_pred_proba[:,1], \"Proba_0\":y_pred_proba[:,0]}"
      ]
    },
    {
      "cell_type": "code",
      "execution_count": 33,
      "id": "mediterranean-marking",
      "metadata": {
        "ExecuteTime": {
          "end_time": "2022-08-25T14:39:11.608052Z",
          "start_time": "2022-08-25T14:39:11.593102Z"
        },
        "id": "mediterranean-marking",
        "outputId": "86fdd5dc-769b-4193-e60b-8f6cdaa0ba3d",
        "colab": {
          "base_uri": "https://localhost:8080/",
          "height": 363
        }
      },
      "outputs": [
        {
          "output_type": "execute_result",
          "data": {
            "text/plain": [
              "      Actual  Pred  Proba_1  Proba_0\n",
              "565        1     1      0.8      0.2\n",
              "1289       0     0      0.0      1.0\n",
              "1211       0     0      0.4      0.6\n",
              "1330       0     0      0.2      0.8\n",
              "1736       1     0      0.2      0.8\n",
              "149        0     0      0.0      1.0\n",
              "1717       1     1      1.0      0.0\n",
              "69         0     0      0.0      1.0\n",
              "691        1     1      1.0      0.0\n",
              "2639       0     0      0.0      1.0"
            ],
            "text/html": [
              "\n",
              "  <div id=\"df-eaaab370-f092-422e-8535-2088e1d0f5be\">\n",
              "    <div class=\"colab-df-container\">\n",
              "      <div>\n",
              "<style scoped>\n",
              "    .dataframe tbody tr th:only-of-type {\n",
              "        vertical-align: middle;\n",
              "    }\n",
              "\n",
              "    .dataframe tbody tr th {\n",
              "        vertical-align: top;\n",
              "    }\n",
              "\n",
              "    .dataframe thead th {\n",
              "        text-align: right;\n",
              "    }\n",
              "</style>\n",
              "<table border=\"1\" class=\"dataframe\">\n",
              "  <thead>\n",
              "    <tr style=\"text-align: right;\">\n",
              "      <th></th>\n",
              "      <th>Actual</th>\n",
              "      <th>Pred</th>\n",
              "      <th>Proba_1</th>\n",
              "      <th>Proba_0</th>\n",
              "    </tr>\n",
              "  </thead>\n",
              "  <tbody>\n",
              "    <tr>\n",
              "      <th>565</th>\n",
              "      <td>1</td>\n",
              "      <td>1</td>\n",
              "      <td>0.8</td>\n",
              "      <td>0.2</td>\n",
              "    </tr>\n",
              "    <tr>\n",
              "      <th>1289</th>\n",
              "      <td>0</td>\n",
              "      <td>0</td>\n",
              "      <td>0.0</td>\n",
              "      <td>1.0</td>\n",
              "    </tr>\n",
              "    <tr>\n",
              "      <th>1211</th>\n",
              "      <td>0</td>\n",
              "      <td>0</td>\n",
              "      <td>0.4</td>\n",
              "      <td>0.6</td>\n",
              "    </tr>\n",
              "    <tr>\n",
              "      <th>1330</th>\n",
              "      <td>0</td>\n",
              "      <td>0</td>\n",
              "      <td>0.2</td>\n",
              "      <td>0.8</td>\n",
              "    </tr>\n",
              "    <tr>\n",
              "      <th>1736</th>\n",
              "      <td>1</td>\n",
              "      <td>0</td>\n",
              "      <td>0.2</td>\n",
              "      <td>0.8</td>\n",
              "    </tr>\n",
              "    <tr>\n",
              "      <th>149</th>\n",
              "      <td>0</td>\n",
              "      <td>0</td>\n",
              "      <td>0.0</td>\n",
              "      <td>1.0</td>\n",
              "    </tr>\n",
              "    <tr>\n",
              "      <th>1717</th>\n",
              "      <td>1</td>\n",
              "      <td>1</td>\n",
              "      <td>1.0</td>\n",
              "      <td>0.0</td>\n",
              "    </tr>\n",
              "    <tr>\n",
              "      <th>69</th>\n",
              "      <td>0</td>\n",
              "      <td>0</td>\n",
              "      <td>0.0</td>\n",
              "      <td>1.0</td>\n",
              "    </tr>\n",
              "    <tr>\n",
              "      <th>691</th>\n",
              "      <td>1</td>\n",
              "      <td>1</td>\n",
              "      <td>1.0</td>\n",
              "      <td>0.0</td>\n",
              "    </tr>\n",
              "    <tr>\n",
              "      <th>2639</th>\n",
              "      <td>0</td>\n",
              "      <td>0</td>\n",
              "      <td>0.0</td>\n",
              "      <td>1.0</td>\n",
              "    </tr>\n",
              "  </tbody>\n",
              "</table>\n",
              "</div>\n",
              "      <button class=\"colab-df-convert\" onclick=\"convertToInteractive('df-eaaab370-f092-422e-8535-2088e1d0f5be')\"\n",
              "              title=\"Convert this dataframe to an interactive table.\"\n",
              "              style=\"display:none;\">\n",
              "        \n",
              "  <svg xmlns=\"http://www.w3.org/2000/svg\" height=\"24px\"viewBox=\"0 0 24 24\"\n",
              "       width=\"24px\">\n",
              "    <path d=\"M0 0h24v24H0V0z\" fill=\"none\"/>\n",
              "    <path d=\"M18.56 5.44l.94 2.06.94-2.06 2.06-.94-2.06-.94-.94-2.06-.94 2.06-2.06.94zm-11 1L8.5 8.5l.94-2.06 2.06-.94-2.06-.94L8.5 2.5l-.94 2.06-2.06.94zm10 10l.94 2.06.94-2.06 2.06-.94-2.06-.94-.94-2.06-.94 2.06-2.06.94z\"/><path d=\"M17.41 7.96l-1.37-1.37c-.4-.4-.92-.59-1.43-.59-.52 0-1.04.2-1.43.59L10.3 9.45l-7.72 7.72c-.78.78-.78 2.05 0 2.83L4 21.41c.39.39.9.59 1.41.59.51 0 1.02-.2 1.41-.59l7.78-7.78 2.81-2.81c.8-.78.8-2.07 0-2.86zM5.41 20L4 18.59l7.72-7.72 1.47 1.35L5.41 20z\"/>\n",
              "  </svg>\n",
              "      </button>\n",
              "      \n",
              "  <style>\n",
              "    .colab-df-container {\n",
              "      display:flex;\n",
              "      flex-wrap:wrap;\n",
              "      gap: 12px;\n",
              "    }\n",
              "\n",
              "    .colab-df-convert {\n",
              "      background-color: #E8F0FE;\n",
              "      border: none;\n",
              "      border-radius: 50%;\n",
              "      cursor: pointer;\n",
              "      display: none;\n",
              "      fill: #1967D2;\n",
              "      height: 32px;\n",
              "      padding: 0 0 0 0;\n",
              "      width: 32px;\n",
              "    }\n",
              "\n",
              "    .colab-df-convert:hover {\n",
              "      background-color: #E2EBFA;\n",
              "      box-shadow: 0px 1px 2px rgba(60, 64, 67, 0.3), 0px 1px 3px 1px rgba(60, 64, 67, 0.15);\n",
              "      fill: #174EA6;\n",
              "    }\n",
              "\n",
              "    [theme=dark] .colab-df-convert {\n",
              "      background-color: #3B4455;\n",
              "      fill: #D2E3FC;\n",
              "    }\n",
              "\n",
              "    [theme=dark] .colab-df-convert:hover {\n",
              "      background-color: #434B5C;\n",
              "      box-shadow: 0px 1px 3px 1px rgba(0, 0, 0, 0.15);\n",
              "      filter: drop-shadow(0px 1px 2px rgba(0, 0, 0, 0.3));\n",
              "      fill: #FFFFFF;\n",
              "    }\n",
              "  </style>\n",
              "\n",
              "      <script>\n",
              "        const buttonEl =\n",
              "          document.querySelector('#df-eaaab370-f092-422e-8535-2088e1d0f5be button.colab-df-convert');\n",
              "        buttonEl.style.display =\n",
              "          google.colab.kernel.accessAllowed ? 'block' : 'none';\n",
              "\n",
              "        async function convertToInteractive(key) {\n",
              "          const element = document.querySelector('#df-eaaab370-f092-422e-8535-2088e1d0f5be');\n",
              "          const dataTable =\n",
              "            await google.colab.kernel.invokeFunction('convertToInteractive',\n",
              "                                                     [key], {});\n",
              "          if (!dataTable) return;\n",
              "\n",
              "          const docLinkHtml = 'Like what you see? Visit the ' +\n",
              "            '<a target=\"_blank\" href=https://colab.research.google.com/notebooks/data_table.ipynb>data table notebook</a>'\n",
              "            + ' to learn more about interactive tables.';\n",
              "          element.innerHTML = '';\n",
              "          dataTable['output_type'] = 'display_data';\n",
              "          await google.colab.output.renderOutput(dataTable, element);\n",
              "          const docLink = document.createElement('div');\n",
              "          docLink.innerHTML = docLinkHtml;\n",
              "          element.appendChild(docLink);\n",
              "        }\n",
              "      </script>\n",
              "    </div>\n",
              "  </div>\n",
              "  "
            ]
          },
          "metadata": {},
          "execution_count": 33
        }
      ],
      "source": [
        "pd.DataFrame.from_dict(my_dict).sample(10)"
      ]
    },
    {
      "cell_type": "code",
      "source": [
        "pd.DataFrame.from_dict(my_dict).reset_index(drop=True).Pred.value_counts()"
      ],
      "metadata": {
        "id": "b21n0oaxEUh1",
        "outputId": "2b0d2aaa-8182-4931-ad7b-a6bd128319b4",
        "colab": {
          "base_uri": "https://localhost:8080/"
        }
      },
      "id": "b21n0oaxEUh1",
      "execution_count": 42,
      "outputs": [
        {
          "output_type": "execute_result",
          "data": {
            "text/plain": [
              "0    473\n",
              "1    427\n",
              "Name: Pred, dtype: int64"
            ]
          },
          "metadata": {},
          "execution_count": 42
        }
      ]
    },
    {
      "cell_type": "markdown",
      "id": "ranging-width",
      "metadata": {
        "id": "ranging-width"
      },
      "source": [
        "## Model Performance on Classification Tasks"
      ]
    },
    {
      "cell_type": "code",
      "execution_count": 34,
      "id": "given-spyware",
      "metadata": {
        "ExecuteTime": {
          "end_time": "2022-08-25T14:39:11.623348Z",
          "start_time": "2022-08-25T14:39:11.609049Z"
        },
        "id": "given-spyware"
      },
      "outputs": [],
      "source": [
        "from sklearn.metrics import confusion_matrix, classification_report, plot_confusion_matrix"
      ]
    },
    {
      "cell_type": "code",
      "execution_count": 35,
      "id": "heavy-prior",
      "metadata": {
        "ExecuteTime": {
          "end_time": "2022-08-25T14:39:11.639293Z",
          "start_time": "2022-08-25T14:39:11.624339Z"
        },
        "id": "heavy-prior",
        "outputId": "ee7a7b33-6cd6-4708-80c3-bcd2d4dde1f2",
        "colab": {
          "base_uri": "https://localhost:8080/"
        }
      },
      "outputs": [
        {
          "output_type": "execute_result",
          "data": {
            "text/plain": [
              "array([[439,  31],\n",
              "       [ 34, 396]])"
            ]
          },
          "metadata": {},
          "execution_count": 35
        }
      ],
      "source": [
        "confusion_matrix(y_test, y_pred)"
      ]
    },
    {
      "cell_type": "code",
      "execution_count": 43,
      "id": "organic-frank",
      "metadata": {
        "ExecuteTime": {
          "end_time": "2022-08-25T14:39:11.750920Z",
          "start_time": "2022-08-25T14:39:11.640286Z"
        },
        "id": "organic-frank",
        "outputId": "8b61c8d1-2163-4b2d-bafa-fa50e91a1907",
        "colab": {
          "base_uri": "https://localhost:8080/",
          "height": 388
        }
      },
      "outputs": [
        {
          "output_type": "display_data",
          "data": {
            "text/plain": [
              "<Figure size 720x432 with 2 Axes>"
            ],
            "image/png": "[encoded data removed]"
          },
          "metadata": {
            "needs_background": "light"
          }
        }
      ],
      "source": [
        "plot_confusion_matrix(knn_model, X_test_scaled, y_test);"
      ]
    },
    {
      "cell_type": "code",
      "execution_count": 44,
      "id": "spanish-colorado",
      "metadata": {
        "ExecuteTime": {
          "end_time": "2022-08-25T14:39:11.765870Z",
          "start_time": "2022-08-25T14:39:11.751913Z"
        },
        "id": "spanish-colorado",
        "outputId": "92c103c4-1f60-4fb3-8031-f596bc7f3baf",
        "colab": {
          "base_uri": "https://localhost:8080/"
        }
      },
      "outputs": [
        {
          "output_type": "stream",
          "name": "stdout",
          "text": [
            "[[439  31]\n",
            " [ 34 396]]\n",
            "              precision    recall  f1-score   support\n",
            "\n",
            "           0       0.93      0.93      0.93       470\n",
            "           1       0.93      0.92      0.92       430\n",
            "\n",
            "    accuracy                           0.93       900\n",
            "   macro avg       0.93      0.93      0.93       900\n",
            "weighted avg       0.93      0.93      0.93       900\n",
            "\n"
          ]
        }
      ],
      "source": [
        "print(confusion_matrix(y_test, y_pred))\n",
        "print(classification_report(y_test, y_pred))"
      ]
    },
    {
      "cell_type": "code",
      "source": [
        "plot_confusion_matrix(knn_model,X_train_scaled,y_train)"
      ],
      "metadata": {
        "id": "TklG2fxJHbpX",
        "outputId": "2b5b9b30-ebae-446b-bc85-7fd55a03fe3c",
        "colab": {
          "base_uri": "https://localhost:8080/",
          "height": 407
        }
      },
      "id": "TklG2fxJHbpX",
      "execution_count": 45,
      "outputs": [
        {
          "output_type": "execute_result",
          "data": {
            "text/plain": [
              "<sklearn.metrics._plot.confusion_matrix.ConfusionMatrixDisplay at 0x7fcfcae15550>"
            ]
          },
          "metadata": {},
          "execution_count": 45
        },
        {
          "output_type": "display_data",
          "data": {
            "text/plain": [
              "<Figure size 720x432 with 2 Axes>"
            ],
            "image/png": "[encoded data removed]"
          },
          "metadata": {
            "needs_background": "light"
          }
        }
      ]
    },
    {
      "cell_type": "code",
      "execution_count": 46,
      "id": "6de33b26",
      "metadata": {
        "ExecuteTime": {
          "end_time": "2022-08-25T14:39:11.813708Z",
          "start_time": "2022-08-25T14:39:11.766863Z"
        },
        "id": "6de33b26",
        "outputId": "419bd756-739d-4cb6-ee2f-5ed35a3fef98",
        "colab": {
          "base_uri": "https://localhost:8080/"
        }
      },
      "outputs": [
        {
          "output_type": "stream",
          "name": "stdout",
          "text": [
            "[[ 972   58]\n",
            " [  60 1010]]\n",
            "              precision    recall  f1-score   support\n",
            "\n",
            "           0       0.94      0.94      0.94      1030\n",
            "           1       0.95      0.94      0.94      1070\n",
            "\n",
            "    accuracy                           0.94      2100\n",
            "   macro avg       0.94      0.94      0.94      2100\n",
            "weighted avg       0.94      0.94      0.94      2100\n",
            "\n"
          ]
        }
      ],
      "source": [
        "y_train_pred = knn_model.predict(X_train_scaled)\n",
        "print(confusion_matrix(y_train, y_train_pred))\n",
        "print(classification_report(y_train, y_train_pred))"
      ]
    },
    {
      "cell_type": "markdown",
      "id": "popular-technique",
      "metadata": {
        "id": "popular-technique"
      },
      "source": [
        "## Elbow Method for Choosing Reasonable K Values"
      ]
    },
    {
      "cell_type": "code",
      "execution_count": 47,
      "id": "sporting-finnish",
      "metadata": {
        "ExecuteTime": {
          "end_time": "2022-08-25T14:39:11.829654Z",
          "start_time": "2022-08-25T14:39:11.814703Z"
        },
        "id": "sporting-finnish"
      },
      "outputs": [],
      "source": [
        "from sklearn.metrics import accuracy_score, f1_score, recall_score, precision_score"
      ]
    },
    {
      "cell_type": "code",
      "execution_count": 48,
      "id": "3d68f548",
      "metadata": {
        "ExecuteTime": {
          "end_time": "2022-08-25T14:39:12.282663Z",
          "start_time": "2022-08-25T14:39:11.830649Z"
        },
        "id": "3d68f548"
      },
      "outputs": [],
      "source": [
        "test_error_rates = []\n",
        "\n",
        "\n",
        "for k in range(1,30):\n",
        "    knn_model = KNeighborsClassifier(n_neighbors=k)  # {'n_neighbors': 21, 'p': 2, 'weights': 'uniform'}\n",
        "    knn_model.fit(X_train_scaled,y_train) \n",
        "   \n",
        "    y_pred_test = knn_model.predict(X_test_scaled)\n",
        "    \n",
        "    \n",
        "    test_error = 1 - accuracy_score(y_test,y_pred_test)\n",
        "    \n",
        "    test_error_rates.append(test_error)"
      ]
    },
    {
      "cell_type": "code",
      "execution_count": 49,
      "id": "25c0b0aa",
      "metadata": {
        "ExecuteTime": {
          "end_time": "2022-08-25T14:39:12.377756Z",
          "start_time": "2022-08-25T14:39:12.283883Z"
        },
        "id": "25c0b0aa",
        "outputId": "0aaeddf8-96ac-4c8e-dc03-6ca781e6c3f3",
        "colab": {
          "base_uri": "https://localhost:8080/",
          "height": 532
        }
      },
      "outputs": [
        {
          "output_type": "execute_result",
          "data": {
            "text/plain": [
              "<matplotlib.collections.LineCollection at 0x7fcfcacecf10>"
            ]
          },
          "metadata": {},
          "execution_count": 49
        },
        {
          "output_type": "display_data",
          "data": {
            "text/plain": [
              "<Figure size 1080x576 with 1 Axes>"
            ],
            "image/png": "[encoded data removed]"
          },
          "metadata": {
            "needs_background": "light"
          }
        }
      ],
      "source": [
        "plt.figure(figsize=(15,8))\n",
        "plt.plot(range(1,30), test_error_rates, color='blue', linestyle='--', marker='o',\n",
        "         markerfacecolor='red', markersize=10)\n",
        "\n",
        "plt.title('Error Rate vs. K Value')\n",
        "plt.xlabel('K_values')\n",
        "plt.ylabel('Error Rate')\n",
        "plt.hlines(y=0.050, xmin = 0, xmax = 30, colors= 'r', linestyles=\"--\")\n",
        "plt.hlines(y=0.057, xmin = 0, xmax = 30, colors= 'r', linestyles=\"--\")"
      ]
    },
    {
      "cell_type": "markdown",
      "id": "48e2fc57",
      "metadata": {
        "id": "48e2fc57"
      },
      "source": [
        "### Overfiting and underfiting control for k values"
      ]
    },
    {
      "cell_type": "code",
      "execution_count": 50,
      "id": "sticky-airline",
      "metadata": {
        "ExecuteTime": {
          "end_time": "2022-08-25T14:39:13.738427Z",
          "start_time": "2022-08-25T14:39:12.378707Z"
        },
        "id": "sticky-airline"
      },
      "outputs": [],
      "source": [
        "test_error_rates = []\n",
        "train_error_rates = []\n",
        "\n",
        "\n",
        "for k in range(1,30):\n",
        "    knn_model = KNeighborsClassifier(n_neighbors=k)\n",
        "    knn_model.fit(X_train_scaled,y_train) \n",
        "   \n",
        "    y_pred_test = knn_model.predict(X_test_scaled)\n",
        "    y_pred_train = knn_model.predict(X_train_scaled)\n",
        "    \n",
        "    test_error = 1 - accuracy_score(y_test,y_pred_test)\n",
        "    train_error = 1 - accuracy_score(y_train,y_pred_train)\n",
        "    test_error_rates.append(test_error)\n",
        "    train_error_rates.append(train_error)"
      ]
    },
    {
      "cell_type": "code",
      "execution_count": 51,
      "id": "collaborative-buying",
      "metadata": {
        "ExecuteTime": {
          "end_time": "2022-08-25T14:39:13.837459Z",
          "start_time": "2022-08-25T14:39:13.738427Z"
        },
        "id": "collaborative-buying",
        "outputId": "dd69f992-3eb6-45da-f82c-4b83fda695d4",
        "colab": {
          "base_uri": "https://localhost:8080/",
          "height": 532
        }
      },
      "outputs": [
        {
          "output_type": "execute_result",
          "data": {
            "text/plain": [
              "<matplotlib.collections.LineCollection at 0x7fcfcac0dcd0>"
            ]
          },
          "metadata": {},
          "execution_count": 51
        },
        {
          "output_type": "display_data",
          "data": {
            "text/plain": [
              "<Figure size 1080x576 with 1 Axes>"
            ],
            "image/png": "[encoded data removed]"
          },
          "metadata": {
            "needs_background": "light"
          }
        }
      ],
      "source": [
        "plt.figure(figsize=(15,8))\n",
        "plt.plot(range(1,30), test_error_rates, color='blue', linestyle='--', marker='o',\n",
        "         markerfacecolor='red', markersize=10)\n",
        "plt.plot(range(1,30), train_error_rates, color='green', linestyle='--', marker='o',\n",
        "         markerfacecolor='blue', markersize=10)\n",
        "plt.title('Error Rate vs. K Value')\n",
        "plt.xlabel('K_values')\n",
        "plt.ylabel('Error Rate')\n",
        "plt.hlines(y=0.050, xmin = 0, xmax = 30, colors= 'r', linestyles=\"--\")\n",
        "plt.hlines(y=0.057, xmin = 0, xmax = 30, colors= 'r', linestyles=\"--\")"
      ]
    },
    {
      "cell_type": "markdown",
      "id": "consecutive-financing",
      "metadata": {
        "id": "consecutive-financing"
      },
      "source": [
        "### Scores by Various K Values"
      ]
    },
    {
      "cell_type": "code",
      "execution_count": 52,
      "id": "22f32ce9",
      "metadata": {
        "ExecuteTime": {
          "end_time": "2022-08-25T14:39:13.853419Z",
          "start_time": "2022-08-25T14:39:13.838470Z"
        },
        "id": "22f32ce9"
      },
      "outputs": [],
      "source": [
        "def eval_metric(model, X_train, y_train, X_test, y_test):\n",
        "    y_train_pred = model.predict(X_train)\n",
        "    y_pred = model.predict(X_test)\n",
        "    \n",
        "    print(\"Test_Set\\n\")\n",
        "    print(confusion_matrix(y_test, y_pred))\n",
        "    print(classification_report(y_test, y_pred))\n",
        "    print()\n",
        "    print(\"Train_Set\\n\")\n",
        "    print(confusion_matrix(y_train, y_train_pred))\n",
        "    print(classification_report(y_train, y_train_pred))"
      ]
    },
    {
      "cell_type": "code",
      "execution_count": 53,
      "id": "14dd23d5",
      "metadata": {
        "ExecuteTime": {
          "end_time": "2022-08-25T14:39:13.915666Z",
          "start_time": "2022-08-25T14:39:13.854416Z"
        },
        "id": "14dd23d5",
        "outputId": "fd4f5283-32c3-4a18-b7eb-db592a30cba3",
        "colab": {
          "base_uri": "https://localhost:8080/"
        }
      },
      "outputs": [
        {
          "output_type": "stream",
          "name": "stdout",
          "text": [
            "WITH K=1\n",
            "\n",
            "Test_Set\n",
            "\n",
            "[[422  48]\n",
            " [ 50 380]]\n",
            "              precision    recall  f1-score   support\n",
            "\n",
            "           0       0.89      0.90      0.90       470\n",
            "           1       0.89      0.88      0.89       430\n",
            "\n",
            "    accuracy                           0.89       900\n",
            "   macro avg       0.89      0.89      0.89       900\n",
            "weighted avg       0.89      0.89      0.89       900\n",
            "\n",
            "\n",
            "Train_Set\n",
            "\n",
            "[[1005   25]\n",
            " [  22 1048]]\n",
            "              precision    recall  f1-score   support\n",
            "\n",
            "           0       0.98      0.98      0.98      1030\n",
            "           1       0.98      0.98      0.98      1070\n",
            "\n",
            "    accuracy                           0.98      2100\n",
            "   macro avg       0.98      0.98      0.98      2100\n",
            "weighted avg       0.98      0.98      0.98      2100\n",
            "\n"
          ]
        }
      ],
      "source": [
        "knn = KNeighborsClassifier(n_neighbors=1)\n",
        "\n",
        "knn.fit(X_train_scaled,y_train)\n",
        "print('WITH K=1\\n')\n",
        "eval_metric(knn, X_train_scaled, y_train, X_test_scaled, y_test)"
      ]
    },
    {
      "cell_type": "code",
      "execution_count": 54,
      "id": "bottom-nurse",
      "metadata": {
        "ExecuteTime": {
          "end_time": "2022-08-25T14:39:13.995351Z",
          "start_time": "2022-08-25T14:39:13.919663Z"
        },
        "id": "bottom-nurse",
        "outputId": "108085db-41a8-4d38-e338-674bb01c86df",
        "colab": {
          "base_uri": "https://localhost:8080/"
        }
      },
      "outputs": [
        {
          "output_type": "stream",
          "name": "stdout",
          "text": [
            "WITH K=22\n",
            "\n",
            "Test_Set\n",
            "\n",
            "[[452  18]\n",
            " [ 28 402]]\n",
            "              precision    recall  f1-score   support\n",
            "\n",
            "           0       0.94      0.96      0.95       470\n",
            "           1       0.96      0.93      0.95       430\n",
            "\n",
            "    accuracy                           0.95       900\n",
            "   macro avg       0.95      0.95      0.95       900\n",
            "weighted avg       0.95      0.95      0.95       900\n",
            "\n",
            "\n",
            "Train_Set\n",
            "\n",
            "[[ 960   70]\n",
            " [  68 1002]]\n",
            "              precision    recall  f1-score   support\n",
            "\n",
            "           0       0.93      0.93      0.93      1030\n",
            "           1       0.93      0.94      0.94      1070\n",
            "\n",
            "    accuracy                           0.93      2100\n",
            "   macro avg       0.93      0.93      0.93      2100\n",
            "weighted avg       0.93      0.93      0.93      2100\n",
            "\n"
          ]
        }
      ],
      "source": [
        "knn = KNeighborsClassifier(n_neighbors=22)\n",
        "\n",
        "knn.fit(X_train_scaled,y_train)\n",
        "print('WITH K=22\\n')\n",
        "eval_metric(knn, X_train_scaled, y_train, X_test_scaled, y_test)"
      ]
    },
    {
      "cell_type": "code",
      "execution_count": 55,
      "id": "proved-dispute",
      "metadata": {
        "ExecuteTime": {
          "end_time": "2022-08-25T14:39:14.058142Z",
          "start_time": "2022-08-25T14:39:13.996348Z"
        },
        "id": "proved-dispute",
        "outputId": "f0737e5c-3c8b-4b7d-8beb-4ee2ec7dd850",
        "colab": {
          "base_uri": "https://localhost:8080/"
        }
      },
      "outputs": [
        {
          "output_type": "stream",
          "name": "stdout",
          "text": [
            "WITH K=9\n",
            "\n",
            "Test_Set\n",
            "\n",
            "[[446  24]\n",
            " [ 28 402]]\n",
            "              precision    recall  f1-score   support\n",
            "\n",
            "           0       0.94      0.95      0.94       470\n",
            "           1       0.94      0.93      0.94       430\n",
            "\n",
            "    accuracy                           0.94       900\n",
            "   macro avg       0.94      0.94      0.94       900\n",
            "weighted avg       0.94      0.94      0.94       900\n",
            "\n",
            "\n",
            "Train_Set\n",
            "\n",
            "[[ 963   67]\n",
            " [  60 1010]]\n",
            "              precision    recall  f1-score   support\n",
            "\n",
            "           0       0.94      0.93      0.94      1030\n",
            "           1       0.94      0.94      0.94      1070\n",
            "\n",
            "    accuracy                           0.94      2100\n",
            "   macro avg       0.94      0.94      0.94      2100\n",
            "weighted avg       0.94      0.94      0.94      2100\n",
            "\n"
          ]
        }
      ],
      "source": [
        "knn = KNeighborsClassifier(n_neighbors=9)                   \n",
        "\n",
        "knn.fit(X_train_scaled,y_train)\n",
        "print('WITH K=9\\n')\n",
        "eval_metric(knn, X_train_scaled, y_train, X_test_scaled, y_test)"
      ]
    },
    {
      "cell_type": "code",
      "execution_count": 56,
      "id": "6b34f073",
      "metadata": {
        "ExecuteTime": {
          "end_time": "2022-08-25T14:39:14.135987Z",
          "start_time": "2022-08-25T14:39:14.059138Z"
        },
        "id": "6b34f073",
        "outputId": "8f382dbe-4b25-4c04-bea8-c30db6c92b5d",
        "colab": {
          "base_uri": "https://localhost:8080/"
        }
      },
      "outputs": [
        {
          "output_type": "stream",
          "name": "stdout",
          "text": [
            "WITH K=15\n",
            "\n",
            "Test_Set\n",
            "\n",
            "[[446  24]\n",
            " [ 29 401]]\n",
            "              precision    recall  f1-score   support\n",
            "\n",
            "           0       0.94      0.95      0.94       470\n",
            "           1       0.94      0.93      0.94       430\n",
            "\n",
            "    accuracy                           0.94       900\n",
            "   macro avg       0.94      0.94      0.94       900\n",
            "weighted avg       0.94      0.94      0.94       900\n",
            "\n",
            "\n",
            "Train_Set\n",
            "\n",
            "[[957  73]\n",
            " [ 71 999]]\n",
            "              precision    recall  f1-score   support\n",
            "\n",
            "           0       0.93      0.93      0.93      1030\n",
            "           1       0.93      0.93      0.93      1070\n",
            "\n",
            "    accuracy                           0.93      2100\n",
            "   macro avg       0.93      0.93      0.93      2100\n",
            "weighted avg       0.93      0.93      0.93      2100\n",
            "\n"
          ]
        }
      ],
      "source": [
        "knn = KNeighborsClassifier(n_neighbors=15)\n",
        "\n",
        "knn.fit(X_train_scaled,y_train)\n",
        "print('WITH K=15\\n')\n",
        "eval_metric(knn, X_train_scaled, y_train, X_test_scaled, y_test)"
      ]
    },
    {
      "cell_type": "markdown",
      "id": "cooked-quebec",
      "metadata": {
        "id": "cooked-quebec"
      },
      "source": [
        "### Cross Validate For Optimal K Value"
      ]
    },
    {
      "cell_type": "code",
      "execution_count": 57,
      "id": "curious-cowboy",
      "metadata": {
        "ExecuteTime": {
          "end_time": "2022-08-25T14:39:14.151968Z",
          "start_time": "2022-08-25T14:39:14.137036Z"
        },
        "id": "curious-cowboy"
      },
      "outputs": [],
      "source": [
        "from sklearn.model_selection import cross_val_score, cross_validate"
      ]
    },
    {
      "cell_type": "code",
      "execution_count": 76,
      "id": "impressed-contact",
      "metadata": {
        "ExecuteTime": {
          "end_time": "2022-08-25T14:39:14.228783Z",
          "start_time": "2022-08-25T14:39:14.152932Z"
        },
        "id": "impressed-contact",
        "outputId": "ec5f6b70-528c-4dc2-c243-2716f2d884b9",
        "colab": {
          "base_uri": "https://localhost:8080/",
          "height": 363
        }
      },
      "outputs": [
        {
          "output_type": "execute_result",
          "data": {
            "text/plain": [
              "    fit_time  score_time  test_accuracy  test_precision  test_recall   test_f1\n",
              "1   0.002993    0.018583       0.919048        0.924528     0.915888  0.920188\n",
              "2   0.002906    0.035683       0.942857        0.935780     0.953271  0.944444\n",
              "3   0.002395    0.016292       0.947619        0.970588     0.925234  0.947368\n",
              "4   0.002667    0.016193       0.871429        0.877358     0.869159  0.873239\n",
              "5   0.002566    0.031720       0.923810        0.909910     0.943925  0.926606\n",
              "6   0.009941    0.040016       0.909524        0.915094     0.906542  0.910798\n",
              "7   0.003108    0.037773       0.942857        0.927928     0.962617  0.944954\n",
              "8   0.002754    0.035463       0.938095        0.927273     0.953271  0.940092\n",
              "9   0.003027    0.033552       0.961905        0.980583     0.943925  0.961905\n",
              "10  0.011648    0.020267       0.895238        0.869565     0.934579  0.900901"
            ],
            "text/html": [
              "\n",
              "  <div id=\"df-955159b8-9215-4236-9135-e7ad9c707b70\">\n",
              "    <div class=\"colab-df-container\">\n",
              "      <div>\n",
              "<style scoped>\n",
              "    .dataframe tbody tr th:only-of-type {\n",
              "        vertical-align: middle;\n",
              "    }\n",
              "\n",
              "    .dataframe tbody tr th {\n",
              "        vertical-align: top;\n",
              "    }\n",
              "\n",
              "    .dataframe thead th {\n",
              "        text-align: right;\n",
              "    }\n",
              "</style>\n",
              "<table border=\"1\" class=\"dataframe\">\n",
              "  <thead>\n",
              "    <tr style=\"text-align: right;\">\n",
              "      <th></th>\n",
              "      <th>fit_time</th>\n",
              "      <th>score_time</th>\n",
              "      <th>test_accuracy</th>\n",
              "      <th>test_precision</th>\n",
              "      <th>test_recall</th>\n",
              "      <th>test_f1</th>\n",
              "    </tr>\n",
              "  </thead>\n",
              "  <tbody>\n",
              "    <tr>\n",
              "      <th>1</th>\n",
              "      <td>0.002993</td>\n",
              "      <td>0.018583</td>\n",
              "      <td>0.919048</td>\n",
              "      <td>0.924528</td>\n",
              "      <td>0.915888</td>\n",
              "      <td>0.920188</td>\n",
              "    </tr>\n",
              "    <tr>\n",
              "      <th>2</th>\n",
              "      <td>0.002906</td>\n",
              "      <td>0.035683</td>\n",
              "      <td>0.942857</td>\n",
              "      <td>0.935780</td>\n",
              "      <td>0.953271</td>\n",
              "      <td>0.944444</td>\n",
              "    </tr>\n",
              "    <tr>\n",
              "      <th>3</th>\n",
              "      <td>0.002395</td>\n",
              "      <td>0.016292</td>\n",
              "      <td>0.947619</td>\n",
              "      <td>0.970588</td>\n",
              "      <td>0.925234</td>\n",
              "      <td>0.947368</td>\n",
              "    </tr>\n",
              "    <tr>\n",
              "      <th>4</th>\n",
              "      <td>0.002667</td>\n",
              "      <td>0.016193</td>\n",
              "      <td>0.871429</td>\n",
              "      <td>0.877358</td>\n",
              "      <td>0.869159</td>\n",
              "      <td>0.873239</td>\n",
              "    </tr>\n",
              "    <tr>\n",
              "      <th>5</th>\n",
              "      <td>0.002566</td>\n",
              "      <td>0.031720</td>\n",
              "      <td>0.923810</td>\n",
              "      <td>0.909910</td>\n",
              "      <td>0.943925</td>\n",
              "      <td>0.926606</td>\n",
              "    </tr>\n",
              "    <tr>\n",
              "      <th>6</th>\n",
              "      <td>0.009941</td>\n",
              "      <td>0.040016</td>\n",
              "      <td>0.909524</td>\n",
              "      <td>0.915094</td>\n",
              "      <td>0.906542</td>\n",
              "      <td>0.910798</td>\n",
              "    </tr>\n",
              "    <tr>\n",
              "      <th>7</th>\n",
              "      <td>0.003108</td>\n",
              "      <td>0.037773</td>\n",
              "      <td>0.942857</td>\n",
              "      <td>0.927928</td>\n",
              "      <td>0.962617</td>\n",
              "      <td>0.944954</td>\n",
              "    </tr>\n",
              "    <tr>\n",
              "      <th>8</th>\n",
              "      <td>0.002754</td>\n",
              "      <td>0.035463</td>\n",
              "      <td>0.938095</td>\n",
              "      <td>0.927273</td>\n",
              "      <td>0.953271</td>\n",
              "      <td>0.940092</td>\n",
              "    </tr>\n",
              "    <tr>\n",
              "      <th>9</th>\n",
              "      <td>0.003027</td>\n",
              "      <td>0.033552</td>\n",
              "      <td>0.961905</td>\n",
              "      <td>0.980583</td>\n",
              "      <td>0.943925</td>\n",
              "      <td>0.961905</td>\n",
              "    </tr>\n",
              "    <tr>\n",
              "      <th>10</th>\n",
              "      <td>0.011648</td>\n",
              "      <td>0.020267</td>\n",
              "      <td>0.895238</td>\n",
              "      <td>0.869565</td>\n",
              "      <td>0.934579</td>\n",
              "      <td>0.900901</td>\n",
              "    </tr>\n",
              "  </tbody>\n",
              "</table>\n",
              "</div>\n",
              "      <button class=\"colab-df-convert\" onclick=\"convertToInteractive('df-955159b8-9215-4236-9135-e7ad9c707b70')\"\n",
              "              title=\"Convert this dataframe to an interactive table.\"\n",
              "              style=\"display:none;\">\n",
              "        \n",
              "  <svg xmlns=\"http://www.w3.org/2000/svg\" height=\"24px\"viewBox=\"0 0 24 24\"\n",
              "       width=\"24px\">\n",
              "    <path d=\"M0 0h24v24H0V0z\" fill=\"none\"/>\n",
              "    <path d=\"M18.56 5.44l.94 2.06.94-2.06 2.06-.94-2.06-.94-.94-2.06-.94 2.06-2.06.94zm-11 1L8.5 8.5l.94-2.06 2.06-.94-2.06-.94L8.5 2.5l-.94 2.06-2.06.94zm10 10l.94 2.06.94-2.06 2.06-.94-2.06-.94-.94-2.06-.94 2.06-2.06.94z\"/><path d=\"M17.41 7.96l-1.37-1.37c-.4-.4-.92-.59-1.43-.59-.52 0-1.04.2-1.43.59L10.3 9.45l-7.72 7.72c-.78.78-.78 2.05 0 2.83L4 21.41c.39.39.9.59 1.41.59.51 0 1.02-.2 1.41-.59l7.78-7.78 2.81-2.81c.8-.78.8-2.07 0-2.86zM5.41 20L4 18.59l7.72-7.72 1.47 1.35L5.41 20z\"/>\n",
              "  </svg>\n",
              "      </button>\n",
              "      \n",
              "  <style>\n",
              "    .colab-df-container {\n",
              "      display:flex;\n",
              "      flex-wrap:wrap;\n",
              "      gap: 12px;\n",
              "    }\n",
              "\n",
              "    .colab-df-convert {\n",
              "      background-color: #E8F0FE;\n",
              "      border: none;\n",
              "      border-radius: 50%;\n",
              "      cursor: pointer;\n",
              "      display: none;\n",
              "      fill: #1967D2;\n",
              "      height: 32px;\n",
              "      padding: 0 0 0 0;\n",
              "      width: 32px;\n",
              "    }\n",
              "\n",
              "    .colab-df-convert:hover {\n",
              "      background-color: #E2EBFA;\n",
              "      box-shadow: 0px 1px 2px rgba(60, 64, 67, 0.3), 0px 1px 3px 1px rgba(60, 64, 67, 0.15);\n",
              "      fill: #174EA6;\n",
              "    }\n",
              "\n",
              "    [theme=dark] .colab-df-convert {\n",
              "      background-color: #3B4455;\n",
              "      fill: #D2E3FC;\n",
              "    }\n",
              "\n",
              "    [theme=dark] .colab-df-convert:hover {\n",
              "      background-color: #434B5C;\n",
              "      box-shadow: 0px 1px 3px 1px rgba(0, 0, 0, 0.15);\n",
              "      filter: drop-shadow(0px 1px 2px rgba(0, 0, 0, 0.3));\n",
              "      fill: #FFFFFF;\n",
              "    }\n",
              "  </style>\n",
              "\n",
              "      <script>\n",
              "        const buttonEl =\n",
              "          document.querySelector('#df-955159b8-9215-4236-9135-e7ad9c707b70 button.colab-df-convert');\n",
              "        buttonEl.style.display =\n",
              "          google.colab.kernel.accessAllowed ? 'block' : 'none';\n",
              "\n",
              "        async function convertToInteractive(key) {\n",
              "          const element = document.querySelector('#df-955159b8-9215-4236-9135-e7ad9c707b70');\n",
              "          const dataTable =\n",
              "            await google.colab.kernel.invokeFunction('convertToInteractive',\n",
              "                                                     [key], {});\n",
              "          if (!dataTable) return;\n",
              "\n",
              "          const docLinkHtml = 'Like what you see? Visit the ' +\n",
              "            '<a target=\"_blank\" href=https://colab.research.google.com/notebooks/data_table.ipynb>data table notebook</a>'\n",
              "            + ' to learn more about interactive tables.';\n",
              "          element.innerHTML = '';\n",
              "          dataTable['output_type'] = 'display_data';\n",
              "          await google.colab.output.renderOutput(dataTable, element);\n",
              "          const docLink = document.createElement('div');\n",
              "          docLink.innerHTML = docLinkHtml;\n",
              "          element.appendChild(docLink);\n",
              "        }\n",
              "      </script>\n",
              "    </div>\n",
              "  </div>\n",
              "  "
            ]
          },
          "metadata": {},
          "execution_count": 76
        }
      ],
      "source": [
        "model = KNeighborsClassifier(n_neighbors=9)\n",
        "\n",
        "scores = cross_validate(model, X_train_scaled, y_train, scoring = ['accuracy', 'precision','recall',\n",
        "                                                                   'f1'], cv = 10)\n",
        "df_scores = pd.DataFrame(scores, index = range(1, 11))\n",
        "df_scores"
      ]
    },
    {
      "cell_type": "code",
      "execution_count": 77,
      "id": "forty-insulin",
      "metadata": {
        "ExecuteTime": {
          "end_time": "2022-08-25T14:39:14.244726Z",
          "start_time": "2022-08-25T14:39:14.229781Z"
        },
        "id": "forty-insulin",
        "outputId": "7cdeb32a-90b9-46b7-85b0-e675021eb302",
        "colab": {
          "base_uri": "https://localhost:8080/"
        }
      },
      "outputs": [
        {
          "output_type": "execute_result",
          "data": {
            "text/plain": [
              "test_accuracy     0.925238\n",
              "test_precision    0.923861\n",
              "test_recall       0.930841\n",
              "test_f1           0.927050\n",
              "dtype: float64"
            ]
          },
          "metadata": {},
          "execution_count": 77
        }
      ],
      "source": [
        "df_scores.mean()[2:]"
      ]
    },
    {
      "cell_type": "markdown",
      "id": "textile-dependence",
      "metadata": {
        "id": "textile-dependence"
      },
      "source": [
        "## Predict New Observation"
      ]
    },
    {
      "cell_type": "code",
      "execution_count": 78,
      "id": "daily-technician",
      "metadata": {
        "ExecuteTime": {
          "end_time": "2022-08-25T14:39:14.260673Z",
          "start_time": "2022-08-25T14:39:14.245723Z"
        },
        "id": "daily-technician"
      },
      "outputs": [],
      "source": [
        "new_observation = [[3.5, 4.3]]"
      ]
    },
    {
      "cell_type": "code",
      "execution_count": 79,
      "id": "linear-looking",
      "metadata": {
        "ExecuteTime": {
          "end_time": "2022-08-25T14:39:14.275622Z",
          "start_time": "2022-08-25T14:39:14.261669Z"
        },
        "id": "linear-looking",
        "outputId": "2043dbbb-cf85-4240-e635-2efa2b72444f",
        "colab": {
          "base_uri": "https://localhost:8080/"
        }
      },
      "outputs": [
        {
          "output_type": "execute_result",
          "data": {
            "text/plain": [
              "array([1])"
            ]
          },
          "metadata": {},
          "execution_count": 79
        }
      ],
      "source": [
        "knn_model.predict(new_observation)"
      ]
    },
    {
      "cell_type": "code",
      "execution_count": 80,
      "id": "automotive-incentive",
      "metadata": {
        "ExecuteTime": {
          "end_time": "2022-08-25T14:39:14.291569Z",
          "start_time": "2022-08-25T14:39:14.276619Z"
        },
        "id": "automotive-incentive",
        "outputId": "e16c7fde-894a-4178-8547-ba56610e96bd",
        "colab": {
          "base_uri": "https://localhost:8080/"
        }
      },
      "outputs": [
        {
          "output_type": "execute_result",
          "data": {
            "text/plain": [
              "array([[0.34482759, 0.65517241]])"
            ]
          },
          "metadata": {},
          "execution_count": 80
        }
      ],
      "source": [
        "knn_model.predict_proba(new_observation)"
      ]
    },
    {
      "cell_type": "code",
      "execution_count": 81,
      "id": "generic-cotton",
      "metadata": {
        "ExecuteTime": {
          "end_time": "2022-08-25T14:39:14.307516Z",
          "start_time": "2022-08-25T14:39:14.292565Z"
        },
        "id": "generic-cotton",
        "outputId": "fdbc2c02-fa50-4bc4-a1f2-c98db88f8031",
        "colab": {
          "base_uri": "https://localhost:8080/"
        }
      },
      "outputs": [
        {
          "output_type": "execute_result",
          "data": {
            "text/plain": [
              "array([[-1.1393583 , -0.62176572]])"
            ]
          },
          "metadata": {},
          "execution_count": 81
        }
      ],
      "source": [
        "new_observation_scaled = scaler.transform(new_observation)\n",
        "new_observation_scaled"
      ]
    },
    {
      "cell_type": "code",
      "execution_count": 82,
      "id": "planned-ceremony",
      "metadata": {
        "ExecuteTime": {
          "end_time": "2022-08-25T14:39:14.323463Z",
          "start_time": "2022-08-25T14:39:14.308512Z"
        },
        "id": "planned-ceremony",
        "outputId": "bd621975-1c38-4617-b7f0-fc8190a3422c",
        "colab": {
          "base_uri": "https://localhost:8080/"
        }
      },
      "outputs": [
        {
          "output_type": "execute_result",
          "data": {
            "text/plain": [
              "array([0])"
            ]
          },
          "metadata": {},
          "execution_count": 82
        }
      ],
      "source": [
        "knn_model.predict(new_observation_scaled)"
      ]
    },
    {
      "cell_type": "code",
      "execution_count": 83,
      "id": "civic-logging",
      "metadata": {
        "ExecuteTime": {
          "end_time": "2022-08-25T14:39:14.339409Z",
          "start_time": "2022-08-25T14:39:14.324459Z"
        },
        "id": "civic-logging",
        "outputId": "7ce84cbf-36f2-40f9-db0b-b05d1e8c66b7",
        "colab": {
          "base_uri": "https://localhost:8080/"
        }
      },
      "outputs": [
        {
          "output_type": "execute_result",
          "data": {
            "text/plain": [
              "array([[0.62068966, 0.37931034]])"
            ]
          },
          "metadata": {},
          "execution_count": 83
        }
      ],
      "source": [
        "knn_model.predict_proba(new_observation_scaled)"
      ]
    },
    {
      "cell_type": "markdown",
      "id": "breathing-adams",
      "metadata": {
        "id": "breathing-adams"
      },
      "source": [
        "### Gridsearch for Choosing K"
      ]
    },
    {
      "cell_type": "code",
      "execution_count": 84,
      "id": "hybrid-backup",
      "metadata": {
        "ExecuteTime": {
          "end_time": "2022-08-25T14:39:14.355358Z",
          "start_time": "2022-08-25T14:39:14.340406Z"
        },
        "id": "hybrid-backup"
      },
      "outputs": [],
      "source": [
        "from sklearn.model_selection import GridSearchCV"
      ]
    },
    {
      "cell_type": "code",
      "execution_count": 85,
      "id": "established-pierce",
      "metadata": {
        "ExecuteTime": {
          "end_time": "2022-08-25T14:39:14.370306Z",
          "start_time": "2022-08-25T14:39:14.356352Z"
        },
        "id": "established-pierce"
      },
      "outputs": [],
      "source": [
        "knn_grid = KNeighborsClassifier()"
      ]
    },
    {
      "cell_type": "code",
      "execution_count": 86,
      "id": "thousand-criterion",
      "metadata": {
        "ExecuteTime": {
          "end_time": "2022-08-25T14:39:14.386252Z",
          "start_time": "2022-08-25T14:39:14.371303Z"
        },
        "id": "thousand-criterion"
      },
      "outputs": [],
      "source": [
        "k_values= range(1,30)"
      ]
    },
    {
      "cell_type": "code",
      "execution_count": 87,
      "id": "detected-petersburg",
      "metadata": {
        "ExecuteTime": {
          "end_time": "2022-08-25T14:39:14.402199Z",
          "start_time": "2022-08-25T14:39:14.387249Z"
        },
        "id": "detected-petersburg"
      },
      "outputs": [],
      "source": [
        "param_grid = {\"n_neighbors\":k_values, \"p\": [1,2], \"weights\": ['uniform', \"distance\"]}"
      ]
    },
    {
      "cell_type": "code",
      "execution_count": 88,
      "id": "through-patrick",
      "metadata": {
        "ExecuteTime": {
          "end_time": "2022-08-25T14:39:14.418146Z",
          "start_time": "2022-08-25T14:39:14.403196Z"
        },
        "id": "through-patrick"
      },
      "outputs": [],
      "source": [
        "knn_grid_model = GridSearchCV(knn_grid, param_grid, cv=10, scoring= 'accuracy')"
      ]
    },
    {
      "cell_type": "code",
      "execution_count": 89,
      "id": "abroad-minneapolis",
      "metadata": {
        "ExecuteTime": {
          "end_time": "2022-08-25T14:39:18.245369Z",
          "start_time": "2022-08-25T14:39:14.419145Z"
        },
        "id": "abroad-minneapolis",
        "outputId": "8440b403-e3ed-405a-a960-22a109a120c4",
        "colab": {
          "base_uri": "https://localhost:8080/"
        }
      },
      "outputs": [
        {
          "output_type": "execute_result",
          "data": {
            "text/plain": [
              "GridSearchCV(cv=10, estimator=KNeighborsClassifier(),\n",
              "             param_grid={'n_neighbors': range(1, 30), 'p': [1, 2],\n",
              "                         'weights': ['uniform', 'distance']},\n",
              "             scoring='accuracy')"
            ]
          },
          "metadata": {},
          "execution_count": 89
        }
      ],
      "source": [
        "knn_grid_model.fit(X_train_scaled, y_train)"
      ]
    },
    {
      "cell_type": "code",
      "execution_count": 90,
      "id": "synthetic-debate",
      "metadata": {
        "ExecuteTime": {
          "end_time": "2022-08-25T14:39:18.261365Z",
          "start_time": "2022-08-25T14:39:18.246366Z"
        },
        "id": "synthetic-debate",
        "outputId": "1ec8692c-13f5-439b-ef43-d4495730e797",
        "colab": {
          "base_uri": "https://localhost:8080/"
        }
      },
      "outputs": [
        {
          "output_type": "execute_result",
          "data": {
            "text/plain": [
              "{'n_neighbors': 21, 'p': 1, 'weights': 'uniform'}"
            ]
          },
          "metadata": {},
          "execution_count": 90
        }
      ],
      "source": [
        "knn_grid_model.best_params_"
      ]
    },
    {
      "cell_type": "code",
      "execution_count": 91,
      "id": "d26fa793",
      "metadata": {
        "ExecuteTime": {
          "end_time": "2022-08-25T14:39:18.338076Z",
          "start_time": "2022-08-25T14:39:18.262363Z"
        },
        "id": "d26fa793",
        "outputId": "10ad097e-278f-42a7-8197-c344b057542a",
        "colab": {
          "base_uri": "https://localhost:8080/"
        }
      },
      "outputs": [
        {
          "output_type": "stream",
          "name": "stdout",
          "text": [
            "WITH K=21\n",
            "\n",
            "Test_Set\n",
            "\n",
            "[[447  23]\n",
            " [ 27 403]]\n",
            "              precision    recall  f1-score   support\n",
            "\n",
            "           0       0.94      0.95      0.95       470\n",
            "           1       0.95      0.94      0.94       430\n",
            "\n",
            "    accuracy                           0.94       900\n",
            "   macro avg       0.94      0.94      0.94       900\n",
            "weighted avg       0.94      0.94      0.94       900\n",
            "\n",
            "\n",
            "Train_Set\n",
            "\n",
            "[[957  73]\n",
            " [ 71 999]]\n",
            "              precision    recall  f1-score   support\n",
            "\n",
            "           0       0.93      0.93      0.93      1030\n",
            "           1       0.93      0.93      0.93      1070\n",
            "\n",
            "    accuracy                           0.93      2100\n",
            "   macro avg       0.93      0.93      0.93      2100\n",
            "weighted avg       0.93      0.93      0.93      2100\n",
            "\n"
          ]
        }
      ],
      "source": [
        "print('WITH K=21\\n')\n",
        "eval_metric(knn_grid_model, X_train_scaled, y_train, X_test_scaled, y_test)"
      ]
    },
    {
      "cell_type": "markdown",
      "id": "rough-budapest",
      "metadata": {
        "id": "rough-budapest"
      },
      "source": [
        "### Evaluating ROC Curves and AUC"
      ]
    },
    {
      "cell_type": "code",
      "execution_count": 92,
      "id": "adolescent-brief",
      "metadata": {
        "ExecuteTime": {
          "end_time": "2022-08-25T14:39:18.353956Z",
          "start_time": "2022-08-25T14:39:18.339002Z"
        },
        "id": "adolescent-brief"
      },
      "outputs": [],
      "source": [
        "from sklearn.metrics import precision_recall_curve, plot_precision_recall_curve, plot_roc_curve, roc_auc_score, roc_curve"
      ]
    },
    {
      "cell_type": "code",
      "execution_count": 93,
      "id": "convinced-agreement",
      "metadata": {
        "ExecuteTime": {
          "end_time": "2022-08-25T14:39:18.369898Z",
          "start_time": "2022-08-25T14:39:18.354949Z"
        },
        "id": "convinced-agreement"
      },
      "outputs": [],
      "source": [
        "knn_model = KNeighborsClassifier(n_neighbors=9).fit(X_train_scaled, y_train)"
      ]
    },
    {
      "cell_type": "code",
      "execution_count": 94,
      "id": "other-louisville",
      "metadata": {
        "ExecuteTime": {
          "end_time": "2022-08-25T14:39:18.463589Z",
          "start_time": "2022-08-25T14:39:18.370907Z"
        },
        "id": "other-louisville",
        "outputId": "fb61c55d-e4e1-4e5a-bf41-96c8008eb080",
        "colab": {
          "base_uri": "https://localhost:8080/",
          "height": 406
        }
      },
      "outputs": [
        {
          "output_type": "execute_result",
          "data": {
            "text/plain": [
              "<sklearn.metrics._plot.roc_curve.RocCurveDisplay at 0x7fcfcab3cc10>"
            ]
          },
          "metadata": {},
          "execution_count": 94
        },
        {
          "output_type": "display_data",
          "data": {
            "text/plain": [
              "<Figure size 720x432 with 1 Axes>"
            ],
            "image/png": "[encoded data removed]"
          },
          "metadata": {
            "needs_background": "light"
          }
        }
      ],
      "source": [
        "plot_roc_curve(knn_model, X_test_scaled, y_test)"
      ]
    },
    {
      "cell_type": "code",
      "execution_count": 95,
      "id": "desperate-canyon",
      "metadata": {
        "ExecuteTime": {
          "end_time": "2022-08-25T14:39:18.479536Z",
          "start_time": "2022-08-25T14:39:18.464590Z"
        },
        "id": "desperate-canyon",
        "outputId": "cc879033-5cee-4bfc-f1e8-6e5a35bce386",
        "colab": {
          "base_uri": "https://localhost:8080/"
        }
      },
      "outputs": [
        {
          "output_type": "execute_result",
          "data": {
            "text/plain": [
              "0.9781444829292429"
            ]
          },
          "metadata": {},
          "execution_count": 95
        }
      ],
      "source": [
        "y_pred_proba = knn_model.predict_proba(X_test_scaled)\n",
        "roc_auc_score(y_test, y_pred_proba[:,1])"
      ]
    },
    {
      "cell_type": "markdown",
      "id": "equipped-tactics",
      "metadata": {
        "id": "equipped-tactics"
      },
      "source": [
        "### Final Model and Model Deployment"
      ]
    },
    {
      "cell_type": "code",
      "execution_count": 96,
      "id": "american-monster",
      "metadata": {
        "ExecuteTime": {
          "end_time": "2022-08-25T14:39:18.495482Z",
          "start_time": "2022-08-25T14:39:18.480529Z"
        },
        "id": "american-monster"
      },
      "outputs": [],
      "source": [
        "import pickle"
      ]
    },
    {
      "cell_type": "code",
      "execution_count": 97,
      "id": "posted-resolution",
      "metadata": {
        "ExecuteTime": {
          "end_time": "2022-08-25T14:39:18.511425Z",
          "start_time": "2022-08-25T14:39:18.496475Z"
        },
        "id": "posted-resolution"
      },
      "outputs": [],
      "source": [
        "scaler = StandardScaler()"
      ]
    },
    {
      "cell_type": "code",
      "execution_count": 98,
      "id": "endangered-azerbaijan",
      "metadata": {
        "ExecuteTime": {
          "end_time": "2022-08-25T14:39:18.527372Z",
          "start_time": "2022-08-25T14:39:18.513418Z"
        },
        "id": "endangered-azerbaijan",
        "outputId": "c411ad71-388b-4ceb-d5b6-8985b9cc37bf",
        "colab": {
          "base_uri": "https://localhost:8080/"
        }
      },
      "outputs": [
        {
          "output_type": "execute_result",
          "data": {
            "text/plain": [
              "StandardScaler()"
            ]
          },
          "metadata": {},
          "execution_count": 98
        }
      ],
      "source": [
        "scaler.fit(X)"
      ]
    },
    {
      "cell_type": "code",
      "execution_count": 99,
      "id": "opened-citation",
      "metadata": {
        "ExecuteTime": {
          "end_time": "2022-08-25T14:39:18.542324Z",
          "start_time": "2022-08-25T14:39:18.528368Z"
        },
        "id": "opened-citation"
      },
      "outputs": [],
      "source": [
        "X_scaled = scaler.transform(X)"
      ]
    },
    {
      "cell_type": "code",
      "execution_count": 100,
      "id": "thirty-trace",
      "metadata": {
        "ExecuteTime": {
          "end_time": "2022-08-25T14:39:18.557275Z",
          "start_time": "2022-08-25T14:39:18.543318Z"
        },
        "id": "thirty-trace"
      },
      "outputs": [],
      "source": [
        "final_knn_model = KNeighborsClassifier(n_neighbors=9).fit(X_scaled,y)"
      ]
    },
    {
      "cell_type": "code",
      "execution_count": 101,
      "id": "outstanding-middle",
      "metadata": {
        "ExecuteTime": {
          "end_time": "2022-08-25T14:39:18.573221Z",
          "start_time": "2022-08-25T14:39:18.558268Z"
        },
        "id": "outstanding-middle"
      },
      "outputs": [],
      "source": [
        "pickle.dump(final_knn_model, open('knn_final.pkl', 'wb'))"
      ]
    },
    {
      "cell_type": "code",
      "execution_count": 102,
      "id": "brutal-partition",
      "metadata": {
        "ExecuteTime": {
          "end_time": "2022-08-25T14:39:18.589219Z",
          "start_time": "2022-08-25T14:39:18.575211Z"
        },
        "id": "brutal-partition"
      },
      "outputs": [],
      "source": [
        "pickle.dump(scaler, open('scaler_knn.pkl', 'wb'))"
      ]
    },
    {
      "cell_type": "markdown",
      "id": "conservative-eclipse",
      "metadata": {
        "id": "conservative-eclipse"
      },
      "source": [
        "### Predict New Observations"
      ]
    },
    {
      "cell_type": "code",
      "execution_count": 103,
      "id": "explicit-mongolia",
      "metadata": {
        "ExecuteTime": {
          "end_time": "2022-08-25T14:39:18.605115Z",
          "start_time": "2022-08-25T14:39:18.590161Z"
        },
        "id": "explicit-mongolia"
      },
      "outputs": [],
      "source": [
        "loaded_scaler = pickle.load(open('scaler_knn.pkl', 'rb'))"
      ]
    },
    {
      "cell_type": "code",
      "execution_count": 104,
      "id": "english-princeton",
      "metadata": {
        "ExecuteTime": {
          "end_time": "2022-08-25T14:39:18.621062Z",
          "start_time": "2022-08-25T14:39:18.606108Z"
        },
        "id": "english-princeton"
      },
      "outputs": [],
      "source": [
        "loaded_model = pickle.load(open('knn_final.pkl', 'rb'))"
      ]
    },
    {
      "cell_type": "code",
      "execution_count": 105,
      "id": "european-omega",
      "metadata": {
        "ExecuteTime": {
          "end_time": "2022-08-25T14:39:18.637009Z",
          "start_time": "2022-08-25T14:39:18.622055Z"
        },
        "id": "european-omega",
        "outputId": "483e1fde-6894-4de2-c99f-bdc0b1bc939b",
        "colab": {
          "base_uri": "https://localhost:8080/"
        }
      },
      "outputs": [
        {
          "output_type": "execute_result",
          "data": {
            "text/plain": [
              "Index(['Gene One', 'Gene Two'], dtype='object')"
            ]
          },
          "metadata": {},
          "execution_count": 105
        }
      ],
      "source": [
        "X.columns"
      ]
    },
    {
      "cell_type": "code",
      "execution_count": 106,
      "id": "alone-vancouver",
      "metadata": {
        "ExecuteTime": {
          "end_time": "2022-08-25T14:39:18.652955Z",
          "start_time": "2022-08-25T14:39:18.638001Z"
        },
        "id": "alone-vancouver",
        "outputId": "243fd419-7a48-4f6e-a0fa-e6d6e6133b4f",
        "colab": {
          "base_uri": "https://localhost:8080/",
          "height": 300
        }
      },
      "outputs": [
        {
          "output_type": "execute_result",
          "data": {
            "text/plain": [
              "          Gene One     Gene Two\n",
              "count  3000.000000  3000.000000\n",
              "mean      5.600133     5.410467\n",
              "std       1.828388     1.729081\n",
              "min       1.000000     1.000000\n",
              "25%       4.300000     4.000000\n",
              "50%       5.600000     5.400000\n",
              "75%       6.900000     6.700000\n",
              "max      10.000000    10.000000"
            ],
            "text/html": [
              "\n",
              "  <div id=\"df-2af4eb3e-097a-4021-bfae-6dd4daf2ce61\">\n",
              "    <div class=\"colab-df-container\">\n",
              "      <div>\n",
              "<style scoped>\n",
              "    .dataframe tbody tr th:only-of-type {\n",
              "        vertical-align: middle;\n",
              "    }\n",
              "\n",
              "    .dataframe tbody tr th {\n",
              "        vertical-align: top;\n",
              "    }\n",
              "\n",
              "    .dataframe thead th {\n",
              "        text-align: right;\n",
              "    }\n",
              "</style>\n",
              "<table border=\"1\" class=\"dataframe\">\n",
              "  <thead>\n",
              "    <tr style=\"text-align: right;\">\n",
              "      <th></th>\n",
              "      <th>Gene One</th>\n",
              "      <th>Gene Two</th>\n",
              "    </tr>\n",
              "  </thead>\n",
              "  <tbody>\n",
              "    <tr>\n",
              "      <th>count</th>\n",
              "      <td>3000.000000</td>\n",
              "      <td>3000.000000</td>\n",
              "    </tr>\n",
              "    <tr>\n",
              "      <th>mean</th>\n",
              "      <td>5.600133</td>\n",
              "      <td>5.410467</td>\n",
              "    </tr>\n",
              "    <tr>\n",
              "      <th>std</th>\n",
              "      <td>1.828388</td>\n",
              "      <td>1.729081</td>\n",
              "    </tr>\n",
              "    <tr>\n",
              "      <th>min</th>\n",
              "      <td>1.000000</td>\n",
              "      <td>1.000000</td>\n",
              "    </tr>\n",
              "    <tr>\n",
              "      <th>25%</th>\n",
              "      <td>4.300000</td>\n",
              "      <td>4.000000</td>\n",
              "    </tr>\n",
              "    <tr>\n",
              "      <th>50%</th>\n",
              "      <td>5.600000</td>\n",
              "      <td>5.400000</td>\n",
              "    </tr>\n",
              "    <tr>\n",
              "      <th>75%</th>\n",
              "      <td>6.900000</td>\n",
              "      <td>6.700000</td>\n",
              "    </tr>\n",
              "    <tr>\n",
              "      <th>max</th>\n",
              "      <td>10.000000</td>\n",
              "      <td>10.000000</td>\n",
              "    </tr>\n",
              "  </tbody>\n",
              "</table>\n",
              "</div>\n",
              "      <button class=\"colab-df-convert\" onclick=\"convertToInteractive('df-2af4eb3e-097a-4021-bfae-6dd4daf2ce61')\"\n",
              "              title=\"Convert this dataframe to an interactive table.\"\n",
              "              style=\"display:none;\">\n",
              "        \n",
              "  <svg xmlns=\"http://www.w3.org/2000/svg\" height=\"24px\"viewBox=\"0 0 24 24\"\n",
              "       width=\"24px\">\n",
              "    <path d=\"M0 0h24v24H0V0z\" fill=\"none\"/>\n",
              "    <path d=\"M18.56 5.44l.94 2.06.94-2.06 2.06-.94-2.06-.94-.94-2.06-.94 2.06-2.06.94zm-11 1L8.5 8.5l.94-2.06 2.06-.94-2.06-.94L8.5 2.5l-.94 2.06-2.06.94zm10 10l.94 2.06.94-2.06 2.06-.94-2.06-.94-.94-2.06-.94 2.06-2.06.94z\"/><path d=\"M17.41 7.96l-1.37-1.37c-.4-.4-.92-.59-1.43-.59-.52 0-1.04.2-1.43.59L10.3 9.45l-7.72 7.72c-.78.78-.78 2.05 0 2.83L4 21.41c.39.39.9.59 1.41.59.51 0 1.02-.2 1.41-.59l7.78-7.78 2.81-2.81c.8-.78.8-2.07 0-2.86zM5.41 20L4 18.59l7.72-7.72 1.47 1.35L5.41 20z\"/>\n",
              "  </svg>\n",
              "      </button>\n",
              "      \n",
              "  <style>\n",
              "    .colab-df-container {\n",
              "      display:flex;\n",
              "      flex-wrap:wrap;\n",
              "      gap: 12px;\n",
              "    }\n",
              "\n",
              "    .colab-df-convert {\n",
              "      background-color: #E8F0FE;\n",
              "      border: none;\n",
              "      border-radius: 50%;\n",
              "      cursor: pointer;\n",
              "      display: none;\n",
              "      fill: #1967D2;\n",
              "      height: 32px;\n",
              "      padding: 0 0 0 0;\n",
              "      width: 32px;\n",
              "    }\n",
              "\n",
              "    .colab-df-convert:hover {\n",
              "      background-color: #E2EBFA;\n",
              "      box-shadow: 0px 1px 2px rgba(60, 64, 67, 0.3), 0px 1px 3px 1px rgba(60, 64, 67, 0.15);\n",
              "      fill: #174EA6;\n",
              "    }\n",
              "\n",
              "    [theme=dark] .colab-df-convert {\n",
              "      background-color: #3B4455;\n",
              "      fill: #D2E3FC;\n",
              "    }\n",
              "\n",
              "    [theme=dark] .colab-df-convert:hover {\n",
              "      background-color: #434B5C;\n",
              "      box-shadow: 0px 1px 3px 1px rgba(0, 0, 0, 0.15);\n",
              "      filter: drop-shadow(0px 1px 2px rgba(0, 0, 0, 0.3));\n",
              "      fill: #FFFFFF;\n",
              "    }\n",
              "  </style>\n",
              "\n",
              "      <script>\n",
              "        const buttonEl =\n",
              "          document.querySelector('#df-2af4eb3e-097a-4021-bfae-6dd4daf2ce61 button.colab-df-convert');\n",
              "        buttonEl.style.display =\n",
              "          google.colab.kernel.accessAllowed ? 'block' : 'none';\n",
              "\n",
              "        async function convertToInteractive(key) {\n",
              "          const element = document.querySelector('#df-2af4eb3e-097a-4021-bfae-6dd4daf2ce61');\n",
              "          const dataTable =\n",
              "            await google.colab.kernel.invokeFunction('convertToInteractive',\n",
              "                                                     [key], {});\n",
              "          if (!dataTable) return;\n",
              "\n",
              "          const docLinkHtml = 'Like what you see? Visit the ' +\n",
              "            '<a target=\"_blank\" href=https://colab.research.google.com/notebooks/data_table.ipynb>data table notebook</a>'\n",
              "            + ' to learn more about interactive tables.';\n",
              "          element.innerHTML = '';\n",
              "          dataTable['output_type'] = 'display_data';\n",
              "          await google.colab.output.renderOutput(dataTable, element);\n",
              "          const docLink = document.createElement('div');\n",
              "          docLink.innerHTML = docLinkHtml;\n",
              "          element.appendChild(docLink);\n",
              "        }\n",
              "      </script>\n",
              "    </div>\n",
              "  </div>\n",
              "  "
            ]
          },
          "metadata": {},
          "execution_count": 106
        }
      ],
      "source": [
        "X.describe()"
      ]
    },
    {
      "cell_type": "code",
      "execution_count": 107,
      "id": "inner-roman",
      "metadata": {
        "ExecuteTime": {
          "end_time": "2022-08-25T14:39:18.668902Z",
          "start_time": "2022-08-25T14:39:18.653948Z"
        },
        "id": "inner-roman"
      },
      "outputs": [],
      "source": [
        "new_obs = {\"Gene One\": [1, 3, 4.3, 5.6, 7, 9.5, 2, 6],\n",
        "           \"Gene Two\": [1, 4, 4, 5.5, 6.7, 10, 8, 1]\n",
        "          }"
      ]
    },
    {
      "cell_type": "code",
      "execution_count": 108,
      "id": "western-lightning",
      "metadata": {
        "ExecuteTime": {
          "end_time": "2022-08-25T14:39:18.684849Z",
          "start_time": "2022-08-25T14:39:18.669895Z"
        },
        "id": "western-lightning",
        "outputId": "21bed113-ae59-4edf-cd73-436c61c98cd6",
        "colab": {
          "base_uri": "https://localhost:8080/",
          "height": 300
        }
      },
      "outputs": [
        {
          "output_type": "execute_result",
          "data": {
            "text/plain": [
              "   Gene One  Gene Two\n",
              "0       1.0       1.0\n",
              "1       3.0       4.0\n",
              "2       4.3       4.0\n",
              "3       5.6       5.5\n",
              "4       7.0       6.7\n",
              "5       9.5      10.0\n",
              "6       2.0       8.0\n",
              "7       6.0       1.0"
            ],
            "text/html": [
              "\n",
              "  <div id=\"df-807d5fc2-1d07-4fd3-8a8d-b19f30d8749a\">\n",
              "    <div class=\"colab-df-container\">\n",
              "      <div>\n",
              "<style scoped>\n",
              "    .dataframe tbody tr th:only-of-type {\n",
              "        vertical-align: middle;\n",
              "    }\n",
              "\n",
              "    .dataframe tbody tr th {\n",
              "        vertical-align: top;\n",
              "    }\n",
              "\n",
              "    .dataframe thead th {\n",
              "        text-align: right;\n",
              "    }\n",
              "</style>\n",
              "<table border=\"1\" class=\"dataframe\">\n",
              "  <thead>\n",
              "    <tr style=\"text-align: right;\">\n",
              "      <th></th>\n",
              "      <th>Gene One</th>\n",
              "      <th>Gene Two</th>\n",
              "    </tr>\n",
              "  </thead>\n",
              "  <tbody>\n",
              "    <tr>\n",
              "      <th>0</th>\n",
              "      <td>1.0</td>\n",
              "      <td>1.0</td>\n",
              "    </tr>\n",
              "    <tr>\n",
              "      <th>1</th>\n",
              "      <td>3.0</td>\n",
              "      <td>4.0</td>\n",
              "    </tr>\n",
              "    <tr>\n",
              "      <th>2</th>\n",
              "      <td>4.3</td>\n",
              "      <td>4.0</td>\n",
              "    </tr>\n",
              "    <tr>\n",
              "      <th>3</th>\n",
              "      <td>5.6</td>\n",
              "      <td>5.5</td>\n",
              "    </tr>\n",
              "    <tr>\n",
              "      <th>4</th>\n",
              "      <td>7.0</td>\n",
              "      <td>6.7</td>\n",
              "    </tr>\n",
              "    <tr>\n",
              "      <th>5</th>\n",
              "      <td>9.5</td>\n",
              "      <td>10.0</td>\n",
              "    </tr>\n",
              "    <tr>\n",
              "      <th>6</th>\n",
              "      <td>2.0</td>\n",
              "      <td>8.0</td>\n",
              "    </tr>\n",
              "    <tr>\n",
              "      <th>7</th>\n",
              "      <td>6.0</td>\n",
              "      <td>1.0</td>\n",
              "    </tr>\n",
              "  </tbody>\n",
              "</table>\n",
              "</div>\n",
              "      <button class=\"colab-df-convert\" onclick=\"convertToInteractive('df-807d5fc2-1d07-4fd3-8a8d-b19f30d8749a')\"\n",
              "              title=\"Convert this dataframe to an interactive table.\"\n",
              "              style=\"display:none;\">\n",
              "        \n",
              "  <svg xmlns=\"http://www.w3.org/2000/svg\" height=\"24px\"viewBox=\"0 0 24 24\"\n",
              "       width=\"24px\">\n",
              "    <path d=\"M0 0h24v24H0V0z\" fill=\"none\"/>\n",
              "    <path d=\"M18.56 5.44l.94 2.06.94-2.06 2.06-.94-2.06-.94-.94-2.06-.94 2.06-2.06.94zm-11 1L8.5 8.5l.94-2.06 2.06-.94-2.06-.94L8.5 2.5l-.94 2.06-2.06.94zm10 10l.94 2.06.94-2.06 2.06-.94-2.06-.94-.94-2.06-.94 2.06-2.06.94z\"/><path d=\"M17.41 7.96l-1.37-1.37c-.4-.4-.92-.59-1.43-.59-.52 0-1.04.2-1.43.59L10.3 9.45l-7.72 7.72c-.78.78-.78 2.05 0 2.83L4 21.41c.39.39.9.59 1.41.59.51 0 1.02-.2 1.41-.59l7.78-7.78 2.81-2.81c.8-.78.8-2.07 0-2.86zM5.41 20L4 18.59l7.72-7.72 1.47 1.35L5.41 20z\"/>\n",
              "  </svg>\n",
              "      </button>\n",
              "      \n",
              "  <style>\n",
              "    .colab-df-container {\n",
              "      display:flex;\n",
              "      flex-wrap:wrap;\n",
              "      gap: 12px;\n",
              "    }\n",
              "\n",
              "    .colab-df-convert {\n",
              "      background-color: #E8F0FE;\n",
              "      border: none;\n",
              "      border-radius: 50%;\n",
              "      cursor: pointer;\n",
              "      display: none;\n",
              "      fill: #1967D2;\n",
              "      height: 32px;\n",
              "      padding: 0 0 0 0;\n",
              "      width: 32px;\n",
              "    }\n",
              "\n",
              "    .colab-df-convert:hover {\n",
              "      background-color: #E2EBFA;\n",
              "      box-shadow: 0px 1px 2px rgba(60, 64, 67, 0.3), 0px 1px 3px 1px rgba(60, 64, 67, 0.15);\n",
              "      fill: #174EA6;\n",
              "    }\n",
              "\n",
              "    [theme=dark] .colab-df-convert {\n",
              "      background-color: #3B4455;\n",
              "      fill: #D2E3FC;\n",
              "    }\n",
              "\n",
              "    [theme=dark] .colab-df-convert:hover {\n",
              "      background-color: #434B5C;\n",
              "      box-shadow: 0px 1px 3px 1px rgba(0, 0, 0, 0.15);\n",
              "      filter: drop-shadow(0px 1px 2px rgba(0, 0, 0, 0.3));\n",
              "      fill: #FFFFFF;\n",
              "    }\n",
              "  </style>\n",
              "\n",
              "      <script>\n",
              "        const buttonEl =\n",
              "          document.querySelector('#df-807d5fc2-1d07-4fd3-8a8d-b19f30d8749a button.colab-df-convert');\n",
              "        buttonEl.style.display =\n",
              "          google.colab.kernel.accessAllowed ? 'block' : 'none';\n",
              "\n",
              "        async function convertToInteractive(key) {\n",
              "          const element = document.querySelector('#df-807d5fc2-1d07-4fd3-8a8d-b19f30d8749a');\n",
              "          const dataTable =\n",
              "            await google.colab.kernel.invokeFunction('convertToInteractive',\n",
              "                                                     [key], {});\n",
              "          if (!dataTable) return;\n",
              "\n",
              "          const docLinkHtml = 'Like what you see? Visit the ' +\n",
              "            '<a target=\"_blank\" href=https://colab.research.google.com/notebooks/data_table.ipynb>data table notebook</a>'\n",
              "            + ' to learn more about interactive tables.';\n",
              "          element.innerHTML = '';\n",
              "          dataTable['output_type'] = 'display_data';\n",
              "          await google.colab.output.renderOutput(dataTable, element);\n",
              "          const docLink = document.createElement('div');\n",
              "          docLink.innerHTML = docLinkHtml;\n",
              "          element.appendChild(docLink);\n",
              "        }\n",
              "      </script>\n",
              "    </div>\n",
              "  </div>\n",
              "  "
            ]
          },
          "metadata": {},
          "execution_count": 108
        }
      ],
      "source": [
        "samples = pd.DataFrame(new_obs)\n",
        "samples"
      ]
    },
    {
      "cell_type": "code",
      "execution_count": 109,
      "id": "southeast-occasions",
      "metadata": {
        "ExecuteTime": {
          "end_time": "2022-08-25T14:39:18.699798Z",
          "start_time": "2022-08-25T14:39:18.685841Z"
        },
        "id": "southeast-occasions",
        "outputId": "82172fab-7b49-4e12-d51b-33b9b61c512c",
        "colab": {
          "base_uri": "https://localhost:8080/"
        }
      },
      "outputs": [
        {
          "output_type": "execute_result",
          "data": {
            "text/plain": [
              "array([[-2.51637037e+00, -2.55118325e+00],\n",
              "       [-1.42232801e+00, -8.15868071e-01],\n",
              "       [-7.11200471e-01, -8.15868071e-01],\n",
              "       [-7.29361574e-05,  5.17895174e-02],\n",
              "       [ 7.65756716e-01,  7.45915588e-01],\n",
              "       [ 2.13330967e+00,  2.65476228e+00],\n",
              "       [-1.96934919e+00,  1.49788550e+00],\n",
              "       [ 2.18735536e-01, -2.55118325e+00]])"
            ]
          },
          "metadata": {},
          "execution_count": 109
        }
      ],
      "source": [
        "samples_scaled = loaded_scaler.transform(samples)\n",
        "samples_scaled"
      ]
    },
    {
      "cell_type": "code",
      "execution_count": 110,
      "id": "increased-timing",
      "metadata": {
        "ExecuteTime": {
          "end_time": "2022-08-25T14:39:18.715745Z",
          "start_time": "2022-08-25T14:39:18.700791Z"
        },
        "id": "increased-timing"
      },
      "outputs": [],
      "source": [
        "predictions = loaded_model.predict(samples_scaled)\n",
        "predictions_proba = loaded_model.predict_proba(samples_scaled)"
      ]
    },
    {
      "cell_type": "code",
      "execution_count": 111,
      "id": "collaborative-lunch",
      "metadata": {
        "ExecuteTime": {
          "end_time": "2022-08-25T14:39:18.730695Z",
          "start_time": "2022-08-25T14:39:18.716738Z"
        },
        "id": "collaborative-lunch",
        "outputId": "b9451433-427a-4a51-b3e4-deefd4f78c83",
        "colab": {
          "base_uri": "https://localhost:8080/",
          "height": 300
        }
      },
      "outputs": [
        {
          "output_type": "execute_result",
          "data": {
            "text/plain": [
              "   Gene One  Gene Two  pred  pred_proba_1  pred_proba_0\n",
              "0       1.0       1.0     0      0.000000      1.000000\n",
              "1       3.0       4.0     0      0.111111      0.888889\n",
              "2       4.3       4.0     1      1.000000      0.000000\n",
              "3       5.6       5.5     0      0.222222      0.777778\n",
              "4       7.0       6.7     0      0.000000      1.000000\n",
              "5       9.5      10.0     1      0.666667      0.333333\n",
              "6       2.0       8.0     0      0.000000      1.000000\n",
              "7       6.0       1.0     1      1.000000      0.000000"
            ],
            "text/html": [
              "\n",
              "  <div id=\"df-46f7235f-03bf-46e7-b459-6a445025cf8a\">\n",
              "    <div class=\"colab-df-container\">\n",
              "      <div>\n",
              "<style scoped>\n",
              "    .dataframe tbody tr th:only-of-type {\n",
              "        vertical-align: middle;\n",
              "    }\n",
              "\n",
              "    .dataframe tbody tr th {\n",
              "        vertical-align: top;\n",
              "    }\n",
              "\n",
              "    .dataframe thead th {\n",
              "        text-align: right;\n",
              "    }\n",
              "</style>\n",
              "<table border=\"1\" class=\"dataframe\">\n",
              "  <thead>\n",
              "    <tr style=\"text-align: right;\">\n",
              "      <th></th>\n",
              "      <th>Gene One</th>\n",
              "      <th>Gene Two</th>\n",
              "      <th>pred</th>\n",
              "      <th>pred_proba_1</th>\n",
              "      <th>pred_proba_0</th>\n",
              "    </tr>\n",
              "  </thead>\n",
              "  <tbody>\n",
              "    <tr>\n",
              "      <th>0</th>\n",
              "      <td>1.0</td>\n",
              "      <td>1.0</td>\n",
              "      <td>0</td>\n",
              "      <td>0.000000</td>\n",
              "      <td>1.000000</td>\n",
              "    </tr>\n",
              "    <tr>\n",
              "      <th>1</th>\n",
              "      <td>3.0</td>\n",
              "      <td>4.0</td>\n",
              "      <td>0</td>\n",
              "      <td>0.111111</td>\n",
              "      <td>0.888889</td>\n",
              "    </tr>\n",
              "    <tr>\n",
              "      <th>2</th>\n",
              "      <td>4.3</td>\n",
              "      <td>4.0</td>\n",
              "      <td>1</td>\n",
              "      <td>1.000000</td>\n",
              "      <td>0.000000</td>\n",
              "    </tr>\n",
              "    <tr>\n",
              "      <th>3</th>\n",
              "      <td>5.6</td>\n",
              "      <td>5.5</td>\n",
              "      <td>0</td>\n",
              "      <td>0.222222</td>\n",
              "      <td>0.777778</td>\n",
              "    </tr>\n",
              "    <tr>\n",
              "      <th>4</th>\n",
              "      <td>7.0</td>\n",
              "      <td>6.7</td>\n",
              "      <td>0</td>\n",
              "      <td>0.000000</td>\n",
              "      <td>1.000000</td>\n",
              "    </tr>\n",
              "    <tr>\n",
              "      <th>5</th>\n",
              "      <td>9.5</td>\n",
              "      <td>10.0</td>\n",
              "      <td>1</td>\n",
              "      <td>0.666667</td>\n",
              "      <td>0.333333</td>\n",
              "    </tr>\n",
              "    <tr>\n",
              "      <th>6</th>\n",
              "      <td>2.0</td>\n",
              "      <td>8.0</td>\n",
              "      <td>0</td>\n",
              "      <td>0.000000</td>\n",
              "      <td>1.000000</td>\n",
              "    </tr>\n",
              "    <tr>\n",
              "      <th>7</th>\n",
              "      <td>6.0</td>\n",
              "      <td>1.0</td>\n",
              "      <td>1</td>\n",
              "      <td>1.000000</td>\n",
              "      <td>0.000000</td>\n",
              "    </tr>\n",
              "  </tbody>\n",
              "</table>\n",
              "</div>\n",
              "      <button class=\"colab-df-convert\" onclick=\"convertToInteractive('df-46f7235f-03bf-46e7-b459-6a445025cf8a')\"\n",
              "              title=\"Convert this dataframe to an interactive table.\"\n",
              "              style=\"display:none;\">\n",
              "        \n",
              "  <svg xmlns=\"http://www.w3.org/2000/svg\" height=\"24px\"viewBox=\"0 0 24 24\"\n",
              "       width=\"24px\">\n",
              "    <path d=\"M0 0h24v24H0V0z\" fill=\"none\"/>\n",
              "    <path d=\"M18.56 5.44l.94 2.06.94-2.06 2.06-.94-2.06-.94-.94-2.06-.94 2.06-2.06.94zm-11 1L8.5 8.5l.94-2.06 2.06-.94-2.06-.94L8.5 2.5l-.94 2.06-2.06.94zm10 10l.94 2.06.94-2.06 2.06-.94-2.06-.94-.94-2.06-.94 2.06-2.06.94z\"/><path d=\"M17.41 7.96l-1.37-1.37c-.4-.4-.92-.59-1.43-.59-.52 0-1.04.2-1.43.59L10.3 9.45l-7.72 7.72c-.78.78-.78 2.05 0 2.83L4 21.41c.39.39.9.59 1.41.59.51 0 1.02-.2 1.41-.59l7.78-7.78 2.81-2.81c.8-.78.8-2.07 0-2.86zM5.41 20L4 18.59l7.72-7.72 1.47 1.35L5.41 20z\"/>\n",
              "  </svg>\n",
              "      </button>\n",
              "      \n",
              "  <style>\n",
              "    .colab-df-container {\n",
              "      display:flex;\n",
              "      flex-wrap:wrap;\n",
              "      gap: 12px;\n",
              "    }\n",
              "\n",
              "    .colab-df-convert {\n",
              "      background-color: #E8F0FE;\n",
              "      border: none;\n",
              "      border-radius: 50%;\n",
              "      cursor: pointer;\n",
              "      display: none;\n",
              "      fill: #1967D2;\n",
              "      height: 32px;\n",
              "      padding: 0 0 0 0;\n",
              "      width: 32px;\n",
              "    }\n",
              "\n",
              "    .colab-df-convert:hover {\n",
              "      background-color: #E2EBFA;\n",
              "      box-shadow: 0px 1px 2px rgba(60, 64, 67, 0.3), 0px 1px 3px 1px rgba(60, 64, 67, 0.15);\n",
              "      fill: #174EA6;\n",
              "    }\n",
              "\n",
              "    [theme=dark] .colab-df-convert {\n",
              "      background-color: #3B4455;\n",
              "      fill: #D2E3FC;\n",
              "    }\n",
              "\n",
              "    [theme=dark] .colab-df-convert:hover {\n",
              "      background-color: #434B5C;\n",
              "      box-shadow: 0px 1px 3px 1px rgba(0, 0, 0, 0.15);\n",
              "      filter: drop-shadow(0px 1px 2px rgba(0, 0, 0, 0.3));\n",
              "      fill: #FFFFFF;\n",
              "    }\n",
              "  </style>\n",
              "\n",
              "      <script>\n",
              "        const buttonEl =\n",
              "          document.querySelector('#df-46f7235f-03bf-46e7-b459-6a445025cf8a button.colab-df-convert');\n",
              "        buttonEl.style.display =\n",
              "          google.colab.kernel.accessAllowed ? 'block' : 'none';\n",
              "\n",
              "        async function convertToInteractive(key) {\n",
              "          const element = document.querySelector('#df-46f7235f-03bf-46e7-b459-6a445025cf8a');\n",
              "          const dataTable =\n",
              "            await google.colab.kernel.invokeFunction('convertToInteractive',\n",
              "                                                     [key], {});\n",
              "          if (!dataTable) return;\n",
              "\n",
              "          const docLinkHtml = 'Like what you see? Visit the ' +\n",
              "            '<a target=\"_blank\" href=https://colab.research.google.com/notebooks/data_table.ipynb>data table notebook</a>'\n",
              "            + ' to learn more about interactive tables.';\n",
              "          element.innerHTML = '';\n",
              "          dataTable['output_type'] = 'display_data';\n",
              "          await google.colab.output.renderOutput(dataTable, element);\n",
              "          const docLink = document.createElement('div');\n",
              "          docLink.innerHTML = docLinkHtml;\n",
              "          element.appendChild(docLink);\n",
              "        }\n",
              "      </script>\n",
              "    </div>\n",
              "  </div>\n",
              "  "
            ]
          },
          "metadata": {},
          "execution_count": 111
        }
      ],
      "source": [
        "samples[\"pred\"] = predictions\n",
        "samples[\"pred_proba_1\"] = predictions_proba[:,1]\n",
        "samples[\"pred_proba_0\"] = predictions_proba[:,0]\n",
        "samples"
      ]
    },
    {
      "cell_type": "markdown",
      "id": "hired-canadian",
      "metadata": {
        "id": "hired-canadian"
      },
      "source": [
        "## Pipeline"
      ]
    },
    {
      "cell_type": "markdown",
      "id": "5417d934",
      "metadata": {
        "id": "5417d934"
      },
      "source": [
        "What happens can be described as follows:\n",
        "\n",
        "Step 1: The data are split into TRAINING data and TEST data according to ratio of train_test_split\n",
        "\n",
        "Step 2: the scaler is fitted on the TRAINING data\n",
        "\n",
        "Step 3: the scaler transforms TRAINING data\n",
        "\n",
        "Step 4: the models are fitted/trained using the transformed TRAINING data\n",
        "\n",
        "Step 5: the scaler is used to transform the TEST data\n",
        "\n",
        "Step 6: the trained models predict using the transformed TEST data"
      ]
    },
    {
      "cell_type": "markdown",
      "id": "5ed3664c",
      "metadata": {
        "id": "5ed3664c"
      },
      "source": [
        "pipe.fit(X_train, y_train)--> scaler.fit_transform(X_train) --> knn.fit(scaled_X_train, y_train)\n",
        "\n",
        "pipe.predict(X_test)      --> scaler.transform(X_test)      --> knn.predict(scaled_X_test)"
      ]
    },
    {
      "cell_type": "code",
      "execution_count": 112,
      "id": "vanilla-channels",
      "metadata": {
        "ExecuteTime": {
          "end_time": "2022-08-25T14:39:18.746641Z",
          "start_time": "2022-08-25T14:39:18.731688Z"
        },
        "id": "vanilla-channels"
      },
      "outputs": [],
      "source": [
        "from sklearn.pipeline import Pipeline"
      ]
    },
    {
      "cell_type": "code",
      "execution_count": 113,
      "id": "natural-celebration",
      "metadata": {
        "ExecuteTime": {
          "end_time": "2022-08-25T14:39:18.762590Z",
          "start_time": "2022-08-25T14:39:18.747634Z"
        },
        "id": "natural-celebration"
      },
      "outputs": [],
      "source": [
        "operations = [(\"scaler\", StandardScaler()), (\"knn\", KNeighborsClassifier())]"
      ]
    },
    {
      "cell_type": "code",
      "execution_count": 114,
      "id": "noble-military",
      "metadata": {
        "ExecuteTime": {
          "end_time": "2022-08-25T14:39:18.778536Z",
          "start_time": "2022-08-25T14:39:18.763585Z"
        },
        "id": "noble-military",
        "outputId": "6136e277-bb49-4445-a5f9-a9bad7e6b053",
        "colab": {
          "base_uri": "https://localhost:8080/"
        }
      },
      "outputs": [
        {
          "output_type": "execute_result",
          "data": {
            "text/plain": [
              "Pipeline(steps=[('scaler', StandardScaler()), ('knn', KNeighborsClassifier())])"
            ]
          },
          "metadata": {},
          "execution_count": 114
        }
      ],
      "source": [
        "Pipeline(steps=operations)"
      ]
    },
    {
      "cell_type": "code",
      "execution_count": 115,
      "id": "sweet-canberra",
      "metadata": {
        "ExecuteTime": {
          "end_time": "2022-08-25T14:39:18.794482Z",
          "start_time": "2022-08-25T14:39:18.779529Z"
        },
        "id": "sweet-canberra"
      },
      "outputs": [],
      "source": [
        "pipe_model = Pipeline(steps=operations)"
      ]
    },
    {
      "cell_type": "code",
      "execution_count": 116,
      "id": "affected-syndicate",
      "metadata": {
        "ExecuteTime": {
          "end_time": "2022-08-25T14:39:18.809428Z",
          "start_time": "2022-08-25T14:39:18.795474Z"
        },
        "id": "affected-syndicate",
        "outputId": "39839bbb-86e2-4f88-b1d0-2b0d16f9856a",
        "colab": {
          "base_uri": "https://localhost:8080/"
        }
      },
      "outputs": [
        {
          "output_type": "execute_result",
          "data": {
            "text/plain": [
              "Pipeline(steps=[('scaler', StandardScaler()), ('knn', KNeighborsClassifier())])"
            ]
          },
          "metadata": {},
          "execution_count": 116
        }
      ],
      "source": [
        "pipe_model.fit(X_train, y_train)"
      ]
    },
    {
      "cell_type": "code",
      "execution_count": 117,
      "id": "aggregate-casting",
      "metadata": {
        "ExecuteTime": {
          "end_time": "2022-08-25T14:39:18.840340Z",
          "start_time": "2022-08-25T14:39:18.810425Z"
        },
        "id": "aggregate-casting",
        "outputId": "a2f19bad-f163-48f5-abbb-cc94c95ed9fc",
        "colab": {
          "base_uri": "https://localhost:8080/"
        }
      },
      "outputs": [
        {
          "output_type": "execute_result",
          "data": {
            "text/plain": [
              "array([1, 1, 1, 0, 0, 1, 1, 0, 0, 1, 0, 0, 0, 0, 0, 0, 0, 1, 1, 0, 1, 0,\n",
              "       1, 1, 0, 1, 1, 1, 1, 1, 1, 0, 1, 1, 1, 1, 0, 1, 1, 0, 0, 0, 0, 1,\n",
              "       0, 1, 0, 1, 0, 0, 0, 1, 1, 1, 0, 0, 0, 1, 0, 0, 0, 1, 1, 1, 1, 0,\n",
              "       1, 0, 0, 0, 1, 1, 1, 0, 1, 1, 0, 0, 1, 0, 0, 0, 0, 0, 1, 1, 1, 0,\n",
              "       1, 1, 0, 0, 0, 1, 0, 0, 0, 0, 1, 0, 1, 0, 1, 1, 1, 0, 0, 0, 0, 1,\n",
              "       1, 1, 1, 0, 0, 0, 1, 0, 0, 1, 1, 0, 1, 1, 0, 1, 0, 0, 0, 1, 0, 0,\n",
              "       0, 0, 1, 0, 0, 1, 0, 0, 1, 1, 1, 0, 0, 1, 0, 0, 0, 1, 0, 0, 1, 0,\n",
              "       1, 0, 0, 1, 0, 1, 0, 0, 0, 1, 0, 1, 0, 0, 0, 0, 0, 0, 0, 1, 1, 0,\n",
              "       0, 0, 1, 0, 0, 0, 0, 0, 0, 0, 1, 0, 0, 1, 0, 1, 1, 0, 0, 0, 1, 1,\n",
              "       0, 1, 0, 0, 1, 1, 0, 1, 0, 0, 0, 1, 0, 0, 0, 1, 1, 1, 0, 0, 1, 0,\n",
              "       0, 1, 0, 0, 0, 0, 1, 0, 1, 1, 1, 1, 0, 1, 0, 1, 0, 0, 0, 0, 0, 0,\n",
              "       0, 1, 0, 0, 0, 1, 1, 0, 0, 1, 0, 1, 0, 0, 1, 1, 1, 1, 0, 1, 1, 1,\n",
              "       1, 1, 1, 0, 1, 0, 1, 1, 0, 1, 0, 1, 1, 0, 0, 0, 0, 0, 1, 0, 0, 0,\n",
              "       0, 0, 1, 0, 1, 0, 0, 0, 1, 1, 1, 0, 1, 1, 0, 1, 1, 0, 1, 1, 0, 0,\n",
              "       1, 0, 1, 1, 0, 0, 1, 0, 1, 0, 0, 0, 1, 0, 1, 0, 1, 1, 0, 1, 0, 0,\n",
              "       1, 0, 0, 1, 1, 0, 1, 1, 1, 0, 0, 1, 1, 0, 1, 1, 1, 0, 0, 0, 1, 0,\n",
              "       1, 1, 1, 1, 1, 1, 0, 0, 0, 1, 1, 1, 0, 1, 1, 0, 0, 0, 1, 0, 1, 1,\n",
              "       1, 0, 0, 1, 0, 0, 0, 1, 1, 0, 0, 0, 0, 0, 0, 1, 1, 1, 0, 1, 0, 0,\n",
              "       1, 0, 0, 0, 0, 1, 1, 1, 0, 0, 1, 0, 0, 0, 1, 1, 1, 0, 0, 1, 1, 0,\n",
              "       0, 1, 1, 0, 0, 0, 0, 1, 0, 0, 0, 1, 1, 0, 1, 0, 1, 0, 0, 0, 1, 0,\n",
              "       0, 1, 0, 1, 0, 1, 0, 0, 0, 0, 1, 0, 1, 1, 1, 1, 1, 0, 0, 1, 0, 0,\n",
              "       0, 1, 1, 0, 1, 1, 0, 1, 1, 0, 0, 1, 1, 0, 1, 0, 1, 1, 0, 0, 0, 0,\n",
              "       1, 1, 1, 1, 0, 0, 0, 1, 1, 1, 0, 0, 1, 1, 1, 1, 1, 1, 0, 0, 0, 1,\n",
              "       1, 0, 0, 1, 1, 0, 1, 0, 1, 1, 0, 1, 0, 0, 1, 0, 0, 0, 0, 0, 0, 1,\n",
              "       0, 0, 0, 0, 0, 1, 1, 0, 0, 1, 1, 0, 1, 0, 0, 1, 1, 0, 1, 0, 1, 0,\n",
              "       1, 0, 0, 0, 1, 0, 0, 0, 0, 0, 0, 1, 1, 1, 1, 0, 0, 1, 1, 0, 1, 0,\n",
              "       1, 1, 0, 0, 1, 0, 0, 0, 0, 1, 0, 0, 1, 1, 1, 1, 0, 0, 0, 0, 0, 1,\n",
              "       0, 0, 0, 0, 0, 0, 0, 0, 0, 1, 0, 0, 0, 1, 0, 0, 1, 0, 1, 0, 1, 0,\n",
              "       1, 1, 0, 0, 1, 0, 1, 0, 0, 0, 0, 1, 1, 0, 0, 0, 1, 1, 0, 0, 0, 0,\n",
              "       1, 1, 1, 0, 0, 0, 1, 0, 0, 1, 1, 0, 0, 1, 0, 1, 1, 1, 0, 1, 0, 0,\n",
              "       0, 0, 0, 0, 0, 1, 1, 1, 1, 0, 0, 1, 1, 0, 0, 1, 1, 1, 1, 1, 1, 0,\n",
              "       0, 1, 0, 1, 0, 0, 1, 0, 0, 0, 0, 1, 0, 1, 1, 0, 1, 0, 0, 0, 1, 1,\n",
              "       0, 1, 0, 0, 0, 1, 0, 0, 1, 0, 1, 0, 0, 1, 1, 1, 1, 1, 1, 0, 1, 1,\n",
              "       1, 0, 0, 0, 1, 0, 1, 1, 0, 1, 1, 1, 1, 1, 1, 1, 1, 1, 1, 1, 1, 1,\n",
              "       0, 1, 1, 1, 0, 0, 1, 1, 1, 1, 1, 0, 0, 1, 0, 1, 1, 0, 1, 1, 0, 1,\n",
              "       0, 1, 0, 1, 0, 0, 0, 0, 0, 0, 0, 0, 0, 1, 0, 1, 0, 0, 1, 1, 1, 1,\n",
              "       0, 0, 1, 0, 0, 1, 1, 1, 1, 1, 1, 0, 1, 1, 1, 1, 1, 0, 0, 0, 0, 1,\n",
              "       1, 1, 1, 0, 1, 1, 1, 1, 1, 0, 1, 0, 1, 1, 0, 1, 1, 1, 1, 0, 1, 0,\n",
              "       0, 1, 0, 1, 0, 1, 0, 1, 1, 1, 0, 0, 0, 1, 1, 1, 0, 1, 0, 0, 1, 0,\n",
              "       1, 1, 1, 0, 0, 0, 1, 0, 1, 0, 0, 0, 1, 1, 1, 1, 1, 1, 0, 1, 1, 1,\n",
              "       0, 0, 1, 1, 0, 1, 0, 0, 1, 0, 0, 0, 0, 1, 1, 1, 0, 1, 1, 0])"
            ]
          },
          "metadata": {},
          "execution_count": 117
        }
      ],
      "source": [
        "y_pred = pipe_model.predict(X_test)\n",
        "y_pred"
      ]
    },
    {
      "cell_type": "markdown",
      "id": "returning-glance",
      "metadata": {
        "id": "returning-glance"
      },
      "source": [
        "### Model Performance"
      ]
    },
    {
      "cell_type": "code",
      "execution_count": 118,
      "id": "alert-polish",
      "metadata": {
        "ExecuteTime": {
          "end_time": "2022-08-25T14:39:18.856275Z",
          "start_time": "2022-08-25T14:39:18.841321Z"
        },
        "id": "alert-polish"
      },
      "outputs": [],
      "source": [
        "from sklearn.metrics import confusion_matrix, classification_report, plot_confusion_matrix"
      ]
    },
    {
      "cell_type": "code",
      "execution_count": 119,
      "id": "configured-credit",
      "metadata": {
        "ExecuteTime": {
          "end_time": "2022-08-25T14:39:18.967901Z",
          "start_time": "2022-08-25T14:39:18.857268Z"
        },
        "id": "configured-credit",
        "outputId": "5ed03f44-d5bd-431f-bf31-b81d47814372",
        "colab": {
          "base_uri": "https://localhost:8080/",
          "height": 388
        }
      },
      "outputs": [
        {
          "output_type": "display_data",
          "data": {
            "text/plain": [
              "<Figure size 720x432 with 2 Axes>"
            ],
            "image/png": "[encoded data removed]"
          },
          "metadata": {
            "needs_background": "light"
          }
        }
      ],
      "source": [
        "plot_confusion_matrix(pipe_model, X_test, y_test);"
      ]
    },
    {
      "cell_type": "code",
      "execution_count": 120,
      "id": "ac57f606",
      "metadata": {
        "ExecuteTime": {
          "end_time": "2022-08-25T14:39:19.039371Z",
          "start_time": "2022-08-25T14:39:18.968348Z"
        },
        "id": "ac57f606",
        "outputId": "6fb93792-e956-4c7b-ed70-0f8b1508ec44",
        "colab": {
          "base_uri": "https://localhost:8080/"
        }
      },
      "outputs": [
        {
          "output_type": "stream",
          "name": "stdout",
          "text": [
            "Test_Set\n",
            "\n",
            "[[439  31]\n",
            " [ 34 396]]\n",
            "              precision    recall  f1-score   support\n",
            "\n",
            "           0       0.93      0.93      0.93       470\n",
            "           1       0.93      0.92      0.92       430\n",
            "\n",
            "    accuracy                           0.93       900\n",
            "   macro avg       0.93      0.93      0.93       900\n",
            "weighted avg       0.93      0.93      0.93       900\n",
            "\n",
            "\n",
            "Train_Set\n",
            "\n",
            "[[ 972   58]\n",
            " [  60 1010]]\n",
            "              precision    recall  f1-score   support\n",
            "\n",
            "           0       0.94      0.94      0.94      1030\n",
            "           1       0.95      0.94      0.94      1070\n",
            "\n",
            "    accuracy                           0.94      2100\n",
            "   macro avg       0.94      0.94      0.94      2100\n",
            "weighted avg       0.94      0.94      0.94      2100\n",
            "\n"
          ]
        }
      ],
      "source": [
        "eval_metric(pipe_model, X_train, y_train, X_test, y_test)"
      ]
    },
    {
      "cell_type": "markdown",
      "id": "numerical-sandwich",
      "metadata": {
        "id": "numerical-sandwich"
      },
      "source": [
        "### Changing the parameters of the pipe_model"
      ]
    },
    {
      "cell_type": "code",
      "execution_count": 121,
      "id": "pressing-context",
      "metadata": {
        "ExecuteTime": {
          "end_time": "2022-08-25T14:39:19.055392Z",
          "start_time": "2022-08-25T14:39:19.040382Z"
        },
        "id": "pressing-context",
        "outputId": "6ec63ca0-c5a0-4333-bb86-7f6a25f5010c",
        "colab": {
          "base_uri": "https://localhost:8080/"
        }
      },
      "outputs": [
        {
          "output_type": "execute_result",
          "data": {
            "text/plain": [
              "{'memory': None,\n",
              " 'steps': [('scaler', StandardScaler()), ('knn', KNeighborsClassifier())],\n",
              " 'verbose': False,\n",
              " 'scaler': StandardScaler(),\n",
              " 'knn': KNeighborsClassifier(),\n",
              " 'scaler__copy': True,\n",
              " 'scaler__with_mean': True,\n",
              " 'scaler__with_std': True,\n",
              " 'knn__algorithm': 'auto',\n",
              " 'knn__leaf_size': 30,\n",
              " 'knn__metric': 'minkowski',\n",
              " 'knn__metric_params': None,\n",
              " 'knn__n_jobs': None,\n",
              " 'knn__n_neighbors': 5,\n",
              " 'knn__p': 2,\n",
              " 'knn__weights': 'uniform'}"
            ]
          },
          "metadata": {},
          "execution_count": 121
        }
      ],
      "source": [
        "pipe_model.get_params()"
      ]
    },
    {
      "cell_type": "code",
      "execution_count": 122,
      "id": "native-insulation",
      "metadata": {
        "ExecuteTime": {
          "end_time": "2022-08-25T14:39:19.071338Z",
          "start_time": "2022-08-25T14:39:19.056389Z"
        },
        "id": "native-insulation",
        "outputId": "6691a78e-2b1c-4c6f-9be7-339a78740960",
        "colab": {
          "base_uri": "https://localhost:8080/"
        }
      },
      "outputs": [
        {
          "output_type": "execute_result",
          "data": {
            "text/plain": [
              "Pipeline(steps=[('scaler', StandardScaler()),\n",
              "                ('knn', KNeighborsClassifier(n_neighbors=9))])"
            ]
          },
          "metadata": {},
          "execution_count": 122
        }
      ],
      "source": [
        "pipe_model.set_params(knn__n_neighbors= 9)"
      ]
    },
    {
      "cell_type": "code",
      "execution_count": 123,
      "id": "pursuant-investigation",
      "metadata": {
        "ExecuteTime": {
          "end_time": "2022-08-25T14:39:19.087224Z",
          "start_time": "2022-08-25T14:39:19.072275Z"
        },
        "id": "pursuant-investigation",
        "outputId": "73a3e886-c5d4-4b6e-a8a1-f5904c2832bd",
        "colab": {
          "base_uri": "https://localhost:8080/"
        }
      },
      "outputs": [
        {
          "output_type": "execute_result",
          "data": {
            "text/plain": [
              "{'memory': None,\n",
              " 'steps': [('scaler', StandardScaler()),\n",
              "  ('knn', KNeighborsClassifier(n_neighbors=9))],\n",
              " 'verbose': False,\n",
              " 'scaler': StandardScaler(),\n",
              " 'knn': KNeighborsClassifier(n_neighbors=9),\n",
              " 'scaler__copy': True,\n",
              " 'scaler__with_mean': True,\n",
              " 'scaler__with_std': True,\n",
              " 'knn__algorithm': 'auto',\n",
              " 'knn__leaf_size': 30,\n",
              " 'knn__metric': 'minkowski',\n",
              " 'knn__metric_params': None,\n",
              " 'knn__n_jobs': None,\n",
              " 'knn__n_neighbors': 9,\n",
              " 'knn__p': 2,\n",
              " 'knn__weights': 'uniform'}"
            ]
          },
          "metadata": {},
          "execution_count": 123
        }
      ],
      "source": [
        "pipe_model.get_params()"
      ]
    },
    {
      "cell_type": "code",
      "execution_count": 124,
      "id": "eleven-methodology",
      "metadata": {
        "ExecuteTime": {
          "end_time": "2022-08-25T14:39:19.103175Z",
          "start_time": "2022-08-25T14:39:19.088221Z"
        },
        "id": "eleven-methodology",
        "outputId": "1de4d9ce-5f61-43b7-91f9-0f8b0a175d6d",
        "colab": {
          "base_uri": "https://localhost:8080/"
        }
      },
      "outputs": [
        {
          "output_type": "execute_result",
          "data": {
            "text/plain": [
              "StandardScaler()"
            ]
          },
          "metadata": {},
          "execution_count": 124
        }
      ],
      "source": [
        "pipe_model['scaler']"
      ]
    },
    {
      "cell_type": "code",
      "execution_count": 125,
      "id": "relative-macedonia",
      "metadata": {
        "ExecuteTime": {
          "end_time": "2022-08-25T14:39:19.118121Z",
          "start_time": "2022-08-25T14:39:19.104169Z"
        },
        "id": "relative-macedonia",
        "outputId": "42f84780-e7e9-4629-e868-9e19295d0b77",
        "colab": {
          "base_uri": "https://localhost:8080/"
        }
      },
      "outputs": [
        {
          "output_type": "execute_result",
          "data": {
            "text/plain": [
              "KNeighborsClassifier(n_neighbors=9)"
            ]
          },
          "metadata": {},
          "execution_count": 125
        }
      ],
      "source": [
        "pipe_model[\"knn\"]"
      ]
    },
    {
      "cell_type": "markdown",
      "id": "weekly-corner",
      "metadata": {
        "id": "weekly-corner"
      },
      "source": [
        "### GridSearch on Pipeline"
      ]
    },
    {
      "cell_type": "code",
      "execution_count": 126,
      "id": "stainless-values",
      "metadata": {
        "ExecuteTime": {
          "end_time": "2022-08-25T14:39:19.134068Z",
          "start_time": "2022-08-25T14:39:19.119118Z"
        },
        "id": "stainless-values"
      },
      "outputs": [],
      "source": [
        "from sklearn.model_selection import GridSearchCV"
      ]
    },
    {
      "cell_type": "code",
      "execution_count": 127,
      "id": "renewable-amplifier",
      "metadata": {
        "ExecuteTime": {
          "end_time": "2022-08-25T14:39:19.150020Z",
          "start_time": "2022-08-25T14:39:19.135065Z"
        },
        "id": "renewable-amplifier"
      },
      "outputs": [],
      "source": [
        "param_grid = {'knn__n_neighbors': range(1,30)}\n",
        "pipe_model = Pipeline(steps=operations)"
      ]
    },
    {
      "cell_type": "code",
      "execution_count": 128,
      "id": "twelve-centre",
      "metadata": {
        "ExecuteTime": {
          "end_time": "2022-08-25T14:39:19.165965Z",
          "start_time": "2022-08-25T14:39:19.151011Z"
        },
        "id": "twelve-centre"
      },
      "outputs": [],
      "source": [
        "pipe_grid = GridSearchCV(pipe_model, param_grid, cv=10, scoring= 'f1')"
      ]
    },
    {
      "cell_type": "code",
      "execution_count": 129,
      "id": "fitted-conviction",
      "metadata": {
        "ExecuteTime": {
          "end_time": "2022-08-25T14:39:21.120633Z",
          "start_time": "2022-08-25T14:39:19.166957Z"
        },
        "id": "fitted-conviction",
        "outputId": "44af8e24-4f43-4eef-fad6-c5742f5c09d1",
        "colab": {
          "base_uri": "https://localhost:8080/"
        }
      },
      "outputs": [
        {
          "output_type": "execute_result",
          "data": {
            "text/plain": [
              "GridSearchCV(cv=10,\n",
              "             estimator=Pipeline(steps=[('scaler', StandardScaler()),\n",
              "                                       ('knn',\n",
              "                                        KNeighborsClassifier(n_neighbors=9))]),\n",
              "             param_grid={'knn__n_neighbors': range(1, 30)}, scoring='f1')"
            ]
          },
          "metadata": {},
          "execution_count": 129
        }
      ],
      "source": [
        "pipe_grid.fit(X_train,y_train)"
      ]
    },
    {
      "cell_type": "code",
      "execution_count": 130,
      "id": "early-passenger",
      "metadata": {
        "ExecuteTime": {
          "end_time": "2022-08-25T14:39:21.135441Z",
          "start_time": "2022-08-25T14:39:21.122515Z"
        },
        "id": "early-passenger",
        "outputId": "4e82a360-f3cb-450d-aba5-2fce676df004",
        "colab": {
          "base_uri": "https://localhost:8080/"
        }
      },
      "outputs": [
        {
          "output_type": "execute_result",
          "data": {
            "text/plain": [
              "{'knn__n_neighbors': 21}"
            ]
          },
          "metadata": {},
          "execution_count": 130
        }
      ],
      "source": [
        "pipe_grid.best_params_"
      ]
    },
    {
      "cell_type": "markdown",
      "id": "43a55123",
      "metadata": {
        "id": "43a55123"
      },
      "source": [
        "### CrossValidate on Pipeline"
      ]
    },
    {
      "cell_type": "code",
      "execution_count": 131,
      "id": "8d7c9665",
      "metadata": {
        "ExecuteTime": {
          "end_time": "2022-08-25T14:39:21.227988Z",
          "start_time": "2022-08-25T14:39:21.136433Z"
        },
        "id": "8d7c9665",
        "outputId": "ddceebd3-2b5e-491c-b863-fca9872870d2",
        "colab": {
          "base_uri": "https://localhost:8080/"
        }
      },
      "outputs": [
        {
          "output_type": "execute_result",
          "data": {
            "text/plain": [
              "test_precision    0.923029\n",
              "test_recall       0.931776\n",
              "test_f1           0.927106\n",
              "test_accuracy     0.925238\n",
              "dtype: float64"
            ]
          },
          "metadata": {},
          "execution_count": 131
        }
      ],
      "source": [
        "operations = [('scaler',StandardScaler()),('knn',KNeighborsClassifier(n_neighbors=9))]\n",
        "model = Pipeline(operations)\n",
        "\n",
        "scores = cross_validate(model, X_train, y_train, scoring = ['precision','recall','f1','accuracy'], cv = 10)\n",
        "df_scores = pd.DataFrame(scores, index = range(1, 11))\n",
        "df_scores.mean()[2:]"
      ]
    },
    {
      "cell_type": "markdown",
      "id": "documentary-clearance",
      "metadata": {
        "id": "documentary-clearance"
      },
      "source": [
        "### Final pipe_model "
      ]
    },
    {
      "cell_type": "code",
      "execution_count": 132,
      "id": "desirable-nicholas",
      "metadata": {
        "ExecuteTime": {
          "end_time": "2022-08-25T14:39:21.243885Z",
          "start_time": "2022-08-25T14:39:21.228932Z"
        },
        "id": "desirable-nicholas"
      },
      "outputs": [],
      "source": [
        "operations = [('scaler',StandardScaler()),('knn',KNeighborsClassifier(n_neighbors=9))]"
      ]
    },
    {
      "cell_type": "code",
      "execution_count": 133,
      "id": "federal-india",
      "metadata": {
        "ExecuteTime": {
          "end_time": "2022-08-25T14:39:21.259194Z",
          "start_time": "2022-08-25T14:39:21.244878Z"
        },
        "id": "federal-india"
      },
      "outputs": [],
      "source": [
        "pipe_final = Pipeline(operations)"
      ]
    },
    {
      "cell_type": "code",
      "execution_count": 134,
      "id": "guilty-conviction",
      "metadata": {
        "ExecuteTime": {
          "end_time": "2022-08-25T14:39:21.275154Z",
          "start_time": "2022-08-25T14:39:21.260201Z"
        },
        "id": "guilty-conviction",
        "outputId": "1178fb6d-4a10-444d-ec9d-037320d783bd",
        "colab": {
          "base_uri": "https://localhost:8080/"
        }
      },
      "outputs": [
        {
          "output_type": "execute_result",
          "data": {
            "text/plain": [
              "Pipeline(steps=[('scaler', StandardScaler()),\n",
              "                ('knn', KNeighborsClassifier(n_neighbors=9))])"
            ]
          },
          "metadata": {},
          "execution_count": 134
        }
      ],
      "source": [
        "pipe_final.fit(X, y)"
      ]
    },
    {
      "cell_type": "markdown",
      "id": "stylish-parking",
      "metadata": {
        "id": "stylish-parking"
      },
      "source": [
        "### Predict New Observations with pipe_model"
      ]
    },
    {
      "cell_type": "code",
      "execution_count": 135,
      "id": "oriented-drawing",
      "metadata": {
        "ExecuteTime": {
          "end_time": "2022-08-25T14:39:21.291101Z",
          "start_time": "2022-08-25T14:39:21.276148Z"
        },
        "id": "oriented-drawing",
        "outputId": "0b99e3d8-ef2f-4b89-aadf-52b16589fd45",
        "colab": {
          "base_uri": "https://localhost:8080/",
          "height": 300
        }
      },
      "outputs": [
        {
          "output_type": "execute_result",
          "data": {
            "text/plain": [
              "   Gene One  Gene Two\n",
              "0       1.0       1.0\n",
              "1       3.0       4.0\n",
              "2       4.3       4.0\n",
              "3       5.6       5.5\n",
              "4       7.0       6.7\n",
              "5       9.5      10.0\n",
              "6       2.0       8.0\n",
              "7       6.0       1.0"
            ],
            "text/html": [
              "\n",
              "  <div id=\"df-f38fe739-4fed-4237-921d-2e48d7fb8fc4\">\n",
              "    <div class=\"colab-df-container\">\n",
              "      <div>\n",
              "<style scoped>\n",
              "    .dataframe tbody tr th:only-of-type {\n",
              "        vertical-align: middle;\n",
              "    }\n",
              "\n",
              "    .dataframe tbody tr th {\n",
              "        vertical-align: top;\n",
              "    }\n",
              "\n",
              "    .dataframe thead th {\n",
              "        text-align: right;\n",
              "    }\n",
              "</style>\n",
              "<table border=\"1\" class=\"dataframe\">\n",
              "  <thead>\n",
              "    <tr style=\"text-align: right;\">\n",
              "      <th></th>\n",
              "      <th>Gene One</th>\n",
              "      <th>Gene Two</th>\n",
              "    </tr>\n",
              "  </thead>\n",
              "  <tbody>\n",
              "    <tr>\n",
              "      <th>0</th>\n",
              "      <td>1.0</td>\n",
              "      <td>1.0</td>\n",
              "    </tr>\n",
              "    <tr>\n",
              "      <th>1</th>\n",
              "      <td>3.0</td>\n",
              "      <td>4.0</td>\n",
              "    </tr>\n",
              "    <tr>\n",
              "      <th>2</th>\n",
              "      <td>4.3</td>\n",
              "      <td>4.0</td>\n",
              "    </tr>\n",
              "    <tr>\n",
              "      <th>3</th>\n",
              "      <td>5.6</td>\n",
              "      <td>5.5</td>\n",
              "    </tr>\n",
              "    <tr>\n",
              "      <th>4</th>\n",
              "      <td>7.0</td>\n",
              "      <td>6.7</td>\n",
              "    </tr>\n",
              "    <tr>\n",
              "      <th>5</th>\n",
              "      <td>9.5</td>\n",
              "      <td>10.0</td>\n",
              "    </tr>\n",
              "    <tr>\n",
              "      <th>6</th>\n",
              "      <td>2.0</td>\n",
              "      <td>8.0</td>\n",
              "    </tr>\n",
              "    <tr>\n",
              "      <th>7</th>\n",
              "      <td>6.0</td>\n",
              "      <td>1.0</td>\n",
              "    </tr>\n",
              "  </tbody>\n",
              "</table>\n",
              "</div>\n",
              "      <button class=\"colab-df-convert\" onclick=\"convertToInteractive('df-f38fe739-4fed-4237-921d-2e48d7fb8fc4')\"\n",
              "              title=\"Convert this dataframe to an interactive table.\"\n",
              "              style=\"display:none;\">\n",
              "        \n",
              "  <svg xmlns=\"http://www.w3.org/2000/svg\" height=\"24px\"viewBox=\"0 0 24 24\"\n",
              "       width=\"24px\">\n",
              "    <path d=\"M0 0h24v24H0V0z\" fill=\"none\"/>\n",
              "    <path d=\"M18.56 5.44l.94 2.06.94-2.06 2.06-.94-2.06-.94-.94-2.06-.94 2.06-2.06.94zm-11 1L8.5 8.5l.94-2.06 2.06-.94-2.06-.94L8.5 2.5l-.94 2.06-2.06.94zm10 10l.94 2.06.94-2.06 2.06-.94-2.06-.94-.94-2.06-.94 2.06-2.06.94z\"/><path d=\"M17.41 7.96l-1.37-1.37c-.4-.4-.92-.59-1.43-.59-.52 0-1.04.2-1.43.59L10.3 9.45l-7.72 7.72c-.78.78-.78 2.05 0 2.83L4 21.41c.39.39.9.59 1.41.59.51 0 1.02-.2 1.41-.59l7.78-7.78 2.81-2.81c.8-.78.8-2.07 0-2.86zM5.41 20L4 18.59l7.72-7.72 1.47 1.35L5.41 20z\"/>\n",
              "  </svg>\n",
              "      </button>\n",
              "      \n",
              "  <style>\n",
              "    .colab-df-container {\n",
              "      display:flex;\n",
              "      flex-wrap:wrap;\n",
              "      gap: 12px;\n",
              "    }\n",
              "\n",
              "    .colab-df-convert {\n",
              "      background-color: #E8F0FE;\n",
              "      border: none;\n",
              "      border-radius: 50%;\n",
              "      cursor: pointer;\n",
              "      display: none;\n",
              "      fill: #1967D2;\n",
              "      height: 32px;\n",
              "      padding: 0 0 0 0;\n",
              "      width: 32px;\n",
              "    }\n",
              "\n",
              "    .colab-df-convert:hover {\n",
              "      background-color: #E2EBFA;\n",
              "      box-shadow: 0px 1px 2px rgba(60, 64, 67, 0.3), 0px 1px 3px 1px rgba(60, 64, 67, 0.15);\n",
              "      fill: #174EA6;\n",
              "    }\n",
              "\n",
              "    [theme=dark] .colab-df-convert {\n",
              "      background-color: #3B4455;\n",
              "      fill: #D2E3FC;\n",
              "    }\n",
              "\n",
              "    [theme=dark] .colab-df-convert:hover {\n",
              "      background-color: #434B5C;\n",
              "      box-shadow: 0px 1px 3px 1px rgba(0, 0, 0, 0.15);\n",
              "      filter: drop-shadow(0px 1px 2px rgba(0, 0, 0, 0.3));\n",
              "      fill: #FFFFFF;\n",
              "    }\n",
              "  </style>\n",
              "\n",
              "      <script>\n",
              "        const buttonEl =\n",
              "          document.querySelector('#df-f38fe739-4fed-4237-921d-2e48d7fb8fc4 button.colab-df-convert');\n",
              "        buttonEl.style.display =\n",
              "          google.colab.kernel.accessAllowed ? 'block' : 'none';\n",
              "\n",
              "        async function convertToInteractive(key) {\n",
              "          const element = document.querySelector('#df-f38fe739-4fed-4237-921d-2e48d7fb8fc4');\n",
              "          const dataTable =\n",
              "            await google.colab.kernel.invokeFunction('convertToInteractive',\n",
              "                                                     [key], {});\n",
              "          if (!dataTable) return;\n",
              "\n",
              "          const docLinkHtml = 'Like what you see? Visit the ' +\n",
              "            '<a target=\"_blank\" href=https://colab.research.google.com/notebooks/data_table.ipynb>data table notebook</a>'\n",
              "            + ' to learn more about interactive tables.';\n",
              "          element.innerHTML = '';\n",
              "          dataTable['output_type'] = 'display_data';\n",
              "          await google.colab.output.renderOutput(dataTable, element);\n",
              "          const docLink = document.createElement('div');\n",
              "          docLink.innerHTML = docLinkHtml;\n",
              "          element.appendChild(docLink);\n",
              "        }\n",
              "      </script>\n",
              "    </div>\n",
              "  </div>\n",
              "  "
            ]
          },
          "metadata": {},
          "execution_count": 135
        }
      ],
      "source": [
        "new_obs = {\"Gene One\": [1, 3, 4.3, 5.6, 7, 9.5, 2, 6],\n",
        "           \"Gene Two\": [1, 4, 4, 5.5, 6.7, 10, 8, 1]\n",
        "          }\n",
        "samples = pd.DataFrame(new_obs)\n",
        "samples"
      ]
    },
    {
      "cell_type": "code",
      "execution_count": 136,
      "id": "stock-sapphire",
      "metadata": {
        "ExecuteTime": {
          "end_time": "2022-08-25T14:39:21.307049Z",
          "start_time": "2022-08-25T14:39:21.292094Z"
        },
        "id": "stock-sapphire",
        "outputId": "9ee8b3f6-c07a-4082-eca0-81cfd55a0bbe",
        "colab": {
          "base_uri": "https://localhost:8080/"
        }
      },
      "outputs": [
        {
          "output_type": "execute_result",
          "data": {
            "text/plain": [
              "array([0, 0, 1, 0, 0, 1, 0, 1])"
            ]
          },
          "metadata": {},
          "execution_count": 136
        }
      ],
      "source": [
        "predictions = pipe_final.predict(samples)\n",
        "predictions"
      ]
    },
    {
      "cell_type": "code",
      "execution_count": 137,
      "id": "smart-drive",
      "metadata": {
        "ExecuteTime": {
          "end_time": "2022-08-25T14:39:21.322995Z",
          "start_time": "2022-08-25T14:39:21.308041Z"
        },
        "id": "smart-drive",
        "outputId": "b6d5a1fb-9f01-4f02-e475-07bcec4e5ad0",
        "colab": {
          "base_uri": "https://localhost:8080/"
        }
      },
      "outputs": [
        {
          "output_type": "execute_result",
          "data": {
            "text/plain": [
              "array([[1.        , 0.        ],\n",
              "       [0.88888889, 0.11111111],\n",
              "       [0.        , 1.        ],\n",
              "       [0.77777778, 0.22222222],\n",
              "       [1.        , 0.        ],\n",
              "       [0.33333333, 0.66666667],\n",
              "       [1.        , 0.        ],\n",
              "       [0.        , 1.        ]])"
            ]
          },
          "metadata": {},
          "execution_count": 137
        }
      ],
      "source": [
        "predictions_proba = pipe_final.predict_proba(samples)\n",
        "predictions_proba"
      ]
    },
    {
      "cell_type": "code",
      "execution_count": 138,
      "id": "italic-investigator",
      "metadata": {
        "ExecuteTime": {
          "end_time": "2022-08-25T14:39:21.337945Z",
          "start_time": "2022-08-25T14:39:21.324985Z"
        },
        "id": "italic-investigator",
        "outputId": "b2a33c9d-fe14-4cfb-d27d-2fd608d6f185",
        "colab": {
          "base_uri": "https://localhost:8080/",
          "height": 300
        }
      },
      "outputs": [
        {
          "output_type": "execute_result",
          "data": {
            "text/plain": [
              "   Gene One  Gene Two  pred  pred_proba\n",
              "0       1.0       1.0     0    0.000000\n",
              "1       3.0       4.0     0    0.111111\n",
              "2       4.3       4.0     1    1.000000\n",
              "3       5.6       5.5     0    0.222222\n",
              "4       7.0       6.7     0    0.000000\n",
              "5       9.5      10.0     1    0.666667\n",
              "6       2.0       8.0     0    0.000000\n",
              "7       6.0       1.0     1    1.000000"
            ],
            "text/html": [
              "\n",
              "  <div id=\"df-54494844-5bf8-4547-8bf7-15bcb9d0ed37\">\n",
              "    <div class=\"colab-df-container\">\n",
              "      <div>\n",
              "<style scoped>\n",
              "    .dataframe tbody tr th:only-of-type {\n",
              "        vertical-align: middle;\n",
              "    }\n",
              "\n",
              "    .dataframe tbody tr th {\n",
              "        vertical-align: top;\n",
              "    }\n",
              "\n",
              "    .dataframe thead th {\n",
              "        text-align: right;\n",
              "    }\n",
              "</style>\n",
              "<table border=\"1\" class=\"dataframe\">\n",
              "  <thead>\n",
              "    <tr style=\"text-align: right;\">\n",
              "      <th></th>\n",
              "      <th>Gene One</th>\n",
              "      <th>Gene Two</th>\n",
              "      <th>pred</th>\n",
              "      <th>pred_proba</th>\n",
              "    </tr>\n",
              "  </thead>\n",
              "  <tbody>\n",
              "    <tr>\n",
              "      <th>0</th>\n",
              "      <td>1.0</td>\n",
              "      <td>1.0</td>\n",
              "      <td>0</td>\n",
              "      <td>0.000000</td>\n",
              "    </tr>\n",
              "    <tr>\n",
              "      <th>1</th>\n",
              "      <td>3.0</td>\n",
              "      <td>4.0</td>\n",
              "      <td>0</td>\n",
              "      <td>0.111111</td>\n",
              "    </tr>\n",
              "    <tr>\n",
              "      <th>2</th>\n",
              "      <td>4.3</td>\n",
              "      <td>4.0</td>\n",
              "      <td>1</td>\n",
              "      <td>1.000000</td>\n",
              "    </tr>\n",
              "    <tr>\n",
              "      <th>3</th>\n",
              "      <td>5.6</td>\n",
              "      <td>5.5</td>\n",
              "      <td>0</td>\n",
              "      <td>0.222222</td>\n",
              "    </tr>\n",
              "    <tr>\n",
              "      <th>4</th>\n",
              "      <td>7.0</td>\n",
              "      <td>6.7</td>\n",
              "      <td>0</td>\n",
              "      <td>0.000000</td>\n",
              "    </tr>\n",
              "    <tr>\n",
              "      <th>5</th>\n",
              "      <td>9.5</td>\n",
              "      <td>10.0</td>\n",
              "      <td>1</td>\n",
              "      <td>0.666667</td>\n",
              "    </tr>\n",
              "    <tr>\n",
              "      <th>6</th>\n",
              "      <td>2.0</td>\n",
              "      <td>8.0</td>\n",
              "      <td>0</td>\n",
              "      <td>0.000000</td>\n",
              "    </tr>\n",
              "    <tr>\n",
              "      <th>7</th>\n",
              "      <td>6.0</td>\n",
              "      <td>1.0</td>\n",
              "      <td>1</td>\n",
              "      <td>1.000000</td>\n",
              "    </tr>\n",
              "  </tbody>\n",
              "</table>\n",
              "</div>\n",
              "      <button class=\"colab-df-convert\" onclick=\"convertToInteractive('df-54494844-5bf8-4547-8bf7-15bcb9d0ed37')\"\n",
              "              title=\"Convert this dataframe to an interactive table.\"\n",
              "              style=\"display:none;\">\n",
              "        \n",
              "  <svg xmlns=\"http://www.w3.org/2000/svg\" height=\"24px\"viewBox=\"0 0 24 24\"\n",
              "       width=\"24px\">\n",
              "    <path d=\"M0 0h24v24H0V0z\" fill=\"none\"/>\n",
              "    <path d=\"M18.56 5.44l.94 2.06.94-2.06 2.06-.94-2.06-.94-.94-2.06-.94 2.06-2.06.94zm-11 1L8.5 8.5l.94-2.06 2.06-.94-2.06-.94L8.5 2.5l-.94 2.06-2.06.94zm10 10l.94 2.06.94-2.06 2.06-.94-2.06-.94-.94-2.06-.94 2.06-2.06.94z\"/><path d=\"M17.41 7.96l-1.37-1.37c-.4-.4-.92-.59-1.43-.59-.52 0-1.04.2-1.43.59L10.3 9.45l-7.72 7.72c-.78.78-.78 2.05 0 2.83L4 21.41c.39.39.9.59 1.41.59.51 0 1.02-.2 1.41-.59l7.78-7.78 2.81-2.81c.8-.78.8-2.07 0-2.86zM5.41 20L4 18.59l7.72-7.72 1.47 1.35L5.41 20z\"/>\n",
              "  </svg>\n",
              "      </button>\n",
              "      \n",
              "  <style>\n",
              "    .colab-df-container {\n",
              "      display:flex;\n",
              "      flex-wrap:wrap;\n",
              "      gap: 12px;\n",
              "    }\n",
              "\n",
              "    .colab-df-convert {\n",
              "      background-color: #E8F0FE;\n",
              "      border: none;\n",
              "      border-radius: 50%;\n",
              "      cursor: pointer;\n",
              "      display: none;\n",
              "      fill: #1967D2;\n",
              "      height: 32px;\n",
              "      padding: 0 0 0 0;\n",
              "      width: 32px;\n",
              "    }\n",
              "\n",
              "    .colab-df-convert:hover {\n",
              "      background-color: #E2EBFA;\n",
              "      box-shadow: 0px 1px 2px rgba(60, 64, 67, 0.3), 0px 1px 3px 1px rgba(60, 64, 67, 0.15);\n",
              "      fill: #174EA6;\n",
              "    }\n",
              "\n",
              "    [theme=dark] .colab-df-convert {\n",
              "      background-color: #3B4455;\n",
              "      fill: #D2E3FC;\n",
              "    }\n",
              "\n",
              "    [theme=dark] .colab-df-convert:hover {\n",
              "      background-color: #434B5C;\n",
              "      box-shadow: 0px 1px 3px 1px rgba(0, 0, 0, 0.15);\n",
              "      filter: drop-shadow(0px 1px 2px rgba(0, 0, 0, 0.3));\n",
              "      fill: #FFFFFF;\n",
              "    }\n",
              "  </style>\n",
              "\n",
              "      <script>\n",
              "        const buttonEl =\n",
              "          document.querySelector('#df-54494844-5bf8-4547-8bf7-15bcb9d0ed37 button.colab-df-convert');\n",
              "        buttonEl.style.display =\n",
              "          google.colab.kernel.accessAllowed ? 'block' : 'none';\n",
              "\n",
              "        async function convertToInteractive(key) {\n",
              "          const element = document.querySelector('#df-54494844-5bf8-4547-8bf7-15bcb9d0ed37');\n",
              "          const dataTable =\n",
              "            await google.colab.kernel.invokeFunction('convertToInteractive',\n",
              "                                                     [key], {});\n",
              "          if (!dataTable) return;\n",
              "\n",
              "          const docLinkHtml = 'Like what you see? Visit the ' +\n",
              "            '<a target=\"_blank\" href=https://colab.research.google.com/notebooks/data_table.ipynb>data table notebook</a>'\n",
              "            + ' to learn more about interactive tables.';\n",
              "          element.innerHTML = '';\n",
              "          dataTable['output_type'] = 'display_data';\n",
              "          await google.colab.output.renderOutput(dataTable, element);\n",
              "          const docLink = document.createElement('div');\n",
              "          docLink.innerHTML = docLinkHtml;\n",
              "          element.appendChild(docLink);\n",
              "        }\n",
              "      </script>\n",
              "    </div>\n",
              "  </div>\n",
              "  "
            ]
          },
          "metadata": {},
          "execution_count": 138
        }
      ],
      "source": [
        "samples[\"pred\"] = predictions\n",
        "samples[\"pred_proba\"] = predictions_proba[:,1]\n",
        "samples"
      ]
    }
  ],
  "metadata": {
    "kernelspec": {
      "display_name": "Python 3 (ipykernel)",
      "language": "python",
      "name": "python3"
    },
    "language_info": {
      "codemirror_mode": {
        "name": "ipython",
        "version": 3
      },
      "file_extension": ".py",
      "mimetype": "text/x-python",
      "name": "python",
      "nbconvert_exporter": "python",
      "pygments_lexer": "ipython3",
      "version": "3.9.12"
    },
    "toc": {
      "base_numbering": 1,
      "nav_menu": {},
      "number_sections": true,
      "sideBar": true,
      "skip_h1_title": false,
      "title_cell": "Table of Contents",
      "title_sidebar": "Contents",
      "toc_cell": false,
      "toc_position": {},
      "toc_section_display": true,
      "toc_window_display": false
    },
    "varInspector": {
      "cols": {
        "lenName": 16,
        "lenType": 16,
        "lenVar": 40
      },
      "kernels_config": {
        "python": {
          "delete_cmd_postfix": "",
          "delete_cmd_prefix": "del ",
          "library": "var_list.py",
          "varRefreshCmd": "print(var_dic_list())"
        },
        "r": {
          "delete_cmd_postfix": ") ",
          "delete_cmd_prefix": "rm(",
          "library": "var_list.r",
          "varRefreshCmd": "cat(var_dic_list()) "
        }
      },
      "types_to_exclude": [
        "module",
        "function",
        "builtin_function_or_method",
        "instance",
        "_Feature"
      ],
      "window_display": false
    },
    "colab": {
      "provenance": [],
      "toc_visible": true
    }
  },
  "nbformat": 4,
  "nbformat_minor": 5
}
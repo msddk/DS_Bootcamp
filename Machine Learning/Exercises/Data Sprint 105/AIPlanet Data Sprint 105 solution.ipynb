{
 "cells": [
  {
   "cell_type": "code",
   "execution_count": 38,
   "id": "62ca1a72",
   "metadata": {},
   "outputs": [],
   "source": [
    "import numpy as np\n",
    "import pandas as pd\n",
    "# import ydata_profiling\n",
    "# import autogluon\n",
    "\n",
    "import matplotlib.pyplot as plt\n",
    "from sklearn.metrics import accuracy_score\n",
    "from sklearn.model_selection import train_test_split"
   ]
  },
  {
   "cell_type": "code",
   "execution_count": 29,
   "id": "007f66c3",
   "metadata": {},
   "outputs": [],
   "source": [
    "train_data = pd.read_csv('train_dataset.csv')\n",
    "test_data = pd.read_csv('test_dataset.csv')"
   ]
  },
  {
   "cell_type": "code",
   "execution_count": 63,
   "id": "7b15e783",
   "metadata": {},
   "outputs": [],
   "source": [
    "# Import necessary libraries\n",
    "import numpy as np\n",
    "from sklearn.preprocessing import PolynomialFeatures\n",
    "from sklearn.metrics import mean_squared_error\n",
    "from sklearn.model_selection import GridSearchCV\n"
   ]
  },
  {
   "cell_type": "code",
   "execution_count": 67,
   "id": "dbc865ee",
   "metadata": {},
   "outputs": [],
   "source": [
    "# Split train data into input and output variables\n",
    "X = train_data.drop('Next_Tmax', axis=1)\n",
    "y = train_data['Next_Tmax']"
   ]
  },
  {
   "cell_type": "code",
   "execution_count": 68,
   "id": "514c2554",
   "metadata": {},
   "outputs": [],
   "source": [
    "polynomial_converter = PolynomialFeatures(degree =2, include_bias =False)\n",
    "\n"
   ]
  },
  {
   "cell_type": "code",
   "execution_count": 69,
   "id": "f5ead8ce",
   "metadata": {},
   "outputs": [
    {
     "data": {
      "text/plain": [
       "PolynomialFeatures(include_bias=False)"
      ]
     },
     "execution_count": 69,
     "metadata": {},
     "output_type": "execute_result"
    }
   ],
   "source": [
    "polynomial_converter.fit(X)\n"
   ]
  },
  {
   "cell_type": "code",
   "execution_count": 70,
   "id": "5fe5afd2",
   "metadata": {},
   "outputs": [],
   "source": [
    "poly_features = polynomial_converter.transform(X)"
   ]
  },
  {
   "cell_type": "code",
   "execution_count": 71,
   "id": "649200e0",
   "metadata": {},
   "outputs": [
    {
     "data": {
      "text/plain": [
       "array([[2.76000000e+01, 2.31000000e+01, 3.95481911e+01, ...,\n",
       "        2.68137552e+01, 2.39004448e+04, 2.13036651e+07],\n",
       "       [2.72000000e+01, 2.16000000e+01, 8.27724609e+01, ...,\n",
       "        5.09811241e+00, 1.28644073e+04, 3.24616175e+07],\n",
       "       [2.74000000e+01, 2.13000000e+01, 3.83575363e+01, ...,\n",
       "        4.94172900e-02, 1.22647534e+03, 3.04395842e+07],\n",
       "       ...,\n",
       "       [3.18000000e+01, 2.49000000e+01, 6.04232597e+01, ...,\n",
       "        9.70225000e-03, 5.00357924e+02, 2.58041230e+07],\n",
       "       [3.16000000e+01, 2.44000000e+01, 3.41808014e+01, ...,\n",
       "        2.23691162e+01, 2.77389169e+04, 3.43977611e+07],\n",
       "       [3.22000000e+01, 1.86000000e+01, 3.52760429e+01, ...,\n",
       "        2.68137552e+01, 2.52668044e+04, 2.38091009e+07]])"
      ]
     },
     "execution_count": 71,
     "metadata": {},
     "output_type": "execute_result"
    }
   ],
   "source": [
    "poly_features"
   ]
  },
  {
   "cell_type": "code",
   "execution_count": 72,
   "id": "57f453a4",
   "metadata": {},
   "outputs": [
    {
     "data": {
      "text/plain": [
       "(6451, 252)"
      ]
     },
     "execution_count": 72,
     "metadata": {},
     "output_type": "execute_result"
    }
   ],
   "source": [
    "poly_features.shape\n"
   ]
  },
  {
   "cell_type": "code",
   "execution_count": 73,
   "id": "c1c6daf7",
   "metadata": {},
   "outputs": [
    {
     "data": {
      "text/plain": [
       "(6451, 21)"
      ]
     },
     "execution_count": 73,
     "metadata": {},
     "output_type": "execute_result"
    }
   ],
   "source": [
    "X.shape\n"
   ]
  },
  {
   "cell_type": "code",
   "execution_count": 74,
   "id": "16bec0c1",
   "metadata": {},
   "outputs": [],
   "source": [
    "from sklearn.model_selection import train_test_split\n"
   ]
  },
  {
   "cell_type": "code",
   "execution_count": 75,
   "id": "f846dda0",
   "metadata": {},
   "outputs": [],
   "source": [
    "X_train, X_test, y_train, y_test = train_test_split(poly_features, y, test_size = 0.3, random_state = 42)\n"
   ]
  },
  {
   "cell_type": "code",
   "execution_count": 76,
   "id": "661b3174",
   "metadata": {},
   "outputs": [],
   "source": [
    "from sklearn.linear_model import LinearRegression\n"
   ]
  },
  {
   "cell_type": "code",
   "execution_count": 77,
   "id": "b9e91308",
   "metadata": {},
   "outputs": [],
   "source": [
    "model_poly = LinearRegression()\n"
   ]
  },
  {
   "cell_type": "code",
   "execution_count": 78,
   "id": "c620bf3f",
   "metadata": {},
   "outputs": [
    {
     "data": {
      "text/plain": [
       "LinearRegression()"
      ]
     },
     "execution_count": 78,
     "metadata": {},
     "output_type": "execute_result"
    }
   ],
   "source": [
    "model_poly.fit(X_train, y_train)\n"
   ]
  },
  {
   "cell_type": "code",
   "execution_count": 79,
   "id": "47605ca0",
   "metadata": {},
   "outputs": [],
   "source": [
    "y_pred = model_poly.predict(X_test)\n"
   ]
  },
  {
   "cell_type": "code",
   "execution_count": 80,
   "id": "a16da7fa",
   "metadata": {},
   "outputs": [
    {
     "data": {
      "text/html": [
       "<div>\n",
       "<style scoped>\n",
       "    .dataframe tbody tr th:only-of-type {\n",
       "        vertical-align: middle;\n",
       "    }\n",
       "\n",
       "    .dataframe tbody tr th {\n",
       "        vertical-align: top;\n",
       "    }\n",
       "\n",
       "    .dataframe thead th {\n",
       "        text-align: right;\n",
       "    }\n",
       "</style>\n",
       "<table border=\"1\" class=\"dataframe\">\n",
       "  <thead>\n",
       "    <tr style=\"text-align: right;\">\n",
       "      <th></th>\n",
       "      <th>Actual</th>\n",
       "      <th>pred</th>\n",
       "      <th>residual</th>\n",
       "    </tr>\n",
       "  </thead>\n",
       "  <tbody>\n",
       "    <tr>\n",
       "      <th>1726</th>\n",
       "      <td>29.9</td>\n",
       "      <td>32.229356</td>\n",
       "      <td>-2.329356</td>\n",
       "    </tr>\n",
       "    <tr>\n",
       "      <th>4975</th>\n",
       "      <td>33.2</td>\n",
       "      <td>31.146012</td>\n",
       "      <td>2.053988</td>\n",
       "    </tr>\n",
       "    <tr>\n",
       "      <th>4763</th>\n",
       "      <td>33.7</td>\n",
       "      <td>33.351476</td>\n",
       "      <td>0.348524</td>\n",
       "    </tr>\n",
       "    <tr>\n",
       "      <th>4266</th>\n",
       "      <td>30.9</td>\n",
       "      <td>30.389141</td>\n",
       "      <td>0.510859</td>\n",
       "    </tr>\n",
       "    <tr>\n",
       "      <th>5683</th>\n",
       "      <td>32.9</td>\n",
       "      <td>32.194861</td>\n",
       "      <td>0.705139</td>\n",
       "    </tr>\n",
       "    <tr>\n",
       "      <th>4695</th>\n",
       "      <td>27.2</td>\n",
       "      <td>27.401457</td>\n",
       "      <td>-0.201457</td>\n",
       "    </tr>\n",
       "    <tr>\n",
       "      <th>401</th>\n",
       "      <td>25.7</td>\n",
       "      <td>26.304871</td>\n",
       "      <td>-0.604871</td>\n",
       "    </tr>\n",
       "    <tr>\n",
       "      <th>3372</th>\n",
       "      <td>31.2</td>\n",
       "      <td>27.731339</td>\n",
       "      <td>3.468661</td>\n",
       "    </tr>\n",
       "    <tr>\n",
       "      <th>1328</th>\n",
       "      <td>30.8</td>\n",
       "      <td>29.058390</td>\n",
       "      <td>1.741610</td>\n",
       "    </tr>\n",
       "    <tr>\n",
       "      <th>3975</th>\n",
       "      <td>29.4</td>\n",
       "      <td>28.403942</td>\n",
       "      <td>0.996058</td>\n",
       "    </tr>\n",
       "    <tr>\n",
       "      <th>80</th>\n",
       "      <td>28.1</td>\n",
       "      <td>28.275172</td>\n",
       "      <td>-0.175172</td>\n",
       "    </tr>\n",
       "    <tr>\n",
       "      <th>4279</th>\n",
       "      <td>27.9</td>\n",
       "      <td>27.812983</td>\n",
       "      <td>0.087017</td>\n",
       "    </tr>\n",
       "    <tr>\n",
       "      <th>5599</th>\n",
       "      <td>33.8</td>\n",
       "      <td>34.256615</td>\n",
       "      <td>-0.456615</td>\n",
       "    </tr>\n",
       "    <tr>\n",
       "      <th>3288</th>\n",
       "      <td>32.3</td>\n",
       "      <td>32.323237</td>\n",
       "      <td>-0.023237</td>\n",
       "    </tr>\n",
       "    <tr>\n",
       "      <th>1870</th>\n",
       "      <td>30.5</td>\n",
       "      <td>31.590707</td>\n",
       "      <td>-1.090707</td>\n",
       "    </tr>\n",
       "    <tr>\n",
       "      <th>6207</th>\n",
       "      <td>25.4</td>\n",
       "      <td>25.520275</td>\n",
       "      <td>-0.120275</td>\n",
       "    </tr>\n",
       "    <tr>\n",
       "      <th>1235</th>\n",
       "      <td>30.8</td>\n",
       "      <td>29.423835</td>\n",
       "      <td>1.376165</td>\n",
       "    </tr>\n",
       "    <tr>\n",
       "      <th>4317</th>\n",
       "      <td>27.1</td>\n",
       "      <td>29.289189</td>\n",
       "      <td>-2.189189</td>\n",
       "    </tr>\n",
       "    <tr>\n",
       "      <th>4010</th>\n",
       "      <td>30.1</td>\n",
       "      <td>30.888286</td>\n",
       "      <td>-0.788286</td>\n",
       "    </tr>\n",
       "    <tr>\n",
       "      <th>2540</th>\n",
       "      <td>31.9</td>\n",
       "      <td>31.783187</td>\n",
       "      <td>0.116813</td>\n",
       "    </tr>\n",
       "  </tbody>\n",
       "</table>\n",
       "</div>"
      ],
      "text/plain": [
       "      Actual       pred  residual\n",
       "1726    29.9  32.229356 -2.329356\n",
       "4975    33.2  31.146012  2.053988\n",
       "4763    33.7  33.351476  0.348524\n",
       "4266    30.9  30.389141  0.510859\n",
       "5683    32.9  32.194861  0.705139\n",
       "4695    27.2  27.401457 -0.201457\n",
       "401     25.7  26.304871 -0.604871\n",
       "3372    31.2  27.731339  3.468661\n",
       "1328    30.8  29.058390  1.741610\n",
       "3975    29.4  28.403942  0.996058\n",
       "80      28.1  28.275172 -0.175172\n",
       "4279    27.9  27.812983  0.087017\n",
       "5599    33.8  34.256615 -0.456615\n",
       "3288    32.3  32.323237 -0.023237\n",
       "1870    30.5  31.590707 -1.090707\n",
       "6207    25.4  25.520275 -0.120275\n",
       "1235    30.8  29.423835  1.376165\n",
       "4317    27.1  29.289189 -2.189189\n",
       "4010    30.1  30.888286 -0.788286\n",
       "2540    31.9  31.783187  0.116813"
      ]
     },
     "execution_count": 80,
     "metadata": {},
     "output_type": "execute_result"
    }
   ],
   "source": [
    "my_dict = {\"Actual\": y_test, \"pred\": y_pred, \"residual\": y_test-y_pred}\n",
    "compare = pd.DataFrame(my_dict)\n",
    "compare.head(20)"
   ]
  },
  {
   "cell_type": "code",
   "execution_count": 81,
   "id": "ea82fb5f",
   "metadata": {},
   "outputs": [
    {
     "data": {
      "image/png": "[encoded data removed]",
      "text/plain": [
       "<Figure size 1500x900 with 1 Axes>"
      ]
     },
     "metadata": {},
     "output_type": "display_data"
    }
   ],
   "source": [
    "compare.head(20).plot(kind='bar',figsize=(15,9))\n",
    "plt.show();"
   ]
  },
  {
   "cell_type": "code",
   "execution_count": 82,
   "id": "3921ae24",
   "metadata": {},
   "outputs": [],
   "source": [
    "from sklearn.metrics import mean_absolute_error,mean_squared_error,r2_score\n"
   ]
  },
  {
   "cell_type": "code",
   "execution_count": 83,
   "id": "db479ca6",
   "metadata": {},
   "outputs": [],
   "source": [
    "y_pred = model_poly.predict(X_test)\n"
   ]
  },
  {
   "cell_type": "code",
   "execution_count": 84,
   "id": "6f3f6640",
   "metadata": {},
   "outputs": [],
   "source": [
    "def eval_metric(actual, pred):\n",
    "    mae = mean_absolute_error(actual, pred)\n",
    "    mse = mean_squared_error(actual, pred)\n",
    "    rmse = np.sqrt(mean_squared_error(actual, pred))\n",
    "    R2_score = r2_score(actual, pred)\n",
    "    print(\"Model testing performance:\")\n",
    "    print(\"--------------------------\")\n",
    "    print(f\"R2_score \\t: {R2_score}\")\n",
    "    print(f\"MAE \\t\\t: {mae}\")\n",
    "    print(f\"MSE \\t\\t: {mse}\")\n",
    "    print(f\"RMSE \\t\\t: {rmse}\")"
   ]
  },
  {
   "cell_type": "code",
   "execution_count": 85,
   "id": "badab471",
   "metadata": {},
   "outputs": [
    {
     "name": "stdout",
     "output_type": "stream",
     "text": [
      "Model testing performance:\n",
      "--------------------------\n",
      "R2_score \t: 0.8473772433659359\n",
      "MAE \t\t: 0.9101515024693343\n",
      "MSE \t\t: 1.4627030739358218\n",
      "RMSE \t\t: 1.2094226200695197\n"
     ]
    }
   ],
   "source": [
    "eval_metric(y_test, y_pred)\n"
   ]
  },
  {
   "cell_type": "code",
   "execution_count": 86,
   "id": "cc5a9029",
   "metadata": {},
   "outputs": [],
   "source": [
    "y_train_pred = model_poly.predict(X_train)\n"
   ]
  },
  {
   "cell_type": "code",
   "execution_count": 87,
   "id": "dd26d953",
   "metadata": {},
   "outputs": [
    {
     "name": "stdout",
     "output_type": "stream",
     "text": [
      "Model testing performance:\n",
      "--------------------------\n",
      "R2_score \t: 0.8700135215026538\n",
      "MAE \t\t: 0.8612634000245716\n",
      "MSE \t\t: 1.2680518765407864\n",
      "RMSE \t\t: 1.1260780952228786\n"
     ]
    }
   ],
   "source": [
    "eval_metric(y_train, y_train_pred)\n"
   ]
  },
  {
   "cell_type": "code",
   "execution_count": null,
   "id": "70827ce2",
   "metadata": {},
   "outputs": [],
   "source": []
  },
  {
   "cell_type": "code",
   "execution_count": 88,
   "id": "43c4a73b",
   "metadata": {},
   "outputs": [],
   "source": [
    "def poly(d):\n",
    "    \n",
    "    train_rmse_errors = []\n",
    "    test_rmse_errors = []\n",
    "    number_of_features = []\n",
    "    \n",
    "    for i in range(1, d):\n",
    "        polynomial_converter = PolynomialFeatures(degree = i, include_bias =False)\n",
    "        poly_features = polynomial_converter.fit_transform(X)\n",
    "        \n",
    "        X_train, X_test, y_train, y_test = train_test_split(poly_features, y, test_size=0.3, random_state=42)\n",
    "        \n",
    "        model = LinearRegression(fit_intercept=True)\n",
    "        model.fit(X_train, y_train)\n",
    "        \n",
    "        train_pred = model.predict(X_train)\n",
    "        test_pred = model.predict(X_test)\n",
    "        \n",
    "        train_RMSE = np.sqrt(mean_squared_error(y_train,train_pred))\n",
    "        test_RMSE = np.sqrt(mean_squared_error(y_test,test_pred))\n",
    "\n",
    "        train_rmse_errors.append(train_RMSE)\n",
    "        test_rmse_errors.append(test_RMSE)\n",
    "        \n",
    "        number_of_features.append(poly_features.shape[1])\n",
    "        \n",
    "    return pd.DataFrame({\"train_rmse_errors\": train_rmse_errors, \"test_rmse_errors\":test_rmse_errors, \"number of features\":number_of_features}, \n",
    "                        index=range(1,d))"
   ]
  },
  {
   "cell_type": "code",
   "execution_count": 93,
   "id": "720edede",
   "metadata": {},
   "outputs": [
    {
     "data": {
      "text/html": [
       "<div>\n",
       "<style scoped>\n",
       "    .dataframe tbody tr th:only-of-type {\n",
       "        vertical-align: middle;\n",
       "    }\n",
       "\n",
       "    .dataframe tbody tr th {\n",
       "        vertical-align: top;\n",
       "    }\n",
       "\n",
       "    .dataframe thead th {\n",
       "        text-align: right;\n",
       "    }\n",
       "</style>\n",
       "<table border=\"1\" class=\"dataframe\">\n",
       "  <thead>\n",
       "    <tr style=\"text-align: right;\">\n",
       "      <th></th>\n",
       "      <th>train_rmse_errors</th>\n",
       "      <th>test_rmse_errors</th>\n",
       "      <th>number of features</th>\n",
       "    </tr>\n",
       "  </thead>\n",
       "  <tbody>\n",
       "    <tr>\n",
       "      <th>1</th>\n",
       "      <td>1.444134</td>\n",
       "      <td>1.512605</td>\n",
       "      <td>21</td>\n",
       "    </tr>\n",
       "    <tr>\n",
       "      <th>2</th>\n",
       "      <td>1.126078</td>\n",
       "      <td>1.209423</td>\n",
       "      <td>252</td>\n",
       "    </tr>\n",
       "    <tr>\n",
       "      <th>3</th>\n",
       "      <td>0.801259</td>\n",
       "      <td>4.114603</td>\n",
       "      <td>2023</td>\n",
       "    </tr>\n",
       "    <tr>\n",
       "      <th>4</th>\n",
       "      <td>0.073496</td>\n",
       "      <td>88.737346</td>\n",
       "      <td>12649</td>\n",
       "    </tr>\n",
       "  </tbody>\n",
       "</table>\n",
       "</div>"
      ],
      "text/plain": [
       "   train_rmse_errors  test_rmse_errors  number of features\n",
       "1           1.444134          1.512605                  21\n",
       "2           1.126078          1.209423                 252\n",
       "3           0.801259          4.114603                2023\n",
       "4           0.073496         88.737346               12649"
      ]
     },
     "execution_count": 93,
     "metadata": {},
     "output_type": "execute_result"
    }
   ],
   "source": [
    "poly(5)\n"
   ]
  },
  {
   "cell_type": "code",
   "execution_count": null,
   "id": "51e54181",
   "metadata": {},
   "outputs": [],
   "source": []
  },
  {
   "cell_type": "code",
   "execution_count": 94,
   "id": "135f4455",
   "metadata": {},
   "outputs": [
    {
     "data": {
      "image/png": "[encoded data removed]",
      "text/plain": [
       "<Figure size 640x480 with 1 Axes>"
      ]
     },
     "metadata": {},
     "output_type": "display_data"
    }
   ],
   "source": [
    "plt.plot(range(1,4), poly(4)[\"train_rmse_errors\"], label = \"TRAIN\")\n",
    "plt.plot(range(1,4), poly(4)[\"test_rmse_errors\"], label = \"TEST\")\n",
    "plt.xlabel(\"Polynamial Complex\")\n",
    "plt.ylabel(\"RMSE\")\n",
    "plt.xticks(np.arange(1,4,1))\n",
    "plt.legend();"
   ]
  },
  {
   "cell_type": "code",
   "execution_count": 98,
   "id": "b51be03d",
   "metadata": {},
   "outputs": [
    {
     "name": "stdout",
     "output_type": "stream",
     "text": [
      "SVM RMSE: 1.21\n"
     ]
    }
   ],
   "source": [
    "# Import necessary libraries\n",
    "import numpy as np\n",
    "from sklearn.svm import SVR\n",
    "from sklearn.preprocessing import StandardScaler\n",
    "from sklearn.model_selection import GridSearchCV\n",
    "from sklearn.metrics import mean_squared_error\n",
    "\n",
    "# Split train data into input and output variables\n",
    "X = train_data.drop('Next_Tmax', axis=1)\n",
    "y = train_data['Next_Tmax']\n",
    "\n",
    "# Scale the features using StandardScaler\n",
    "scaler = StandardScaler()\n",
    "X_train = scaler.fit_transform(X_train)\n",
    "\n",
    "# Define parameter grid for hyperparameter tuning\n",
    "param_grid = {'C': [0.1, 1], 'gamma': [0.1, 1], 'kernel': ['linear', 'rbf']}\n",
    "\n",
    "# Create SVM model\n",
    "svm_model = SVR()\n",
    "\n",
    "# Perform grid search using RMSE as the evaluation metric\n",
    "grid_search = GridSearchCV(svm_model, param_grid, cv=3, scoring='neg_mean_squared_error')\n",
    "grid_search.fit(X_train, y_train)\n",
    "\n",
    "# Get best hyperparameters from the grid search\n",
    "best_C = grid_search.best_params_['C']\n",
    "best_gamma = grid_search.best_params_['gamma']\n",
    "best_kernel = grid_search.best_params_['kernel']\n",
    "\n",
    "# Fit SVM model with best hyperparameters\n",
    "svm_model = SVR(C=best_C, gamma=best_gamma, kernel=best_kernel)\n",
    "svm_model.fit(X_train, y_train)\n",
    "\n",
    "# Make predictions on the training set\n",
    "y_pred_svm = svm_model.predict(X_train)\n",
    "\n",
    "# Evaluate model performance using RMSE\n",
    "svm_rmse = np.sqrt(mean_squared_error(y_train, y_pred_svm))\n",
    "\n",
    "print(\"SVM RMSE: {:.2f}\".format(svm_rmse))"
   ]
  },
  {
   "cell_type": "code",
   "execution_count": 97,
   "id": "b874b029",
   "metadata": {},
   "outputs": [
    {
     "name": "stdout",
     "output_type": "stream",
     "text": [
      "SVM RMSE: 1.97\n"
     ]
    }
   ],
   "source": [
    "# Scale the features using StandardScaler\n",
    "scaler = StandardScaler()\n",
    "X_train = scaler.fit_transform(X_train)\n",
    "\n",
    "# Create SVM model with chosen hyperparameters\n",
    "svm_model = SVR(C=1, gamma=0.1, kernel='rbf')\n",
    "svm_model.fit(X_train, y_train)\n",
    "\n",
    "# Make predictions on the training set\n",
    "y_pred_svm = svm_model.predict(X_train)\n",
    "\n",
    "# Evaluate model performance using RMSE\n",
    "svm_rmse = np.sqrt(mean_squared_error(y_train, y_pred_svm))\n",
    "\n",
    "print(\"SVM RMSE: {:.2f}\".format(svm_rmse))"
   ]
  },
  {
   "cell_type": "code",
   "execution_count": 100,
   "id": "e8b5c767",
   "metadata": {},
   "outputs": [
    {
     "name": "stdout",
     "output_type": "stream",
     "text": [
      "Decision Tree RMSE: 0.99\n"
     ]
    }
   ],
   "source": [
    "from sklearn.tree import DecisionTreeRegressor\n",
    "\n",
    "# Define parameter grid for hyperparameter tuning\n",
    "param_grid = {'max_depth': [3, 5, 7, 10], 'min_samples_leaf': [1, 2, 5, 10], 'min_samples_split': [2, 5, 10]}\n",
    "\n",
    "# Create Decision Tree model\n",
    "dt_model = DecisionTreeRegressor()\n",
    "\n",
    "# Perform grid search using RMSE as the evaluation metric\n",
    "grid_search = GridSearchCV(dt_model, param_grid, cv=5, scoring='neg_mean_squared_error')\n",
    "grid_search.fit(X_train, y_train)\n",
    "\n",
    "# Get best hyperparameters from the grid search\n",
    "best_max_depth = grid_search.best_params_['max_depth']\n",
    "best_min_samples_leaf = grid_search.best_params_['min_samples_leaf']\n",
    "best_min_samples_split = grid_search.best_params_['min_samples_split']\n",
    "\n",
    "# Fit Decision Tree model with best hyperparameters\n",
    "dt_model = DecisionTreeRegressor(max_depth=best_max_depth, min_samples_leaf=best_min_samples_leaf, min_samples_split=best_min_samples_split)\n",
    "dt_model.fit(X_train, y_train)\n",
    "\n",
    "# Make predictions on the training set\n",
    "y_pred_dt = dt_model.predict(X_train)\n",
    "\n",
    "# Evaluate model performance using RMSE\n",
    "dt_rmse = np.sqrt(mean_squared_error(y_train, y_pred_dt))\n",
    "\n",
    "print(\"Decision Tree RMSE: {:.2f}\".format(dt_rmse))"
   ]
  },
  {
   "cell_type": "code",
   "execution_count": 104,
   "id": "8bcb380c",
   "metadata": {},
   "outputs": [
    {
     "name": "stdout",
     "output_type": "stream",
     "text": [
      "Random Forest RMSE: 1.61\n",
      "Best hyperparameters:  {'max_depth': 3, 'min_samples_leaf': 2, 'min_samples_split': 3, 'n_estimators': 100}\n"
     ]
    }
   ],
   "source": [
    "# Import necessary libraries\n",
    "import numpy as np\n",
    "from sklearn.ensemble import RandomForestRegressor\n",
    "from sklearn.model_selection import GridSearchCV\n",
    "from sklearn.metrics import mean_squared_error\n",
    "\n",
    "# Define parameter grid for hyperparameter tuning\n",
    "param_grid = {'n_estimators': [50, 100], 'max_depth': [3], 'min_samples_leaf': [ 2], 'min_samples_split': [2, 3]}\n",
    "\n",
    "# Create Random Forest model\n",
    "rf_model = RandomForestRegressor()\n",
    "\n",
    "# Perform grid search using RMSE as the evaluation metric\n",
    "grid_search = GridSearchCV(rf_model, param_grid, cv=3, scoring='neg_mean_squared_error')\n",
    "grid_search.fit(X_train, y_train)\n",
    "\n",
    "# Get best hyperparameters from the grid search\n",
    "best_n_estimators = grid_search.best_params_['n_estimators']\n",
    "best_max_depth = grid_search.best_params_['max_depth']\n",
    "best_min_samples_leaf = grid_search.best_params_['min_samples_leaf']\n",
    "best_min_samples_split = grid_search.best_params_['min_samples_split']\n",
    "\n",
    "# Fit Random Forest model with best hyperparameters\n",
    "rf_model = RandomForestRegressor(n_estimators=best_n_estimators, max_depth=best_max_depth, min_samples_leaf=best_min_samples_leaf, min_samples_split=best_min_samples_split)\n",
    "rf_model.fit(X_train, y_train)\n",
    "\n",
    "# Make predictions on the training set\n",
    "y_pred_rf = rf_model.predict(X_train)\n",
    "\n",
    "# Evaluate model performance using RMSE\n",
    "rf_rmse = np.sqrt(mean_squared_error(y_train, y_pred_rf))\n",
    "\n",
    "print(\"Random Forest RMSE: {:.2f}\".format(rf_rmse))\n",
    "print(\"Best hyperparameters: \", grid_search.best_params_)\n"
   ]
  },
  {
   "cell_type": "code",
   "execution_count": 106,
   "id": "28df83fc",
   "metadata": {},
   "outputs": [
    {
     "name": "stdout",
     "output_type": "stream",
     "text": [
      "Best hyperparameters: {'learning_rate': 0.5, 'loss': 'square', 'n_estimators': 100}\n",
      "Mean squared error: 2.3708609929883524\n",
      "Mean absolute error: 1.2430739662249275\n",
      "R-squared score: 0.7506713237165078\n"
     ]
    }
   ],
   "source": [
    "from sklearn.ensemble import AdaBoostRegressor\n",
    "from sklearn.model_selection import GridSearchCV\n",
    "from sklearn.metrics import mean_squared_error, mean_absolute_error, r2_score\n",
    "from sklearn.model_selection import train_test_split\n",
    "\n",
    "# Split the data into features and target\n",
    "X = train_data.drop(columns=['Next_Tmax'])\n",
    "y = train_data['Next_Tmax']\n",
    "\n",
    "# Split the dataset into training and testing sets\n",
    "X_train, X_test, y_train, y_test = train_test_split(X, y, test_size=0.2, random_state=42)\n",
    "\n",
    "# Create an AdaBoost regressor object\n",
    "ada_reg = AdaBoostRegressor()\n",
    "\n",
    "# Define the hyperparameter grid to search over\n",
    "param_grid = {\n",
    "    'n_estimators': [50, 100, 200],\n",
    "    'learning_rate': [ 0.1,0.3, 0.5],\n",
    "    'loss': ['linear', 'square', 'exponential']\n",
    "}\n",
    "\n",
    "# Perform a grid search to find the best hyperparameters\n",
    "grid_search = GridSearchCV(ada_reg, param_grid, cv=5)\n",
    "grid_search.fit(X_train, y_train)\n",
    "\n",
    "# Print the best hyperparameters\n",
    "print('Best hyperparameters:', grid_search.best_params_)\n",
    "\n",
    "# Use the best model to make predictions on the test set\n",
    "best_model = grid_search.best_estimator_\n",
    "y_pred = best_model.predict(X_test)\n",
    "\n",
    "# Print various error metrics\n",
    "print('Mean squared error:', mean_squared_error(y_test, y_pred))\n",
    "print('Mean absolute error:', mean_absolute_error(y_test, y_pred))\n",
    "print('R-squared score:', r2_score(y_test, y_pred))\n"
   ]
  },
  {
   "cell_type": "code",
   "execution_count": 114,
   "id": "0c6c1f08",
   "metadata": {},
   "outputs": [
    {
     "name": "stdout",
     "output_type": "stream",
     "text": [
      "Best hyperparameters: {'colsample_bytree': 1, 'learning_rate': 0.05, 'max_depth': 9, 'n_estimators': 400, 'subsample': 0.4}\n",
      "Root Mean squared error: 0.8254170160118565\n",
      "Mean absolute error: 0.6187337277011296\n",
      "R-squared score: 0.9283505311616548\n"
     ]
    }
   ],
   "source": [
    "from xgboost import XGBRegressor\n",
    "from sklearn.model_selection import GridSearchCV\n",
    "from sklearn.metrics import mean_squared_error, mean_absolute_error, r2_score\n",
    "from sklearn.model_selection import train_test_split\n",
    "\n",
    "# Split the data into features and target\n",
    "X = train_data.drop(columns=['Next_Tmax'])\n",
    "y = train_data['Next_Tmax']\n",
    "\n",
    "# Split the dataset into training and testing sets\n",
    "X_train, X_test, y_train, y_test = train_test_split(X, y, test_size=0.2, random_state=42)\n",
    "\n",
    "# Create an XGBoost regressor object\n",
    "xgb_reg = XGBRegressor()\n",
    "\n",
    "# Define the hyperparameter grid to search over\n",
    "param_grid = {\n",
    "    'n_estimators': [200, 400],\n",
    "    'learning_rate': [0.05, 0.1, 0.2],\n",
    "    'max_depth': [3, 5, 9],\n",
    "    'subsample': [0.4, 0.6],\n",
    "    'colsample_bytree': [0.6, 0.8, 1]\n",
    "}\n",
    "\n",
    "# Perform a grid search to find the best hyperparameters\n",
    "grid_search = GridSearchCV(xgb_reg, param_grid, cv=5)\n",
    "grid_search.fit(X_train, y_train)\n",
    "\n",
    "# Print the best hyperparameters\n",
    "print('Best hyperparameters:', grid_search.best_params_)\n",
    "\n",
    "# Use the best model to make predictions on the test set\n",
    "best_model = grid_search.best_estimator_\n",
    "y_pred = best_model.predict(X_test)\n",
    "\n",
    "# Print various error metrics\n",
    "print('Root Mean squared error:', np.sqrt(mean_squared_error(y_test, y_pred)))\n",
    "print('Mean absolute error:', mean_absolute_error(y_test, y_pred))\n",
    "print('R-squared score:', r2_score(y_test, y_pred))\n"
   ]
  },
  {
   "cell_type": "code",
   "execution_count": null,
   "id": "9c8ccafe",
   "metadata": {},
   "outputs": [],
   "source": []
  }
 ],
 "metadata": {
  "kernelspec": {
   "display_name": "Python 3 (ipykernel)",
   "language": "python",
   "name": "python3"
  },
  "language_info": {
   "codemirror_mode": {
    "name": "ipython",
    "version": 3
   },
   "file_extension": ".py",
   "mimetype": "text/x-python",
   "name": "python",
   "nbconvert_exporter": "python",
   "pygments_lexer": "ipython3",
   "version": "3.9.13"
  }
 },
 "nbformat": 4,
 "nbformat_minor": 5
}

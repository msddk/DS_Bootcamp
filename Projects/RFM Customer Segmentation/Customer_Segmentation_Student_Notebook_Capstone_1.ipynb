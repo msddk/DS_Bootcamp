{
  "cells": [
    {
      "cell_type": "markdown",
      "metadata": {
        "id": "yG6Ti6UOiqav"
      },
      "source": [
        "___\n",
        "\n",
        "<p style=\"text-align: center;\"><img src=\"https://docs.google.com/uc?id=1lY0Uj5R04yMY3-ZppPWxqCr5pvBLYPnV\" class=\"img-fluid\" alt=\"CLRSWY\"></p>\n",
        "\n",
        "___"
      ]
    },
    {
      "cell_type": "markdown",
      "metadata": {
        "id": "M2v-2JDuiqa0"
      },
      "source": [
        "# WELCOME!"
      ]
    },
    {
      "cell_type": "markdown",
      "metadata": {
        "id": "oLS5y2Jqiqa1"
      },
      "source": [
        "Welcome to \"RFM Customer Segmentation & Cohort Analysis Project\". This is the first project of the Capstone Project Series, which consists of 3 different project that contain different scenarios.\n",
        "\n",
        "This is a project which you will learn what is RFM? And how to apply RFM Analysis and Customer Segmentation using K-Means Clustering. Also you will improve your Data Cleaning, Data Visualization and Exploratory Data Analysis capabilities. On the other hand you will create Cohort and Conduct Cohort Analysis. \n",
        "\n",
        "Before diving into the project, please take a look at the determines and project structure.\n",
        "\n",
        "- **NOTE:** This Project assumes that you already know the basics of coding in Python and are familiar with the theory behind K-Means Clustering.\n",
        "\n"
      ]
    },
    {
      "cell_type": "markdown",
      "metadata": {
        "id": "1SCOFEfqiqa1"
      },
      "source": [
        "# #Determines\n",
        "\n",
        "Using the [Online Retail dataset](https://archive.ics.uci.edu/ml/datasets/Online+Retail) from the UCI Machine Learning Repository for exploratory data analysis, ***Customer Segmentation***, ***RFM Analysis***, ***K-Means Clustering*** and ***Cohort Analysis***.\n",
        "\n",
        "This is a transnational data set which contains all the transactions occurring between 01/12/2010 and 09/12/2011 for a UK-based and registered non-store online retail. The company mainly sells unique all-occasion gifts. Many customers of the company are wholesalers.\n",
        "\n",
        "Feature Information:\n",
        "\n",
        "**InvoiceNo**: Invoice number. *Nominal*, a 6-digit integral number uniquely assigned to each transaction. If this code starts with letter 'c', it indicates a cancellation. \n",
        "<br>\n",
        "**StockCode**: Product (item) code. *Nominal*, a 5-digit integral number uniquely assigned to each distinct product.\n",
        "<br>\n",
        "**Description**: Product (item) name. *Nominal*. \n",
        "<br>\n",
        "**Quantity**: The quantities of each product (item) per transaction. *Numeric*.\n",
        "<br>\n",
        "**InvoiceDate**: Invoice Date and time. *Numeric*, the day and time when each transaction was generated.\n",
        "<br>\n",
        "**UnitPrice**: Unit price. *Numeric*, Product price per unit in sterling.\n",
        "<br>\n",
        "**CustomerID**: Customer number. *Nominal*, a 5-digit integral number uniquely assigned to each customer.\n",
        "<br>\n",
        "**Country**: Country name. *Nominal*, the name of the country where each customer resides.\n",
        "\n",
        "\n",
        "---\n",
        "\n",
        "\n",
        "First of all, to observe the structure of the data and missing values, you can use exploratory data analysis and data visualization techniques.\n",
        "\n",
        "You must do descriptive analysis. Because you must understand the relationship of the features to each other and clear the noise and missing values in the data. After that, the data set will be ready for RFM analysis.\n",
        "\n",
        "Before starting the RFM Analysis, you will be asked to do some analysis regarding the distribution of *Orders*, *Customers* and *Countries*. These analyzes will help the company develop its sales policies and contribute to the correct use of resources.\n",
        "\n",
        "You will notice that the UK not only has the most sales revenue, but also the most customers. So you will continue to analyze only UK transactions in the next RFM Analysis, Customer Segmentation and K-Means Clustering topics.\n",
        "\n",
        "Next, you will begin RFM Analysis, a customer segmentation technique based on customers' past purchasing behavior. \n",
        "\n",
        "By using RFM Analysis, you can enable companies to develop different approaches to different customer segments so that they can get to know their customers better, observe trends better, and increase customer retention and sales revenues.\n",
        "\n",
        "You will calculate the Recency, Frequency and Monetary values of the customers in the RFM Analysis you will make using the data consisting of UK transactions. Ultimately, you have to create an RFM table containing these values.\n",
        "\n",
        "In the Customer Segmentation section, you will create an RFM Segmentation Table where you segment your customers by using the RFM table. For example, you can label the best customer as \"Big Spenders\" and the lost customer as \"Lost Customer\".\n",
        "\n",
        "We will segment the customers ourselves based on their recency, frequency, and monetary values. But can an **unsupervised learning** model do this better for us? You will use the K-Means algorithm to find the answer to this question. Then you will compare the classification made by the algorithm with the classification you have made yourself.\n",
        "\n",
        "Before applying K-Means Clustering, you should do data pre-processing. In this context, it will be useful to examine feature correlations and distributions. In addition, the data you apply for K-Means should be normalized.\n",
        "\n",
        "On the other hand, you should inform the K-means algorithm about the number of clusters it will predict. You will also try the *** Elbow method *** and *** Silhouette Analysis *** to find the optimum number of clusters.\n",
        "\n",
        "After the above operations, you will have made cluster estimation with K-Means. You should visualize the cluster distribution by using a scatter plot. You can observe the properties of the resulting clusters with the help of the boxplot. Thus you will be able to tag clusters and interpret results.\n",
        "\n",
        "Finally, you will do Cohort Analysis with the data you used at the beginning, regardless of the analysis you have done before. Cohort analysis is a subset of behavioral analytics that takes the user data and breaks them into related groups for analysis. This analysis can further be used to do customer segmentation and track metrics like retention, churn, and lifetime value.\n"
      ]
    },
    {
      "cell_type": "markdown",
      "metadata": {
        "id": "KQ62QseViqa2"
      },
      "source": [
        "# #Project Structures\n",
        "\n",
        "- Data Cleaning & Exploratory Data Analysis\n",
        "- RFM Analysis\n",
        "- Customer Segmentation\n",
        "- Applying K-Means Clustering\n",
        "- Create Cohort and Conduct Cohort Analysis"
      ]
    },
    {
      "cell_type": "markdown",
      "metadata": {
        "id": "wsPQ1tUwiqa2"
      },
      "source": [
        "# #Tasks\n",
        "\n",
        "#### 1. Data Cleaning & Exploratory Data Analysis\n",
        "\n",
        "- Import Modules, Load Data & Data Review\n",
        "- Follow the Steps Below\n",
        "\n",
        "    *i. Take a look at relationships between InvoiceNo, Quantity and UnitPrice columns.*\n",
        "    \n",
        "    *ii. What does the letter \"C\" in the invoiceno column mean?*\n",
        "    \n",
        "    *iii. Handling Missing Values*\n",
        "    \n",
        "    *iv. Clean the Data from the Noise and Missing Values*\n",
        "    \n",
        "    *v. Explore the Orders*\n",
        "    \n",
        "    *vi. Explore Customers by Country*\n",
        "    \n",
        "    *vii. Explore the UK Market*\n",
        "    \n",
        "#### 2. RFM Analysis\n",
        "\n",
        "- Follow the steps below\n",
        "\n",
        "   *i. Import Libraries*\n",
        "   \n",
        "   *ii. Review \"df_uk\" DataFrame (the df_uk what you create at the end of the Task 1)*\n",
        "   \n",
        "   *iii. Calculate Recency*\n",
        "   \n",
        "   *iv. Calculate Frequency*\n",
        "   \n",
        "   *v. Calculate Monetary Values*\n",
        "   \n",
        "   *vi. Create RFM Table*\n",
        "\n",
        "#### 3. Customer Segmentation with RFM Scores\n",
        "- Calculate RFM Scoring\n",
        "\n",
        "    *i. Creating the RFM Segmentation Table*\n",
        " \n",
        "- Plot RFM Segments\n",
        "\n",
        "#### 4. Applying K-Means Clustering\n",
        "- Data Pre-Processing and Exploring\n",
        "\n",
        "    *i. Define and Plot Feature Correlations*\n",
        " \n",
        "    *ii. Visualize Feature Distributions*\n",
        " \n",
        "    *iii. Data Normalization*\n",
        "\n",
        "- K-Means Implementation\n",
        "\n",
        "    *i. Define Optimal Cluster Number (K) by using \"Elbow Method\" and \"Silhouette Analysis\"*\n",
        " \n",
        "    *ii. Visualize the Clusters*\n",
        " \n",
        "    *iii. Assign the label*\n",
        " \n",
        "    *iv. Conclusion*\n",
        " \n",
        "#### 5. Create Cohort and Conduct Cohort Analysis\n",
        "- Future Engineering\n",
        "\n",
        "    *i. Extract the Month of the Purchase*\n",
        " \n",
        "    *ii. Calculating time offset in Months i.e. Cohort Index*\n",
        " \n",
        "- Create 1st Cohort: User Number & Retention Rate \n",
        "\n",
        "    *i. Pivot Cohort and Cohort Retention*\n",
        " \n",
        "    *ii. Visualize analysis of cohort 1 using seaborn and matplotlib*\n",
        "\n",
        "- Create 2nd Cohort: Average Quantity Sold \n",
        "\n",
        "    *i. Pivot Cohort and Cohort Retention*\n",
        " \n",
        "    *ii. Visualize analysis of cohort 2 using seaborn and matplotlib*\n",
        "\n",
        "- Create 3rd Cohort: Average Sales\n",
        "\n",
        "    *i. Pivot Cohort and Cohort Retention*\n",
        " \n",
        "    *ii. Visualize analysis of cohort 3 using seaborn and matplotlib*\n",
        "    \n",
        "- **Note: There may be sub-tasks associated with each task, you will see them in order during the course of the work.**\n"
      ]
    },
    {
      "cell_type": "markdown",
      "metadata": {
        "id": "k-NlVU1UQGVA"
      },
      "source": [
        "# 1. Data Cleaning & Exploratory Data Analysis"
      ]
    },
    {
      "cell_type": "markdown",
      "metadata": {
        "id": "L63G_-Dqiqa3"
      },
      "source": [
        "## Import Modules, Load Data & Data Review"
      ]
    },
    {
      "cell_type": "code",
      "execution_count": null,
      "metadata": {
        "id": "J-Zb5JfOiqa3"
      },
      "outputs": [],
      "source": []
    },
    {
      "cell_type": "markdown",
      "metadata": {
        "id": "YECMxCzUQGV7"
      },
      "source": [
        "### i. Take a look at relationships between InvoiceNo, Quantity and UnitPrice columns."
      ]
    },
    {
      "cell_type": "code",
      "execution_count": null,
      "metadata": {
        "id": "nQ8vAKbbiqa4"
      },
      "outputs": [],
      "source": []
    },
    {
      "cell_type": "markdown",
      "metadata": {
        "id": "KiSW67N_QGV8"
      },
      "source": [
        "We see that there are negative values in the Quantity and UnitPrice columns. These are possibly canceled and returned orders. Let's check it out."
      ]
    },
    {
      "cell_type": "code",
      "execution_count": null,
      "metadata": {
        "id": "ZoHopX7-iqa4"
      },
      "outputs": [],
      "source": []
    },
    {
      "cell_type": "markdown",
      "metadata": {
        "id": "7OoPE-QLiqa4"
      },
      "source": [
        "### ii. What does the letter \"C\" in the InvoiceNo column mean?"
      ]
    },
    {
      "cell_type": "code",
      "execution_count": null,
      "metadata": {
        "id": "PgN0C80Giqa5"
      },
      "outputs": [],
      "source": []
    },
    {
      "cell_type": "markdown",
      "metadata": {
        "id": "Kt32SZgJQGV8"
      },
      "source": [
        "If the invoice number starts with the letter \"C\", it means the order was cancelled. Or those who abandon their order."
      ]
    },
    {
      "cell_type": "code",
      "execution_count": null,
      "metadata": {
        "id": "-sdD1F4Xiqa5"
      },
      "outputs": [],
      "source": []
    },
    {
      "cell_type": "markdown",
      "metadata": {
        "id": "YP5RPZq1QGV_"
      },
      "source": [
        "When we filter canceled orders by Quantity> 0 or filter non-canceled orders by Quantity <0 nothing returns, this confirms that negative values mean the order was canceled. So lets find out how many orders were cancelled?"
      ]
    },
    {
      "cell_type": "code",
      "execution_count": null,
      "metadata": {
        "id": "IxrhRFHhiqa5"
      },
      "outputs": [],
      "source": []
    },
    {
      "cell_type": "markdown",
      "metadata": {
        "id": "nrp8logRQGWA"
      },
      "source": [
        "#### 9288 or about 36% of the orders were cancelled. Looking deeper into why these orders were cancelled may prevent future cancellations. Now let's find out what a negative UnitPrice means.\n"
      ]
    },
    {
      "cell_type": "code",
      "execution_count": null,
      "metadata": {
        "id": "1OI-xuxxiqa5"
      },
      "outputs": [],
      "source": []
    },
    {
      "cell_type": "markdown",
      "metadata": {
        "id": "nXVVls6sQGVQ"
      },
      "source": [
        "### iii. Handling Missing Values"
      ]
    },
    {
      "cell_type": "code",
      "execution_count": null,
      "metadata": {
        "id": "yExVxnQsiqa6"
      },
      "outputs": [],
      "source": []
    },
    {
      "cell_type": "markdown",
      "metadata": {
        "id": "EQtZK5paQGVf"
      },
      "source": [
        "Since the customer ID's are missing, lets assume these orders were not made by the customers already in the data set because those customers already have ID's. \n",
        "\n",
        "We also don't want to assign these orders to those customers because this would alter the insights we draw from the data. \n"
      ]
    },
    {
      "cell_type": "code",
      "execution_count": null,
      "metadata": {
        "id": "WjvtekM3iqa6"
      },
      "outputs": [],
      "source": []
    },
    {
      "cell_type": "markdown",
      "metadata": {
        "id": "llu-bMTAiqa6"
      },
      "source": [
        "### iv. Clean the Data from the Noise and Missing Values"
      ]
    },
    {
      "cell_type": "code",
      "execution_count": null,
      "metadata": {
        "id": "R-TgtE4Ziqa6"
      },
      "outputs": [],
      "source": []
    },
    {
      "cell_type": "markdown",
      "metadata": {
        "id": "25MkNjZqQGWC"
      },
      "source": [
        "### v. Explore the Orders\n"
      ]
    },
    {
      "cell_type": "markdown",
      "metadata": {
        "id": "8OAkPoUjiqa7"
      },
      "source": [
        "1. Find the unique number of InvoiceNo  per customer"
      ]
    },
    {
      "cell_type": "code",
      "execution_count": null,
      "metadata": {
        "id": "n1A76M7Jiqa7"
      },
      "outputs": [],
      "source": []
    },
    {
      "cell_type": "markdown",
      "metadata": {
        "id": "di03OKjzQGWE"
      },
      "source": [
        "2. What's the average number of unqiue items per order or per customer?"
      ]
    },
    {
      "cell_type": "code",
      "execution_count": null,
      "metadata": {
        "id": "V4LxkeIIiqa7"
      },
      "outputs": [],
      "source": []
    },
    {
      "cell_type": "markdown",
      "metadata": {
        "id": "HUKzA73dQGWH"
      },
      "source": [
        "3. Let's see how this compares to the number of unique products per customer."
      ]
    },
    {
      "cell_type": "code",
      "execution_count": null,
      "metadata": {
        "id": "b8uzjYyKiqa7"
      },
      "outputs": [],
      "source": []
    },
    {
      "cell_type": "markdown",
      "metadata": {
        "id": "I_Ozp-U5QGWK"
      },
      "source": [
        "### vi. Explore Customers by Country"
      ]
    },
    {
      "cell_type": "markdown",
      "metadata": {
        "id": "SP6M3isLiqa8"
      },
      "source": [
        "1. What's the total revenue per country?"
      ]
    },
    {
      "cell_type": "code",
      "execution_count": null,
      "metadata": {
        "id": "VISxZ3Ixiqa8"
      },
      "outputs": [],
      "source": []
    },
    {
      "cell_type": "markdown",
      "metadata": {
        "id": "qk64qtEliqa8"
      },
      "source": [
        "2. Visualize number of customer per country"
      ]
    },
    {
      "cell_type": "code",
      "execution_count": null,
      "metadata": {
        "id": "atuYU8W2iqa8"
      },
      "outputs": [],
      "source": []
    },
    {
      "cell_type": "markdown",
      "metadata": {
        "id": "2TD66fT3iqa8"
      },
      "source": [
        "3. Visualize total cost per country"
      ]
    },
    {
      "cell_type": "code",
      "execution_count": null,
      "metadata": {
        "id": "5i0nVOggiqa8"
      },
      "outputs": [],
      "source": []
    },
    {
      "cell_type": "markdown",
      "metadata": {
        "id": "hwfJuBVCQGWR"
      },
      "source": [
        "#### The UK not only has the most sales revenue, but also the most customers. Since the majority of this data set contains orders from the UK, we can explore the UK market further by finding out what products the customers buy together and any other buying behaviors to improve our sales and targeting strategy."
      ]
    },
    {
      "cell_type": "code",
      "execution_count": null,
      "metadata": {
        "id": "LlyhW9eXiqa9"
      },
      "outputs": [],
      "source": []
    },
    {
      "cell_type": "markdown",
      "metadata": {
        "id": "7A25nnqIQGWR"
      },
      "source": [
        "### vii. Explore the UK Market\n"
      ]
    },
    {
      "cell_type": "markdown",
      "metadata": {
        "id": "wtWchB1Ziqa9"
      },
      "source": [
        "1. Create df_uk DataFrame"
      ]
    },
    {
      "cell_type": "code",
      "execution_count": null,
      "metadata": {
        "id": "dsdH3cuZiqa9"
      },
      "outputs": [],
      "source": []
    },
    {
      "cell_type": "markdown",
      "metadata": {
        "id": "is5kus2bQGWT"
      },
      "source": [
        "2. What are the most popular products that are bought in the UK?"
      ]
    },
    {
      "cell_type": "code",
      "execution_count": null,
      "metadata": {
        "id": "sCN56amLiqa9"
      },
      "outputs": [],
      "source": []
    },
    {
      "cell_type": "markdown",
      "metadata": {
        "id": "LHbqJD7bQGWU"
      },
      "source": [
        "### We will continue analyzing the UK transactions with customer segmentation."
      ]
    },
    {
      "cell_type": "markdown",
      "metadata": {
        "id": "MAtzWvugQGWV"
      },
      "source": [
        "# 2. RFM Analysis"
      ]
    },
    {
      "cell_type": "markdown",
      "metadata": {
        "id": "v5uUAUQpQGWV"
      },
      "source": [
        "In the age of the internet and e-commerce, companies that do not expand their businesses online or utilize digital tools to reach their customers will run into issues like scalability and a lack of digital precsence. An important marketing strategy e-commerce businesses use for analyzing and predicting customer value is customer segmentation. Customer data is used to sort customers into group based on their behaviors and preferences.\n",
        "\n",
        "**[RFM](https://www.putler.com/rfm-analysis/) (Recency, Frequency, Monetary) Analysis** is a customer segmentation technique for analyzing customer value based on past buying behavior. RFM analysis was first used by the direct mail industry more than four decades ago, yet it is still an effective way to optimize your marketing.\n",
        "<br>\n",
        "<br>\n",
        "Our goal in this Notebook is to cluster the customers in our data set to:\n",
        " - Recognize who are our most valuable customers\n",
        " - Increase revenue\n",
        " - Increase customer retention\n",
        " - Learn more about the trends and behaviors of our customers\n",
        " - Define customers that are at risk\n",
        "\n",
        "We will start with **RFM Analysis** and then compliment our findings with predictive analysis using **K-Means Clustering Algorithms.**\n",
        "\n",
        "- RECENCY (R): Time since last purchase\n",
        "- FREQUENCY (F): Total number of purchases\n",
        "- MONETARY VALUE (M): Total monetary value\n",
        "\n",
        "\n",
        "\n",
        "\n",
        "Benefits of RFM Analysis\n",
        "\n",
        "- Increased customer retention\n",
        "- Increased response rate\n",
        "- Increased conversion rate\n",
        "- Increased revenue\n",
        "\n",
        "RFM Analysis answers the following questions:\n",
        " - Who are our best customers?\n",
        " - Who has the potential to be converted into more profitable customers?\n",
        " - Which customers do we need to retain?\n",
        " - Which group of customers is most likely to respond to our marketing campaign?\n",
        " "
      ]
    },
    {
      "cell_type": "markdown",
      "metadata": {
        "id": "zX47_J8OQGWV"
      },
      "source": [
        "### i. Import Libraries"
      ]
    },
    {
      "cell_type": "code",
      "execution_count": null,
      "metadata": {
        "id": "MOD15BxHiqa-"
      },
      "outputs": [],
      "source": []
    },
    {
      "cell_type": "markdown",
      "metadata": {
        "id": "9rYM4MJsQGWW"
      },
      "source": [
        "### ii. Review df_uk DataFrame"
      ]
    },
    {
      "cell_type": "code",
      "execution_count": null,
      "metadata": {
        "id": "oQHyAJNeiqa-"
      },
      "outputs": [],
      "source": []
    },
    {
      "cell_type": "markdown",
      "metadata": {
        "id": "MvfCcPLgQGWa"
      },
      "source": [
        "### iii. Recency: Days since last purchase\n",
        "To calculate the recency values, follow these steps in order:\n",
        "\n",
        "1. To calculate recency, we need to choose a date as a point of reference to evaluate how many days ago was the customer's last purchase.\n",
        "2. Create a new column called Date which contains the invoice date without the timestamp\n",
        "3. Group by CustomerID and check the last date of purchase\n",
        "4. Calculate the days since last purchase\n",
        "5. Drop Last_Purchase_Date since we don't need it anymore\n",
        "6. Plot RFM distributions"
      ]
    },
    {
      "cell_type": "markdown",
      "metadata": {
        "id": "b7Gzn6r6QGWb"
      },
      "source": [
        "1. Choose a date as a point of reference to evaluate how many days ago was the customer's last purchase."
      ]
    },
    {
      "cell_type": "code",
      "execution_count": null,
      "metadata": {
        "id": "DwWODVSZiqa-"
      },
      "outputs": [],
      "source": []
    },
    {
      "cell_type": "markdown",
      "metadata": {
        "id": "Ge34PCT0iqa-"
      },
      "source": [
        "2. Create a new column called Date which contains the invoice date without the timestamp"
      ]
    },
    {
      "cell_type": "code",
      "execution_count": null,
      "metadata": {
        "id": "xsaFUydXiqa_"
      },
      "outputs": [],
      "source": []
    },
    {
      "cell_type": "markdown",
      "metadata": {
        "id": "1KJzP5Ldiqa_"
      },
      "source": [
        "3. Group by CustomerID and check the last date of purchase"
      ]
    },
    {
      "cell_type": "code",
      "execution_count": null,
      "metadata": {
        "id": "x8kMt-Uyiqa_"
      },
      "outputs": [],
      "source": []
    },
    {
      "cell_type": "markdown",
      "metadata": {
        "id": "1Zxs1mzPiqa_"
      },
      "source": [
        "4. Calculate the days since last purchase"
      ]
    },
    {
      "cell_type": "code",
      "execution_count": null,
      "metadata": {
        "id": "iTeKws6giqa_"
      },
      "outputs": [],
      "source": []
    },
    {
      "cell_type": "markdown",
      "metadata": {
        "id": "yAuMSkfsiqa_"
      },
      "source": [
        "5. Drop Last_Purchase_Date since we don't need it anymore"
      ]
    },
    {
      "cell_type": "code",
      "execution_count": null,
      "metadata": {
        "id": "4bNmKqHNiqa_"
      },
      "outputs": [],
      "source": []
    },
    {
      "cell_type": "markdown",
      "metadata": {
        "id": "IB9a0AL9iqa_"
      },
      "source": [
        "6. Plot RFM distributions"
      ]
    },
    {
      "cell_type": "code",
      "execution_count": null,
      "metadata": {
        "id": "c8e-QiwRiqa_"
      },
      "outputs": [],
      "source": []
    },
    {
      "cell_type": "markdown",
      "metadata": {
        "id": "MAjKZD0KQGWg"
      },
      "source": [
        "### iv. Frequency: Number of purchases\n",
        "\n",
        "To calculate how many times a customer purchased something, we need to count how many invoices each customer has. To calculate the frequency values, follow these steps in order:"
      ]
    },
    {
      "cell_type": "markdown",
      "metadata": {
        "id": "TDoNslseiqbA"
      },
      "source": [
        "1. Make a copy of df_uk and drop duplicates"
      ]
    },
    {
      "cell_type": "code",
      "execution_count": null,
      "metadata": {
        "id": "6gk2gokFiqbA"
      },
      "outputs": [],
      "source": []
    },
    {
      "cell_type": "markdown",
      "metadata": {
        "id": "7KrnuXrLiqbA"
      },
      "source": [
        "2. Calculate the frequency of purchases"
      ]
    },
    {
      "cell_type": "code",
      "execution_count": null,
      "metadata": {
        "id": "1LTM_cxpiqbA"
      },
      "outputs": [],
      "source": []
    },
    {
      "cell_type": "markdown",
      "metadata": {
        "id": "V9NNBCNgiqbA"
      },
      "source": [
        "3. Plot RFM distributions"
      ]
    },
    {
      "cell_type": "code",
      "execution_count": null,
      "metadata": {
        "id": "yUtZAHu1iqbA"
      },
      "outputs": [],
      "source": []
    },
    {
      "cell_type": "markdown",
      "metadata": {
        "id": "wUY3gKjQQGWh"
      },
      "source": [
        "### v. Monetary: Total amount of money spent\n",
        "\n",
        "The monetary value is calculated by adding together the cost of the customers' purchases.\n"
      ]
    },
    {
      "cell_type": "markdown",
      "metadata": {
        "id": "5_4_QLWtiqbA"
      },
      "source": [
        "1. Calculate sum total cost by customers and named \"Monetary\""
      ]
    },
    {
      "cell_type": "code",
      "execution_count": null,
      "metadata": {
        "id": "bilKBqvIiqbB"
      },
      "outputs": [],
      "source": []
    },
    {
      "cell_type": "markdown",
      "metadata": {
        "id": "dYsaCPRDiqbB"
      },
      "source": [
        "2. Plot RFM distributions"
      ]
    },
    {
      "cell_type": "code",
      "execution_count": null,
      "metadata": {
        "id": "Sd41fD67iqbB"
      },
      "outputs": [],
      "source": []
    },
    {
      "cell_type": "markdown",
      "metadata": {
        "id": "SeaecPkSQGWj"
      },
      "source": [
        "### vi. Create RFM Table\n",
        "Merge the recency, frequency and motetary dataframes"
      ]
    },
    {
      "cell_type": "code",
      "execution_count": null,
      "metadata": {
        "id": "M88KNSbyiqbB"
      },
      "outputs": [],
      "source": []
    },
    {
      "cell_type": "markdown",
      "metadata": {
        "id": "ULWwsxCkQGWl"
      },
      "source": [
        "# 3. Customer Segmentation with RFM Scores"
      ]
    },
    {
      "cell_type": "markdown",
      "metadata": {
        "id": "TZrxUBX4iqbB"
      },
      "source": [
        "Businesses have this ever-lasting urge to understand their customers. The better you understand the customer, the better you serve them, and the higher the financial gain you receive from that customer. Since the dawn of trade, this process of understanding customers for a strategic gain has been there practiced and this task is known majorly as [Customer Segmentation](https://clevertap.com/blog/rfm-analysis/).\n",
        "Well as the name suggests, Customer Segmentation could segment customers according to their precise needs. Some of the common ways of segmenting customers are based on their Recency-Frequency-Monatory values, their demographics like gender, region, country, etc, and some of their business-crafted scores. You will use Recency-Frequency-Monatory values for this case.\n",
        "\n",
        "In this section, you will create an RFM Segmentation Table where you segment your customers by using the RFM table. For example, you can label the best customer as \"Big Spenders\" and the lost customer as \"Lost Customer\"."
      ]
    },
    {
      "cell_type": "markdown",
      "metadata": {
        "id": "anOsOGpfQGWl"
      },
      "source": [
        "## Calculate RFM Scoring\n",
        "\n",
        "The simplest way to create customer segments from an RFM model is by using **Quartiles**. We will assign a score from 1 to 4 to each category (Recency, Frequency, and Monetary) with 4 being the highest/best value. The final RFM score is calculated by combining all RFM values. For Customer Segmentation, you will use the df_rfm data set resulting from the RFM analysis.\n",
        "<br>\n",
        "<br>\n",
        "**Note**: Data can be assigned into more groups for better granularity, but we will use 4 in this case."
      ]
    },
    {
      "cell_type": "markdown",
      "metadata": {
        "id": "WiwXSsP7iqbB"
      },
      "source": [
        "1. Divide the df_rfm into quarters"
      ]
    },
    {
      "cell_type": "code",
      "execution_count": null,
      "metadata": {
        "id": "mFQJGPYHiqbC"
      },
      "outputs": [],
      "source": []
    },
    {
      "cell_type": "markdown",
      "metadata": {
        "id": "KnkzCAf9QGWo"
      },
      "source": [
        "### i. Creating the RFM Segmentation Table\n"
      ]
    },
    {
      "cell_type": "markdown",
      "metadata": {
        "id": "hLIB-z-_iqbC"
      },
      "source": [
        "1. Create two functions, one for Recency and one for Frequency and Monetary. For Recency, customers in the first quarter should be scored as 4, this represents the highest Recency value. Conversely, for Frequency and Monetary, customers in the last quarter should be scored as 4, representing the highest Frequency and Monetary values."
      ]
    },
    {
      "cell_type": "code",
      "execution_count": null,
      "metadata": {
        "id": "SXnW03R8iqbC"
      },
      "outputs": [],
      "source": []
    },
    {
      "cell_type": "markdown",
      "metadata": {
        "id": "tLDK_XeLiqbC"
      },
      "source": [
        "2. Score customers from 1 to 4 by applying the functions you have created. Also create separate score column for each value. "
      ]
    },
    {
      "cell_type": "code",
      "execution_count": null,
      "metadata": {
        "id": "plReZMcQiqbC"
      },
      "outputs": [],
      "source": []
    },
    {
      "cell_type": "markdown",
      "metadata": {
        "id": "JskteCFdQGWq"
      },
      "source": [
        "3. Now that scored each customer, you'll combine the scores for segmentation."
      ]
    },
    {
      "cell_type": "code",
      "execution_count": null,
      "metadata": {
        "id": "ZYfoHF6QiqbC"
      },
      "outputs": [],
      "source": []
    },
    {
      "cell_type": "markdown",
      "metadata": {
        "id": "uWwWeyjPiqbC"
      },
      "source": [
        "4. Define rfm_level function that tags customers by using RFM_Scrores and Create a new variable RFM_Level"
      ]
    },
    {
      "cell_type": "code",
      "execution_count": null,
      "metadata": {
        "id": "mxXk7jFPiqbD"
      },
      "outputs": [],
      "source": []
    },
    {
      "cell_type": "markdown",
      "metadata": {
        "id": "Lq36PiX3iqbD"
      },
      "source": [
        "5. Calculate average values for each RFM_Level, and return a size of each segment "
      ]
    },
    {
      "cell_type": "code",
      "execution_count": null,
      "metadata": {
        "id": "jn5r5P2WiqbD"
      },
      "outputs": [],
      "source": []
    },
    {
      "cell_type": "markdown",
      "metadata": {
        "id": "tuZ5Olo4iqbD"
      },
      "source": [
        "## Plot RFM Segments"
      ]
    },
    {
      "cell_type": "markdown",
      "metadata": {
        "id": "STfELckwiqbD"
      },
      "source": [
        "1. Create your plot and resize it."
      ]
    },
    {
      "cell_type": "code",
      "execution_count": null,
      "metadata": {
        "id": "Oef37q3diqbD"
      },
      "outputs": [],
      "source": []
    },
    {
      "cell_type": "markdown",
      "metadata": {
        "id": "FhOe2bb6QGWu"
      },
      "source": [
        "Using customer segmentation categories found [here](http://www.blastam.com/blog/rfm-analysis-boosts-sales) we can formulate different marketing strategies and approaches for customer engagement for each type of customer.\n",
        "\n",
        "Note: The author in the article scores 1 as the highest and 4 as the lowest"
      ]
    },
    {
      "cell_type": "markdown",
      "metadata": {
        "id": "Te_6gUR5iqbD"
      },
      "source": [
        "2. How many customers do we have in each segment?"
      ]
    },
    {
      "cell_type": "code",
      "execution_count": null,
      "metadata": {
        "id": "Gs4rP-0viqbD"
      },
      "outputs": [],
      "source": []
    },
    {
      "cell_type": "markdown",
      "metadata": {
        "id": "1RwemvLyQGWv"
      },
      "source": [
        "# 3. Applying K-Means Clustering"
      ]
    },
    {
      "cell_type": "markdown",
      "metadata": {
        "id": "h6WZ0PnZQGWv"
      },
      "source": [
        "Now that we have our customers segmented into 6 different categories, we can gain further insight into customer behavior by using predictive models in conjuction with out RFM model.\n",
        "Possible algorithms include **Logistic Regression**, **K-means Clustering**, and **K-nearest Neighbor**. We will go with [K-Means](https://towardsdatascience.com/understanding-k-means-clustering-in-machine-learning-6a6e67336aa1) since we already have our distinct groups determined. K-means has also been widely used for market segmentation and has the advantage of being simple to implement."
      ]
    },
    {
      "cell_type": "markdown",
      "metadata": {
        "id": "IrWIRLkMiqbE"
      },
      "source": [
        "## Data Pre-Processing and Exploring"
      ]
    },
    {
      "cell_type": "code",
      "execution_count": null,
      "metadata": {
        "id": "cLoRGR6NiqbE"
      },
      "outputs": [],
      "source": []
    },
    {
      "cell_type": "markdown",
      "metadata": {
        "id": "-6SGV0xoQGWw"
      },
      "source": [
        "### i. Define and Plot Feature Correlations"
      ]
    },
    {
      "cell_type": "markdown",
      "metadata": {
        "id": "JpMAiWNBiqbE"
      },
      "source": [
        "Create Heatmap and evaluate the results "
      ]
    },
    {
      "cell_type": "code",
      "execution_count": null,
      "metadata": {
        "id": "I6Cv8_EqiqbE"
      },
      "outputs": [],
      "source": []
    },
    {
      "cell_type": "markdown",
      "metadata": {
        "id": "8WhL5MBEQGWy"
      },
      "source": [
        "### ii. Visualize Feature Distributions\n",
        "\n",
        "To get a better understanding of the dataset, you can costruct a scatter matrix of each of the three features in the RFM data."
      ]
    },
    {
      "cell_type": "code",
      "execution_count": null,
      "metadata": {
        "id": "FHE0Vb0KiqbE"
      },
      "outputs": [],
      "source": []
    },
    {
      "cell_type": "markdown",
      "metadata": {
        "id": "Q2RsjzjbQGWz"
      },
      "source": [
        "### iii. Data Normalization"
      ]
    },
    {
      "cell_type": "markdown",
      "metadata": {
        "id": "hXsrPpegiqbF"
      },
      "source": [
        "1. You can use the logarithm method to normalize the values in a column."
      ]
    },
    {
      "cell_type": "code",
      "execution_count": null,
      "metadata": {
        "id": "b-cBU8jxiqbF"
      },
      "outputs": [],
      "source": []
    },
    {
      "cell_type": "markdown",
      "metadata": {
        "id": "fC6dHnqKiqbF"
      },
      "source": [
        "2. Plot normalized data with scatter matrix or pairplot. Also evaluate results."
      ]
    },
    {
      "cell_type": "code",
      "execution_count": null,
      "metadata": {
        "id": "iB9jDUPriqbF"
      },
      "outputs": [],
      "source": []
    },
    {
      "cell_type": "markdown",
      "metadata": {
        "id": "35c0aDixQGW4"
      },
      "source": [
        "## K-Means Implementation\n",
        "\n",
        "For k-means, you have to set k to the number of clusters you want, but figuring out how many clusters is not obvious from the beginning. We will try different cluster numbers and check their [silhouette coefficient](http://scikit-learn.org/stable/auto_examples/cluster/plot_kmeans_silhouette_analysis.html). The silhouette coefficient for a data point measures how similar it is to its assigned cluster from -1 (dissimilar) to 1 (similar). \n",
        "<br>\n",
        "<br>\n",
        "**Note**: K-means is sensitive to initializations because they are critical to qualifty of optima found. Thus, we will use smart initialization called \"Elbow Method\"."
      ]
    },
    {
      "cell_type": "markdown",
      "metadata": {
        "id": "JloMSEeriqbF"
      },
      "source": [
        "### i. Define the Optimal Number of Clusters"
      ]
    },
    {
      "cell_type": "markdown",
      "metadata": {
        "id": "McFq6IWZt5hg"
      },
      "source": [
        "[The Elbow Method](https://en.wikipedia.org/wiki/Elbow_method_(clustering) "
      ]
    },
    {
      "cell_type": "code",
      "execution_count": null,
      "metadata": {
        "id": "2202eo2riqbF"
      },
      "outputs": [],
      "source": []
    },
    {
      "cell_type": "markdown",
      "metadata": {
        "id": "ACT_d0UpwUSC"
      },
      "source": [
        "[Silhouette Coefficient](http://scikit-learn.org/stable/auto_examples/cluster/plot_kmeans_silhouette_analysis.html)"
      ]
    },
    {
      "cell_type": "code",
      "execution_count": null,
      "metadata": {
        "id": "qS4TLbRniqbG"
      },
      "outputs": [],
      "source": []
    },
    {
      "cell_type": "markdown",
      "metadata": {
        "id": "o6dW2MWZiqbG"
      },
      "source": [
        "### ii. Model Fitting"
      ]
    },
    {
      "cell_type": "markdown",
      "metadata": {
        "id": "cXM5ksoPiqbG"
      },
      "source": [
        "Fit the K-Means Algorithm with the optimal number of clusters you decided and save the model to disk."
      ]
    },
    {
      "cell_type": "code",
      "execution_count": null,
      "metadata": {
        "id": "geMuViLniqbG"
      },
      "outputs": [],
      "source": []
    },
    {
      "cell_type": "markdown",
      "metadata": {
        "id": "GqcSwNZTQGW7"
      },
      "source": [
        "### iii. Visualize the Clusters"
      ]
    },
    {
      "cell_type": "markdown",
      "metadata": {
        "id": "Cfx5kzPriqbG"
      },
      "source": [
        "1. Create a scatter plot and select cluster centers"
      ]
    },
    {
      "cell_type": "code",
      "execution_count": null,
      "metadata": {
        "id": "cyrovJB0iqbH"
      },
      "outputs": [],
      "source": []
    },
    {
      "cell_type": "markdown",
      "metadata": {
        "id": "D4sHOvlniqbH"
      },
      "source": [
        "2. Visualize Cluster Id vs Recency, Cluster Id vs Frequency and Cluster Id vs Monetary using Box plot. Also evaluate the results. "
      ]
    },
    {
      "cell_type": "code",
      "execution_count": null,
      "metadata": {
        "id": "lzPl-LXViqbH"
      },
      "outputs": [],
      "source": []
    },
    {
      "cell_type": "markdown",
      "metadata": {
        "id": "yRyku5qJiqbH"
      },
      "source": [
        "### iv. Assign the Label"
      ]
    },
    {
      "cell_type": "code",
      "execution_count": null,
      "metadata": {
        "id": "gVrkisf9iqbH"
      },
      "outputs": [],
      "source": []
    },
    {
      "cell_type": "markdown",
      "metadata": {
        "id": "_DiG6sxS4gWH"
      },
      "source": [
        "**Conclusion**\n",
        "\n",
        "- Cluster 0 : The first cluster belongs to the \"Best Customers\" segment which we saw earlier as they purchase recently (R=4), frequent buyers (F=4), and spent the most (M=4)\n",
        "\n",
        "- Cluster 1 : Second cluster can be interpreted as passer customers as their last purchase is long ago (R<=1),purchased very few (F>=2 & F < 4) and spent little (M>=4 & M < 4).Company has to come up with new strategies to make them permanent members. Low value customers\n",
        "- Cluster 2 : The third cluster is more related to the \"Almost Lost\" segment as they Haven’t purchased for some time(R=1), but used to purchase frequently and spent a lot."
      ]
    },
    {
      "cell_type": "markdown",
      "metadata": {
        "id": "lf4OsPmSQGXA"
      },
      "source": [
        "### v. Conclusion\n",
        "\n",
        "Discuss your final results. Compare your own labels from the Customer Segmentation with the labels found by K-Means."
      ]
    },
    {
      "cell_type": "markdown",
      "metadata": {
        "id": "UFaHgoLoQGXA"
      },
      "source": [
        "How we want to continue this analysis depends on how the business plans to use the results and the level of granularity the business stakeholders want to see in the clusters. We can also ask what range of customer behavior from high to low value customers are the stakeholders interested in exploring. From those answers, various methods of clustering can be used and applied on RFM variable or directly on the transaction data set."
      ]
    },
    {
      "cell_type": "markdown",
      "metadata": {
        "id": "ysCkU1B-iqbI"
      },
      "source": [
        "**Annotation:**\n",
        "\n",
        "Limitations of K-means clustering:\n",
        "\n",
        "1. There is no assurance that it will lead to the global best solution.\n",
        "2. Can't deal with different shapes(not circular) and consider one point's probability of belonging to more than one cluster.\n",
        "\n",
        "These disadvantages of K-means show that for many datasets (especially low-dimensional datasets), it may not perform as well as you might hope."
      ]
    },
    {
      "cell_type": "markdown",
      "metadata": {
        "id": "xiPd_IbnQGVn"
      },
      "source": [
        "# 5. Create Cohort & Conduct Cohort Analysis\n",
        "[Cohort Analysis](https://medium.com/swlh/cohort-analysis-using-python-and-pandas-d2a60f4d0a4d) is specifically useful in analyzing user growth patterns for products. In terms of a product, a cohort can be a group of people with the same sign-up date, the same usage starts month/date, or the same traffic source.\n",
        "Cohort analysis is an analytics method by which these groups can be tracked over time for finding key insights. This analysis can further be used to do customer segmentation and track metrics like retention, churn, and lifetime value.\n",
        "\n",
        "For e-commerce organizations, cohort analysis is a unique opportunity to find out which clients are the most valuable to their business. by performing Cohort analysis you can get the following answers to the following questions:\n",
        "\n",
        "- How much effective was a marketing campaign held in a particular time period?\n",
        "- Did the strategy employ to improve the conversion rates of Customers worked?\n",
        "- Should I focus more on retention rather than acquiring new customers?\n",
        "- Are my customer nurturing strategies effective?\n",
        "- Which marketing channels bring me the best results?\n",
        "- Is there a seasonality pattern in Customer behavior?\n",
        "- Along with various performance measures/metrics for your organization."
      ]
    },
    {
      "cell_type": "markdown",
      "metadata": {
        "id": "xhiYivPrQGVo"
      },
      "source": [
        "Since we will be performing Cohort Analysis based on transaction records of customers, the columns we will be dealing with mainly:\n",
        "- Invoice Data\n",
        "- CustomerID\n",
        "- Price\n",
        "- Quantity\n",
        "\n",
        "The following steps will performed to generate the Cohort Chart of Retention Rate:\n",
        "- Month Extraction from InvioceDate column\n",
        "- Assigning Cohort to Each Transaction\n",
        "- Assigning Cohort Index to each transaction\n",
        "- Calculating number of unique customers in each Group of (ChortDate,Index)\n",
        "- Creating Cohort Table for Retention Rate\n",
        "- Creating the Cohort Chart using the Cohort Table\n",
        "\n",
        "The Detailed information about each step is given below:"
      ]
    },
    {
      "cell_type": "markdown",
      "metadata": {
        "id": "eo0GB_osiqbI"
      },
      "source": [
        "## Future Engineering"
      ]
    },
    {
      "cell_type": "markdown",
      "metadata": {
        "id": "JVwPNjpyQGVo"
      },
      "source": [
        "### i. Extract the Month of the Purchase\n",
        "First we will create a function, which takes any date and returns the formatted date with day value as 1st of the same month and Year."
      ]
    },
    {
      "cell_type": "code",
      "execution_count": null,
      "metadata": {
        "id": "lK1CqlNQiqbI"
      },
      "outputs": [],
      "source": []
    },
    {
      "cell_type": "markdown",
      "metadata": {
        "id": "NQKsM_9IQGVq"
      },
      "source": [
        "Now we will use the function created above to convert all the invoice dates into respective month date format."
      ]
    },
    {
      "cell_type": "code",
      "execution_count": null,
      "metadata": {
        "id": "DL17u0dniqbJ"
      },
      "outputs": [],
      "source": []
    },
    {
      "cell_type": "markdown",
      "metadata": {
        "id": "XPE7kTz2QGVs"
      },
      "source": [
        "### ii. Calculating time offset in Months i.e. Cohort Index:\n",
        "Calculating time offset for each transaction will allows us to report the metrics for each cohort in a comparable fashion.\n",
        "First, you will create 4 variables that capture the integer value of years, months for Invoice and Cohort Date using the get_date_int() function which you'll create it below."
      ]
    },
    {
      "cell_type": "code",
      "execution_count": null,
      "metadata": {
        "id": "1_3aYf4FiqbJ"
      },
      "outputs": [],
      "source": []
    },
    {
      "cell_type": "markdown",
      "metadata": {
        "id": "SGm1eweDQGVu"
      },
      "source": [
        "You will use this function to extract the integer values for Invoice as well as Cohort Date in 3 seperate series for each of the two columns"
      ]
    },
    {
      "cell_type": "code",
      "execution_count": null,
      "metadata": {
        "id": "2wF_ViD_iqbJ"
      },
      "outputs": [],
      "source": []
    },
    {
      "cell_type": "markdown",
      "metadata": {
        "id": "Z9jYVljviqbJ"
      },
      "source": [
        "Use the variables created above to calcualte the difference in days and store them in cohort Index column."
      ]
    },
    {
      "cell_type": "code",
      "execution_count": null,
      "metadata": {
        "id": "wVlAYCbEiqbJ"
      },
      "outputs": [],
      "source": []
    },
    {
      "cell_type": "markdown",
      "metadata": {
        "id": "W-t76CXSQGVw"
      },
      "source": [
        "## Create 1st Cohort: User number & Retention Rate"
      ]
    },
    {
      "cell_type": "markdown",
      "metadata": {
        "id": "bKvUWci9iqbJ"
      },
      "source": [
        "### i. Pivot Cohort and Cohort Retention"
      ]
    },
    {
      "cell_type": "code",
      "execution_count": null,
      "metadata": {
        "id": "U-8HzlZWiqbK"
      },
      "outputs": [],
      "source": []
    },
    {
      "cell_type": "markdown",
      "metadata": {
        "id": "63TIyBY6iqbK"
      },
      "source": [
        "### ii. Visualize analysis of cohort 1 using seaborn and matplotlib modules"
      ]
    },
    {
      "cell_type": "code",
      "execution_count": null,
      "metadata": {
        "id": "SY7mPvCAiqbK"
      },
      "outputs": [],
      "source": []
    },
    {
      "cell_type": "markdown",
      "metadata": {
        "id": "yORYolvqQGV0"
      },
      "source": [
        "## Create the 2nd Cohort: Average Quantity Sold"
      ]
    },
    {
      "cell_type": "markdown",
      "metadata": {
        "id": "Tu1hM3CFiqbK"
      },
      "source": [
        "### i. Pivot Cohort and Cohort Retention"
      ]
    },
    {
      "cell_type": "code",
      "execution_count": null,
      "metadata": {
        "id": "yQ8jlhPEiqbK"
      },
      "outputs": [],
      "source": []
    },
    {
      "cell_type": "markdown",
      "metadata": {
        "id": "F3PJHMS6iqbK"
      },
      "source": [
        "### ii. Visualize analysis of cohort 2 using seaborn and matplotlib modules"
      ]
    },
    {
      "cell_type": "code",
      "execution_count": null,
      "metadata": {
        "id": "9vuHi3wPiqbK"
      },
      "outputs": [],
      "source": []
    },
    {
      "cell_type": "markdown",
      "metadata": {
        "id": "UUoG5yUIQGV3"
      },
      "source": [
        "## Create the 3rd Cohort: Average Sales\n"
      ]
    },
    {
      "cell_type": "markdown",
      "metadata": {
        "id": "EKNS-mO5iqbL"
      },
      "source": [
        "### i. Pivot Cohort and Cohort Retention"
      ]
    },
    {
      "cell_type": "code",
      "execution_count": null,
      "metadata": {
        "id": "t2s-zyWeiqbL"
      },
      "outputs": [],
      "source": []
    },
    {
      "cell_type": "markdown",
      "metadata": {
        "id": "tRGOpeUPiqbL"
      },
      "source": [
        "### ii. Visualize analysis of cohort 3 using seaborn and matplotlib modules"
      ]
    },
    {
      "cell_type": "code",
      "execution_count": null,
      "metadata": {
        "id": "EYkkDncXiqbL"
      },
      "outputs": [],
      "source": []
    },
    {
      "cell_type": "markdown",
      "metadata": {
        "id": "uD9lu1ExQGV5"
      },
      "source": [
        "For e-commerce organisations, cohort analysis is a unique opportunity to find out which clients are the most valuable to their business. by performing Cohort analysis you can get answers to following questions:\n",
        "\n",
        "- How much effective was a marketing campaign held in a particular time period?\n",
        "- Did the strategy employed to improve the conversion rates of Customers worked?\n",
        "- Should I focus more on retention rather than acquiring new customers?\n",
        "- Are my customer nurturing strategies effective?\n",
        "- Which marketing channels bring me the best results?\n",
        "- Is there a seasoanlity pattern in Customer behahiour?"
      ]
    },
    {
      "cell_type": "markdown",
      "metadata": {
        "id": "ZX_Y6S36iqbL"
      },
      "source": [
        "___\n",
        "\n",
        "<p style=\"text-align: center;\"><img src=\"https://docs.google.com/uc?id=1lY0Uj5R04yMY3-ZppPWxqCr5pvBLYPnV\" class=\"img-fluid\" alt=\"CLRSWY\"></p>\n",
        "\n",
        "___"
      ]
    }
  ],
  "metadata": {
    "colab": {
      "collapsed_sections": [
        "lf4OsPmSQGXA"
      ],
      "name": "RFM - Customer Segmentation_Student_V3.ipynb",
      "provenance": [],
      "toc_visible": true
    },
    "kernelspec": {
      "display_name": "Python 3",
      "language": "python",
      "name": "python3"
    },
    "language_info": {
      "codemirror_mode": {
        "name": "ipython",
        "version": 3
      },
      "file_extension": ".py",
      "mimetype": "text/x-python",
      "name": "python",
      "nbconvert_exporter": "python",
      "pygments_lexer": "ipython3",
      "version": "3.8.5"
    }
  },
  "nbformat": 4,
  "nbformat_minor": 0
}